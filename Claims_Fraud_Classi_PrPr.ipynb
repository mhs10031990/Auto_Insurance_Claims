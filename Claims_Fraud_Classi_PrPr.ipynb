{
 "cells": [
  {
   "cell_type": "markdown",
   "id": "da4ac72d",
   "metadata": {},
   "source": [
    "# Use Custom Template Notebook"
   ]
  },
  {
   "cell_type": "code",
   "execution_count": 2,
   "id": "12eb34cf",
   "metadata": {
    "scrolled": true
   },
   "outputs": [],
   "source": [
    "from snowflake.snowpark import Session\n",
    "\n",
    "# Data Science Libs\n",
    "import numpy as np\n",
    "import pandas as pd\n",
    "import matplotlib.pyplot as plt\n",
    "\n",
    "# create_temp_table warning suppresion\n",
    "import warnings; warnings.simplefilter('ignore')\n",
    "\n",
    "#Modeling Libs\n",
    "from sklearn.model_selection import train_test_split\n",
    "from sklearn.preprocessing import StandardScaler\n",
    "from sklearn.svm import SVC\n",
    "from sklearn.metrics import accuracy_score, confusion_matrix, classification_report\n",
    "from sklearn.neighbors import KNeighborsClassifier\n",
    "from sklearn.metrics import accuracy_score, confusion_matrix, classification_report\n",
    "from sklearn.tree import DecisionTreeClassifier\n",
    "from sklearn.model_selection import GridSearchCV\n",
    "from sklearn.ensemble import RandomForestClassifier\n",
    "from sklearn.ensemble import AdaBoostClassifier\n",
    "from sklearn.ensemble import GradientBoostingClassifier\n",
    "from sklearn.ensemble import ExtraTreesClassifier\n",
    "from sklearn.ensemble import VotingClassifier\n",
    "\n",
    "from xgboost import XGBClassifier\n",
    "#from catboost import CatBoostClassifier\n",
    "\n",
    "from joblib import dump, load\n",
    "import requests"
   ]
  },
  {
   "cell_type": "markdown",
   "id": "eec13385",
   "metadata": {},
   "source": [
    "# Initialize Snowflake Session using Default connection"
   ]
  },
  {
   "cell_type": "code",
   "execution_count": 3,
   "id": "8a6a2445-416b-4b1d-aaf5-e21c298777bb",
   "metadata": {},
   "outputs": [],
   "source": [
    "from fosforml.model_manager.snowflakesession import get_session\n",
    "my_session = get_session()"
   ]
  },
  {
   "cell_type": "code",
   "execution_count": 4,
   "id": "a3de0458",
   "metadata": {},
   "outputs": [],
   "source": [
    "# To read a specific dataset published from a snowflake connection\n",
    "#df = snowflake.get_dataframe(\"AUTO_INSURANCE_CLAIMS_DATA\")\n",
    "#df = snowflake.get_dataframe(\"AUTO_INSURANCE_CLAIMS_DATA_PRODUCT\")\n",
    "\n",
    "table_name = 'AUTO_INSURANCE_CLAIMS_DATA'"
   ]
  },
  {
   "cell_type": "code",
   "execution_count": 5,
   "id": "cc65cd7a-2dc3-46dc-8d15-40fdcbdb5925",
   "metadata": {},
   "outputs": [],
   "source": [
    "sf_df = my_session.sql(\"select * from {}\".format(table_name))"
   ]
  },
  {
   "cell_type": "code",
   "execution_count": 6,
   "id": "ab51ba08-d53e-4964-b441-eece144787af",
   "metadata": {},
   "outputs": [],
   "source": [
    "df = sf_df.to_pandas()"
   ]
  },
  {
   "cell_type": "code",
   "execution_count": 7,
   "id": "3c124196-9419-4d6e-ac52-d4e1b50f319f",
   "metadata": {},
   "outputs": [
    {
     "data": {
      "text/html": [
       "<div>\n",
       "<style scoped>\n",
       "    .dataframe tbody tr th:only-of-type {\n",
       "        vertical-align: middle;\n",
       "    }\n",
       "\n",
       "    .dataframe tbody tr th {\n",
       "        vertical-align: top;\n",
       "    }\n",
       "\n",
       "    .dataframe thead th {\n",
       "        text-align: right;\n",
       "    }\n",
       "</style>\n",
       "<table border=\"1\" class=\"dataframe\">\n",
       "  <thead>\n",
       "    <tr style=\"text-align: right;\">\n",
       "      <th></th>\n",
       "      <th>MONTHS_AS_CUSTOMER</th>\n",
       "      <th>CUSTOMER_AGE</th>\n",
       "      <th>POLICY_NUMBER</th>\n",
       "      <th>POLICY_BIND_DATE</th>\n",
       "      <th>POLICY_STATE</th>\n",
       "      <th>POLICY_CSL</th>\n",
       "      <th>POLICY_DEDUCTABLE</th>\n",
       "      <th>POLICY_ANNUAL_PREMIUM</th>\n",
       "      <th>UMBRELLA_LIMIT</th>\n",
       "      <th>INSURED_ZIP</th>\n",
       "      <th>...</th>\n",
       "      <th>POLICE_REPORT_AVAILABLE</th>\n",
       "      <th>TOTAL_CLAIM_AMOUNT_PAID</th>\n",
       "      <th>INJURY_CLAIM</th>\n",
       "      <th>PROPERTY_CLAIM</th>\n",
       "      <th>VEHICLE_CLAIM</th>\n",
       "      <th>AUTO_MAKE</th>\n",
       "      <th>AUTO_MODEL</th>\n",
       "      <th>AUTO_YEAR</th>\n",
       "      <th>FRAUD_REPORTED</th>\n",
       "      <th>POLICY_BIND_DATE_CUSTOM</th>\n",
       "    </tr>\n",
       "  </thead>\n",
       "  <tbody>\n",
       "    <tr>\n",
       "      <th>0</th>\n",
       "      <td>132</td>\n",
       "      <td>36</td>\n",
       "      <td>460979</td>\n",
       "      <td>14-08-2005</td>\n",
       "      <td>CT</td>\n",
       "      <td>100/300</td>\n",
       "      <td>712</td>\n",
       "      <td>800</td>\n",
       "      <td>0</td>\n",
       "      <td>431104</td>\n",
       "      <td>...</td>\n",
       "      <td>Police Report Available</td>\n",
       "      <td>65327</td>\n",
       "      <td>11917</td>\n",
       "      <td>9753</td>\n",
       "      <td>43657</td>\n",
       "      <td>Ford</td>\n",
       "      <td>Fusion</td>\n",
       "      <td>2004</td>\n",
       "      <td>Fraud Reported</td>\n",
       "      <td>2005-08-14</td>\n",
       "    </tr>\n",
       "    <tr>\n",
       "      <th>1</th>\n",
       "      <td>51</td>\n",
       "      <td>28</td>\n",
       "      <td>460980</td>\n",
       "      <td>30-03-1995</td>\n",
       "      <td>CT</td>\n",
       "      <td>250/500</td>\n",
       "      <td>1230</td>\n",
       "      <td>1708</td>\n",
       "      <td>11098942</td>\n",
       "      <td>473705</td>\n",
       "      <td>...</td>\n",
       "      <td>No Police Report Available</td>\n",
       "      <td>76311</td>\n",
       "      <td>487</td>\n",
       "      <td>4689</td>\n",
       "      <td>71135</td>\n",
       "      <td>Suburu</td>\n",
       "      <td>Legacy</td>\n",
       "      <td>1995</td>\n",
       "      <td>Fraud Reported</td>\n",
       "      <td>1995-03-30</td>\n",
       "    </tr>\n",
       "    <tr>\n",
       "      <th>2</th>\n",
       "      <td>38</td>\n",
       "      <td>26</td>\n",
       "      <td>460981</td>\n",
       "      <td>05-01-2002</td>\n",
       "      <td>CT</td>\n",
       "      <td>100/300</td>\n",
       "      <td>1697</td>\n",
       "      <td>2044</td>\n",
       "      <td>11191554</td>\n",
       "      <td>612316</td>\n",
       "      <td>...</td>\n",
       "      <td>Police Report Available</td>\n",
       "      <td>41467</td>\n",
       "      <td>559</td>\n",
       "      <td>1085</td>\n",
       "      <td>39823</td>\n",
       "      <td>BMW</td>\n",
       "      <td>X6</td>\n",
       "      <td>1995</td>\n",
       "      <td>No Fraud Reported</td>\n",
       "      <td>2002-01-05</td>\n",
       "    </tr>\n",
       "    <tr>\n",
       "      <th>3</th>\n",
       "      <td>37</td>\n",
       "      <td>48</td>\n",
       "      <td>460982</td>\n",
       "      <td>30-06-2010</td>\n",
       "      <td>CT</td>\n",
       "      <td>250/500</td>\n",
       "      <td>1858</td>\n",
       "      <td>2293</td>\n",
       "      <td>15946216</td>\n",
       "      <td>447560</td>\n",
       "      <td>...</td>\n",
       "      <td>No Police Report Available</td>\n",
       "      <td>58415</td>\n",
       "      <td>17898</td>\n",
       "      <td>968</td>\n",
       "      <td>39549</td>\n",
       "      <td>Ford</td>\n",
       "      <td>F150</td>\n",
       "      <td>2007</td>\n",
       "      <td>Fraud Reported</td>\n",
       "      <td>2010-06-30</td>\n",
       "    </tr>\n",
       "    <tr>\n",
       "      <th>4</th>\n",
       "      <td>305</td>\n",
       "      <td>53</td>\n",
       "      <td>460983</td>\n",
       "      <td>19-01-1993</td>\n",
       "      <td>CT</td>\n",
       "      <td>250/500</td>\n",
       "      <td>579</td>\n",
       "      <td>826</td>\n",
       "      <td>0</td>\n",
       "      <td>608758</td>\n",
       "      <td>...</td>\n",
       "      <td>No Police Report Available</td>\n",
       "      <td>73157</td>\n",
       "      <td>325</td>\n",
       "      <td>13230</td>\n",
       "      <td>59602</td>\n",
       "      <td>Saab</td>\n",
       "      <td>92x</td>\n",
       "      <td>2008</td>\n",
       "      <td>No Fraud Reported</td>\n",
       "      <td>1993-01-19</td>\n",
       "    </tr>\n",
       "  </tbody>\n",
       "</table>\n",
       "<p>5 rows × 41 columns</p>\n",
       "</div>"
      ],
      "text/plain": [
       "   MONTHS_AS_CUSTOMER  CUSTOMER_AGE POLICY_NUMBER POLICY_BIND_DATE  \\\n",
       "0                 132            36        460979       14-08-2005   \n",
       "1                  51            28        460980       30-03-1995   \n",
       "2                  38            26        460981       05-01-2002   \n",
       "3                  37            48        460982       30-06-2010   \n",
       "4                 305            53        460983       19-01-1993   \n",
       "\n",
       "  POLICY_STATE POLICY_CSL  POLICY_DEDUCTABLE  POLICY_ANNUAL_PREMIUM  \\\n",
       "0           CT    100/300                712                    800   \n",
       "1           CT    250/500               1230                   1708   \n",
       "2           CT    100/300               1697                   2044   \n",
       "3           CT    250/500               1858                   2293   \n",
       "4           CT    250/500                579                    826   \n",
       "\n",
       "   UMBRELLA_LIMIT INSURED_ZIP  ...     POLICE_REPORT_AVAILABLE  \\\n",
       "0               0      431104  ...     Police Report Available   \n",
       "1        11098942      473705  ...  No Police Report Available   \n",
       "2        11191554      612316  ...     Police Report Available   \n",
       "3        15946216      447560  ...  No Police Report Available   \n",
       "4               0      608758  ...  No Police Report Available   \n",
       "\n",
       "  TOTAL_CLAIM_AMOUNT_PAID INJURY_CLAIM PROPERTY_CLAIM VEHICLE_CLAIM  \\\n",
       "0                   65327        11917           9753         43657   \n",
       "1                   76311          487           4689         71135   \n",
       "2                   41467          559           1085         39823   \n",
       "3                   58415        17898            968         39549   \n",
       "4                   73157          325          13230         59602   \n",
       "\n",
       "   AUTO_MAKE  AUTO_MODEL AUTO_YEAR     FRAUD_REPORTED POLICY_BIND_DATE_CUSTOM  \n",
       "0       Ford      Fusion      2004     Fraud Reported              2005-08-14  \n",
       "1     Suburu      Legacy      1995     Fraud Reported              1995-03-30  \n",
       "2        BMW          X6      1995  No Fraud Reported              2002-01-05  \n",
       "3       Ford        F150      2007     Fraud Reported              2010-06-30  \n",
       "4       Saab         92x      2008  No Fraud Reported              1993-01-19  \n",
       "\n",
       "[5 rows x 41 columns]"
      ]
     },
     "execution_count": 7,
     "metadata": {},
     "output_type": "execute_result"
    }
   ],
   "source": [
    "df.head()"
   ]
  },
  {
   "cell_type": "code",
   "execution_count": 8,
   "id": "0733fafe-7680-4e5d-bf6a-d49557828fc7",
   "metadata": {},
   "outputs": [],
   "source": [
    "insurance_claim =  df.copy()"
   ]
  },
  {
   "cell_type": "code",
   "execution_count": 11,
   "id": "c4541e70-5ad5-4017-a0bf-40fcab05c4ae",
   "metadata": {},
   "outputs": [],
   "source": [
    "insurance_claim = insurance_claim[['MONTHS_AS_CUSTOMER', 'CUSTOMER_AGE', 'POLICY_NUMBER',\n",
    "       'POLICY_BIND_DATE', 'POLICY_STATE', 'POLICY_CSL', 'POLICY_DEDUCTABLE',\n",
    "       'POLICY_ANNUAL_PREMIUM', 'UMBRELLA_LIMIT', 'INSURED_ZIP', 'INSURED_SEX',\n",
    "       'INSURED_EDUCATION_LEVEL', 'INSURED_OCCUPATION', 'INSURED_HOBBIES',\n",
    "       'INSURED_RELATIONSHIP', 'CAPITAL_GAINS', 'CAPITAL_LOSS',\n",
    "       'INCIDENT_DATE', 'INCIDENT_TYPE', 'COLLISION_TYPE', 'INCIDENT_SEVERITY',\n",
    "       'AUTHORITIES_CONTACTED', 'INCIDENT_STATE', 'INCIDENT_CITY',\n",
    "       'INCIDENT_LOCATION', 'INCIDENT_HOUR_OF_THE_DAY', 'INCIDENT_TIME_OF_DAY',\n",
    "       'NUMBER_OF_VEHICLES_INVOLVED', 'PROPERTY_DAMAGE', 'BODILY_INJURIES',\n",
    "       'WITNESSES', 'POLICE_REPORT_AVAILABLE', 'TOTAL_CLAIM_AMOUNT_PAID',\n",
    "       'INJURY_CLAIM', 'PROPERTY_CLAIM', 'VEHICLE_CLAIM', 'AUTO_MAKE',\n",
    "       'AUTO_MODEL', 'AUTO_YEAR', 'FRAUD_REPORTED']]"
   ]
  },
  {
   "cell_type": "code",
   "execution_count": 12,
   "id": "0ee58ee8",
   "metadata": {},
   "outputs": [],
   "source": [
    "insurance_claim.columns = insurance_claim.columns.str.lower()"
   ]
  },
  {
   "cell_type": "code",
   "execution_count": 13,
   "id": "dea96c64",
   "metadata": {},
   "outputs": [
    {
     "data": {
      "text/plain": [
       "Index(['months_as_customer', 'customer_age', 'policy_number',\n",
       "       'policy_bind_date', 'policy_state', 'policy_csl', 'policy_deductable',\n",
       "       'policy_annual_premium', 'umbrella_limit', 'insured_zip', 'insured_sex',\n",
       "       'insured_education_level', 'insured_occupation', 'insured_hobbies',\n",
       "       'insured_relationship', 'capital_gains', 'capital_loss',\n",
       "       'incident_date', 'incident_type', 'collision_type', 'incident_severity',\n",
       "       'authorities_contacted', 'incident_state', 'incident_city',\n",
       "       'incident_location', 'incident_hour_of_the_day', 'incident_time_of_day',\n",
       "       'number_of_vehicles_involved', 'property_damage', 'bodily_injuries',\n",
       "       'witnesses', 'police_report_available', 'total_claim_amount_paid',\n",
       "       'injury_claim', 'property_claim', 'vehicle_claim', 'auto_make',\n",
       "       'auto_model', 'auto_year', 'fraud_reported'],\n",
       "      dtype='object')"
      ]
     },
     "execution_count": 13,
     "metadata": {},
     "output_type": "execute_result"
    }
   ],
   "source": [
    "insurance_claim.columns"
   ]
  },
  {
   "cell_type": "code",
   "execution_count": 14,
   "id": "dd34e207",
   "metadata": {},
   "outputs": [],
   "source": [
    "insurance_claim.rename(columns = {'total_claim_amount_paid': 'total_claim_amount'}, inplace=True)"
   ]
  },
  {
   "cell_type": "code",
   "execution_count": 15,
   "id": "044dd5de",
   "metadata": {},
   "outputs": [],
   "source": [
    "insurance_claim=insurance_claim.replace(\"?\",np.NaN)"
   ]
  },
  {
   "cell_type": "code",
   "execution_count": 34,
   "id": "0c04c757",
   "metadata": {},
   "outputs": [],
   "source": [
    "df = insurance_claim.copy()"
   ]
  },
  {
   "cell_type": "code",
   "execution_count": 35,
   "id": "17d478fa",
   "metadata": {},
   "outputs": [],
   "source": [
    "actual_inference = df.copy()\n",
    "actual_inference.drop('fraud_reported', axis = 1, inplace=True)"
   ]
  },
  {
   "cell_type": "code",
   "execution_count": 36,
   "id": "d563385c",
   "metadata": {},
   "outputs": [
    {
     "data": {
      "text/html": [
       "<div>\n",
       "<style scoped>\n",
       "    .dataframe tbody tr th:only-of-type {\n",
       "        vertical-align: middle;\n",
       "    }\n",
       "\n",
       "    .dataframe tbody tr th {\n",
       "        vertical-align: top;\n",
       "    }\n",
       "\n",
       "    .dataframe thead th {\n",
       "        text-align: right;\n",
       "    }\n",
       "</style>\n",
       "<table border=\"1\" class=\"dataframe\">\n",
       "  <thead>\n",
       "    <tr style=\"text-align: right;\">\n",
       "      <th></th>\n",
       "      <th>months_as_customer</th>\n",
       "      <th>customer_age</th>\n",
       "      <th>policy_number</th>\n",
       "      <th>policy_bind_date</th>\n",
       "      <th>policy_state</th>\n",
       "      <th>policy_csl</th>\n",
       "      <th>policy_deductable</th>\n",
       "      <th>policy_annual_premium</th>\n",
       "      <th>umbrella_limit</th>\n",
       "      <th>insured_zip</th>\n",
       "      <th>...</th>\n",
       "      <th>bodily_injuries</th>\n",
       "      <th>witnesses</th>\n",
       "      <th>police_report_available</th>\n",
       "      <th>total_claim_amount</th>\n",
       "      <th>injury_claim</th>\n",
       "      <th>property_claim</th>\n",
       "      <th>vehicle_claim</th>\n",
       "      <th>auto_make</th>\n",
       "      <th>auto_model</th>\n",
       "      <th>auto_year</th>\n",
       "    </tr>\n",
       "  </thead>\n",
       "  <tbody>\n",
       "    <tr>\n",
       "      <th>0</th>\n",
       "      <td>132</td>\n",
       "      <td>36</td>\n",
       "      <td>460979</td>\n",
       "      <td>14-08-2005</td>\n",
       "      <td>CT</td>\n",
       "      <td>100/300</td>\n",
       "      <td>712</td>\n",
       "      <td>800</td>\n",
       "      <td>0</td>\n",
       "      <td>431104</td>\n",
       "      <td>...</td>\n",
       "      <td>1</td>\n",
       "      <td>0</td>\n",
       "      <td>Police Report Available</td>\n",
       "      <td>65327</td>\n",
       "      <td>11917</td>\n",
       "      <td>9753</td>\n",
       "      <td>43657</td>\n",
       "      <td>Ford</td>\n",
       "      <td>Fusion</td>\n",
       "      <td>2004</td>\n",
       "    </tr>\n",
       "    <tr>\n",
       "      <th>1</th>\n",
       "      <td>51</td>\n",
       "      <td>28</td>\n",
       "      <td>460980</td>\n",
       "      <td>30-03-1995</td>\n",
       "      <td>CT</td>\n",
       "      <td>250/500</td>\n",
       "      <td>1230</td>\n",
       "      <td>1708</td>\n",
       "      <td>11098942</td>\n",
       "      <td>473705</td>\n",
       "      <td>...</td>\n",
       "      <td>0</td>\n",
       "      <td>1</td>\n",
       "      <td>No Police Report Available</td>\n",
       "      <td>76311</td>\n",
       "      <td>487</td>\n",
       "      <td>4689</td>\n",
       "      <td>71135</td>\n",
       "      <td>Suburu</td>\n",
       "      <td>Legacy</td>\n",
       "      <td>1995</td>\n",
       "    </tr>\n",
       "    <tr>\n",
       "      <th>2</th>\n",
       "      <td>38</td>\n",
       "      <td>26</td>\n",
       "      <td>460981</td>\n",
       "      <td>05-01-2002</td>\n",
       "      <td>CT</td>\n",
       "      <td>100/300</td>\n",
       "      <td>1697</td>\n",
       "      <td>2044</td>\n",
       "      <td>11191554</td>\n",
       "      <td>612316</td>\n",
       "      <td>...</td>\n",
       "      <td>0</td>\n",
       "      <td>2</td>\n",
       "      <td>Police Report Available</td>\n",
       "      <td>41467</td>\n",
       "      <td>559</td>\n",
       "      <td>1085</td>\n",
       "      <td>39823</td>\n",
       "      <td>BMW</td>\n",
       "      <td>X6</td>\n",
       "      <td>1995</td>\n",
       "    </tr>\n",
       "    <tr>\n",
       "      <th>3</th>\n",
       "      <td>37</td>\n",
       "      <td>48</td>\n",
       "      <td>460982</td>\n",
       "      <td>30-06-2010</td>\n",
       "      <td>CT</td>\n",
       "      <td>250/500</td>\n",
       "      <td>1858</td>\n",
       "      <td>2293</td>\n",
       "      <td>15946216</td>\n",
       "      <td>447560</td>\n",
       "      <td>...</td>\n",
       "      <td>2</td>\n",
       "      <td>1</td>\n",
       "      <td>No Police Report Available</td>\n",
       "      <td>58415</td>\n",
       "      <td>17898</td>\n",
       "      <td>968</td>\n",
       "      <td>39549</td>\n",
       "      <td>Ford</td>\n",
       "      <td>F150</td>\n",
       "      <td>2007</td>\n",
       "    </tr>\n",
       "    <tr>\n",
       "      <th>4</th>\n",
       "      <td>305</td>\n",
       "      <td>53</td>\n",
       "      <td>460983</td>\n",
       "      <td>19-01-1993</td>\n",
       "      <td>CT</td>\n",
       "      <td>250/500</td>\n",
       "      <td>579</td>\n",
       "      <td>826</td>\n",
       "      <td>0</td>\n",
       "      <td>608758</td>\n",
       "      <td>...</td>\n",
       "      <td>0</td>\n",
       "      <td>3</td>\n",
       "      <td>No Police Report Available</td>\n",
       "      <td>73157</td>\n",
       "      <td>325</td>\n",
       "      <td>13230</td>\n",
       "      <td>59602</td>\n",
       "      <td>Saab</td>\n",
       "      <td>92x</td>\n",
       "      <td>2008</td>\n",
       "    </tr>\n",
       "  </tbody>\n",
       "</table>\n",
       "<p>5 rows × 39 columns</p>\n",
       "</div>"
      ],
      "text/plain": [
       "   months_as_customer  customer_age policy_number policy_bind_date  \\\n",
       "0                 132            36        460979       14-08-2005   \n",
       "1                  51            28        460980       30-03-1995   \n",
       "2                  38            26        460981       05-01-2002   \n",
       "3                  37            48        460982       30-06-2010   \n",
       "4                 305            53        460983       19-01-1993   \n",
       "\n",
       "  policy_state policy_csl  policy_deductable  policy_annual_premium  \\\n",
       "0           CT    100/300                712                    800   \n",
       "1           CT    250/500               1230                   1708   \n",
       "2           CT    100/300               1697                   2044   \n",
       "3           CT    250/500               1858                   2293   \n",
       "4           CT    250/500                579                    826   \n",
       "\n",
       "   umbrella_limit insured_zip  ... bodily_injuries witnesses  \\\n",
       "0               0      431104  ...               1         0   \n",
       "1        11098942      473705  ...               0         1   \n",
       "2        11191554      612316  ...               0         2   \n",
       "3        15946216      447560  ...               2         1   \n",
       "4               0      608758  ...               0         3   \n",
       "\n",
       "      police_report_available total_claim_amount injury_claim  property_claim  \\\n",
       "0     Police Report Available              65327        11917            9753   \n",
       "1  No Police Report Available              76311          487            4689   \n",
       "2     Police Report Available              41467          559            1085   \n",
       "3  No Police Report Available              58415        17898             968   \n",
       "4  No Police Report Available              73157          325           13230   \n",
       "\n",
       "   vehicle_claim auto_make auto_model auto_year  \n",
       "0          43657      Ford     Fusion      2004  \n",
       "1          71135    Suburu     Legacy      1995  \n",
       "2          39823       BMW         X6      1995  \n",
       "3          39549      Ford       F150      2007  \n",
       "4          59602      Saab        92x      2008  \n",
       "\n",
       "[5 rows x 39 columns]"
      ]
     },
     "execution_count": 36,
     "metadata": {},
     "output_type": "execute_result"
    }
   ],
   "source": [
    "actual_inference.head()"
   ]
  },
  {
   "cell_type": "code",
   "execution_count": 37,
   "id": "5fa9b530",
   "metadata": {},
   "outputs": [],
   "source": [
    "# dropping columns which are not necessary for prediction\n",
    "\n",
    "to_drop = ['policy_number','policy_bind_date','policy_state','insured_zip','incident_location','incident_date',\n",
    "           'incident_state','incident_city','insured_hobbies','auto_make','auto_model','auto_year']\n",
    "\n",
    "df.drop(to_drop, inplace=True, axis=1)"
   ]
  },
  {
   "cell_type": "code",
   "execution_count": 38,
   "id": "f9e156ce-748d-4979-9dcc-c8c664cbcc31",
   "metadata": {},
   "outputs": [],
   "source": [
    "df['incident_hour_of_the_day'] = df['incident_hour_of_the_day'].astype(str).astype(int)"
   ]
  },
  {
   "cell_type": "code",
   "execution_count": 49,
   "id": "cc07f2f1-7103-4cef-b63a-71bb0cef5bae",
   "metadata": {},
   "outputs": [
    {
     "data": {
      "text/plain": [
       "dtype('int64')"
      ]
     },
     "execution_count": 49,
     "metadata": {},
     "output_type": "execute_result"
    }
   ],
   "source": [
    "df['incident_hour_of_the_day'].dtype"
   ]
  },
  {
   "cell_type": "code",
   "execution_count": 39,
   "id": "9b2aec4c",
   "metadata": {},
   "outputs": [],
   "source": [
    "# separating the feature and target columns\n",
    "\n",
    "X = df.drop('fraud_reported', axis = 1)\n",
    "y = df['fraud_reported']"
   ]
  },
  {
   "cell_type": "code",
   "execution_count": 40,
   "id": "6e41ff62",
   "metadata": {},
   "outputs": [],
   "source": [
    "# extracting categorical columns\n",
    "cat_df = X.select_dtypes(include = ['object'])"
   ]
  },
  {
   "cell_type": "code",
   "execution_count": 41,
   "id": "0b248b0d",
   "metadata": {
    "scrolled": true
   },
   "outputs": [
    {
     "data": {
      "text/plain": [
       "Index(['policy_csl', 'insured_sex', 'insured_education_level',\n",
       "       'insured_occupation', 'insured_relationship', 'incident_type',\n",
       "       'collision_type', 'incident_severity', 'authorities_contacted',\n",
       "       'incident_time_of_day', 'property_damage', 'police_report_available'],\n",
       "      dtype='object')"
      ]
     },
     "execution_count": 41,
     "metadata": {},
     "output_type": "execute_result"
    }
   ],
   "source": [
    "cat_df.columns"
   ]
  },
  {
   "cell_type": "code",
   "execution_count": 42,
   "id": "00bc0322",
   "metadata": {
    "scrolled": true
   },
   "outputs": [
    {
     "name": "stdout",
     "output_type": "stream",
     "text": [
      "policy_csl: \n",
      "['100/300' '250/500' '500/1000']\n",
      "\n",
      "insured_sex: \n",
      "['MALE' 'FEMALE']\n",
      "\n",
      "insured_education_level: \n",
      "['Associate' 'College' 'Masters' 'JD' 'MD' 'High School' 'PhD']\n",
      "\n",
      "insured_occupation: \n",
      "['protective-serv' 'exec-managerial' 'farming-fishing' 'sales'\n",
      " 'machine-op-inspct' 'craft-repair' 'prof-specialty' 'armed-forces'\n",
      " 'priv-house-serv' 'other-service' 'transport-moving' 'tech-support'\n",
      " 'handlers-cleaners' 'adm-clerical']\n",
      "\n",
      "insured_relationship: \n",
      "['other-relative' 'own-child' 'wife' 'husband' 'unmarried' 'not-in-family']\n",
      "\n",
      "incident_type: \n",
      "['Single Vehicle Collision' 'Multi-vehicle Collision' 'Parked Car'\n",
      " 'Vehicle Theft']\n",
      "\n",
      "collision_type: \n",
      "['Rear Collision' 'Side Collision' 'Details not Available'\n",
      " 'Front Collision']\n",
      "\n",
      "incident_severity: \n",
      "['Major Damage' 'Minor Damage' 'Total Loss']\n",
      "\n",
      "authorities_contacted: \n",
      "['Police' 'Ambulance' 'Other' 'Fire' 'None']\n",
      "\n",
      "incident_time_of_day: \n",
      "['Morning to Noon' 'Night Time' 'Afternoon Hours' 'Early Morning Hours']\n",
      "\n",
      "property_damage: \n",
      "['Property Damage' 'No Property Damage' 'Details not Available']\n",
      "\n",
      "police_report_available: \n",
      "['Police Report Available' 'No Police Report Available' 'Unknown']\n",
      "\n"
     ]
    }
   ],
   "source": [
    "# printing unique values of each column\n",
    "for col in cat_df.columns:\n",
    "    print(f\"{col}: \\n{cat_df[col].unique()}\\n\")"
   ]
  },
  {
   "cell_type": "code",
   "execution_count": 48,
   "id": "0c7476d4-0dcf-4349-a685-7676b9edcee5",
   "metadata": {},
   "outputs": [
    {
     "name": "stdout",
     "output_type": "stream",
     "text": [
      "<class 'pandas.core.frame.DataFrame'>\n",
      "RangeIndex: 232025 entries, 0 to 232024\n",
      "Data columns (total 28 columns):\n",
      " #   Column                       Non-Null Count   Dtype \n",
      "---  ------                       --------------   ----- \n",
      " 0   months_as_customer           232025 non-null  int16 \n",
      " 1   customer_age                 232025 non-null  int8  \n",
      " 2   policy_csl                   232025 non-null  object\n",
      " 3   policy_deductable            232025 non-null  int16 \n",
      " 4   policy_annual_premium        232025 non-null  int16 \n",
      " 5   umbrella_limit               232025 non-null  int32 \n",
      " 6   insured_sex                  232025 non-null  object\n",
      " 7   insured_education_level      232025 non-null  object\n",
      " 8   insured_occupation           232025 non-null  object\n",
      " 9   insured_relationship         232025 non-null  object\n",
      " 10  capital_gains                232025 non-null  int32 \n",
      " 11  capital_loss                 232025 non-null  int32 \n",
      " 12  incident_type                232025 non-null  object\n",
      " 13  collision_type               232025 non-null  object\n",
      " 14  incident_severity            232025 non-null  object\n",
      " 15  authorities_contacted        232025 non-null  object\n",
      " 16  incident_hour_of_the_day     232025 non-null  int64 \n",
      " 17  incident_time_of_day         232025 non-null  object\n",
      " 18  number_of_vehicles_involved  232025 non-null  int8  \n",
      " 19  property_damage              232025 non-null  object\n",
      " 20  bodily_injuries              232025 non-null  int8  \n",
      " 21  witnesses                    232025 non-null  int8  \n",
      " 22  police_report_available      232025 non-null  object\n",
      " 23  total_claim_amount           232025 non-null  int32 \n",
      " 24  injury_claim                 232025 non-null  int16 \n",
      " 25  property_claim               232025 non-null  int16 \n",
      " 26  vehicle_claim                232025 non-null  int32 \n",
      " 27  fraud_reported               232025 non-null  object\n",
      "dtypes: int16(5), int32(5), int64(1), int8(4), object(13)\n",
      "memory usage: 32.3+ MB\n"
     ]
    }
   ],
   "source": [
    "df.info()"
   ]
  },
  {
   "cell_type": "code",
   "execution_count": 43,
   "id": "44eeac43",
   "metadata": {},
   "outputs": [],
   "source": [
    "cat_df = pd.get_dummies(cat_df, drop_first = True)"
   ]
  },
  {
   "cell_type": "code",
   "execution_count": 50,
   "id": "ff74a5da",
   "metadata": {},
   "outputs": [],
   "source": [
    "num_df = df.select_dtypes(include = ['int16','int8','int32','float64','int64'])"
   ]
  },
  {
   "cell_type": "code",
   "execution_count": 51,
   "id": "91f64b39",
   "metadata": {
    "scrolled": true
   },
   "outputs": [
    {
     "data": {
      "text/plain": [
       "Index(['months_as_customer', 'customer_age', 'policy_deductable',\n",
       "       'policy_annual_premium', 'umbrella_limit', 'capital_gains',\n",
       "       'capital_loss', 'incident_hour_of_the_day',\n",
       "       'number_of_vehicles_involved', 'bodily_injuries', 'witnesses',\n",
       "       'total_claim_amount', 'injury_claim', 'property_claim',\n",
       "       'vehicle_claim'],\n",
       "      dtype='object')"
      ]
     },
     "execution_count": 51,
     "metadata": {},
     "output_type": "execute_result"
    }
   ],
   "source": [
    "num_df.columns"
   ]
  },
  {
   "cell_type": "code",
   "execution_count": 52,
   "id": "136ff93c-14fd-4d02-bad7-b9626f01e4b9",
   "metadata": {},
   "outputs": [
    {
     "data": {
      "text/plain": [
       "Index(['policy_csl_250/500', 'policy_csl_500/1000', 'insured_sex_MALE',\n",
       "       'insured_education_level_College',\n",
       "       'insured_education_level_High School', 'insured_education_level_JD',\n",
       "       'insured_education_level_MD', 'insured_education_level_Masters',\n",
       "       'insured_education_level_PhD', 'insured_occupation_armed-forces',\n",
       "       'insured_occupation_craft-repair', 'insured_occupation_exec-managerial',\n",
       "       'insured_occupation_farming-fishing',\n",
       "       'insured_occupation_handlers-cleaners',\n",
       "       'insured_occupation_machine-op-inspct',\n",
       "       'insured_occupation_other-service',\n",
       "       'insured_occupation_priv-house-serv',\n",
       "       'insured_occupation_prof-specialty',\n",
       "       'insured_occupation_protective-serv', 'insured_occupation_sales',\n",
       "       'insured_occupation_tech-support',\n",
       "       'insured_occupation_transport-moving',\n",
       "       'insured_relationship_not-in-family',\n",
       "       'insured_relationship_other-relative', 'insured_relationship_own-child',\n",
       "       'insured_relationship_unmarried', 'insured_relationship_wife',\n",
       "       'incident_type_Parked Car', 'incident_type_Single Vehicle Collision',\n",
       "       'incident_type_Vehicle Theft', 'collision_type_Front Collision',\n",
       "       'collision_type_Rear Collision', 'collision_type_Side Collision',\n",
       "       'incident_severity_Minor Damage', 'incident_severity_Total Loss',\n",
       "       'authorities_contacted_Fire', 'authorities_contacted_None',\n",
       "       'authorities_contacted_Other', 'authorities_contacted_Police',\n",
       "       'incident_time_of_day_Early Morning Hours',\n",
       "       'incident_time_of_day_Morning to Noon',\n",
       "       'incident_time_of_day_Night Time', 'property_damage_No Property Damage',\n",
       "       'property_damage_Property Damage',\n",
       "       'police_report_available_Police Report Available',\n",
       "       'police_report_available_Unknown'],\n",
       "      dtype='object')"
      ]
     },
     "execution_count": 52,
     "metadata": {},
     "output_type": "execute_result"
    }
   ],
   "source": [
    "cat_df.columns"
   ]
  },
  {
   "cell_type": "code",
   "execution_count": 53,
   "id": "5fd84c4c",
   "metadata": {},
   "outputs": [],
   "source": [
    "# combining the Numerical and Categorical dataframes to get the final dataset\n",
    "\n",
    "X = pd.concat([num_df, cat_df], axis = 1)"
   ]
  },
  {
   "cell_type": "code",
   "execution_count": 90,
   "id": "d6092193-81fa-47e3-9170-b6a2ae5dc2bf",
   "metadata": {},
   "outputs": [],
   "source": [
    "X.columns = X.columns.str.replace('/', '_')"
   ]
  },
  {
   "cell_type": "code",
   "execution_count": 91,
   "id": "e5dc17e2",
   "metadata": {},
   "outputs": [],
   "source": [
    "# splitting data into training set and test set\n",
    "\n",
    "from sklearn.model_selection import train_test_split\n",
    "\n",
    "X_train, X_test, y_train, y_test = train_test_split(X, y, test_size = 0.25)"
   ]
  },
  {
   "cell_type": "code",
   "execution_count": 92,
   "id": "36da7ae2",
   "metadata": {},
   "outputs": [],
   "source": [
    "num_df = X_train[['months_as_customer', 'policy_deductable', 'umbrella_limit',\n",
    "       'capital_gains', 'capital_loss', 'incident_hour_of_the_day',\n",
    "       'number_of_vehicles_involved', 'bodily_injuries', 'witnesses', 'injury_claim', 'property_claim',\n",
    "       'vehicle_claim']]"
   ]
  },
  {
   "cell_type": "code",
   "execution_count": 93,
   "id": "4f94a7d3",
   "metadata": {},
   "outputs": [],
   "source": [
    "num_df_test = X_test[['months_as_customer', 'policy_deductable', 'umbrella_limit',\n",
    "       'capital_gains', 'capital_loss', 'incident_hour_of_the_day',\n",
    "       'number_of_vehicles_involved', 'bodily_injuries', 'witnesses', 'injury_claim', 'property_claim',\n",
    "       'vehicle_claim']]"
   ]
  },
  {
   "cell_type": "code",
   "execution_count": 94,
   "id": "4eac05ce",
   "metadata": {},
   "outputs": [],
   "source": [
    "# Scaling the numeric values in the dataset\n",
    "from sklearn.preprocessing import StandardScaler\n",
    "\n",
    "scaler = StandardScaler()\n",
    "scaled_data = scaler.fit_transform(num_df)"
   ]
  },
  {
   "cell_type": "code",
   "execution_count": 95,
   "id": "dd265d84",
   "metadata": {},
   "outputs": [],
   "source": [
    "scaled_data_test = scaler.transform(num_df_test)"
   ]
  },
  {
   "cell_type": "code",
   "execution_count": 96,
   "id": "fc7b669b",
   "metadata": {
    "scrolled": true
   },
   "outputs": [
    {
     "data": {
      "text/html": [
       "<div>\n",
       "<style scoped>\n",
       "    .dataframe tbody tr th:only-of-type {\n",
       "        vertical-align: middle;\n",
       "    }\n",
       "\n",
       "    .dataframe tbody tr th {\n",
       "        vertical-align: top;\n",
       "    }\n",
       "\n",
       "    .dataframe thead th {\n",
       "        text-align: right;\n",
       "    }\n",
       "</style>\n",
       "<table border=\"1\" class=\"dataframe\">\n",
       "  <thead>\n",
       "    <tr style=\"text-align: right;\">\n",
       "      <th></th>\n",
       "      <th>months_as_customer</th>\n",
       "      <th>policy_deductable</th>\n",
       "      <th>umbrella_limit</th>\n",
       "      <th>capital_gains</th>\n",
       "      <th>capital_loss</th>\n",
       "      <th>incident_hour_of_the_day</th>\n",
       "      <th>number_of_vehicles_involved</th>\n",
       "      <th>bodily_injuries</th>\n",
       "      <th>witnesses</th>\n",
       "      <th>injury_claim</th>\n",
       "      <th>property_claim</th>\n",
       "      <th>vehicle_claim</th>\n",
       "    </tr>\n",
       "  </thead>\n",
       "  <tbody>\n",
       "    <tr>\n",
       "      <th>52464</th>\n",
       "      <td>-1.074365</td>\n",
       "      <td>1.171567</td>\n",
       "      <td>0.524636</td>\n",
       "      <td>1.253019</td>\n",
       "      <td>1.455436</td>\n",
       "      <td>-1.028454</td>\n",
       "      <td>-0.678716</td>\n",
       "      <td>-1.219944</td>\n",
       "      <td>-0.448911</td>\n",
       "      <td>-1.034112</td>\n",
       "      <td>-0.674831</td>\n",
       "      <td>0.942329</td>\n",
       "    </tr>\n",
       "    <tr>\n",
       "      <th>35935</th>\n",
       "      <td>0.772600</td>\n",
       "      <td>0.324193</td>\n",
       "      <td>-0.044597</td>\n",
       "      <td>-1.709932</td>\n",
       "      <td>1.278714</td>\n",
       "      <td>1.357754</td>\n",
       "      <td>-0.678716</td>\n",
       "      <td>-1.219944</td>\n",
       "      <td>-1.344550</td>\n",
       "      <td>-1.002203</td>\n",
       "      <td>-0.971956</td>\n",
       "      <td>-0.358409</td>\n",
       "    </tr>\n",
       "    <tr>\n",
       "      <th>215508</th>\n",
       "      <td>0.717631</td>\n",
       "      <td>0.477243</td>\n",
       "      <td>-0.847920</td>\n",
       "      <td>0.166187</td>\n",
       "      <td>-1.274129</td>\n",
       "      <td>1.357754</td>\n",
       "      <td>-0.678716</td>\n",
       "      <td>1.225438</td>\n",
       "      <td>1.342367</td>\n",
       "      <td>1.050581</td>\n",
       "      <td>-0.950197</td>\n",
       "      <td>1.146338</td>\n",
       "    </tr>\n",
       "    <tr>\n",
       "      <th>114957</th>\n",
       "      <td>-0.326784</td>\n",
       "      <td>-1.370555</td>\n",
       "      <td>0.005848</td>\n",
       "      <td>1.046182</td>\n",
       "      <td>0.179183</td>\n",
       "      <td>0.505537</td>\n",
       "      <td>0.745655</td>\n",
       "      <td>1.225438</td>\n",
       "      <td>-0.448911</td>\n",
       "      <td>1.880064</td>\n",
       "      <td>1.431005</td>\n",
       "      <td>-0.769038</td>\n",
       "    </tr>\n",
       "    <tr>\n",
       "      <th>20347</th>\n",
       "      <td>0.003031</td>\n",
       "      <td>2.095466</td>\n",
       "      <td>1.390130</td>\n",
       "      <td>0.753946</td>\n",
       "      <td>-1.379817</td>\n",
       "      <td>0.846423</td>\n",
       "      <td>-0.678716</td>\n",
       "      <td>1.225438</td>\n",
       "      <td>1.342367</td>\n",
       "      <td>1.179475</td>\n",
       "      <td>-0.937599</td>\n",
       "      <td>-1.077312</td>\n",
       "    </tr>\n",
       "  </tbody>\n",
       "</table>\n",
       "</div>"
      ],
      "text/plain": [
       "        months_as_customer  policy_deductable  umbrella_limit  capital_gains  \\\n",
       "52464            -1.074365           1.171567        0.524636       1.253019   \n",
       "35935             0.772600           0.324193       -0.044597      -1.709932   \n",
       "215508            0.717631           0.477243       -0.847920       0.166187   \n",
       "114957           -0.326784          -1.370555        0.005848       1.046182   \n",
       "20347             0.003031           2.095466        1.390130       0.753946   \n",
       "\n",
       "        capital_loss  incident_hour_of_the_day  number_of_vehicles_involved  \\\n",
       "52464       1.455436                 -1.028454                    -0.678716   \n",
       "35935       1.278714                  1.357754                    -0.678716   \n",
       "215508     -1.274129                  1.357754                    -0.678716   \n",
       "114957      0.179183                  0.505537                     0.745655   \n",
       "20347      -1.379817                  0.846423                    -0.678716   \n",
       "\n",
       "        bodily_injuries  witnesses  injury_claim  property_claim  \\\n",
       "52464         -1.219944  -0.448911     -1.034112       -0.674831   \n",
       "35935         -1.219944  -1.344550     -1.002203       -0.971956   \n",
       "215508         1.225438   1.342367      1.050581       -0.950197   \n",
       "114957         1.225438  -0.448911      1.880064        1.431005   \n",
       "20347          1.225438   1.342367      1.179475       -0.937599   \n",
       "\n",
       "        vehicle_claim  \n",
       "52464        0.942329  \n",
       "35935       -0.358409  \n",
       "215508       1.146338  \n",
       "114957      -0.769038  \n",
       "20347       -1.077312  "
      ]
     },
     "execution_count": 96,
     "metadata": {},
     "output_type": "execute_result"
    }
   ],
   "source": [
    "scaled_num_df = pd.DataFrame(data = scaled_data, columns = num_df.columns, index = X_train.index)\n",
    "scaled_num_df.head()"
   ]
  },
  {
   "cell_type": "code",
   "execution_count": 97,
   "id": "2c749cfd",
   "metadata": {},
   "outputs": [
    {
     "data": {
      "text/html": [
       "<div>\n",
       "<style scoped>\n",
       "    .dataframe tbody tr th:only-of-type {\n",
       "        vertical-align: middle;\n",
       "    }\n",
       "\n",
       "    .dataframe tbody tr th {\n",
       "        vertical-align: top;\n",
       "    }\n",
       "\n",
       "    .dataframe thead th {\n",
       "        text-align: right;\n",
       "    }\n",
       "</style>\n",
       "<table border=\"1\" class=\"dataframe\">\n",
       "  <thead>\n",
       "    <tr style=\"text-align: right;\">\n",
       "      <th></th>\n",
       "      <th>months_as_customer</th>\n",
       "      <th>policy_deductable</th>\n",
       "      <th>umbrella_limit</th>\n",
       "      <th>capital_gains</th>\n",
       "      <th>capital_loss</th>\n",
       "      <th>incident_hour_of_the_day</th>\n",
       "      <th>number_of_vehicles_involved</th>\n",
       "      <th>bodily_injuries</th>\n",
       "      <th>witnesses</th>\n",
       "      <th>injury_claim</th>\n",
       "      <th>property_claim</th>\n",
       "      <th>vehicle_claim</th>\n",
       "    </tr>\n",
       "  </thead>\n",
       "  <tbody>\n",
       "    <tr>\n",
       "      <th>58313</th>\n",
       "      <td>-0.920452</td>\n",
       "      <td>-0.263743</td>\n",
       "      <td>-0.564874</td>\n",
       "      <td>0.659519</td>\n",
       "      <td>0.578775</td>\n",
       "      <td>1.357754</td>\n",
       "      <td>-0.678716</td>\n",
       "      <td>-1.219944</td>\n",
       "      <td>0.446728</td>\n",
       "      <td>-1.002203</td>\n",
       "      <td>-0.964703</td>\n",
       "      <td>-0.670696</td>\n",
       "    </tr>\n",
       "    <tr>\n",
       "      <th>18972</th>\n",
       "      <td>-1.294242</td>\n",
       "      <td>0.245802</td>\n",
       "      <td>0.377463</td>\n",
       "      <td>-0.563230</td>\n",
       "      <td>1.401707</td>\n",
       "      <td>-0.346680</td>\n",
       "      <td>-0.678716</td>\n",
       "      <td>-1.219944</td>\n",
       "      <td>0.446728</td>\n",
       "      <td>-0.999264</td>\n",
       "      <td>2.129982</td>\n",
       "      <td>-0.331021</td>\n",
       "    </tr>\n",
       "    <tr>\n",
       "      <th>26999</th>\n",
       "      <td>-1.107347</td>\n",
       "      <td>-1.628127</td>\n",
       "      <td>-0.300425</td>\n",
       "      <td>0.429608</td>\n",
       "      <td>0.927039</td>\n",
       "      <td>-2.562444</td>\n",
       "      <td>0.745655</td>\n",
       "      <td>0.002747</td>\n",
       "      <td>-1.344550</td>\n",
       "      <td>1.441181</td>\n",
       "      <td>1.938473</td>\n",
       "      <td>1.119077</td>\n",
       "    </tr>\n",
       "    <tr>\n",
       "      <th>226298</th>\n",
       "      <td>-0.513679</td>\n",
       "      <td>-1.325760</td>\n",
       "      <td>-1.760339</td>\n",
       "      <td>-1.018033</td>\n",
       "      <td>0.420033</td>\n",
       "      <td>1.187310</td>\n",
       "      <td>-0.678716</td>\n",
       "      <td>-1.219944</td>\n",
       "      <td>1.342367</td>\n",
       "      <td>-1.026135</td>\n",
       "      <td>1.092397</td>\n",
       "      <td>0.544821</td>\n",
       "    </tr>\n",
       "    <tr>\n",
       "      <th>198422</th>\n",
       "      <td>0.156945</td>\n",
       "      <td>1.423539</td>\n",
       "      <td>0.988597</td>\n",
       "      <td>0.491897</td>\n",
       "      <td>0.636671</td>\n",
       "      <td>-0.687567</td>\n",
       "      <td>-0.678716</td>\n",
       "      <td>0.002747</td>\n",
       "      <td>-1.344550</td>\n",
       "      <td>0.723658</td>\n",
       "      <td>-1.071592</td>\n",
       "      <td>0.265973</td>\n",
       "    </tr>\n",
       "  </tbody>\n",
       "</table>\n",
       "</div>"
      ],
      "text/plain": [
       "        months_as_customer  policy_deductable  umbrella_limit  capital_gains  \\\n",
       "58313            -0.920452          -0.263743       -0.564874       0.659519   \n",
       "18972            -1.294242           0.245802        0.377463      -0.563230   \n",
       "26999            -1.107347          -1.628127       -0.300425       0.429608   \n",
       "226298           -0.513679          -1.325760       -1.760339      -1.018033   \n",
       "198422            0.156945           1.423539        0.988597       0.491897   \n",
       "\n",
       "        capital_loss  incident_hour_of_the_day  number_of_vehicles_involved  \\\n",
       "58313       0.578775                  1.357754                    -0.678716   \n",
       "18972       1.401707                 -0.346680                    -0.678716   \n",
       "26999       0.927039                 -2.562444                     0.745655   \n",
       "226298      0.420033                  1.187310                    -0.678716   \n",
       "198422      0.636671                 -0.687567                    -0.678716   \n",
       "\n",
       "        bodily_injuries  witnesses  injury_claim  property_claim  \\\n",
       "58313         -1.219944   0.446728     -1.002203       -0.964703   \n",
       "18972         -1.219944   0.446728     -0.999264        2.129982   \n",
       "26999          0.002747  -1.344550      1.441181        1.938473   \n",
       "226298        -1.219944   1.342367     -1.026135        1.092397   \n",
       "198422         0.002747  -1.344550      0.723658       -1.071592   \n",
       "\n",
       "        vehicle_claim  \n",
       "58313       -0.670696  \n",
       "18972       -0.331021  \n",
       "26999        1.119077  \n",
       "226298       0.544821  \n",
       "198422       0.265973  "
      ]
     },
     "execution_count": 97,
     "metadata": {},
     "output_type": "execute_result"
    }
   ],
   "source": [
    "scaled_num_df_test = pd.DataFrame(data = scaled_data_test, columns = num_df_test.columns, index = X_test.index)\n",
    "scaled_num_df_test.head()"
   ]
  },
  {
   "cell_type": "code",
   "execution_count": 80,
   "id": "279e8a95",
   "metadata": {},
   "outputs": [],
   "source": [
    "X_train.drop(columns = scaled_num_df.columns, inplace = True)"
   ]
  },
  {
   "cell_type": "code",
   "execution_count": 81,
   "id": "c3f18e4c",
   "metadata": {},
   "outputs": [],
   "source": [
    "X_train = pd.concat([scaled_num_df, X_train], axis = 1)"
   ]
  },
  {
   "cell_type": "code",
   "execution_count": 82,
   "id": "11159f53",
   "metadata": {},
   "outputs": [],
   "source": [
    "X_test.drop(columns = scaled_num_df_test.columns, inplace = True)"
   ]
  },
  {
   "cell_type": "code",
   "execution_count": 83,
   "id": "6899602c",
   "metadata": {},
   "outputs": [],
   "source": [
    "X_test = pd.concat([scaled_num_df_test, X_test], axis = 1)"
   ]
  },
  {
   "cell_type": "markdown",
   "id": "3e398039",
   "metadata": {},
   "source": [
    "# Decision Tree"
   ]
  },
  {
   "cell_type": "code",
   "execution_count": 84,
   "id": "c47dde4e",
   "metadata": {},
   "outputs": [
    {
     "data": {
      "text/html": [
       "<style>#sk-container-id-2 {color: black;}#sk-container-id-2 pre{padding: 0;}#sk-container-id-2 div.sk-toggleable {background-color: white;}#sk-container-id-2 label.sk-toggleable__label {cursor: pointer;display: block;width: 100%;margin-bottom: 0;padding: 0.3em;box-sizing: border-box;text-align: center;}#sk-container-id-2 label.sk-toggleable__label-arrow:before {content: \"▸\";float: left;margin-right: 0.25em;color: #696969;}#sk-container-id-2 label.sk-toggleable__label-arrow:hover:before {color: black;}#sk-container-id-2 div.sk-estimator:hover label.sk-toggleable__label-arrow:before {color: black;}#sk-container-id-2 div.sk-toggleable__content {max-height: 0;max-width: 0;overflow: hidden;text-align: left;background-color: #f0f8ff;}#sk-container-id-2 div.sk-toggleable__content pre {margin: 0.2em;color: black;border-radius: 0.25em;background-color: #f0f8ff;}#sk-container-id-2 input.sk-toggleable__control:checked~div.sk-toggleable__content {max-height: 200px;max-width: 100%;overflow: auto;}#sk-container-id-2 input.sk-toggleable__control:checked~label.sk-toggleable__label-arrow:before {content: \"▾\";}#sk-container-id-2 div.sk-estimator input.sk-toggleable__control:checked~label.sk-toggleable__label {background-color: #d4ebff;}#sk-container-id-2 div.sk-label input.sk-toggleable__control:checked~label.sk-toggleable__label {background-color: #d4ebff;}#sk-container-id-2 input.sk-hidden--visually {border: 0;clip: rect(1px 1px 1px 1px);clip: rect(1px, 1px, 1px, 1px);height: 1px;margin: -1px;overflow: hidden;padding: 0;position: absolute;width: 1px;}#sk-container-id-2 div.sk-estimator {font-family: monospace;background-color: #f0f8ff;border: 1px dotted black;border-radius: 0.25em;box-sizing: border-box;margin-bottom: 0.5em;}#sk-container-id-2 div.sk-estimator:hover {background-color: #d4ebff;}#sk-container-id-2 div.sk-parallel-item::after {content: \"\";width: 100%;border-bottom: 1px solid gray;flex-grow: 1;}#sk-container-id-2 div.sk-label:hover label.sk-toggleable__label {background-color: #d4ebff;}#sk-container-id-2 div.sk-serial::before {content: \"\";position: absolute;border-left: 1px solid gray;box-sizing: border-box;top: 0;bottom: 0;left: 50%;z-index: 0;}#sk-container-id-2 div.sk-serial {display: flex;flex-direction: column;align-items: center;background-color: white;padding-right: 0.2em;padding-left: 0.2em;position: relative;}#sk-container-id-2 div.sk-item {position: relative;z-index: 1;}#sk-container-id-2 div.sk-parallel {display: flex;align-items: stretch;justify-content: center;background-color: white;position: relative;}#sk-container-id-2 div.sk-item::before, #sk-container-id-2 div.sk-parallel-item::before {content: \"\";position: absolute;border-left: 1px solid gray;box-sizing: border-box;top: 0;bottom: 0;left: 50%;z-index: -1;}#sk-container-id-2 div.sk-parallel-item {display: flex;flex-direction: column;z-index: 1;position: relative;background-color: white;}#sk-container-id-2 div.sk-parallel-item:first-child::after {align-self: flex-end;width: 50%;}#sk-container-id-2 div.sk-parallel-item:last-child::after {align-self: flex-start;width: 50%;}#sk-container-id-2 div.sk-parallel-item:only-child::after {width: 0;}#sk-container-id-2 div.sk-dashed-wrapped {border: 1px dashed gray;margin: 0 0.4em 0.5em 0.4em;box-sizing: border-box;padding-bottom: 0.4em;background-color: white;}#sk-container-id-2 div.sk-label label {font-family: monospace;font-weight: bold;display: inline-block;line-height: 1.2em;}#sk-container-id-2 div.sk-label-container {text-align: center;}#sk-container-id-2 div.sk-container {/* jupyter's `normalize.less` sets `[hidden] { display: none; }` but bootstrap.min.css set `[hidden] { display: none !important; }` so we also need the `!important` here to be able to override the default hidden behavior on the sphinx rendered scikit-learn.org. See: https://github.com/scikit-learn/scikit-learn/issues/21755 */display: inline-block !important;position: relative;}#sk-container-id-2 div.sk-text-repr-fallback {display: none;}</style><div id=\"sk-container-id-2\" class=\"sk-top-container\"><div class=\"sk-text-repr-fallback\"><pre>DecisionTreeClassifier()</pre><b>In a Jupyter environment, please rerun this cell to show the HTML representation or trust the notebook. <br />On GitHub, the HTML representation is unable to render, please try loading this page with nbviewer.org.</b></div><div class=\"sk-container\" hidden><div class=\"sk-item\"><div class=\"sk-estimator sk-toggleable\"><input class=\"sk-toggleable__control sk-hidden--visually\" id=\"sk-estimator-id-2\" type=\"checkbox\" checked><label for=\"sk-estimator-id-2\" class=\"sk-toggleable__label sk-toggleable__label-arrow\">DecisionTreeClassifier</label><div class=\"sk-toggleable__content\"><pre>DecisionTreeClassifier()</pre></div></div></div></div></div>"
      ],
      "text/plain": [
       "DecisionTreeClassifier()"
      ]
     },
     "execution_count": 84,
     "metadata": {},
     "output_type": "execute_result"
    }
   ],
   "source": [
    "#from sklearn.tree import DecisionTreeClassifier\n",
    "dtc = DecisionTreeClassifier()\n",
    "dtc.fit(X_train, y_train)"
   ]
  },
  {
   "cell_type": "code",
   "execution_count": 85,
   "id": "797d22a1",
   "metadata": {},
   "outputs": [],
   "source": [
    "y_pred = dtc.predict(X_test)"
   ]
  },
  {
   "cell_type": "code",
   "execution_count": 86,
   "id": "9b41528c",
   "metadata": {
    "scrolled": true
   },
   "outputs": [
    {
     "name": "stdout",
     "output_type": "stream",
     "text": [
      "Training accuracy of Decision Tree is : 1.0\n",
      "Test accuracy of Decision Tree is : 0.9942937921285362\n",
      "[[ 8594   165]\n",
      " [  166 49082]]\n",
      "                   precision    recall  f1-score   support\n",
      "\n",
      "   Fraud Reported       0.98      0.98      0.98      8759\n",
      "No Fraud Reported       1.00      1.00      1.00     49248\n",
      "\n",
      "         accuracy                           0.99     58007\n",
      "        macro avg       0.99      0.99      0.99     58007\n",
      "     weighted avg       0.99      0.99      0.99     58007\n",
      "\n"
     ]
    }
   ],
   "source": [
    "dtc_train_acc = accuracy_score(y_train, dtc.predict(X_train))\n",
    "dtc_test_acc = accuracy_score(y_test, y_pred)\n",
    "\n",
    "print(f\"Training accuracy of Decision Tree is : {dtc_train_acc}\")\n",
    "print(f\"Test accuracy of Decision Tree is : {dtc_test_acc}\")\n",
    "\n",
    "print(confusion_matrix(y_test, y_pred))\n",
    "print(classification_report(y_test, y_pred))"
   ]
  },
  {
   "cell_type": "code",
   "execution_count": 87,
   "id": "cdc19f62",
   "metadata": {},
   "outputs": [],
   "source": [
    "from fosforml import register_model"
   ]
  },
  {
   "cell_type": "code",
   "execution_count": 89,
   "id": "9fc34952-2414-409d-80f4-ec13769c8bb2",
   "metadata": {},
   "outputs": [
    {
     "data": {
      "text/plain": [
       "Index(['months_as_customer', 'customer_age', 'policy_deductable',\n",
       "       'policy_annual_premium', 'umbrella_limit', 'capital_gains',\n",
       "       'capital_loss', 'incident_hour_of_the_day',\n",
       "       'number_of_vehicles_involved', 'bodily_injuries', 'witnesses',\n",
       "       'total_claim_amount', 'injury_claim', 'property_claim', 'vehicle_claim',\n",
       "       'policy_csl_250/500', 'policy_csl_500/1000', 'insured_sex_MALE',\n",
       "       'insured_education_level_College',\n",
       "       'insured_education_level_High School', 'insured_education_level_JD',\n",
       "       'insured_education_level_MD', 'insured_education_level_Masters',\n",
       "       'insured_education_level_PhD', 'insured_occupation_armed-forces',\n",
       "       'insured_occupation_craft-repair', 'insured_occupation_exec-managerial',\n",
       "       'insured_occupation_farming-fishing',\n",
       "       'insured_occupation_handlers-cleaners',\n",
       "       'insured_occupation_machine-op-inspct',\n",
       "       'insured_occupation_other-service',\n",
       "       'insured_occupation_priv-house-serv',\n",
       "       'insured_occupation_prof-specialty',\n",
       "       'insured_occupation_protective-serv', 'insured_occupation_sales',\n",
       "       'insured_occupation_tech-support',\n",
       "       'insured_occupation_transport-moving',\n",
       "       'insured_relationship_not-in-family',\n",
       "       'insured_relationship_other-relative', 'insured_relationship_own-child',\n",
       "       'insured_relationship_unmarried', 'insured_relationship_wife',\n",
       "       'incident_type_Parked Car', 'incident_type_Single Vehicle Collision',\n",
       "       'incident_type_Vehicle Theft', 'collision_type_Front Collision',\n",
       "       'collision_type_Rear Collision', 'collision_type_Side Collision',\n",
       "       'incident_severity_Minor Damage', 'incident_severity_Total Loss',\n",
       "       'authorities_contacted_Fire', 'authorities_contacted_None',\n",
       "       'authorities_contacted_Other', 'authorities_contacted_Police',\n",
       "       'incident_time_of_day_Early Morning Hours',\n",
       "       'incident_time_of_day_Morning to Noon',\n",
       "       'incident_time_of_day_Night Time', 'property_damage_No Property Damage',\n",
       "       'property_damage_Property Damage',\n",
       "       'police_report_available_Police Report Available',\n",
       "       'police_report_available_Unknown'],\n",
       "      dtype='object')"
      ]
     },
     "execution_count": 89,
     "metadata": {},
     "output_type": "execute_result"
    }
   ],
   "source": [
    "X.columns"
   ]
  },
  {
   "cell_type": "code",
   "execution_count": 88,
   "id": "26e0a320",
   "metadata": {
    "scrolled": true
   },
   "outputs": [
    {
     "data": {
      "text/plain": [
       "\"error, invalid inputs : Column name 'policy_csl_250/500' is invalid. Column names must start with a letter or underscore and contain only letters, numbers, underscores and $ signs.\""
      ]
     },
     "execution_count": 88,
     "metadata": {},
     "output_type": "execute_result"
    }
   ],
   "source": [
    "## registering the model in Fosfor Insight Designer.\n",
    "register_model(\n",
    "    model_obj=dtc, \n",
    "    session=my_session,\n",
    "    x_train=X_train,\n",
    "    y_train=y_train,\n",
    "    x_test=X_test,\n",
    "    y_test=y_test,\n",
    "    y_pred=y_pred,\n",
    "    source=\"Notebook\",\n",
    "    dataset_name=\"AUTO_INSURANCE_CLAIMS_DATA\",\n",
    "    dataset_source=\"Snowflake\",\n",
    "    name=\"Claims_Fraud_DTree_Classifier\",\n",
    "    description=\"Insurance claim's model trained for Fraud Classification\",\n",
    "    flavour=\"sklearn\",\n",
    "    model_type=\"classification\",\n",
    "    conda_dependencies=[\"fosforml==1.6.\"]\n",
    ")"
   ]
  },
  {
   "cell_type": "markdown",
   "id": "7efd9372",
   "metadata": {},
   "source": [
    "# Version 2 of Decision Tree Fraud Classifier Model"
   ]
  },
  {
   "cell_type": "code",
   "execution_count": 125,
   "id": "85ee5a3f",
   "metadata": {},
   "outputs": [
    {
     "data": {
      "text/html": [
       "<style>#sk-container-id-6 {color: black;background-color: white;}#sk-container-id-6 pre{padding: 0;}#sk-container-id-6 div.sk-toggleable {background-color: white;}#sk-container-id-6 label.sk-toggleable__label {cursor: pointer;display: block;width: 100%;margin-bottom: 0;padding: 0.3em;box-sizing: border-box;text-align: center;}#sk-container-id-6 label.sk-toggleable__label-arrow:before {content: \"▸\";float: left;margin-right: 0.25em;color: #696969;}#sk-container-id-6 label.sk-toggleable__label-arrow:hover:before {color: black;}#sk-container-id-6 div.sk-estimator:hover label.sk-toggleable__label-arrow:before {color: black;}#sk-container-id-6 div.sk-toggleable__content {max-height: 0;max-width: 0;overflow: hidden;text-align: left;background-color: #f0f8ff;}#sk-container-id-6 div.sk-toggleable__content pre {margin: 0.2em;color: black;border-radius: 0.25em;background-color: #f0f8ff;}#sk-container-id-6 input.sk-toggleable__control:checked~div.sk-toggleable__content {max-height: 200px;max-width: 100%;overflow: auto;}#sk-container-id-6 input.sk-toggleable__control:checked~label.sk-toggleable__label-arrow:before {content: \"▾\";}#sk-container-id-6 div.sk-estimator input.sk-toggleable__control:checked~label.sk-toggleable__label {background-color: #d4ebff;}#sk-container-id-6 div.sk-label input.sk-toggleable__control:checked~label.sk-toggleable__label {background-color: #d4ebff;}#sk-container-id-6 input.sk-hidden--visually {border: 0;clip: rect(1px 1px 1px 1px);clip: rect(1px, 1px, 1px, 1px);height: 1px;margin: -1px;overflow: hidden;padding: 0;position: absolute;width: 1px;}#sk-container-id-6 div.sk-estimator {font-family: monospace;background-color: #f0f8ff;border: 1px dotted black;border-radius: 0.25em;box-sizing: border-box;margin-bottom: 0.5em;}#sk-container-id-6 div.sk-estimator:hover {background-color: #d4ebff;}#sk-container-id-6 div.sk-parallel-item::after {content: \"\";width: 100%;border-bottom: 1px solid gray;flex-grow: 1;}#sk-container-id-6 div.sk-label:hover label.sk-toggleable__label {background-color: #d4ebff;}#sk-container-id-6 div.sk-serial::before {content: \"\";position: absolute;border-left: 1px solid gray;box-sizing: border-box;top: 0;bottom: 0;left: 50%;z-index: 0;}#sk-container-id-6 div.sk-serial {display: flex;flex-direction: column;align-items: center;background-color: white;padding-right: 0.2em;padding-left: 0.2em;position: relative;}#sk-container-id-6 div.sk-item {position: relative;z-index: 1;}#sk-container-id-6 div.sk-parallel {display: flex;align-items: stretch;justify-content: center;background-color: white;position: relative;}#sk-container-id-6 div.sk-item::before, #sk-container-id-6 div.sk-parallel-item::before {content: \"\";position: absolute;border-left: 1px solid gray;box-sizing: border-box;top: 0;bottom: 0;left: 50%;z-index: -1;}#sk-container-id-6 div.sk-parallel-item {display: flex;flex-direction: column;z-index: 1;position: relative;background-color: white;}#sk-container-id-6 div.sk-parallel-item:first-child::after {align-self: flex-end;width: 50%;}#sk-container-id-6 div.sk-parallel-item:last-child::after {align-self: flex-start;width: 50%;}#sk-container-id-6 div.sk-parallel-item:only-child::after {width: 0;}#sk-container-id-6 div.sk-dashed-wrapped {border: 1px dashed gray;margin: 0 0.4em 0.5em 0.4em;box-sizing: border-box;padding-bottom: 0.4em;background-color: white;}#sk-container-id-6 div.sk-label label {font-family: monospace;font-weight: bold;display: inline-block;line-height: 1.2em;}#sk-container-id-6 div.sk-label-container {text-align: center;}#sk-container-id-6 div.sk-container {/* jupyter's `normalize.less` sets `[hidden] { display: none; }` but bootstrap.min.css set `[hidden] { display: none !important; }` so we also need the `!important` here to be able to override the default hidden behavior on the sphinx rendered scikit-learn.org. See: https://github.com/scikit-learn/scikit-learn/issues/21755 */display: inline-block !important;position: relative;}#sk-container-id-6 div.sk-text-repr-fallback {display: none;}</style><div id=\"sk-container-id-6\" class=\"sk-top-container\"><div class=\"sk-text-repr-fallback\"><pre>DecisionTreeClassifier(random_state=7)</pre><b>In a Jupyter environment, please rerun this cell to show the HTML representation or trust the notebook. <br />On GitHub, the HTML representation is unable to render, please try loading this page with nbviewer.org.</b></div><div class=\"sk-container\" hidden><div class=\"sk-item\"><div class=\"sk-estimator sk-toggleable\"><input class=\"sk-toggleable__control sk-hidden--visually\" id=\"sk-estimator-id-6\" type=\"checkbox\" checked><label for=\"sk-estimator-id-6\" class=\"sk-toggleable__label sk-toggleable__label-arrow\">DecisionTreeClassifier</label><div class=\"sk-toggleable__content\"><pre>DecisionTreeClassifier(random_state=7)</pre></div></div></div></div></div>"
      ],
      "text/plain": [
       "DecisionTreeClassifier(random_state=7)"
      ]
     },
     "execution_count": 125,
     "metadata": {},
     "output_type": "execute_result"
    }
   ],
   "source": [
    "dtc = DecisionTreeClassifier(random_state=7)\n",
    "dtc.fit(X_train, y_train)"
   ]
  },
  {
   "cell_type": "code",
   "execution_count": 126,
   "id": "ab56741e",
   "metadata": {},
   "outputs": [],
   "source": [
    "y_pred = dtc.predict(X_test)\n",
    "y_prob = dtc.predict_proba(X_test)[:,1]"
   ]
  },
  {
   "cell_type": "code",
   "execution_count": 127,
   "id": "315745e4",
   "metadata": {},
   "outputs": [
    {
     "name": "stdout",
     "output_type": "stream",
     "text": [
      "Training accuracy of Decision Tree is : 1.0\n",
      "Test accuracy of Decision Tree is : 0.9941263851657076\n",
      "[[ 8305   156]\n",
      " [  188 49918]]\n",
      "                   precision    recall  f1-score   support\n",
      "\n",
      "   Fraud Reported       0.98      0.98      0.98      8461\n",
      "No Fraud Reported       1.00      1.00      1.00     50106\n",
      "\n",
      "         accuracy                           0.99     58567\n",
      "        macro avg       0.99      0.99      0.99     58567\n",
      "     weighted avg       0.99      0.99      0.99     58567\n",
      "\n"
     ]
    }
   ],
   "source": [
    "dtc_train_acc = accuracy_score(y_train, dtc.predict(X_train))\n",
    "dtc_test_acc = accuracy_score(y_test, y_pred)\n",
    "\n",
    "print(f\"Training accuracy of Decision Tree is : {dtc_train_acc}\")\n",
    "print(f\"Test accuracy of Decision Tree is : {dtc_test_acc}\")\n",
    "\n",
    "print(confusion_matrix(y_test, y_pred))\n",
    "print(classification_report(y_test, y_pred))"
   ]
  },
  {
   "cell_type": "code",
   "execution_count": 128,
   "id": "73fbd7da",
   "metadata": {},
   "outputs": [
    {
     "name": "stdout",
     "output_type": "stream",
     "text": [
      "Calculating build time metrics\n",
      "\n",
      "Progress: ██████████████████████████████████████████████████████████████████████ 100.0%\n"
     ]
    },
    {
     "data": {
      "application/vnd.jupyter.widget-view+json": {
       "model_id": "19eb1a8c2f9a4e12959f1ed7bc060742",
       "version_major": 2,
       "version_minor": 0
      },
      "text/plain": [
       "VBox(children=(HTML(value='<style>.grad_1{background: #2468a4;} .grad_2{ color:white; background: #2468a4;}</s…"
      ]
     },
     "metadata": {},
     "output_type": "display_data"
    }
   ],
   "source": [
    "## registering the model in Fosfor Insight Designer using same name.\n",
    "model_reg = register_model(dtc, \n",
    "               score, \n",
    "               name=\"Claims_Fraud_DTree_Classifier\", \n",
    "               description=\"Insurance claim's model trained for Fraud Classification\",\n",
    "               flavour=MLModelFlavours.sklearn,\n",
    "               model_type=\"classification\",\n",
    "               init_script=\"snowflake-connector-python[pandas]\",\n",
    "               y_true=y_test,\n",
    "               y_pred=y_pred, \n",
    "               prob=y_prob,\n",
    "               features=X_train.columns,\n",
    "               input_type=\"json\", \n",
    "               explain_ai=True,\n",
    "               x_train=X_train, \n",
    "               x_test=X_test, \n",
    "               y_train=y_train.tolist(),\n",
    "               y_test=y_test.tolist(),\n",
    "               feature_names=X_train.columns.tolist(),\n",
    "               original_features=X_train.columns.tolist(),\n",
    "               feature_ids=X_train.columns,\n",
    "               kyd=True, kyd_score = True)"
   ]
  }
 ],
 "metadata": {
  "kernelspec": {
   "display_name": "Python 3 (ipykernel)",
   "language": "python",
   "name": "python3"
  },
  "language_info": {
   "codemirror_mode": {
    "name": "ipython",
    "version": 3
   },
   "file_extension": ".py",
   "mimetype": "text/x-python",
   "name": "python",
   "nbconvert_exporter": "python",
   "pygments_lexer": "ipython3",
   "version": "3.9.19"
  }
 },
 "nbformat": 4,
 "nbformat_minor": 5
}
