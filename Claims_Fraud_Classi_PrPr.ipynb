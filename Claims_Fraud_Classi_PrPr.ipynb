{
 "cells": [
  {
   "cell_type": "markdown",
   "id": "da4ac72d",
   "metadata": {},
   "source": [
    "# Use Custom Template Notebook"
   ]
  },
  {
   "cell_type": "code",
   "execution_count": 1,
   "id": "12eb34cf",
   "metadata": {
    "scrolled": true
   },
   "outputs": [],
   "source": [
    "from snowflake.snowpark import Session\n",
    "\n",
    "# Data Science Libs\n",
    "import numpy as np\n",
    "import pandas as pd\n",
    "import matplotlib.pyplot as plt\n",
    "\n",
    "# create_temp_table warning suppresion\n",
    "import warnings; warnings.simplefilter('ignore')\n",
    "\n",
    "#Modeling Libs\n",
    "from sklearn.model_selection import train_test_split\n",
    "from sklearn.preprocessing import StandardScaler\n",
    "from sklearn.svm import SVC\n",
    "from sklearn.metrics import accuracy_score, confusion_matrix, classification_report\n",
    "from sklearn.neighbors import KNeighborsClassifier\n",
    "from sklearn.metrics import accuracy_score, confusion_matrix, classification_report\n",
    "from sklearn.tree import DecisionTreeClassifier\n",
    "from sklearn.model_selection import GridSearchCV\n",
    "from sklearn.ensemble import RandomForestClassifier\n",
    "from sklearn.ensemble import AdaBoostClassifier\n",
    "from sklearn.ensemble import GradientBoostingClassifier\n",
    "from sklearn.ensemble import ExtraTreesClassifier\n",
    "from sklearn.ensemble import VotingClassifier\n",
    "\n",
    "from xgboost import XGBClassifier\n",
    "#from catboost import CatBoostClassifier\n",
    "\n",
    "from joblib import dump, load\n",
    "import requests"
   ]
  },
  {
   "cell_type": "markdown",
   "id": "eec13385",
   "metadata": {},
   "source": [
    "# Initialize Snowflake Session using Default connection"
   ]
  },
  {
   "cell_type": "code",
   "execution_count": 2,
   "id": "8a6a2445-416b-4b1d-aaf5-e21c298777bb",
   "metadata": {},
   "outputs": [],
   "source": [
    "from fosforml.model_manager.snowflakesession import get_session\n",
    "my_session = get_session()"
   ]
  },
  {
   "cell_type": "code",
   "execution_count": 3,
   "id": "a3de0458",
   "metadata": {},
   "outputs": [],
   "source": [
    "table_name = 'AUTO_INSURANCE_CLAIMS_DATA'"
   ]
  },
  {
   "cell_type": "code",
   "execution_count": 4,
   "id": "cc65cd7a-2dc3-46dc-8d15-40fdcbdb5925",
   "metadata": {},
   "outputs": [],
   "source": [
    "sf_df = my_session.sql(\"select * from {}\".format(table_name))"
   ]
  },
  {
   "cell_type": "code",
   "execution_count": 5,
   "id": "ab51ba08-d53e-4964-b441-eece144787af",
   "metadata": {},
   "outputs": [],
   "source": [
    "df = sf_df.to_pandas()"
   ]
  },
  {
   "cell_type": "code",
   "execution_count": 6,
   "id": "3c124196-9419-4d6e-ac52-d4e1b50f319f",
   "metadata": {},
   "outputs": [
    {
     "data": {
      "text/html": [
       "<div>\n",
       "<style scoped>\n",
       "    .dataframe tbody tr th:only-of-type {\n",
       "        vertical-align: middle;\n",
       "    }\n",
       "\n",
       "    .dataframe tbody tr th {\n",
       "        vertical-align: top;\n",
       "    }\n",
       "\n",
       "    .dataframe thead th {\n",
       "        text-align: right;\n",
       "    }\n",
       "</style>\n",
       "<table border=\"1\" class=\"dataframe\">\n",
       "  <thead>\n",
       "    <tr style=\"text-align: right;\">\n",
       "      <th></th>\n",
       "      <th>MONTHS_AS_CUSTOMER</th>\n",
       "      <th>CUSTOMER_AGE</th>\n",
       "      <th>POLICY_NUMBER</th>\n",
       "      <th>POLICY_BIND_DATE</th>\n",
       "      <th>POLICY_STATE</th>\n",
       "      <th>POLICY_CSL</th>\n",
       "      <th>POLICY_DEDUCTABLE</th>\n",
       "      <th>POLICY_ANNUAL_PREMIUM</th>\n",
       "      <th>UMBRELLA_LIMIT</th>\n",
       "      <th>INSURED_ZIP</th>\n",
       "      <th>...</th>\n",
       "      <th>POLICE_REPORT_AVAILABLE</th>\n",
       "      <th>TOTAL_CLAIM_AMOUNT_PAID</th>\n",
       "      <th>INJURY_CLAIM</th>\n",
       "      <th>PROPERTY_CLAIM</th>\n",
       "      <th>VEHICLE_CLAIM</th>\n",
       "      <th>AUTO_MAKE</th>\n",
       "      <th>AUTO_MODEL</th>\n",
       "      <th>AUTO_YEAR</th>\n",
       "      <th>FRAUD_REPORTED</th>\n",
       "      <th>POLICY_BIND_DATE_CUSTOM</th>\n",
       "    </tr>\n",
       "  </thead>\n",
       "  <tbody>\n",
       "    <tr>\n",
       "      <th>0</th>\n",
       "      <td>139</td>\n",
       "      <td>37</td>\n",
       "      <td>457069</td>\n",
       "      <td>17-08-2011</td>\n",
       "      <td>CT</td>\n",
       "      <td>250/500</td>\n",
       "      <td>1351</td>\n",
       "      <td>1589</td>\n",
       "      <td>16139812</td>\n",
       "      <td>609322</td>\n",
       "      <td>...</td>\n",
       "      <td>No Police Report Available</td>\n",
       "      <td>48182</td>\n",
       "      <td>538</td>\n",
       "      <td>20189</td>\n",
       "      <td>27455</td>\n",
       "      <td>Dodge</td>\n",
       "      <td>Neon</td>\n",
       "      <td>2005</td>\n",
       "      <td>No Fraud Reported</td>\n",
       "      <td>2011-08-17</td>\n",
       "    </tr>\n",
       "    <tr>\n",
       "      <th>1</th>\n",
       "      <td>292</td>\n",
       "      <td>52</td>\n",
       "      <td>429086</td>\n",
       "      <td>27-09-2010</td>\n",
       "      <td>CT</td>\n",
       "      <td>100/300</td>\n",
       "      <td>2216</td>\n",
       "      <td>2669</td>\n",
       "      <td>15406514</td>\n",
       "      <td>438830</td>\n",
       "      <td>...</td>\n",
       "      <td>Police Report Available</td>\n",
       "      <td>64579</td>\n",
       "      <td>11170</td>\n",
       "      <td>5093</td>\n",
       "      <td>48316</td>\n",
       "      <td>Audi</td>\n",
       "      <td>A3</td>\n",
       "      <td>1999</td>\n",
       "      <td>No Fraud Reported</td>\n",
       "      <td>2010-09-27</td>\n",
       "    </tr>\n",
       "    <tr>\n",
       "      <th>2</th>\n",
       "      <td>45</td>\n",
       "      <td>20</td>\n",
       "      <td>457562</td>\n",
       "      <td>13-01-2002</td>\n",
       "      <td>CT</td>\n",
       "      <td>100/300</td>\n",
       "      <td>929</td>\n",
       "      <td>1290</td>\n",
       "      <td>5629268</td>\n",
       "      <td>616164</td>\n",
       "      <td>...</td>\n",
       "      <td>No Police Report Available</td>\n",
       "      <td>32420</td>\n",
       "      <td>538</td>\n",
       "      <td>845</td>\n",
       "      <td>31037</td>\n",
       "      <td>Mercedes</td>\n",
       "      <td>E400</td>\n",
       "      <td>2014</td>\n",
       "      <td>No Fraud Reported</td>\n",
       "      <td>2002-01-13</td>\n",
       "    </tr>\n",
       "    <tr>\n",
       "      <th>3</th>\n",
       "      <td>49</td>\n",
       "      <td>67</td>\n",
       "      <td>471692</td>\n",
       "      <td>07-02-2012</td>\n",
       "      <td>CT</td>\n",
       "      <td>500/1000</td>\n",
       "      <td>699</td>\n",
       "      <td>970</td>\n",
       "      <td>18501194</td>\n",
       "      <td>445120</td>\n",
       "      <td>...</td>\n",
       "      <td>No Police Report Available</td>\n",
       "      <td>53780</td>\n",
       "      <td>7280</td>\n",
       "      <td>898</td>\n",
       "      <td>45602</td>\n",
       "      <td>Suburu</td>\n",
       "      <td>Legacy</td>\n",
       "      <td>2005</td>\n",
       "      <td>No Fraud Reported</td>\n",
       "      <td>2012-02-07</td>\n",
       "    </tr>\n",
       "    <tr>\n",
       "      <th>4</th>\n",
       "      <td>128</td>\n",
       "      <td>45</td>\n",
       "      <td>463009</td>\n",
       "      <td>18-06-2008</td>\n",
       "      <td>CT</td>\n",
       "      <td>100/300</td>\n",
       "      <td>1122</td>\n",
       "      <td>1384</td>\n",
       "      <td>16890664</td>\n",
       "      <td>442936</td>\n",
       "      <td>...</td>\n",
       "      <td>Police Report Available</td>\n",
       "      <td>94511</td>\n",
       "      <td>412</td>\n",
       "      <td>14545</td>\n",
       "      <td>79554</td>\n",
       "      <td>Ford</td>\n",
       "      <td>Escape</td>\n",
       "      <td>2013</td>\n",
       "      <td>No Fraud Reported</td>\n",
       "      <td>2008-06-18</td>\n",
       "    </tr>\n",
       "  </tbody>\n",
       "</table>\n",
       "<p>5 rows × 41 columns</p>\n",
       "</div>"
      ],
      "text/plain": [
       "   MONTHS_AS_CUSTOMER  CUSTOMER_AGE POLICY_NUMBER POLICY_BIND_DATE  \\\n",
       "0                 139            37        457069       17-08-2011   \n",
       "1                 292            52        429086       27-09-2010   \n",
       "2                  45            20        457562       13-01-2002   \n",
       "3                  49            67        471692       07-02-2012   \n",
       "4                 128            45        463009       18-06-2008   \n",
       "\n",
       "  POLICY_STATE POLICY_CSL  POLICY_DEDUCTABLE  POLICY_ANNUAL_PREMIUM  \\\n",
       "0           CT    250/500               1351                   1589   \n",
       "1           CT    100/300               2216                   2669   \n",
       "2           CT    100/300                929                   1290   \n",
       "3           CT   500/1000                699                    970   \n",
       "4           CT    100/300               1122                   1384   \n",
       "\n",
       "   UMBRELLA_LIMIT INSURED_ZIP  ...     POLICE_REPORT_AVAILABLE  \\\n",
       "0        16139812      609322  ...  No Police Report Available   \n",
       "1        15406514      438830  ...     Police Report Available   \n",
       "2         5629268      616164  ...  No Police Report Available   \n",
       "3        18501194      445120  ...  No Police Report Available   \n",
       "4        16890664      442936  ...     Police Report Available   \n",
       "\n",
       "  TOTAL_CLAIM_AMOUNT_PAID INJURY_CLAIM PROPERTY_CLAIM VEHICLE_CLAIM  \\\n",
       "0                   48182          538          20189         27455   \n",
       "1                   64579        11170           5093         48316   \n",
       "2                   32420          538            845         31037   \n",
       "3                   53780         7280            898         45602   \n",
       "4                   94511          412          14545         79554   \n",
       "\n",
       "   AUTO_MAKE  AUTO_MODEL AUTO_YEAR     FRAUD_REPORTED POLICY_BIND_DATE_CUSTOM  \n",
       "0      Dodge        Neon      2005  No Fraud Reported              2011-08-17  \n",
       "1       Audi          A3      1999  No Fraud Reported              2010-09-27  \n",
       "2   Mercedes        E400      2014  No Fraud Reported              2002-01-13  \n",
       "3     Suburu      Legacy      2005  No Fraud Reported              2012-02-07  \n",
       "4       Ford      Escape      2013  No Fraud Reported              2008-06-18  \n",
       "\n",
       "[5 rows x 41 columns]"
      ]
     },
     "execution_count": 6,
     "metadata": {},
     "output_type": "execute_result"
    }
   ],
   "source": [
    "df.head()"
   ]
  },
  {
   "cell_type": "code",
   "execution_count": 7,
   "id": "0733fafe-7680-4e5d-bf6a-d49557828fc7",
   "metadata": {},
   "outputs": [],
   "source": [
    "insurance_claim =  df.copy()"
   ]
  },
  {
   "cell_type": "code",
   "execution_count": 8,
   "id": "c4541e70-5ad5-4017-a0bf-40fcab05c4ae",
   "metadata": {},
   "outputs": [],
   "source": [
    "insurance_claim = insurance_claim[['MONTHS_AS_CUSTOMER', 'CUSTOMER_AGE', 'POLICY_NUMBER',\n",
    "       'POLICY_BIND_DATE', 'POLICY_STATE', 'POLICY_CSL', 'POLICY_DEDUCTABLE',\n",
    "       'POLICY_ANNUAL_PREMIUM', 'UMBRELLA_LIMIT', 'INSURED_ZIP', 'INSURED_SEX',\n",
    "       'INSURED_EDUCATION_LEVEL', 'INSURED_OCCUPATION', 'INSURED_HOBBIES',\n",
    "       'INSURED_RELATIONSHIP', 'CAPITAL_GAINS', 'CAPITAL_LOSS',\n",
    "       'INCIDENT_DATE', 'INCIDENT_TYPE', 'COLLISION_TYPE', 'INCIDENT_SEVERITY',\n",
    "       'AUTHORITIES_CONTACTED', 'INCIDENT_STATE', 'INCIDENT_CITY',\n",
    "       'INCIDENT_LOCATION', 'INCIDENT_HOUR_OF_THE_DAY', 'INCIDENT_TIME_OF_DAY',\n",
    "       'NUMBER_OF_VEHICLES_INVOLVED', 'PROPERTY_DAMAGE', 'BODILY_INJURIES',\n",
    "       'WITNESSES', 'POLICE_REPORT_AVAILABLE', 'TOTAL_CLAIM_AMOUNT_PAID',\n",
    "       'INJURY_CLAIM', 'PROPERTY_CLAIM', 'VEHICLE_CLAIM', 'AUTO_MAKE',\n",
    "       'AUTO_MODEL', 'AUTO_YEAR', 'FRAUD_REPORTED']]"
   ]
  },
  {
   "cell_type": "code",
   "execution_count": 9,
   "id": "0ee58ee8",
   "metadata": {},
   "outputs": [],
   "source": [
    "insurance_claim.columns = insurance_claim.columns.str.lower()"
   ]
  },
  {
   "cell_type": "code",
   "execution_count": 10,
   "id": "dea96c64",
   "metadata": {},
   "outputs": [
    {
     "data": {
      "text/plain": [
       "Index(['months_as_customer', 'customer_age', 'policy_number',\n",
       "       'policy_bind_date', 'policy_state', 'policy_csl', 'policy_deductable',\n",
       "       'policy_annual_premium', 'umbrella_limit', 'insured_zip', 'insured_sex',\n",
       "       'insured_education_level', 'insured_occupation', 'insured_hobbies',\n",
       "       'insured_relationship', 'capital_gains', 'capital_loss',\n",
       "       'incident_date', 'incident_type', 'collision_type', 'incident_severity',\n",
       "       'authorities_contacted', 'incident_state', 'incident_city',\n",
       "       'incident_location', 'incident_hour_of_the_day', 'incident_time_of_day',\n",
       "       'number_of_vehicles_involved', 'property_damage', 'bodily_injuries',\n",
       "       'witnesses', 'police_report_available', 'total_claim_amount_paid',\n",
       "       'injury_claim', 'property_claim', 'vehicle_claim', 'auto_make',\n",
       "       'auto_model', 'auto_year', 'fraud_reported'],\n",
       "      dtype='object')"
      ]
     },
     "execution_count": 10,
     "metadata": {},
     "output_type": "execute_result"
    }
   ],
   "source": [
    "insurance_claim.columns"
   ]
  },
  {
   "cell_type": "code",
   "execution_count": 11,
   "id": "dd34e207",
   "metadata": {},
   "outputs": [],
   "source": [
    "insurance_claim.rename(columns = {'total_claim_amount_paid': 'total_claim_amount'}, inplace=True)"
   ]
  },
  {
   "cell_type": "code",
   "execution_count": 12,
   "id": "044dd5de",
   "metadata": {},
   "outputs": [],
   "source": [
    "insurance_claim=insurance_claim.replace(\"?\",np.NaN)"
   ]
  },
  {
   "cell_type": "code",
   "execution_count": null,
   "id": "2729cb70-12b2-4c58-94cf-95ad69a100bb",
   "metadata": {},
   "outputs": [],
   "source": []
  },
  {
   "cell_type": "code",
   "execution_count": 13,
   "id": "0c04c757",
   "metadata": {},
   "outputs": [],
   "source": [
    "df = insurance_claim.copy()"
   ]
  },
  {
   "cell_type": "code",
   "execution_count": 14,
   "id": "17d478fa",
   "metadata": {},
   "outputs": [],
   "source": [
    "actual_inference = df.copy()\n",
    "actual_inference.drop('fraud_reported', axis = 1, inplace=True)"
   ]
  },
  {
   "cell_type": "code",
   "execution_count": 15,
   "id": "d563385c",
   "metadata": {},
   "outputs": [
    {
     "data": {
      "text/html": [
       "<div>\n",
       "<style scoped>\n",
       "    .dataframe tbody tr th:only-of-type {\n",
       "        vertical-align: middle;\n",
       "    }\n",
       "\n",
       "    .dataframe tbody tr th {\n",
       "        vertical-align: top;\n",
       "    }\n",
       "\n",
       "    .dataframe thead th {\n",
       "        text-align: right;\n",
       "    }\n",
       "</style>\n",
       "<table border=\"1\" class=\"dataframe\">\n",
       "  <thead>\n",
       "    <tr style=\"text-align: right;\">\n",
       "      <th></th>\n",
       "      <th>months_as_customer</th>\n",
       "      <th>customer_age</th>\n",
       "      <th>policy_number</th>\n",
       "      <th>policy_bind_date</th>\n",
       "      <th>policy_state</th>\n",
       "      <th>policy_csl</th>\n",
       "      <th>policy_deductable</th>\n",
       "      <th>policy_annual_premium</th>\n",
       "      <th>umbrella_limit</th>\n",
       "      <th>insured_zip</th>\n",
       "      <th>...</th>\n",
       "      <th>bodily_injuries</th>\n",
       "      <th>witnesses</th>\n",
       "      <th>police_report_available</th>\n",
       "      <th>total_claim_amount</th>\n",
       "      <th>injury_claim</th>\n",
       "      <th>property_claim</th>\n",
       "      <th>vehicle_claim</th>\n",
       "      <th>auto_make</th>\n",
       "      <th>auto_model</th>\n",
       "      <th>auto_year</th>\n",
       "    </tr>\n",
       "  </thead>\n",
       "  <tbody>\n",
       "    <tr>\n",
       "      <th>0</th>\n",
       "      <td>139</td>\n",
       "      <td>37</td>\n",
       "      <td>457069</td>\n",
       "      <td>17-08-2011</td>\n",
       "      <td>CT</td>\n",
       "      <td>250/500</td>\n",
       "      <td>1351</td>\n",
       "      <td>1589</td>\n",
       "      <td>16139812</td>\n",
       "      <td>609322</td>\n",
       "      <td>...</td>\n",
       "      <td>0</td>\n",
       "      <td>3</td>\n",
       "      <td>No Police Report Available</td>\n",
       "      <td>48182</td>\n",
       "      <td>538</td>\n",
       "      <td>20189</td>\n",
       "      <td>27455</td>\n",
       "      <td>Dodge</td>\n",
       "      <td>Neon</td>\n",
       "      <td>2005</td>\n",
       "    </tr>\n",
       "    <tr>\n",
       "      <th>1</th>\n",
       "      <td>292</td>\n",
       "      <td>52</td>\n",
       "      <td>429086</td>\n",
       "      <td>27-09-2010</td>\n",
       "      <td>CT</td>\n",
       "      <td>100/300</td>\n",
       "      <td>2216</td>\n",
       "      <td>2669</td>\n",
       "      <td>15406514</td>\n",
       "      <td>438830</td>\n",
       "      <td>...</td>\n",
       "      <td>1</td>\n",
       "      <td>2</td>\n",
       "      <td>Police Report Available</td>\n",
       "      <td>64579</td>\n",
       "      <td>11170</td>\n",
       "      <td>5093</td>\n",
       "      <td>48316</td>\n",
       "      <td>Audi</td>\n",
       "      <td>A3</td>\n",
       "      <td>1999</td>\n",
       "    </tr>\n",
       "    <tr>\n",
       "      <th>2</th>\n",
       "      <td>45</td>\n",
       "      <td>20</td>\n",
       "      <td>457562</td>\n",
       "      <td>13-01-2002</td>\n",
       "      <td>CT</td>\n",
       "      <td>100/300</td>\n",
       "      <td>929</td>\n",
       "      <td>1290</td>\n",
       "      <td>5629268</td>\n",
       "      <td>616164</td>\n",
       "      <td>...</td>\n",
       "      <td>0</td>\n",
       "      <td>2</td>\n",
       "      <td>No Police Report Available</td>\n",
       "      <td>32420</td>\n",
       "      <td>538</td>\n",
       "      <td>845</td>\n",
       "      <td>31037</td>\n",
       "      <td>Mercedes</td>\n",
       "      <td>E400</td>\n",
       "      <td>2014</td>\n",
       "    </tr>\n",
       "    <tr>\n",
       "      <th>3</th>\n",
       "      <td>49</td>\n",
       "      <td>67</td>\n",
       "      <td>471692</td>\n",
       "      <td>07-02-2012</td>\n",
       "      <td>CT</td>\n",
       "      <td>500/1000</td>\n",
       "      <td>699</td>\n",
       "      <td>970</td>\n",
       "      <td>18501194</td>\n",
       "      <td>445120</td>\n",
       "      <td>...</td>\n",
       "      <td>2</td>\n",
       "      <td>1</td>\n",
       "      <td>No Police Report Available</td>\n",
       "      <td>53780</td>\n",
       "      <td>7280</td>\n",
       "      <td>898</td>\n",
       "      <td>45602</td>\n",
       "      <td>Suburu</td>\n",
       "      <td>Legacy</td>\n",
       "      <td>2005</td>\n",
       "    </tr>\n",
       "    <tr>\n",
       "      <th>4</th>\n",
       "      <td>128</td>\n",
       "      <td>45</td>\n",
       "      <td>463009</td>\n",
       "      <td>18-06-2008</td>\n",
       "      <td>CT</td>\n",
       "      <td>100/300</td>\n",
       "      <td>1122</td>\n",
       "      <td>1384</td>\n",
       "      <td>16890664</td>\n",
       "      <td>442936</td>\n",
       "      <td>...</td>\n",
       "      <td>0</td>\n",
       "      <td>1</td>\n",
       "      <td>Police Report Available</td>\n",
       "      <td>94511</td>\n",
       "      <td>412</td>\n",
       "      <td>14545</td>\n",
       "      <td>79554</td>\n",
       "      <td>Ford</td>\n",
       "      <td>Escape</td>\n",
       "      <td>2013</td>\n",
       "    </tr>\n",
       "  </tbody>\n",
       "</table>\n",
       "<p>5 rows × 39 columns</p>\n",
       "</div>"
      ],
      "text/plain": [
       "   months_as_customer  customer_age policy_number policy_bind_date  \\\n",
       "0                 139            37        457069       17-08-2011   \n",
       "1                 292            52        429086       27-09-2010   \n",
       "2                  45            20        457562       13-01-2002   \n",
       "3                  49            67        471692       07-02-2012   \n",
       "4                 128            45        463009       18-06-2008   \n",
       "\n",
       "  policy_state policy_csl  policy_deductable  policy_annual_premium  \\\n",
       "0           CT    250/500               1351                   1589   \n",
       "1           CT    100/300               2216                   2669   \n",
       "2           CT    100/300                929                   1290   \n",
       "3           CT   500/1000                699                    970   \n",
       "4           CT    100/300               1122                   1384   \n",
       "\n",
       "   umbrella_limit insured_zip  ... bodily_injuries witnesses  \\\n",
       "0        16139812      609322  ...               0         3   \n",
       "1        15406514      438830  ...               1         2   \n",
       "2         5629268      616164  ...               0         2   \n",
       "3        18501194      445120  ...               2         1   \n",
       "4        16890664      442936  ...               0         1   \n",
       "\n",
       "      police_report_available total_claim_amount injury_claim  property_claim  \\\n",
       "0  No Police Report Available              48182          538           20189   \n",
       "1     Police Report Available              64579        11170            5093   \n",
       "2  No Police Report Available              32420          538             845   \n",
       "3  No Police Report Available              53780         7280             898   \n",
       "4     Police Report Available              94511          412           14545   \n",
       "\n",
       "   vehicle_claim auto_make auto_model auto_year  \n",
       "0          27455     Dodge       Neon      2005  \n",
       "1          48316      Audi         A3      1999  \n",
       "2          31037  Mercedes       E400      2014  \n",
       "3          45602    Suburu     Legacy      2005  \n",
       "4          79554      Ford     Escape      2013  \n",
       "\n",
       "[5 rows x 39 columns]"
      ]
     },
     "execution_count": 15,
     "metadata": {},
     "output_type": "execute_result"
    }
   ],
   "source": [
    "actual_inference.head()"
   ]
  },
  {
   "cell_type": "code",
   "execution_count": 16,
   "id": "5fa9b530",
   "metadata": {},
   "outputs": [],
   "source": [
    "# dropping columns which are not necessary for prediction\n",
    "\n",
    "to_drop = ['policy_number','policy_bind_date','policy_state','insured_zip','incident_location','incident_date',\n",
    "           'incident_state','incident_city','insured_hobbies','auto_make','auto_model','auto_year']\n",
    "\n",
    "df.drop(to_drop, inplace=True, axis=1)"
   ]
  },
  {
   "cell_type": "code",
   "execution_count": 17,
   "id": "f9e156ce-748d-4979-9dcc-c8c664cbcc31",
   "metadata": {},
   "outputs": [],
   "source": [
    "df['incident_hour_of_the_day'] = df['incident_hour_of_the_day'].astype(str).astype(int)"
   ]
  },
  {
   "cell_type": "code",
   "execution_count": 18,
   "id": "cc07f2f1-7103-4cef-b63a-71bb0cef5bae",
   "metadata": {},
   "outputs": [
    {
     "data": {
      "text/plain": [
       "dtype('int64')"
      ]
     },
     "execution_count": 18,
     "metadata": {},
     "output_type": "execute_result"
    }
   ],
   "source": [
    "df['incident_hour_of_the_day'].dtype"
   ]
  },
  {
   "cell_type": "code",
   "execution_count": 19,
   "id": "9b2aec4c",
   "metadata": {},
   "outputs": [],
   "source": [
    "# separating the feature and target columns\n",
    "\n",
    "X = df.drop('fraud_reported', axis = 1)\n",
    "y = df['fraud_reported']"
   ]
  },
  {
   "cell_type": "code",
   "execution_count": 20,
   "id": "6e41ff62",
   "metadata": {},
   "outputs": [],
   "source": [
    "# extracting categorical columns\n",
    "cat_df = X.select_dtypes(include = ['object'])"
   ]
  },
  {
   "cell_type": "code",
   "execution_count": 21,
   "id": "0b248b0d",
   "metadata": {
    "scrolled": true
   },
   "outputs": [
    {
     "data": {
      "text/plain": [
       "Index(['policy_csl', 'insured_sex', 'insured_education_level',\n",
       "       'insured_occupation', 'insured_relationship', 'incident_type',\n",
       "       'collision_type', 'incident_severity', 'authorities_contacted',\n",
       "       'incident_time_of_day', 'property_damage', 'police_report_available'],\n",
       "      dtype='object')"
      ]
     },
     "execution_count": 21,
     "metadata": {},
     "output_type": "execute_result"
    }
   ],
   "source": [
    "cat_df.columns"
   ]
  },
  {
   "cell_type": "code",
   "execution_count": 22,
   "id": "00bc0322",
   "metadata": {
    "scrolled": true
   },
   "outputs": [
    {
     "name": "stdout",
     "output_type": "stream",
     "text": [
      "policy_csl: \n",
      "['250/500' '100/300' '500/1000']\n",
      "\n",
      "insured_sex: \n",
      "['MALE' 'FEMALE']\n",
      "\n",
      "insured_education_level: \n",
      "['High School' 'MD' 'Masters' 'Associate' 'College' 'PhD' 'JD']\n",
      "\n",
      "insured_occupation: \n",
      "['handlers-cleaners' 'armed-forces' 'prof-specialty' 'sales'\n",
      " 'machine-op-inspct' 'priv-house-serv' 'adm-clerical' 'exec-managerial'\n",
      " 'tech-support' 'farming-fishing' 'craft-repair' 'transport-moving'\n",
      " 'protective-serv' 'other-service']\n",
      "\n",
      "insured_relationship: \n",
      "['wife' 'unmarried' 'other-relative' 'husband' 'own-child' 'not-in-family']\n",
      "\n",
      "incident_type: \n",
      "['Single Vehicle Collision' 'Parked Car' 'Multi-vehicle Collision'\n",
      " 'Vehicle Theft']\n",
      "\n",
      "collision_type: \n",
      "['Front Collision' 'Rear Collision' 'Side Collision'\n",
      " 'Details not Available']\n",
      "\n",
      "incident_severity: \n",
      "['Minor Damage' 'Major Damage' 'Total Loss']\n",
      "\n",
      "authorities_contacted: \n",
      "['Ambulance' 'Other' 'None' 'Police' 'Fire']\n",
      "\n",
      "incident_time_of_day: \n",
      "['Morning to Noon' 'Night Time' 'Afternoon Hours' 'Early Morning Hours']\n",
      "\n",
      "property_damage: \n",
      "['Property Damage' 'Details not Available' 'No Property Damage']\n",
      "\n",
      "police_report_available: \n",
      "['No Police Report Available' 'Police Report Available' 'Unknown']\n",
      "\n"
     ]
    }
   ],
   "source": [
    "# printing unique values of each column\n",
    "for col in cat_df.columns:\n",
    "    print(f\"{col}: \\n{cat_df[col].unique()}\\n\")"
   ]
  },
  {
   "cell_type": "code",
   "execution_count": 23,
   "id": "0c7476d4-0dcf-4349-a685-7676b9edcee5",
   "metadata": {},
   "outputs": [
    {
     "name": "stdout",
     "output_type": "stream",
     "text": [
      "<class 'pandas.core.frame.DataFrame'>\n",
      "RangeIndex: 232025 entries, 0 to 232024\n",
      "Data columns (total 28 columns):\n",
      " #   Column                       Non-Null Count   Dtype \n",
      "---  ------                       --------------   ----- \n",
      " 0   months_as_customer           232025 non-null  int16 \n",
      " 1   customer_age                 232025 non-null  int8  \n",
      " 2   policy_csl                   232025 non-null  object\n",
      " 3   policy_deductable            232025 non-null  int16 \n",
      " 4   policy_annual_premium        232025 non-null  int16 \n",
      " 5   umbrella_limit               232025 non-null  int32 \n",
      " 6   insured_sex                  232025 non-null  object\n",
      " 7   insured_education_level      232025 non-null  object\n",
      " 8   insured_occupation           232025 non-null  object\n",
      " 9   insured_relationship         232025 non-null  object\n",
      " 10  capital_gains                232025 non-null  int32 \n",
      " 11  capital_loss                 232025 non-null  int32 \n",
      " 12  incident_type                232025 non-null  object\n",
      " 13  collision_type               232025 non-null  object\n",
      " 14  incident_severity            232025 non-null  object\n",
      " 15  authorities_contacted        232025 non-null  object\n",
      " 16  incident_hour_of_the_day     232025 non-null  int64 \n",
      " 17  incident_time_of_day         232025 non-null  object\n",
      " 18  number_of_vehicles_involved  232025 non-null  int8  \n",
      " 19  property_damage              232025 non-null  object\n",
      " 20  bodily_injuries              232025 non-null  int8  \n",
      " 21  witnesses                    232025 non-null  int8  \n",
      " 22  police_report_available      232025 non-null  object\n",
      " 23  total_claim_amount           232025 non-null  int32 \n",
      " 24  injury_claim                 232025 non-null  int16 \n",
      " 25  property_claim               232025 non-null  int16 \n",
      " 26  vehicle_claim                232025 non-null  int32 \n",
      " 27  fraud_reported               232025 non-null  object\n",
      "dtypes: int16(5), int32(5), int64(1), int8(4), object(13)\n",
      "memory usage: 32.3+ MB\n"
     ]
    }
   ],
   "source": [
    "df.info()"
   ]
  },
  {
   "cell_type": "code",
   "execution_count": 24,
   "id": "44eeac43",
   "metadata": {},
   "outputs": [],
   "source": [
    "cat_df = pd.get_dummies(cat_df, drop_first = True)"
   ]
  },
  {
   "cell_type": "code",
   "execution_count": 25,
   "id": "ff74a5da",
   "metadata": {},
   "outputs": [],
   "source": [
    "num_df = df.select_dtypes(include = ['int16','int8','int32','float64','int64'])"
   ]
  },
  {
   "cell_type": "code",
   "execution_count": 26,
   "id": "91f64b39",
   "metadata": {
    "scrolled": true
   },
   "outputs": [
    {
     "data": {
      "text/plain": [
       "Index(['months_as_customer', 'customer_age', 'policy_deductable',\n",
       "       'policy_annual_premium', 'umbrella_limit', 'capital_gains',\n",
       "       'capital_loss', 'incident_hour_of_the_day',\n",
       "       'number_of_vehicles_involved', 'bodily_injuries', 'witnesses',\n",
       "       'total_claim_amount', 'injury_claim', 'property_claim',\n",
       "       'vehicle_claim'],\n",
       "      dtype='object')"
      ]
     },
     "execution_count": 26,
     "metadata": {},
     "output_type": "execute_result"
    }
   ],
   "source": [
    "num_df.columns"
   ]
  },
  {
   "cell_type": "code",
   "execution_count": 27,
   "id": "136ff93c-14fd-4d02-bad7-b9626f01e4b9",
   "metadata": {},
   "outputs": [
    {
     "data": {
      "text/plain": [
       "Index(['policy_csl_250/500', 'policy_csl_500/1000', 'insured_sex_MALE',\n",
       "       'insured_education_level_College',\n",
       "       'insured_education_level_High School', 'insured_education_level_JD',\n",
       "       'insured_education_level_MD', 'insured_education_level_Masters',\n",
       "       'insured_education_level_PhD', 'insured_occupation_armed-forces',\n",
       "       'insured_occupation_craft-repair', 'insured_occupation_exec-managerial',\n",
       "       'insured_occupation_farming-fishing',\n",
       "       'insured_occupation_handlers-cleaners',\n",
       "       'insured_occupation_machine-op-inspct',\n",
       "       'insured_occupation_other-service',\n",
       "       'insured_occupation_priv-house-serv',\n",
       "       'insured_occupation_prof-specialty',\n",
       "       'insured_occupation_protective-serv', 'insured_occupation_sales',\n",
       "       'insured_occupation_tech-support',\n",
       "       'insured_occupation_transport-moving',\n",
       "       'insured_relationship_not-in-family',\n",
       "       'insured_relationship_other-relative', 'insured_relationship_own-child',\n",
       "       'insured_relationship_unmarried', 'insured_relationship_wife',\n",
       "       'incident_type_Parked Car', 'incident_type_Single Vehicle Collision',\n",
       "       'incident_type_Vehicle Theft', 'collision_type_Front Collision',\n",
       "       'collision_type_Rear Collision', 'collision_type_Side Collision',\n",
       "       'incident_severity_Minor Damage', 'incident_severity_Total Loss',\n",
       "       'authorities_contacted_Fire', 'authorities_contacted_None',\n",
       "       'authorities_contacted_Other', 'authorities_contacted_Police',\n",
       "       'incident_time_of_day_Early Morning Hours',\n",
       "       'incident_time_of_day_Morning to Noon',\n",
       "       'incident_time_of_day_Night Time', 'property_damage_No Property Damage',\n",
       "       'property_damage_Property Damage',\n",
       "       'police_report_available_Police Report Available',\n",
       "       'police_report_available_Unknown'],\n",
       "      dtype='object')"
      ]
     },
     "execution_count": 27,
     "metadata": {},
     "output_type": "execute_result"
    }
   ],
   "source": [
    "cat_df.columns"
   ]
  },
  {
   "cell_type": "code",
   "execution_count": 28,
   "id": "5fd84c4c",
   "metadata": {},
   "outputs": [],
   "source": [
    "# combining the Numerical and Categorical dataframes to get the final dataset\n",
    "X = pd.concat([num_df, cat_df], axis = 1)"
   ]
  },
  {
   "cell_type": "code",
   "execution_count": 29,
   "id": "d6092193-81fa-47e3-9170-b6a2ae5dc2bf",
   "metadata": {},
   "outputs": [],
   "source": [
    "X.columns = X.columns.str.replace('/', '_')\n",
    "X.columns = X.columns.str.replace(' ', '_')\n",
    "X.columns = X.columns.str.replace('-', '_')"
   ]
  },
  {
   "cell_type": "code",
   "execution_count": 30,
   "id": "e5dc17e2",
   "metadata": {},
   "outputs": [],
   "source": [
    "# splitting data into training set and test set\n",
    "from sklearn.model_selection import train_test_split\n",
    "\n",
    "X_train, X_test, y_train, y_test = train_test_split(X, y, test_size = 0.25)"
   ]
  },
  {
   "cell_type": "code",
   "execution_count": 31,
   "id": "36da7ae2",
   "metadata": {},
   "outputs": [],
   "source": [
    "num_df = X_train[['months_as_customer', 'policy_deductable', 'umbrella_limit',\n",
    "       'capital_gains', 'capital_loss', 'incident_hour_of_the_day',\n",
    "       'number_of_vehicles_involved', 'bodily_injuries', 'witnesses', 'injury_claim', 'property_claim',\n",
    "       'vehicle_claim']]"
   ]
  },
  {
   "cell_type": "code",
   "execution_count": 32,
   "id": "4f94a7d3",
   "metadata": {},
   "outputs": [],
   "source": [
    "num_df_test = X_test[['months_as_customer', 'policy_deductable', 'umbrella_limit',\n",
    "       'capital_gains', 'capital_loss', 'incident_hour_of_the_day',\n",
    "       'number_of_vehicles_involved', 'bodily_injuries', 'witnesses', 'injury_claim', 'property_claim',\n",
    "       'vehicle_claim']]"
   ]
  },
  {
   "cell_type": "code",
   "execution_count": 33,
   "id": "4eac05ce",
   "metadata": {},
   "outputs": [],
   "source": [
    "# Scaling the numeric values in the dataset\n",
    "from sklearn.preprocessing import StandardScaler\n",
    "\n",
    "scaler = StandardScaler()\n",
    "scaled_data = scaler.fit_transform(num_df)"
   ]
  },
  {
   "cell_type": "code",
   "execution_count": 34,
   "id": "dd265d84",
   "metadata": {},
   "outputs": [],
   "source": [
    "scaled_data_test = scaler.transform(num_df_test)"
   ]
  },
  {
   "cell_type": "code",
   "execution_count": 35,
   "id": "fc7b669b",
   "metadata": {
    "scrolled": true
   },
   "outputs": [
    {
     "data": {
      "text/html": [
       "<div>\n",
       "<style scoped>\n",
       "    .dataframe tbody tr th:only-of-type {\n",
       "        vertical-align: middle;\n",
       "    }\n",
       "\n",
       "    .dataframe tbody tr th {\n",
       "        vertical-align: top;\n",
       "    }\n",
       "\n",
       "    .dataframe thead th {\n",
       "        text-align: right;\n",
       "    }\n",
       "</style>\n",
       "<table border=\"1\" class=\"dataframe\">\n",
       "  <thead>\n",
       "    <tr style=\"text-align: right;\">\n",
       "      <th></th>\n",
       "      <th>months_as_customer</th>\n",
       "      <th>policy_deductable</th>\n",
       "      <th>umbrella_limit</th>\n",
       "      <th>capital_gains</th>\n",
       "      <th>capital_loss</th>\n",
       "      <th>incident_hour_of_the_day</th>\n",
       "      <th>number_of_vehicles_involved</th>\n",
       "      <th>bodily_injuries</th>\n",
       "      <th>witnesses</th>\n",
       "      <th>injury_claim</th>\n",
       "      <th>property_claim</th>\n",
       "      <th>vehicle_claim</th>\n",
       "    </tr>\n",
       "  </thead>\n",
       "  <tbody>\n",
       "    <tr>\n",
       "      <th>39504</th>\n",
       "      <td>0.944739</td>\n",
       "      <td>-0.449266</td>\n",
       "      <td>1.011348</td>\n",
       "      <td>1.416752</td>\n",
       "      <td>-1.469583</td>\n",
       "      <td>0.846248</td>\n",
       "      <td>0.748264</td>\n",
       "      <td>1.226661</td>\n",
       "      <td>-0.450491</td>\n",
       "      <td>0.887490</td>\n",
       "      <td>-0.961795</td>\n",
       "      <td>0.549074</td>\n",
       "    </tr>\n",
       "    <tr>\n",
       "      <th>58451</th>\n",
       "      <td>-0.536010</td>\n",
       "      <td>1.407415</td>\n",
       "      <td>-0.473157</td>\n",
       "      <td>1.257006</td>\n",
       "      <td>0.340418</td>\n",
       "      <td>-0.861121</td>\n",
       "      <td>-0.678195</td>\n",
       "      <td>0.002539</td>\n",
       "      <td>1.340891</td>\n",
       "      <td>0.543041</td>\n",
       "      <td>1.156190</td>\n",
       "      <td>-0.543485</td>\n",
       "    </tr>\n",
       "    <tr>\n",
       "      <th>92217</th>\n",
       "      <td>1.449291</td>\n",
       "      <td>0.450093</td>\n",
       "      <td>1.045881</td>\n",
       "      <td>1.121061</td>\n",
       "      <td>-0.634188</td>\n",
       "      <td>-0.348910</td>\n",
       "      <td>2.174724</td>\n",
       "      <td>-1.221582</td>\n",
       "      <td>-1.346182</td>\n",
       "      <td>-1.028705</td>\n",
       "      <td>2.156032</td>\n",
       "      <td>-0.388079</td>\n",
       "    </tr>\n",
       "    <tr>\n",
       "      <th>35705</th>\n",
       "      <td>0.209849</td>\n",
       "      <td>-1.569257</td>\n",
       "      <td>-0.086327</td>\n",
       "      <td>0.303659</td>\n",
       "      <td>-1.516100</td>\n",
       "      <td>-2.568489</td>\n",
       "      <td>-0.678195</td>\n",
       "      <td>0.002539</td>\n",
       "      <td>-1.346182</td>\n",
       "      <td>-0.367895</td>\n",
       "      <td>1.330972</td>\n",
       "      <td>-0.042845</td>\n",
       "    </tr>\n",
       "    <tr>\n",
       "      <th>231420</th>\n",
       "      <td>-0.568915</td>\n",
       "      <td>1.366280</td>\n",
       "      <td>0.452609</td>\n",
       "      <td>0.421654</td>\n",
       "      <td>-0.468113</td>\n",
       "      <td>1.358459</td>\n",
       "      <td>0.748264</td>\n",
       "      <td>0.002539</td>\n",
       "      <td>-1.346182</td>\n",
       "      <td>1.767265</td>\n",
       "      <td>0.070612</td>\n",
       "      <td>0.183953</td>\n",
       "    </tr>\n",
       "  </tbody>\n",
       "</table>\n",
       "</div>"
      ],
      "text/plain": [
       "        months_as_customer  policy_deductable  umbrella_limit  capital_gains  \\\n",
       "39504             0.944739          -0.449266        1.011348       1.416752   \n",
       "58451            -0.536010           1.407415       -0.473157       1.257006   \n",
       "92217             1.449291           0.450093        1.045881       1.121061   \n",
       "35705             0.209849          -1.569257       -0.086327       0.303659   \n",
       "231420           -0.568915           1.366280        0.452609       0.421654   \n",
       "\n",
       "        capital_loss  incident_hour_of_the_day  number_of_vehicles_involved  \\\n",
       "39504      -1.469583                  0.846248                     0.748264   \n",
       "58451       0.340418                 -0.861121                    -0.678195   \n",
       "92217      -0.634188                 -0.348910                     2.174724   \n",
       "35705      -1.516100                 -2.568489                    -0.678195   \n",
       "231420     -0.468113                  1.358459                     0.748264   \n",
       "\n",
       "        bodily_injuries  witnesses  injury_claim  property_claim  \\\n",
       "39504          1.226661  -0.450491      0.887490       -0.961795   \n",
       "58451          0.002539   1.340891      0.543041        1.156190   \n",
       "92217         -1.221582  -1.346182     -1.028705        2.156032   \n",
       "35705          0.002539  -1.346182     -0.367895        1.330972   \n",
       "231420         0.002539  -1.346182      1.767265        0.070612   \n",
       "\n",
       "        vehicle_claim  \n",
       "39504        0.549074  \n",
       "58451       -0.543485  \n",
       "92217       -0.388079  \n",
       "35705       -0.042845  \n",
       "231420       0.183953  "
      ]
     },
     "execution_count": 35,
     "metadata": {},
     "output_type": "execute_result"
    }
   ],
   "source": [
    "scaled_num_df = pd.DataFrame(data = scaled_data, columns = num_df.columns, index = X_train.index)\n",
    "scaled_num_df.head()"
   ]
  },
  {
   "cell_type": "code",
   "execution_count": 36,
   "id": "2c749cfd",
   "metadata": {},
   "outputs": [
    {
     "data": {
      "text/html": [
       "<div>\n",
       "<style scoped>\n",
       "    .dataframe tbody tr th:only-of-type {\n",
       "        vertical-align: middle;\n",
       "    }\n",
       "\n",
       "    .dataframe tbody tr th {\n",
       "        vertical-align: top;\n",
       "    }\n",
       "\n",
       "    .dataframe thead th {\n",
       "        text-align: right;\n",
       "    }\n",
       "</style>\n",
       "<table border=\"1\" class=\"dataframe\">\n",
       "  <thead>\n",
       "    <tr style=\"text-align: right;\">\n",
       "      <th></th>\n",
       "      <th>months_as_customer</th>\n",
       "      <th>policy_deductable</th>\n",
       "      <th>umbrella_limit</th>\n",
       "      <th>capital_gains</th>\n",
       "      <th>capital_loss</th>\n",
       "      <th>incident_hour_of_the_day</th>\n",
       "      <th>number_of_vehicles_involved</th>\n",
       "      <th>bodily_injuries</th>\n",
       "      <th>witnesses</th>\n",
       "      <th>injury_claim</th>\n",
       "      <th>property_claim</th>\n",
       "      <th>vehicle_claim</th>\n",
       "    </tr>\n",
       "  </thead>\n",
       "  <tbody>\n",
       "    <tr>\n",
       "      <th>12308</th>\n",
       "      <td>-1.161215</td>\n",
       "      <td>0.279944</td>\n",
       "      <td>0.171792</td>\n",
       "      <td>-0.090956</td>\n",
       "      <td>-1.537397</td>\n",
       "      <td>1.187722</td>\n",
       "      <td>0.748264</td>\n",
       "      <td>-1.221582</td>\n",
       "      <td>-0.450491</td>\n",
       "      <td>-1.030801</td>\n",
       "      <td>-0.466199</td>\n",
       "      <td>1.958182</td>\n",
       "    </tr>\n",
       "    <tr>\n",
       "      <th>2131</th>\n",
       "      <td>-1.237994</td>\n",
       "      <td>0.006958</td>\n",
       "      <td>1.224716</td>\n",
       "      <td>-1.334468</td>\n",
       "      <td>-1.010198</td>\n",
       "      <td>-1.202594</td>\n",
       "      <td>-0.678195</td>\n",
       "      <td>0.002539</td>\n",
       "      <td>-0.450491</td>\n",
       "      <td>1.172550</td>\n",
       "      <td>-0.948693</td>\n",
       "      <td>1.557237</td>\n",
       "    </tr>\n",
       "    <tr>\n",
       "      <th>13195</th>\n",
       "      <td>0.089195</td>\n",
       "      <td>1.358801</td>\n",
       "      <td>0.468307</td>\n",
       "      <td>0.202206</td>\n",
       "      <td>0.595308</td>\n",
       "      <td>1.358459</td>\n",
       "      <td>0.748264</td>\n",
       "      <td>1.226661</td>\n",
       "      <td>-1.346182</td>\n",
       "      <td>-0.064110</td>\n",
       "      <td>0.293350</td>\n",
       "      <td>-1.126926</td>\n",
       "    </tr>\n",
       "    <tr>\n",
       "      <th>86590</th>\n",
       "      <td>1.054424</td>\n",
       "      <td>-1.402848</td>\n",
       "      <td>-1.758848</td>\n",
       "      <td>0.993712</td>\n",
       "      <td>1.407002</td>\n",
       "      <td>1.358459</td>\n",
       "      <td>-0.678195</td>\n",
       "      <td>-1.221582</td>\n",
       "      <td>-0.450491</td>\n",
       "      <td>-1.002295</td>\n",
       "      <td>-0.961413</td>\n",
       "      <td>-1.135085</td>\n",
       "    </tr>\n",
       "    <tr>\n",
       "      <th>130719</th>\n",
       "      <td>-0.294702</td>\n",
       "      <td>1.310187</td>\n",
       "      <td>0.143353</td>\n",
       "      <td>0.185520</td>\n",
       "      <td>1.520488</td>\n",
       "      <td>0.675511</td>\n",
       "      <td>2.174724</td>\n",
       "      <td>-1.221582</td>\n",
       "      <td>-0.450491</td>\n",
       "      <td>-1.019343</td>\n",
       "      <td>0.754473</td>\n",
       "      <td>-0.076693</td>\n",
       "    </tr>\n",
       "  </tbody>\n",
       "</table>\n",
       "</div>"
      ],
      "text/plain": [
       "        months_as_customer  policy_deductable  umbrella_limit  capital_gains  \\\n",
       "12308            -1.161215           0.279944        0.171792      -0.090956   \n",
       "2131             -1.237994           0.006958        1.224716      -1.334468   \n",
       "13195             0.089195           1.358801        0.468307       0.202206   \n",
       "86590             1.054424          -1.402848       -1.758848       0.993712   \n",
       "130719           -0.294702           1.310187        0.143353       0.185520   \n",
       "\n",
       "        capital_loss  incident_hour_of_the_day  number_of_vehicles_involved  \\\n",
       "12308      -1.537397                  1.187722                     0.748264   \n",
       "2131       -1.010198                 -1.202594                    -0.678195   \n",
       "13195       0.595308                  1.358459                     0.748264   \n",
       "86590       1.407002                  1.358459                    -0.678195   \n",
       "130719      1.520488                  0.675511                     2.174724   \n",
       "\n",
       "        bodily_injuries  witnesses  injury_claim  property_claim  \\\n",
       "12308         -1.221582  -0.450491     -1.030801       -0.466199   \n",
       "2131           0.002539  -0.450491      1.172550       -0.948693   \n",
       "13195          1.226661  -1.346182     -0.064110        0.293350   \n",
       "86590         -1.221582  -0.450491     -1.002295       -0.961413   \n",
       "130719        -1.221582  -0.450491     -1.019343        0.754473   \n",
       "\n",
       "        vehicle_claim  \n",
       "12308        1.958182  \n",
       "2131         1.557237  \n",
       "13195       -1.126926  \n",
       "86590       -1.135085  \n",
       "130719      -0.076693  "
      ]
     },
     "execution_count": 36,
     "metadata": {},
     "output_type": "execute_result"
    }
   ],
   "source": [
    "scaled_num_df_test = pd.DataFrame(data = scaled_data_test, columns = num_df_test.columns, index = X_test.index)\n",
    "scaled_num_df_test.head()"
   ]
  },
  {
   "cell_type": "code",
   "execution_count": 37,
   "id": "279e8a95",
   "metadata": {},
   "outputs": [],
   "source": [
    "X_train.drop(columns = scaled_num_df.columns, inplace = True)"
   ]
  },
  {
   "cell_type": "code",
   "execution_count": 38,
   "id": "c3f18e4c",
   "metadata": {},
   "outputs": [],
   "source": [
    "X_train = pd.concat([scaled_num_df, X_train], axis = 1)"
   ]
  },
  {
   "cell_type": "code",
   "execution_count": 39,
   "id": "11159f53",
   "metadata": {},
   "outputs": [],
   "source": [
    "X_test.drop(columns = scaled_num_df_test.columns, inplace = True)"
   ]
  },
  {
   "cell_type": "code",
   "execution_count": 40,
   "id": "6899602c",
   "metadata": {},
   "outputs": [],
   "source": [
    "X_test = pd.concat([scaled_num_df_test, X_test], axis = 1)"
   ]
  },
  {
   "cell_type": "markdown",
   "id": "3e398039",
   "metadata": {},
   "source": [
    "# Decision Tree"
   ]
  },
  {
   "cell_type": "code",
   "execution_count": 41,
   "id": "c47dde4e",
   "metadata": {},
   "outputs": [
    {
     "data": {
      "text/html": [
       "<style>#sk-container-id-1 {color: black;}#sk-container-id-1 pre{padding: 0;}#sk-container-id-1 div.sk-toggleable {background-color: white;}#sk-container-id-1 label.sk-toggleable__label {cursor: pointer;display: block;width: 100%;margin-bottom: 0;padding: 0.3em;box-sizing: border-box;text-align: center;}#sk-container-id-1 label.sk-toggleable__label-arrow:before {content: \"▸\";float: left;margin-right: 0.25em;color: #696969;}#sk-container-id-1 label.sk-toggleable__label-arrow:hover:before {color: black;}#sk-container-id-1 div.sk-estimator:hover label.sk-toggleable__label-arrow:before {color: black;}#sk-container-id-1 div.sk-toggleable__content {max-height: 0;max-width: 0;overflow: hidden;text-align: left;background-color: #f0f8ff;}#sk-container-id-1 div.sk-toggleable__content pre {margin: 0.2em;color: black;border-radius: 0.25em;background-color: #f0f8ff;}#sk-container-id-1 input.sk-toggleable__control:checked~div.sk-toggleable__content {max-height: 200px;max-width: 100%;overflow: auto;}#sk-container-id-1 input.sk-toggleable__control:checked~label.sk-toggleable__label-arrow:before {content: \"▾\";}#sk-container-id-1 div.sk-estimator input.sk-toggleable__control:checked~label.sk-toggleable__label {background-color: #d4ebff;}#sk-container-id-1 div.sk-label input.sk-toggleable__control:checked~label.sk-toggleable__label {background-color: #d4ebff;}#sk-container-id-1 input.sk-hidden--visually {border: 0;clip: rect(1px 1px 1px 1px);clip: rect(1px, 1px, 1px, 1px);height: 1px;margin: -1px;overflow: hidden;padding: 0;position: absolute;width: 1px;}#sk-container-id-1 div.sk-estimator {font-family: monospace;background-color: #f0f8ff;border: 1px dotted black;border-radius: 0.25em;box-sizing: border-box;margin-bottom: 0.5em;}#sk-container-id-1 div.sk-estimator:hover {background-color: #d4ebff;}#sk-container-id-1 div.sk-parallel-item::after {content: \"\";width: 100%;border-bottom: 1px solid gray;flex-grow: 1;}#sk-container-id-1 div.sk-label:hover label.sk-toggleable__label {background-color: #d4ebff;}#sk-container-id-1 div.sk-serial::before {content: \"\";position: absolute;border-left: 1px solid gray;box-sizing: border-box;top: 0;bottom: 0;left: 50%;z-index: 0;}#sk-container-id-1 div.sk-serial {display: flex;flex-direction: column;align-items: center;background-color: white;padding-right: 0.2em;padding-left: 0.2em;position: relative;}#sk-container-id-1 div.sk-item {position: relative;z-index: 1;}#sk-container-id-1 div.sk-parallel {display: flex;align-items: stretch;justify-content: center;background-color: white;position: relative;}#sk-container-id-1 div.sk-item::before, #sk-container-id-1 div.sk-parallel-item::before {content: \"\";position: absolute;border-left: 1px solid gray;box-sizing: border-box;top: 0;bottom: 0;left: 50%;z-index: -1;}#sk-container-id-1 div.sk-parallel-item {display: flex;flex-direction: column;z-index: 1;position: relative;background-color: white;}#sk-container-id-1 div.sk-parallel-item:first-child::after {align-self: flex-end;width: 50%;}#sk-container-id-1 div.sk-parallel-item:last-child::after {align-self: flex-start;width: 50%;}#sk-container-id-1 div.sk-parallel-item:only-child::after {width: 0;}#sk-container-id-1 div.sk-dashed-wrapped {border: 1px dashed gray;margin: 0 0.4em 0.5em 0.4em;box-sizing: border-box;padding-bottom: 0.4em;background-color: white;}#sk-container-id-1 div.sk-label label {font-family: monospace;font-weight: bold;display: inline-block;line-height: 1.2em;}#sk-container-id-1 div.sk-label-container {text-align: center;}#sk-container-id-1 div.sk-container {/* jupyter's `normalize.less` sets `[hidden] { display: none; }` but bootstrap.min.css set `[hidden] { display: none !important; }` so we also need the `!important` here to be able to override the default hidden behavior on the sphinx rendered scikit-learn.org. See: https://github.com/scikit-learn/scikit-learn/issues/21755 */display: inline-block !important;position: relative;}#sk-container-id-1 div.sk-text-repr-fallback {display: none;}</style><div id=\"sk-container-id-1\" class=\"sk-top-container\"><div class=\"sk-text-repr-fallback\"><pre>DecisionTreeClassifier()</pre><b>In a Jupyter environment, please rerun this cell to show the HTML representation or trust the notebook. <br />On GitHub, the HTML representation is unable to render, please try loading this page with nbviewer.org.</b></div><div class=\"sk-container\" hidden><div class=\"sk-item\"><div class=\"sk-estimator sk-toggleable\"><input class=\"sk-toggleable__control sk-hidden--visually\" id=\"sk-estimator-id-1\" type=\"checkbox\" checked><label for=\"sk-estimator-id-1\" class=\"sk-toggleable__label sk-toggleable__label-arrow\">DecisionTreeClassifier</label><div class=\"sk-toggleable__content\"><pre>DecisionTreeClassifier()</pre></div></div></div></div></div>"
      ],
      "text/plain": [
       "DecisionTreeClassifier()"
      ]
     },
     "execution_count": 41,
     "metadata": {},
     "output_type": "execute_result"
    }
   ],
   "source": [
    "#from sklearn.tree import DecisionTreeClassifier\n",
    "dtc = DecisionTreeClassifier()\n",
    "dtc.fit(X_train, y_train)"
   ]
  },
  {
   "cell_type": "code",
   "execution_count": 42,
   "id": "797d22a1",
   "metadata": {},
   "outputs": [],
   "source": [
    "y_pred = dtc.predict(X_test)"
   ]
  },
  {
   "cell_type": "code",
   "execution_count": 43,
   "id": "9b41528c",
   "metadata": {
    "scrolled": true
   },
   "outputs": [
    {
     "name": "stdout",
     "output_type": "stream",
     "text": [
      "Training accuracy of Decision Tree is : 1.0\n",
      "Test accuracy of Decision Tree is : 0.9940352026479563\n",
      "[[ 8540   138]\n",
      " [  208 49121]]\n",
      "                   precision    recall  f1-score   support\n",
      "\n",
      "   Fraud Reported       0.98      0.98      0.98      8678\n",
      "No Fraud Reported       1.00      1.00      1.00     49329\n",
      "\n",
      "         accuracy                           0.99     58007\n",
      "        macro avg       0.99      0.99      0.99     58007\n",
      "     weighted avg       0.99      0.99      0.99     58007\n",
      "\n"
     ]
    }
   ],
   "source": [
    "dtc_train_acc = accuracy_score(y_train, dtc.predict(X_train))\n",
    "dtc_test_acc = accuracy_score(y_test, y_pred)\n",
    "\n",
    "print(f\"Training accuracy of Decision Tree is : {dtc_train_acc}\")\n",
    "print(f\"Test accuracy of Decision Tree is : {dtc_test_acc}\")\n",
    "\n",
    "print(confusion_matrix(y_test, y_pred))\n",
    "print(classification_report(y_test, y_pred))"
   ]
  },
  {
   "cell_type": "code",
   "execution_count": 44,
   "id": "cdc19f62",
   "metadata": {},
   "outputs": [],
   "source": [
    "from fosforml import register_model"
   ]
  },
  {
   "cell_type": "code",
   "execution_count": 45,
   "id": "9fc34952-2414-409d-80f4-ec13769c8bb2",
   "metadata": {},
   "outputs": [
    {
     "data": {
      "text/plain": [
       "Index(['months_as_customer', 'customer_age', 'policy_deductable',\n",
       "       'policy_annual_premium', 'umbrella_limit', 'capital_gains',\n",
       "       'capital_loss', 'incident_hour_of_the_day',\n",
       "       'number_of_vehicles_involved', 'bodily_injuries', 'witnesses',\n",
       "       'total_claim_amount', 'injury_claim', 'property_claim', 'vehicle_claim',\n",
       "       'policy_csl_250_500', 'policy_csl_500_1000', 'insured_sex_MALE',\n",
       "       'insured_education_level_College',\n",
       "       'insured_education_level_High_School', 'insured_education_level_JD',\n",
       "       'insured_education_level_MD', 'insured_education_level_Masters',\n",
       "       'insured_education_level_PhD', 'insured_occupation_armed_forces',\n",
       "       'insured_occupation_craft_repair', 'insured_occupation_exec_managerial',\n",
       "       'insured_occupation_farming_fishing',\n",
       "       'insured_occupation_handlers_cleaners',\n",
       "       'insured_occupation_machine_op_inspct',\n",
       "       'insured_occupation_other_service',\n",
       "       'insured_occupation_priv_house_serv',\n",
       "       'insured_occupation_prof_specialty',\n",
       "       'insured_occupation_protective_serv', 'insured_occupation_sales',\n",
       "       'insured_occupation_tech_support',\n",
       "       'insured_occupation_transport_moving',\n",
       "       'insured_relationship_not_in_family',\n",
       "       'insured_relationship_other_relative', 'insured_relationship_own_child',\n",
       "       'insured_relationship_unmarried', 'insured_relationship_wife',\n",
       "       'incident_type_Parked_Car', 'incident_type_Single_Vehicle_Collision',\n",
       "       'incident_type_Vehicle_Theft', 'collision_type_Front_Collision',\n",
       "       'collision_type_Rear_Collision', 'collision_type_Side_Collision',\n",
       "       'incident_severity_Minor_Damage', 'incident_severity_Total_Loss',\n",
       "       'authorities_contacted_Fire', 'authorities_contacted_None',\n",
       "       'authorities_contacted_Other', 'authorities_contacted_Police',\n",
       "       'incident_time_of_day_Early_Morning_Hours',\n",
       "       'incident_time_of_day_Morning_to_Noon',\n",
       "       'incident_time_of_day_Night_Time', 'property_damage_No_Property_Damage',\n",
       "       'property_damage_Property_Damage',\n",
       "       'police_report_available_Police_Report_Available',\n",
       "       'police_report_available_Unknown'],\n",
       "      dtype='object')"
      ]
     },
     "execution_count": 45,
     "metadata": {},
     "output_type": "execute_result"
    }
   ],
   "source": [
    "X.columns"
   ]
  },
  {
   "cell_type": "code",
   "execution_count": 46,
   "id": "b4c7ecef-3acc-4bc3-8759-c67cabe00254",
   "metadata": {},
   "outputs": [],
   "source": [
    "y_pred_series = pd.Series(y_pred)"
   ]
  },
  {
   "cell_type": "code",
   "execution_count": 47,
   "id": "a596ae9b-61fc-4cc8-b354-78d26422432e",
   "metadata": {},
   "outputs": [
    {
     "data": {
      "text/plain": [
       "array(['No Fraud Reported', 'No Fraud Reported', 'No Fraud Reported', ...,\n",
       "       'No Fraud Reported', 'No Fraud Reported', 'No Fraud Reported'],\n",
       "      dtype=object)"
      ]
     },
     "execution_count": 47,
     "metadata": {},
     "output_type": "execute_result"
    }
   ],
   "source": [
    "y_pred"
   ]
  },
  {
   "cell_type": "code",
   "execution_count": 48,
   "id": "f89b0cb1-e96f-498d-abed-4c1c40403419",
   "metadata": {},
   "outputs": [
    {
     "data": {
      "text/plain": [
       "0        No Fraud Reported\n",
       "1        No Fraud Reported\n",
       "2        No Fraud Reported\n",
       "3        No Fraud Reported\n",
       "4        No Fraud Reported\n",
       "               ...        \n",
       "58002       Fraud Reported\n",
       "58003       Fraud Reported\n",
       "58004    No Fraud Reported\n",
       "58005    No Fraud Reported\n",
       "58006    No Fraud Reported\n",
       "Length: 58007, dtype: object"
      ]
     },
     "execution_count": 48,
     "metadata": {},
     "output_type": "execute_result"
    }
   ],
   "source": [
    "y_pred_series"
   ]
  },
  {
   "cell_type": "code",
   "execution_count": 49,
   "id": "0dbb411d-a9f2-4cce-8387-f7c8f4f5604c",
   "metadata": {},
   "outputs": [
    {
     "data": {
      "text/plain": [
       "(pandas.core.frame.DataFrame,\n",
       " pandas.core.series.Series,\n",
       " pandas.core.series.Series)"
      ]
     },
     "execution_count": 49,
     "metadata": {},
     "output_type": "execute_result"
    }
   ],
   "source": [
    "type(X_train), type(y_train), type(y_pred_series)"
   ]
  },
  {
   "cell_type": "code",
   "execution_count": 50,
   "id": "6296db2c-c053-423c-8dcf-425e7c8bd5dd",
   "metadata": {},
   "outputs": [
    {
     "data": {
      "text/plain": [
       "RangeIndex(start=0, stop=58007, step=1)"
      ]
     },
     "execution_count": 50,
     "metadata": {},
     "output_type": "execute_result"
    }
   ],
   "source": [
    "y_pred_series.index"
   ]
  },
  {
   "cell_type": "code",
   "execution_count": 51,
   "id": "b462f190-cdb6-4796-86e0-6e27dfd20b9a",
   "metadata": {},
   "outputs": [],
   "source": [
    "X_train_df = pd.DataFrame(X_train)\n",
    "#y_train_df = pd.DataFrame(y_train)\n",
    "y_train_df = pd.DataFrame({'target':y_train.index, 'value':y_train.values})\n",
    "\n",
    "X_test_df = pd.DataFrame(X_test)\n",
    "#y_test_df = pd.DataFrame(y_test)\n",
    "y_test_df = pd.DataFrame({'target':y_test.index, 'value':y_test.values})\n",
    "\n",
    "#y_pred_df = pd.DataFrame(y_pred)\n",
    "y_pred_df = pd.DataFrame({'target':y_pred_series.index, 'value':y_pred_series.values})"
   ]
  },
  {
   "cell_type": "code",
   "execution_count": 52,
   "id": "a4e1b426-bc81-409a-8df5-dd4a5f356266",
   "metadata": {
    "scrolled": true
   },
   "outputs": [
    {
     "data": {
      "text/plain": [
       "(pandas.core.frame.DataFrame,\n",
       " pandas.core.frame.DataFrame,\n",
       " pandas.core.frame.DataFrame,\n",
       " pandas.core.frame.DataFrame,\n",
       " pandas.core.frame.DataFrame)"
      ]
     },
     "execution_count": 52,
     "metadata": {},
     "output_type": "execute_result"
    }
   ],
   "source": [
    "type(X_train_df), type(y_train_df), type(X_test_df), type(y_test_df), type(y_pred_df)"
   ]
  },
  {
   "cell_type": "code",
   "execution_count": 53,
   "id": "ab7de834-d451-43f2-894d-aa15f34b8fd3",
   "metadata": {},
   "outputs": [],
   "source": [
    "X_train_df.name = 'X_train_df' \n",
    "y_train_df.name = 'y_train_df' \n",
    "X_test_df.name = 'X_test_df' \n",
    "y_test_df.name = 'y_test_df' \n",
    "y_pred_df.name = 'y_pred_df'"
   ]
  },
  {
   "cell_type": "code",
   "execution_count": 54,
   "id": "a9269821-0afc-4872-86f5-81759d1d5677",
   "metadata": {},
   "outputs": [],
   "source": [
    "X_train_df.columns.name = 'X_train_df' \n",
    "y_train_df.columns.name = 'y_train_df' \n",
    "X_test_df.columns.name = 'X_test_df' \n",
    "y_test_df.columns.name = 'y_test_df' \n",
    "y_pred_df.columns.name = 'y_pred_df'"
   ]
  },
  {
   "cell_type": "code",
   "execution_count": 55,
   "id": "26e0a320",
   "metadata": {
    "scrolled": true
   },
   "outputs": [
    {
     "data": {
      "text/plain": [
       "\"Failed to get dataset details. 'DataFrame' object has no attribute 'name'\""
      ]
     },
     "execution_count": 55,
     "metadata": {},
     "output_type": "execute_result"
    }
   ],
   "source": [
    "## registering the model in Fosfor Insight Designer.\n",
    "register_model(\n",
    "    model_obj=dtc, \n",
    "    session=my_session,\n",
    "    x_train=X_train_df,\n",
    "    y_train=y_train_df,\n",
    "    x_test=X_test_df,\n",
    "    y_test=y_test_df,\n",
    "    y_pred=y_pred_df,\n",
    "    source=\"Notebook\",\n",
    "    dataset_name=\"AUTO_INSURANCE_CLAIMS_DATA\",\n",
    "    dataset_source=\"Snowflake\",\n",
    "    #dataset_source=\"InMemory\",\n",
    "    name=\"Claims_Fraud_DTree_Classifier\",\n",
    "    description=\"Insurance claims model trained for Fraud Classification\",\n",
    "    flavour=\"sklearn\",\n",
    "    model_type=\"classification\",\n",
    "    conda_dependencies=[\"fosforml==1.1.6\"]\n",
    ")"
   ]
  },
  {
   "cell_type": "code",
   "execution_count": null,
   "id": "c94ebae0-e372-4a98-845a-9ffcc43ce591",
   "metadata": {},
   "outputs": [],
   "source": [
    "designer"
   ]
  },
  {
   "cell_type": "code",
   "execution_count": null,
   "id": "db3e8a01-6454-42bc-8976-2a0fef1f7be9",
   "metadata": {},
   "outputs": [],
   "source": []
  },
  {
   "cell_type": "code",
   "execution_count": null,
   "id": "9c54013d-c097-4c4d-87cd-a7be40294cec",
   "metadata": {},
   "outputs": [],
   "source": []
  },
  {
   "cell_type": "code",
   "execution_count": null,
   "id": "cc5a8c92-c7f5-4804-a049-216ad728015e",
   "metadata": {},
   "outputs": [],
   "source": []
  },
  {
   "cell_type": "code",
   "execution_count": null,
   "id": "aa9195e0-6527-4ac8-a005-232e95bdc8c5",
   "metadata": {},
   "outputs": [],
   "source": []
  },
  {
   "cell_type": "code",
   "execution_count": null,
   "id": "e7996903-db86-431c-83fb-db26e6414f36",
   "metadata": {},
   "outputs": [],
   "source": []
  },
  {
   "cell_type": "markdown",
   "id": "7efd9372",
   "metadata": {},
   "source": [
    "# Version 2 of Decision Tree Fraud Classifier Model"
   ]
  },
  {
   "cell_type": "code",
   "execution_count": 125,
   "id": "85ee5a3f",
   "metadata": {},
   "outputs": [
    {
     "data": {
      "text/html": [
       "<style>#sk-container-id-6 {color: black;background-color: white;}#sk-container-id-6 pre{padding: 0;}#sk-container-id-6 div.sk-toggleable {background-color: white;}#sk-container-id-6 label.sk-toggleable__label {cursor: pointer;display: block;width: 100%;margin-bottom: 0;padding: 0.3em;box-sizing: border-box;text-align: center;}#sk-container-id-6 label.sk-toggleable__label-arrow:before {content: \"▸\";float: left;margin-right: 0.25em;color: #696969;}#sk-container-id-6 label.sk-toggleable__label-arrow:hover:before {color: black;}#sk-container-id-6 div.sk-estimator:hover label.sk-toggleable__label-arrow:before {color: black;}#sk-container-id-6 div.sk-toggleable__content {max-height: 0;max-width: 0;overflow: hidden;text-align: left;background-color: #f0f8ff;}#sk-container-id-6 div.sk-toggleable__content pre {margin: 0.2em;color: black;border-radius: 0.25em;background-color: #f0f8ff;}#sk-container-id-6 input.sk-toggleable__control:checked~div.sk-toggleable__content {max-height: 200px;max-width: 100%;overflow: auto;}#sk-container-id-6 input.sk-toggleable__control:checked~label.sk-toggleable__label-arrow:before {content: \"▾\";}#sk-container-id-6 div.sk-estimator input.sk-toggleable__control:checked~label.sk-toggleable__label {background-color: #d4ebff;}#sk-container-id-6 div.sk-label input.sk-toggleable__control:checked~label.sk-toggleable__label {background-color: #d4ebff;}#sk-container-id-6 input.sk-hidden--visually {border: 0;clip: rect(1px 1px 1px 1px);clip: rect(1px, 1px, 1px, 1px);height: 1px;margin: -1px;overflow: hidden;padding: 0;position: absolute;width: 1px;}#sk-container-id-6 div.sk-estimator {font-family: monospace;background-color: #f0f8ff;border: 1px dotted black;border-radius: 0.25em;box-sizing: border-box;margin-bottom: 0.5em;}#sk-container-id-6 div.sk-estimator:hover {background-color: #d4ebff;}#sk-container-id-6 div.sk-parallel-item::after {content: \"\";width: 100%;border-bottom: 1px solid gray;flex-grow: 1;}#sk-container-id-6 div.sk-label:hover label.sk-toggleable__label {background-color: #d4ebff;}#sk-container-id-6 div.sk-serial::before {content: \"\";position: absolute;border-left: 1px solid gray;box-sizing: border-box;top: 0;bottom: 0;left: 50%;z-index: 0;}#sk-container-id-6 div.sk-serial {display: flex;flex-direction: column;align-items: center;background-color: white;padding-right: 0.2em;padding-left: 0.2em;position: relative;}#sk-container-id-6 div.sk-item {position: relative;z-index: 1;}#sk-container-id-6 div.sk-parallel {display: flex;align-items: stretch;justify-content: center;background-color: white;position: relative;}#sk-container-id-6 div.sk-item::before, #sk-container-id-6 div.sk-parallel-item::before {content: \"\";position: absolute;border-left: 1px solid gray;box-sizing: border-box;top: 0;bottom: 0;left: 50%;z-index: -1;}#sk-container-id-6 div.sk-parallel-item {display: flex;flex-direction: column;z-index: 1;position: relative;background-color: white;}#sk-container-id-6 div.sk-parallel-item:first-child::after {align-self: flex-end;width: 50%;}#sk-container-id-6 div.sk-parallel-item:last-child::after {align-self: flex-start;width: 50%;}#sk-container-id-6 div.sk-parallel-item:only-child::after {width: 0;}#sk-container-id-6 div.sk-dashed-wrapped {border: 1px dashed gray;margin: 0 0.4em 0.5em 0.4em;box-sizing: border-box;padding-bottom: 0.4em;background-color: white;}#sk-container-id-6 div.sk-label label {font-family: monospace;font-weight: bold;display: inline-block;line-height: 1.2em;}#sk-container-id-6 div.sk-label-container {text-align: center;}#sk-container-id-6 div.sk-container {/* jupyter's `normalize.less` sets `[hidden] { display: none; }` but bootstrap.min.css set `[hidden] { display: none !important; }` so we also need the `!important` here to be able to override the default hidden behavior on the sphinx rendered scikit-learn.org. See: https://github.com/scikit-learn/scikit-learn/issues/21755 */display: inline-block !important;position: relative;}#sk-container-id-6 div.sk-text-repr-fallback {display: none;}</style><div id=\"sk-container-id-6\" class=\"sk-top-container\"><div class=\"sk-text-repr-fallback\"><pre>DecisionTreeClassifier(random_state=7)</pre><b>In a Jupyter environment, please rerun this cell to show the HTML representation or trust the notebook. <br />On GitHub, the HTML representation is unable to render, please try loading this page with nbviewer.org.</b></div><div class=\"sk-container\" hidden><div class=\"sk-item\"><div class=\"sk-estimator sk-toggleable\"><input class=\"sk-toggleable__control sk-hidden--visually\" id=\"sk-estimator-id-6\" type=\"checkbox\" checked><label for=\"sk-estimator-id-6\" class=\"sk-toggleable__label sk-toggleable__label-arrow\">DecisionTreeClassifier</label><div class=\"sk-toggleable__content\"><pre>DecisionTreeClassifier(random_state=7)</pre></div></div></div></div></div>"
      ],
      "text/plain": [
       "DecisionTreeClassifier(random_state=7)"
      ]
     },
     "execution_count": 125,
     "metadata": {},
     "output_type": "execute_result"
    }
   ],
   "source": [
    "dtc = DecisionTreeClassifier(random_state=7)\n",
    "dtc.fit(X_train, y_train)"
   ]
  },
  {
   "cell_type": "code",
   "execution_count": 126,
   "id": "ab56741e",
   "metadata": {},
   "outputs": [],
   "source": [
    "y_pred = dtc.predict(X_test)\n",
    "y_prob = dtc.predict_proba(X_test)[:,1]"
   ]
  },
  {
   "cell_type": "code",
   "execution_count": 127,
   "id": "315745e4",
   "metadata": {},
   "outputs": [
    {
     "name": "stdout",
     "output_type": "stream",
     "text": [
      "Training accuracy of Decision Tree is : 1.0\n",
      "Test accuracy of Decision Tree is : 0.9941263851657076\n",
      "[[ 8305   156]\n",
      " [  188 49918]]\n",
      "                   precision    recall  f1-score   support\n",
      "\n",
      "   Fraud Reported       0.98      0.98      0.98      8461\n",
      "No Fraud Reported       1.00      1.00      1.00     50106\n",
      "\n",
      "         accuracy                           0.99     58567\n",
      "        macro avg       0.99      0.99      0.99     58567\n",
      "     weighted avg       0.99      0.99      0.99     58567\n",
      "\n"
     ]
    }
   ],
   "source": [
    "dtc_train_acc = accuracy_score(y_train, dtc.predict(X_train))\n",
    "dtc_test_acc = accuracy_score(y_test, y_pred)\n",
    "\n",
    "print(f\"Training accuracy of Decision Tree is : {dtc_train_acc}\")\n",
    "print(f\"Test accuracy of Decision Tree is : {dtc_test_acc}\")\n",
    "\n",
    "print(confusion_matrix(y_test, y_pred))\n",
    "print(classification_report(y_test, y_pred))"
   ]
  },
  {
   "cell_type": "code",
   "execution_count": 128,
   "id": "73fbd7da",
   "metadata": {},
   "outputs": [
    {
     "name": "stdout",
     "output_type": "stream",
     "text": [
      "Calculating build time metrics\n",
      "\n",
      "Progress: ██████████████████████████████████████████████████████████████████████ 100.0%\n"
     ]
    },
    {
     "data": {
      "application/vnd.jupyter.widget-view+json": {
       "model_id": "19eb1a8c2f9a4e12959f1ed7bc060742",
       "version_major": 2,
       "version_minor": 0
      },
      "text/plain": [
       "VBox(children=(HTML(value='<style>.grad_1{background: #2468a4;} .grad_2{ color:white; background: #2468a4;}</s…"
      ]
     },
     "metadata": {},
     "output_type": "display_data"
    }
   ],
   "source": [
    "## registering the model in Fosfor Insight Designer using same name.\n",
    "model_reg = register_model(dtc, \n",
    "               score, \n",
    "               name=\"Claims_Fraud_DTree_Classifier\", \n",
    "               description=\"Insurance claim's model trained for Fraud Classification\",\n",
    "               flavour=MLModelFlavours.sklearn,\n",
    "               model_type=\"classification\",\n",
    "               init_script=\"snowflake-connector-python[pandas]\",\n",
    "               y_true=y_test,\n",
    "               y_pred=y_pred, \n",
    "               prob=y_prob,\n",
    "               features=X_train.columns,\n",
    "               input_type=\"json\", \n",
    "               explain_ai=True,\n",
    "               x_train=X_train, \n",
    "               x_test=X_test, \n",
    "               y_train=y_train.tolist(),\n",
    "               y_test=y_test.tolist(),\n",
    "               feature_names=X_train.columns.tolist(),\n",
    "               original_features=X_train.columns.tolist(),\n",
    "               feature_ids=X_train.columns,\n",
    "               kyd=True, kyd_score = True)"
   ]
  }
 ],
 "metadata": {
  "kernelspec": {
   "display_name": "Python 3 (ipykernel)",
   "language": "python",
   "name": "python3"
  },
  "language_info": {
   "codemirror_mode": {
    "name": "ipython",
    "version": 3
   },
   "file_extension": ".py",
   "mimetype": "text/x-python",
   "name": "python",
   "nbconvert_exporter": "python",
   "pygments_lexer": "ipython3",
   "version": "3.9.19"
  }
 },
 "nbformat": 4,
 "nbformat_minor": 5
}
