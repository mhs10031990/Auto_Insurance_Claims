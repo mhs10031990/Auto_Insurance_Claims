{
 "cells": [
  {
   "cell_type": "markdown",
   "id": "da4ac72d",
   "metadata": {},
   "source": [
    "# Use Custom Template Notebook"
   ]
  },
  {
   "cell_type": "code",
   "execution_count": 462,
   "id": "12eb34cf",
   "metadata": {
    "scrolled": true
   },
   "outputs": [],
   "source": [
    "from snowflake.snowpark import Session\n",
    "\n",
    "# Data Science Libs\n",
    "import numpy as np\n",
    "import pandas as pd\n",
    "import matplotlib.pyplot as plt\n",
    "\n",
    "# create_temp_table warning suppresion\n",
    "import warnings; warnings.simplefilter('ignore')\n",
    "\n",
    "#Modeling Libs\n",
    "from sklearn.model_selection import train_test_split\n",
    "from sklearn.preprocessing import StandardScaler\n",
    "from sklearn.svm import SVC\n",
    "from sklearn.metrics import accuracy_score, confusion_matrix, classification_report\n",
    "from sklearn.neighbors import KNeighborsClassifier\n",
    "from sklearn.metrics import accuracy_score, confusion_matrix, classification_report\n",
    "from sklearn.tree import DecisionTreeClassifier\n",
    "from sklearn.model_selection import GridSearchCV\n",
    "from sklearn.ensemble import RandomForestClassifier\n",
    "from sklearn.ensemble import AdaBoostClassifier\n",
    "from sklearn.ensemble import GradientBoostingClassifier\n",
    "from sklearn.ensemble import ExtraTreesClassifier\n",
    "from sklearn.ensemble import VotingClassifier\n",
    "\n",
    "from xgboost import XGBClassifier\n",
    "#from catboost import CatBoostClassifier\n",
    "\n",
    "from joblib import dump, load\n",
    "import requests"
   ]
  },
  {
   "cell_type": "markdown",
   "id": "eec13385",
   "metadata": {},
   "source": [
    "# Initialize Snowflake Session using Default connection"
   ]
  },
  {
   "cell_type": "code",
   "execution_count": 463,
   "id": "8a6a2445-416b-4b1d-aaf5-e21c298777bb",
   "metadata": {},
   "outputs": [],
   "source": [
    "from fosforml.model_manager.snowflakesession import get_session\n",
    "my_session = get_session()"
   ]
  },
  {
   "cell_type": "code",
   "execution_count": 464,
   "id": "a3de0458",
   "metadata": {},
   "outputs": [],
   "source": [
    "table_name = 'AUTO_INSURANCE_CLAIMS_DATA'"
   ]
  },
  {
   "cell_type": "code",
   "execution_count": 465,
   "id": "cc65cd7a-2dc3-46dc-8d15-40fdcbdb5925",
   "metadata": {},
   "outputs": [],
   "source": [
    "sf_df = my_session.sql(\"select * from {}\".format(table_name))"
   ]
  },
  {
   "cell_type": "code",
   "execution_count": 466,
   "id": "ab51ba08-d53e-4964-b441-eece144787af",
   "metadata": {},
   "outputs": [],
   "source": [
    "df = sf_df.to_pandas()"
   ]
  },
  {
   "cell_type": "code",
   "execution_count": 467,
   "id": "3c124196-9419-4d6e-ac52-d4e1b50f319f",
   "metadata": {},
   "outputs": [
    {
     "data": {
      "text/html": [
       "<div>\n",
       "<style scoped>\n",
       "    .dataframe tbody tr th:only-of-type {\n",
       "        vertical-align: middle;\n",
       "    }\n",
       "\n",
       "    .dataframe tbody tr th {\n",
       "        vertical-align: top;\n",
       "    }\n",
       "\n",
       "    .dataframe thead th {\n",
       "        text-align: right;\n",
       "    }\n",
       "</style>\n",
       "<table border=\"1\" class=\"dataframe\">\n",
       "  <thead>\n",
       "    <tr style=\"text-align: right;\">\n",
       "      <th></th>\n",
       "      <th>MONTHS_AS_CUSTOMER</th>\n",
       "      <th>CUSTOMER_AGE</th>\n",
       "      <th>POLICY_NUMBER</th>\n",
       "      <th>POLICY_BIND_DATE</th>\n",
       "      <th>POLICY_STATE</th>\n",
       "      <th>POLICY_CSL</th>\n",
       "      <th>POLICY_DEDUCTABLE</th>\n",
       "      <th>POLICY_ANNUAL_PREMIUM</th>\n",
       "      <th>UMBRELLA_LIMIT</th>\n",
       "      <th>INSURED_ZIP</th>\n",
       "      <th>...</th>\n",
       "      <th>POLICE_REPORT_AVAILABLE</th>\n",
       "      <th>TOTAL_CLAIM_AMOUNT_PAID</th>\n",
       "      <th>INJURY_CLAIM</th>\n",
       "      <th>PROPERTY_CLAIM</th>\n",
       "      <th>VEHICLE_CLAIM</th>\n",
       "      <th>AUTO_MAKE</th>\n",
       "      <th>AUTO_MODEL</th>\n",
       "      <th>AUTO_YEAR</th>\n",
       "      <th>FRAUD_REPORTED</th>\n",
       "      <th>POLICY_BIND_DATE_CUSTOM</th>\n",
       "    </tr>\n",
       "  </thead>\n",
       "  <tbody>\n",
       "    <tr>\n",
       "      <th>0</th>\n",
       "      <td>139</td>\n",
       "      <td>37</td>\n",
       "      <td>457069</td>\n",
       "      <td>17-08-2011</td>\n",
       "      <td>CT</td>\n",
       "      <td>250/500</td>\n",
       "      <td>1351</td>\n",
       "      <td>1589</td>\n",
       "      <td>16139812</td>\n",
       "      <td>609322</td>\n",
       "      <td>...</td>\n",
       "      <td>No Police Report Available</td>\n",
       "      <td>48182</td>\n",
       "      <td>538</td>\n",
       "      <td>20189</td>\n",
       "      <td>27455</td>\n",
       "      <td>Dodge</td>\n",
       "      <td>Neon</td>\n",
       "      <td>2005</td>\n",
       "      <td>No Fraud Reported</td>\n",
       "      <td>2011-08-17</td>\n",
       "    </tr>\n",
       "    <tr>\n",
       "      <th>1</th>\n",
       "      <td>292</td>\n",
       "      <td>52</td>\n",
       "      <td>429086</td>\n",
       "      <td>27-09-2010</td>\n",
       "      <td>CT</td>\n",
       "      <td>100/300</td>\n",
       "      <td>2216</td>\n",
       "      <td>2669</td>\n",
       "      <td>15406514</td>\n",
       "      <td>438830</td>\n",
       "      <td>...</td>\n",
       "      <td>Police Report Available</td>\n",
       "      <td>64579</td>\n",
       "      <td>11170</td>\n",
       "      <td>5093</td>\n",
       "      <td>48316</td>\n",
       "      <td>Audi</td>\n",
       "      <td>A3</td>\n",
       "      <td>1999</td>\n",
       "      <td>No Fraud Reported</td>\n",
       "      <td>2010-09-27</td>\n",
       "    </tr>\n",
       "    <tr>\n",
       "      <th>2</th>\n",
       "      <td>45</td>\n",
       "      <td>20</td>\n",
       "      <td>457562</td>\n",
       "      <td>13-01-2002</td>\n",
       "      <td>CT</td>\n",
       "      <td>100/300</td>\n",
       "      <td>929</td>\n",
       "      <td>1290</td>\n",
       "      <td>5629268</td>\n",
       "      <td>616164</td>\n",
       "      <td>...</td>\n",
       "      <td>No Police Report Available</td>\n",
       "      <td>32420</td>\n",
       "      <td>538</td>\n",
       "      <td>845</td>\n",
       "      <td>31037</td>\n",
       "      <td>Mercedes</td>\n",
       "      <td>E400</td>\n",
       "      <td>2014</td>\n",
       "      <td>No Fraud Reported</td>\n",
       "      <td>2002-01-13</td>\n",
       "    </tr>\n",
       "    <tr>\n",
       "      <th>3</th>\n",
       "      <td>49</td>\n",
       "      <td>67</td>\n",
       "      <td>471692</td>\n",
       "      <td>07-02-2012</td>\n",
       "      <td>CT</td>\n",
       "      <td>500/1000</td>\n",
       "      <td>699</td>\n",
       "      <td>970</td>\n",
       "      <td>18501194</td>\n",
       "      <td>445120</td>\n",
       "      <td>...</td>\n",
       "      <td>No Police Report Available</td>\n",
       "      <td>53780</td>\n",
       "      <td>7280</td>\n",
       "      <td>898</td>\n",
       "      <td>45602</td>\n",
       "      <td>Suburu</td>\n",
       "      <td>Legacy</td>\n",
       "      <td>2005</td>\n",
       "      <td>No Fraud Reported</td>\n",
       "      <td>2012-02-07</td>\n",
       "    </tr>\n",
       "    <tr>\n",
       "      <th>4</th>\n",
       "      <td>128</td>\n",
       "      <td>45</td>\n",
       "      <td>463009</td>\n",
       "      <td>18-06-2008</td>\n",
       "      <td>CT</td>\n",
       "      <td>100/300</td>\n",
       "      <td>1122</td>\n",
       "      <td>1384</td>\n",
       "      <td>16890664</td>\n",
       "      <td>442936</td>\n",
       "      <td>...</td>\n",
       "      <td>Police Report Available</td>\n",
       "      <td>94511</td>\n",
       "      <td>412</td>\n",
       "      <td>14545</td>\n",
       "      <td>79554</td>\n",
       "      <td>Ford</td>\n",
       "      <td>Escape</td>\n",
       "      <td>2013</td>\n",
       "      <td>No Fraud Reported</td>\n",
       "      <td>2008-06-18</td>\n",
       "    </tr>\n",
       "  </tbody>\n",
       "</table>\n",
       "<p>5 rows × 41 columns</p>\n",
       "</div>"
      ],
      "text/plain": [
       "   MONTHS_AS_CUSTOMER  CUSTOMER_AGE POLICY_NUMBER POLICY_BIND_DATE  \\\n",
       "0                 139            37        457069       17-08-2011   \n",
       "1                 292            52        429086       27-09-2010   \n",
       "2                  45            20        457562       13-01-2002   \n",
       "3                  49            67        471692       07-02-2012   \n",
       "4                 128            45        463009       18-06-2008   \n",
       "\n",
       "  POLICY_STATE POLICY_CSL  POLICY_DEDUCTABLE  POLICY_ANNUAL_PREMIUM  \\\n",
       "0           CT    250/500               1351                   1589   \n",
       "1           CT    100/300               2216                   2669   \n",
       "2           CT    100/300                929                   1290   \n",
       "3           CT   500/1000                699                    970   \n",
       "4           CT    100/300               1122                   1384   \n",
       "\n",
       "   UMBRELLA_LIMIT INSURED_ZIP  ...     POLICE_REPORT_AVAILABLE  \\\n",
       "0        16139812      609322  ...  No Police Report Available   \n",
       "1        15406514      438830  ...     Police Report Available   \n",
       "2         5629268      616164  ...  No Police Report Available   \n",
       "3        18501194      445120  ...  No Police Report Available   \n",
       "4        16890664      442936  ...     Police Report Available   \n",
       "\n",
       "  TOTAL_CLAIM_AMOUNT_PAID INJURY_CLAIM PROPERTY_CLAIM VEHICLE_CLAIM  \\\n",
       "0                   48182          538          20189         27455   \n",
       "1                   64579        11170           5093         48316   \n",
       "2                   32420          538            845         31037   \n",
       "3                   53780         7280            898         45602   \n",
       "4                   94511          412          14545         79554   \n",
       "\n",
       "   AUTO_MAKE  AUTO_MODEL AUTO_YEAR     FRAUD_REPORTED POLICY_BIND_DATE_CUSTOM  \n",
       "0      Dodge        Neon      2005  No Fraud Reported              2011-08-17  \n",
       "1       Audi          A3      1999  No Fraud Reported              2010-09-27  \n",
       "2   Mercedes        E400      2014  No Fraud Reported              2002-01-13  \n",
       "3     Suburu      Legacy      2005  No Fraud Reported              2012-02-07  \n",
       "4       Ford      Escape      2013  No Fraud Reported              2008-06-18  \n",
       "\n",
       "[5 rows x 41 columns]"
      ]
     },
     "execution_count": 467,
     "metadata": {},
     "output_type": "execute_result"
    }
   ],
   "source": [
    "df.head()"
   ]
  },
  {
   "cell_type": "code",
   "execution_count": 468,
   "id": "0733fafe-7680-4e5d-bf6a-d49557828fc7",
   "metadata": {},
   "outputs": [],
   "source": [
    "#insurance_claim =  df.copy()\n",
    "insurance_claim =  df[::1]"
   ]
  },
  {
   "cell_type": "code",
   "execution_count": 469,
   "id": "c4541e70-5ad5-4017-a0bf-40fcab05c4ae",
   "metadata": {},
   "outputs": [],
   "source": [
    "insurance_claim = insurance_claim[['MONTHS_AS_CUSTOMER', 'CUSTOMER_AGE', 'POLICY_NUMBER',\n",
    "       'POLICY_BIND_DATE', 'POLICY_STATE', 'POLICY_CSL', 'POLICY_DEDUCTABLE',\n",
    "       'POLICY_ANNUAL_PREMIUM', 'UMBRELLA_LIMIT', 'INSURED_ZIP', 'INSURED_SEX',\n",
    "       'INSURED_EDUCATION_LEVEL', 'INSURED_OCCUPATION', 'INSURED_HOBBIES',\n",
    "       'INSURED_RELATIONSHIP', 'CAPITAL_GAINS', 'CAPITAL_LOSS',\n",
    "       'INCIDENT_DATE', 'INCIDENT_TYPE', 'COLLISION_TYPE', 'INCIDENT_SEVERITY',\n",
    "       'AUTHORITIES_CONTACTED', 'INCIDENT_STATE', 'INCIDENT_CITY',\n",
    "       'INCIDENT_LOCATION', 'INCIDENT_HOUR_OF_THE_DAY', 'INCIDENT_TIME_OF_DAY',\n",
    "       'NUMBER_OF_VEHICLES_INVOLVED', 'PROPERTY_DAMAGE', 'BODILY_INJURIES',\n",
    "       'WITNESSES', 'POLICE_REPORT_AVAILABLE', 'TOTAL_CLAIM_AMOUNT_PAID',\n",
    "       'INJURY_CLAIM', 'PROPERTY_CLAIM', 'VEHICLE_CLAIM', 'AUTO_MAKE',\n",
    "       'AUTO_MODEL', 'AUTO_YEAR', 'FRAUD_REPORTED']]"
   ]
  },
  {
   "cell_type": "code",
   "execution_count": 470,
   "id": "0ee58ee8",
   "metadata": {},
   "outputs": [],
   "source": [
    "insurance_claim.columns = insurance_claim.columns.str.lower()"
   ]
  },
  {
   "cell_type": "code",
   "execution_count": 471,
   "id": "dea96c64",
   "metadata": {},
   "outputs": [
    {
     "data": {
      "text/plain": [
       "Index(['months_as_customer', 'customer_age', 'policy_number',\n",
       "       'policy_bind_date', 'policy_state', 'policy_csl', 'policy_deductable',\n",
       "       'policy_annual_premium', 'umbrella_limit', 'insured_zip', 'insured_sex',\n",
       "       'insured_education_level', 'insured_occupation', 'insured_hobbies',\n",
       "       'insured_relationship', 'capital_gains', 'capital_loss',\n",
       "       'incident_date', 'incident_type', 'collision_type', 'incident_severity',\n",
       "       'authorities_contacted', 'incident_state', 'incident_city',\n",
       "       'incident_location', 'incident_hour_of_the_day', 'incident_time_of_day',\n",
       "       'number_of_vehicles_involved', 'property_damage', 'bodily_injuries',\n",
       "       'witnesses', 'police_report_available', 'total_claim_amount_paid',\n",
       "       'injury_claim', 'property_claim', 'vehicle_claim', 'auto_make',\n",
       "       'auto_model', 'auto_year', 'fraud_reported'],\n",
       "      dtype='object')"
      ]
     },
     "execution_count": 471,
     "metadata": {},
     "output_type": "execute_result"
    }
   ],
   "source": [
    "insurance_claim.columns"
   ]
  },
  {
   "cell_type": "code",
   "execution_count": 472,
   "id": "dd34e207",
   "metadata": {},
   "outputs": [],
   "source": [
    "insurance_claim.rename(columns = {'total_claim_amount_paid': 'total_claim_amount'}, inplace=True)"
   ]
  },
  {
   "cell_type": "code",
   "execution_count": 473,
   "id": "044dd5de",
   "metadata": {},
   "outputs": [],
   "source": [
    "insurance_claim=insurance_claim.replace(\"?\",np.NaN)"
   ]
  },
  {
   "cell_type": "code",
   "execution_count": 474,
   "id": "2729cb70-12b2-4c58-94cf-95ad69a100bb",
   "metadata": {},
   "outputs": [],
   "source": [
    "df = insurance_claim[::1]"
   ]
  },
  {
   "cell_type": "code",
   "execution_count": 475,
   "id": "0c04c757",
   "metadata": {},
   "outputs": [],
   "source": [
    "#df_copy = insurance_claim.copy()"
   ]
  },
  {
   "cell_type": "code",
   "execution_count": 476,
   "id": "17d478fa",
   "metadata": {},
   "outputs": [],
   "source": [
    "#actual_inference = df.copy()\n",
    "actual_inference = df[::1]\n",
    "actual_inference.drop('fraud_reported', axis = 1, inplace=True)"
   ]
  },
  {
   "cell_type": "code",
   "execution_count": 477,
   "id": "d563385c",
   "metadata": {},
   "outputs": [
    {
     "data": {
      "text/html": [
       "<div>\n",
       "<style scoped>\n",
       "    .dataframe tbody tr th:only-of-type {\n",
       "        vertical-align: middle;\n",
       "    }\n",
       "\n",
       "    .dataframe tbody tr th {\n",
       "        vertical-align: top;\n",
       "    }\n",
       "\n",
       "    .dataframe thead th {\n",
       "        text-align: right;\n",
       "    }\n",
       "</style>\n",
       "<table border=\"1\" class=\"dataframe\">\n",
       "  <thead>\n",
       "    <tr style=\"text-align: right;\">\n",
       "      <th></th>\n",
       "      <th>months_as_customer</th>\n",
       "      <th>customer_age</th>\n",
       "      <th>policy_number</th>\n",
       "      <th>policy_bind_date</th>\n",
       "      <th>policy_state</th>\n",
       "      <th>policy_csl</th>\n",
       "      <th>policy_deductable</th>\n",
       "      <th>policy_annual_premium</th>\n",
       "      <th>umbrella_limit</th>\n",
       "      <th>insured_zip</th>\n",
       "      <th>...</th>\n",
       "      <th>bodily_injuries</th>\n",
       "      <th>witnesses</th>\n",
       "      <th>police_report_available</th>\n",
       "      <th>total_claim_amount</th>\n",
       "      <th>injury_claim</th>\n",
       "      <th>property_claim</th>\n",
       "      <th>vehicle_claim</th>\n",
       "      <th>auto_make</th>\n",
       "      <th>auto_model</th>\n",
       "      <th>auto_year</th>\n",
       "    </tr>\n",
       "  </thead>\n",
       "  <tbody>\n",
       "    <tr>\n",
       "      <th>0</th>\n",
       "      <td>139</td>\n",
       "      <td>37</td>\n",
       "      <td>457069</td>\n",
       "      <td>17-08-2011</td>\n",
       "      <td>CT</td>\n",
       "      <td>250/500</td>\n",
       "      <td>1351</td>\n",
       "      <td>1589</td>\n",
       "      <td>16139812</td>\n",
       "      <td>609322</td>\n",
       "      <td>...</td>\n",
       "      <td>0</td>\n",
       "      <td>3</td>\n",
       "      <td>No Police Report Available</td>\n",
       "      <td>48182</td>\n",
       "      <td>538</td>\n",
       "      <td>20189</td>\n",
       "      <td>27455</td>\n",
       "      <td>Dodge</td>\n",
       "      <td>Neon</td>\n",
       "      <td>2005</td>\n",
       "    </tr>\n",
       "    <tr>\n",
       "      <th>1</th>\n",
       "      <td>292</td>\n",
       "      <td>52</td>\n",
       "      <td>429086</td>\n",
       "      <td>27-09-2010</td>\n",
       "      <td>CT</td>\n",
       "      <td>100/300</td>\n",
       "      <td>2216</td>\n",
       "      <td>2669</td>\n",
       "      <td>15406514</td>\n",
       "      <td>438830</td>\n",
       "      <td>...</td>\n",
       "      <td>1</td>\n",
       "      <td>2</td>\n",
       "      <td>Police Report Available</td>\n",
       "      <td>64579</td>\n",
       "      <td>11170</td>\n",
       "      <td>5093</td>\n",
       "      <td>48316</td>\n",
       "      <td>Audi</td>\n",
       "      <td>A3</td>\n",
       "      <td>1999</td>\n",
       "    </tr>\n",
       "    <tr>\n",
       "      <th>2</th>\n",
       "      <td>45</td>\n",
       "      <td>20</td>\n",
       "      <td>457562</td>\n",
       "      <td>13-01-2002</td>\n",
       "      <td>CT</td>\n",
       "      <td>100/300</td>\n",
       "      <td>929</td>\n",
       "      <td>1290</td>\n",
       "      <td>5629268</td>\n",
       "      <td>616164</td>\n",
       "      <td>...</td>\n",
       "      <td>0</td>\n",
       "      <td>2</td>\n",
       "      <td>No Police Report Available</td>\n",
       "      <td>32420</td>\n",
       "      <td>538</td>\n",
       "      <td>845</td>\n",
       "      <td>31037</td>\n",
       "      <td>Mercedes</td>\n",
       "      <td>E400</td>\n",
       "      <td>2014</td>\n",
       "    </tr>\n",
       "    <tr>\n",
       "      <th>3</th>\n",
       "      <td>49</td>\n",
       "      <td>67</td>\n",
       "      <td>471692</td>\n",
       "      <td>07-02-2012</td>\n",
       "      <td>CT</td>\n",
       "      <td>500/1000</td>\n",
       "      <td>699</td>\n",
       "      <td>970</td>\n",
       "      <td>18501194</td>\n",
       "      <td>445120</td>\n",
       "      <td>...</td>\n",
       "      <td>2</td>\n",
       "      <td>1</td>\n",
       "      <td>No Police Report Available</td>\n",
       "      <td>53780</td>\n",
       "      <td>7280</td>\n",
       "      <td>898</td>\n",
       "      <td>45602</td>\n",
       "      <td>Suburu</td>\n",
       "      <td>Legacy</td>\n",
       "      <td>2005</td>\n",
       "    </tr>\n",
       "    <tr>\n",
       "      <th>4</th>\n",
       "      <td>128</td>\n",
       "      <td>45</td>\n",
       "      <td>463009</td>\n",
       "      <td>18-06-2008</td>\n",
       "      <td>CT</td>\n",
       "      <td>100/300</td>\n",
       "      <td>1122</td>\n",
       "      <td>1384</td>\n",
       "      <td>16890664</td>\n",
       "      <td>442936</td>\n",
       "      <td>...</td>\n",
       "      <td>0</td>\n",
       "      <td>1</td>\n",
       "      <td>Police Report Available</td>\n",
       "      <td>94511</td>\n",
       "      <td>412</td>\n",
       "      <td>14545</td>\n",
       "      <td>79554</td>\n",
       "      <td>Ford</td>\n",
       "      <td>Escape</td>\n",
       "      <td>2013</td>\n",
       "    </tr>\n",
       "  </tbody>\n",
       "</table>\n",
       "<p>5 rows × 39 columns</p>\n",
       "</div>"
      ],
      "text/plain": [
       "   months_as_customer  customer_age policy_number policy_bind_date  \\\n",
       "0                 139            37        457069       17-08-2011   \n",
       "1                 292            52        429086       27-09-2010   \n",
       "2                  45            20        457562       13-01-2002   \n",
       "3                  49            67        471692       07-02-2012   \n",
       "4                 128            45        463009       18-06-2008   \n",
       "\n",
       "  policy_state policy_csl  policy_deductable  policy_annual_premium  \\\n",
       "0           CT    250/500               1351                   1589   \n",
       "1           CT    100/300               2216                   2669   \n",
       "2           CT    100/300                929                   1290   \n",
       "3           CT   500/1000                699                    970   \n",
       "4           CT    100/300               1122                   1384   \n",
       "\n",
       "   umbrella_limit insured_zip  ... bodily_injuries witnesses  \\\n",
       "0        16139812      609322  ...               0         3   \n",
       "1        15406514      438830  ...               1         2   \n",
       "2         5629268      616164  ...               0         2   \n",
       "3        18501194      445120  ...               2         1   \n",
       "4        16890664      442936  ...               0         1   \n",
       "\n",
       "      police_report_available total_claim_amount injury_claim  property_claim  \\\n",
       "0  No Police Report Available              48182          538           20189   \n",
       "1     Police Report Available              64579        11170            5093   \n",
       "2  No Police Report Available              32420          538             845   \n",
       "3  No Police Report Available              53780         7280             898   \n",
       "4     Police Report Available              94511          412           14545   \n",
       "\n",
       "   vehicle_claim auto_make auto_model auto_year  \n",
       "0          27455     Dodge       Neon      2005  \n",
       "1          48316      Audi         A3      1999  \n",
       "2          31037  Mercedes       E400      2014  \n",
       "3          45602    Suburu     Legacy      2005  \n",
       "4          79554      Ford     Escape      2013  \n",
       "\n",
       "[5 rows x 39 columns]"
      ]
     },
     "execution_count": 477,
     "metadata": {},
     "output_type": "execute_result"
    }
   ],
   "source": [
    "actual_inference.head()"
   ]
  },
  {
   "cell_type": "code",
   "execution_count": 478,
   "id": "5fa9b530",
   "metadata": {},
   "outputs": [],
   "source": [
    "# dropping columns which are not necessary for prediction\n",
    "\n",
    "to_drop = ['policy_number','policy_bind_date','policy_state','insured_zip','incident_location','incident_date',\n",
    "           'incident_state','incident_city','insured_hobbies','auto_make','auto_model','auto_year']\n",
    "\n",
    "df.drop(to_drop, inplace=True, axis=1)"
   ]
  },
  {
   "cell_type": "code",
   "execution_count": 479,
   "id": "f9e156ce-748d-4979-9dcc-c8c664cbcc31",
   "metadata": {},
   "outputs": [],
   "source": [
    "df['incident_hour_of_the_day'] = df['incident_hour_of_the_day'].astype(str).astype(int)"
   ]
  },
  {
   "cell_type": "code",
   "execution_count": 480,
   "id": "cc07f2f1-7103-4cef-b63a-71bb0cef5bae",
   "metadata": {},
   "outputs": [
    {
     "data": {
      "text/plain": [
       "dtype('int64')"
      ]
     },
     "execution_count": 480,
     "metadata": {},
     "output_type": "execute_result"
    }
   ],
   "source": [
    "df['incident_hour_of_the_day'].dtype"
   ]
  },
  {
   "cell_type": "code",
   "execution_count": 481,
   "id": "9b2aec4c",
   "metadata": {},
   "outputs": [],
   "source": [
    "# separating the feature and target columns\n",
    "\n",
    "X = df.drop('fraud_reported', axis = 1)\n",
    "y = df['fraud_reported']"
   ]
  },
  {
   "cell_type": "code",
   "execution_count": 482,
   "id": "6e41ff62",
   "metadata": {},
   "outputs": [],
   "source": [
    "# extracting categorical columns\n",
    "cat_df = X.select_dtypes(include = ['object'])"
   ]
  },
  {
   "cell_type": "code",
   "execution_count": 483,
   "id": "0b248b0d",
   "metadata": {
    "scrolled": true
   },
   "outputs": [
    {
     "data": {
      "text/plain": [
       "Index(['policy_csl', 'insured_sex', 'insured_education_level',\n",
       "       'insured_occupation', 'insured_relationship', 'incident_type',\n",
       "       'collision_type', 'incident_severity', 'authorities_contacted',\n",
       "       'incident_time_of_day', 'property_damage', 'police_report_available'],\n",
       "      dtype='object')"
      ]
     },
     "execution_count": 483,
     "metadata": {},
     "output_type": "execute_result"
    }
   ],
   "source": [
    "cat_df.columns"
   ]
  },
  {
   "cell_type": "code",
   "execution_count": 484,
   "id": "00bc0322",
   "metadata": {
    "scrolled": true
   },
   "outputs": [
    {
     "name": "stdout",
     "output_type": "stream",
     "text": [
      "policy_csl: \n",
      "['250/500' '100/300' '500/1000']\n",
      "\n",
      "insured_sex: \n",
      "['MALE' 'FEMALE']\n",
      "\n",
      "insured_education_level: \n",
      "['High School' 'MD' 'Masters' 'Associate' 'College' 'PhD' 'JD']\n",
      "\n",
      "insured_occupation: \n",
      "['handlers-cleaners' 'armed-forces' 'prof-specialty' 'sales'\n",
      " 'machine-op-inspct' 'priv-house-serv' 'adm-clerical' 'exec-managerial'\n",
      " 'tech-support' 'farming-fishing' 'craft-repair' 'transport-moving'\n",
      " 'protective-serv' 'other-service']\n",
      "\n",
      "insured_relationship: \n",
      "['wife' 'unmarried' 'other-relative' 'husband' 'own-child' 'not-in-family']\n",
      "\n",
      "incident_type: \n",
      "['Single Vehicle Collision' 'Parked Car' 'Multi-vehicle Collision'\n",
      " 'Vehicle Theft']\n",
      "\n",
      "collision_type: \n",
      "['Front Collision' 'Rear Collision' 'Side Collision'\n",
      " 'Details not Available']\n",
      "\n",
      "incident_severity: \n",
      "['Minor Damage' 'Major Damage' 'Total Loss']\n",
      "\n",
      "authorities_contacted: \n",
      "['Ambulance' 'Other' 'None' 'Police' 'Fire']\n",
      "\n",
      "incident_time_of_day: \n",
      "['Morning to Noon' 'Night Time' 'Afternoon Hours' 'Early Morning Hours']\n",
      "\n",
      "property_damage: \n",
      "['Property Damage' 'Details not Available' 'No Property Damage']\n",
      "\n",
      "police_report_available: \n",
      "['No Police Report Available' 'Police Report Available' 'Unknown']\n",
      "\n"
     ]
    }
   ],
   "source": [
    "# printing unique values of each column\n",
    "for col in cat_df.columns:\n",
    "    print(f\"{col}: \\n{cat_df[col].unique()}\\n\")"
   ]
  },
  {
   "cell_type": "code",
   "execution_count": 485,
   "id": "0c7476d4-0dcf-4349-a685-7676b9edcee5",
   "metadata": {},
   "outputs": [
    {
     "name": "stdout",
     "output_type": "stream",
     "text": [
      "<class 'pandas.core.frame.DataFrame'>\n",
      "RangeIndex: 232025 entries, 0 to 232024\n",
      "Data columns (total 28 columns):\n",
      " #   Column                       Non-Null Count   Dtype \n",
      "---  ------                       --------------   ----- \n",
      " 0   months_as_customer           232025 non-null  int16 \n",
      " 1   customer_age                 232025 non-null  int8  \n",
      " 2   policy_csl                   232025 non-null  object\n",
      " 3   policy_deductable            232025 non-null  int16 \n",
      " 4   policy_annual_premium        232025 non-null  int16 \n",
      " 5   umbrella_limit               232025 non-null  int32 \n",
      " 6   insured_sex                  232025 non-null  object\n",
      " 7   insured_education_level      232025 non-null  object\n",
      " 8   insured_occupation           232025 non-null  object\n",
      " 9   insured_relationship         232025 non-null  object\n",
      " 10  capital_gains                232025 non-null  int32 \n",
      " 11  capital_loss                 232025 non-null  int32 \n",
      " 12  incident_type                232025 non-null  object\n",
      " 13  collision_type               232025 non-null  object\n",
      " 14  incident_severity            232025 non-null  object\n",
      " 15  authorities_contacted        232025 non-null  object\n",
      " 16  incident_hour_of_the_day     232025 non-null  int64 \n",
      " 17  incident_time_of_day         232025 non-null  object\n",
      " 18  number_of_vehicles_involved  232025 non-null  int8  \n",
      " 19  property_damage              232025 non-null  object\n",
      " 20  bodily_injuries              232025 non-null  int8  \n",
      " 21  witnesses                    232025 non-null  int8  \n",
      " 22  police_report_available      232025 non-null  object\n",
      " 23  total_claim_amount           232025 non-null  int32 \n",
      " 24  injury_claim                 232025 non-null  int16 \n",
      " 25  property_claim               232025 non-null  int16 \n",
      " 26  vehicle_claim                232025 non-null  int32 \n",
      " 27  fraud_reported               232025 non-null  object\n",
      "dtypes: int16(5), int32(5), int64(1), int8(4), object(13)\n",
      "memory usage: 32.3+ MB\n"
     ]
    }
   ],
   "source": [
    "df.info()"
   ]
  },
  {
   "cell_type": "code",
   "execution_count": 486,
   "id": "44eeac43",
   "metadata": {},
   "outputs": [],
   "source": [
    "cat_df = pd.get_dummies(cat_df, drop_first = True)"
   ]
  },
  {
   "cell_type": "code",
   "execution_count": 487,
   "id": "ff74a5da",
   "metadata": {},
   "outputs": [],
   "source": [
    "num_df = df.select_dtypes(include = ['int16','int8','int32','float64','int64'])"
   ]
  },
  {
   "cell_type": "code",
   "execution_count": 488,
   "id": "91f64b39",
   "metadata": {
    "scrolled": true
   },
   "outputs": [
    {
     "data": {
      "text/plain": [
       "Index(['months_as_customer', 'customer_age', 'policy_deductable',\n",
       "       'policy_annual_premium', 'umbrella_limit', 'capital_gains',\n",
       "       'capital_loss', 'incident_hour_of_the_day',\n",
       "       'number_of_vehicles_involved', 'bodily_injuries', 'witnesses',\n",
       "       'total_claim_amount', 'injury_claim', 'property_claim',\n",
       "       'vehicle_claim'],\n",
       "      dtype='object')"
      ]
     },
     "execution_count": 488,
     "metadata": {},
     "output_type": "execute_result"
    }
   ],
   "source": [
    "num_df.columns"
   ]
  },
  {
   "cell_type": "code",
   "execution_count": 489,
   "id": "136ff93c-14fd-4d02-bad7-b9626f01e4b9",
   "metadata": {},
   "outputs": [
    {
     "data": {
      "text/plain": [
       "Index(['policy_csl_250/500', 'policy_csl_500/1000', 'insured_sex_MALE',\n",
       "       'insured_education_level_College',\n",
       "       'insured_education_level_High School', 'insured_education_level_JD',\n",
       "       'insured_education_level_MD', 'insured_education_level_Masters',\n",
       "       'insured_education_level_PhD', 'insured_occupation_armed-forces',\n",
       "       'insured_occupation_craft-repair', 'insured_occupation_exec-managerial',\n",
       "       'insured_occupation_farming-fishing',\n",
       "       'insured_occupation_handlers-cleaners',\n",
       "       'insured_occupation_machine-op-inspct',\n",
       "       'insured_occupation_other-service',\n",
       "       'insured_occupation_priv-house-serv',\n",
       "       'insured_occupation_prof-specialty',\n",
       "       'insured_occupation_protective-serv', 'insured_occupation_sales',\n",
       "       'insured_occupation_tech-support',\n",
       "       'insured_occupation_transport-moving',\n",
       "       'insured_relationship_not-in-family',\n",
       "       'insured_relationship_other-relative', 'insured_relationship_own-child',\n",
       "       'insured_relationship_unmarried', 'insured_relationship_wife',\n",
       "       'incident_type_Parked Car', 'incident_type_Single Vehicle Collision',\n",
       "       'incident_type_Vehicle Theft', 'collision_type_Front Collision',\n",
       "       'collision_type_Rear Collision', 'collision_type_Side Collision',\n",
       "       'incident_severity_Minor Damage', 'incident_severity_Total Loss',\n",
       "       'authorities_contacted_Fire', 'authorities_contacted_None',\n",
       "       'authorities_contacted_Other', 'authorities_contacted_Police',\n",
       "       'incident_time_of_day_Early Morning Hours',\n",
       "       'incident_time_of_day_Morning to Noon',\n",
       "       'incident_time_of_day_Night Time', 'property_damage_No Property Damage',\n",
       "       'property_damage_Property Damage',\n",
       "       'police_report_available_Police Report Available',\n",
       "       'police_report_available_Unknown'],\n",
       "      dtype='object')"
      ]
     },
     "execution_count": 489,
     "metadata": {},
     "output_type": "execute_result"
    }
   ],
   "source": [
    "cat_df.columns"
   ]
  },
  {
   "cell_type": "code",
   "execution_count": 490,
   "id": "5fd84c4c",
   "metadata": {},
   "outputs": [],
   "source": [
    "# combining the Numerical and Categorical dataframes to get the final dataset\n",
    "X = pd.concat([num_df, cat_df], axis = 1)"
   ]
  },
  {
   "cell_type": "code",
   "execution_count": 491,
   "id": "d6092193-81fa-47e3-9170-b6a2ae5dc2bf",
   "metadata": {},
   "outputs": [],
   "source": [
    "X.columns = X.columns.str.replace('/', '_')\n",
    "X.columns = X.columns.str.replace(' ', '_')\n",
    "X.columns = X.columns.str.replace('-', '_')"
   ]
  },
  {
   "cell_type": "code",
   "execution_count": 492,
   "id": "e5dc17e2",
   "metadata": {},
   "outputs": [],
   "source": [
    "# splitting data into training set and test set\n",
    "from sklearn.model_selection import train_test_split\n",
    "\n",
    "X_train, X_test, y_train, y_test = train_test_split(X, y, test_size = 0.25)"
   ]
  },
  {
   "cell_type": "code",
   "execution_count": 493,
   "id": "36da7ae2",
   "metadata": {},
   "outputs": [],
   "source": [
    "num_df = X_train[['months_as_customer', 'policy_deductable', 'umbrella_limit',\n",
    "       'capital_gains', 'capital_loss', 'incident_hour_of_the_day',\n",
    "       'number_of_vehicles_involved', 'bodily_injuries', 'witnesses', 'injury_claim', 'property_claim',\n",
    "       'vehicle_claim']]"
   ]
  },
  {
   "cell_type": "code",
   "execution_count": 494,
   "id": "4f94a7d3",
   "metadata": {},
   "outputs": [],
   "source": [
    "num_df_test = X_test[['months_as_customer', 'policy_deductable', 'umbrella_limit',\n",
    "       'capital_gains', 'capital_loss', 'incident_hour_of_the_day',\n",
    "       'number_of_vehicles_involved', 'bodily_injuries', 'witnesses', 'injury_claim', 'property_claim',\n",
    "       'vehicle_claim']]"
   ]
  },
  {
   "cell_type": "code",
   "execution_count": 495,
   "id": "4eac05ce",
   "metadata": {},
   "outputs": [],
   "source": [
    "# Scaling the numeric values in the dataset\n",
    "from sklearn.preprocessing import StandardScaler\n",
    "\n",
    "scaler = StandardScaler()\n",
    "scaled_data = scaler.fit_transform(num_df)"
   ]
  },
  {
   "cell_type": "code",
   "execution_count": 496,
   "id": "dd265d84",
   "metadata": {},
   "outputs": [],
   "source": [
    "scaled_data_test = scaler.transform(num_df_test)"
   ]
  },
  {
   "cell_type": "code",
   "execution_count": 497,
   "id": "fc7b669b",
   "metadata": {
    "scrolled": true
   },
   "outputs": [
    {
     "data": {
      "text/html": [
       "<div>\n",
       "<style scoped>\n",
       "    .dataframe tbody tr th:only-of-type {\n",
       "        vertical-align: middle;\n",
       "    }\n",
       "\n",
       "    .dataframe tbody tr th {\n",
       "        vertical-align: top;\n",
       "    }\n",
       "\n",
       "    .dataframe thead th {\n",
       "        text-align: right;\n",
       "    }\n",
       "</style>\n",
       "<table border=\"1\" class=\"dataframe\">\n",
       "  <thead>\n",
       "    <tr style=\"text-align: right;\">\n",
       "      <th></th>\n",
       "      <th>months_as_customer</th>\n",
       "      <th>policy_deductable</th>\n",
       "      <th>umbrella_limit</th>\n",
       "      <th>capital_gains</th>\n",
       "      <th>capital_loss</th>\n",
       "      <th>incident_hour_of_the_day</th>\n",
       "      <th>number_of_vehicles_involved</th>\n",
       "      <th>bodily_injuries</th>\n",
       "      <th>witnesses</th>\n",
       "      <th>injury_claim</th>\n",
       "      <th>property_claim</th>\n",
       "      <th>vehicle_claim</th>\n",
       "    </tr>\n",
       "  </thead>\n",
       "  <tbody>\n",
       "    <tr>\n",
       "      <th>97201</th>\n",
       "      <td>1.068203</td>\n",
       "      <td>1.373298</td>\n",
       "      <td>-0.406378</td>\n",
       "      <td>1.300374</td>\n",
       "      <td>0.885272</td>\n",
       "      <td>-0.177919</td>\n",
       "      <td>-0.678397</td>\n",
       "      <td>1.227554</td>\n",
       "      <td>-1.345625</td>\n",
       "      <td>0.563707</td>\n",
       "      <td>-0.951450</td>\n",
       "      <td>0.551414</td>\n",
       "    </tr>\n",
       "    <tr>\n",
       "      <th>201279</th>\n",
       "      <td>-1.303096</td>\n",
       "      <td>1.535847</td>\n",
       "      <td>0.248390</td>\n",
       "      <td>-1.415218</td>\n",
       "      <td>0.343237</td>\n",
       "      <td>1.357181</td>\n",
       "      <td>2.170139</td>\n",
       "      <td>0.003692</td>\n",
       "      <td>-1.345625</td>\n",
       "      <td>-0.728678</td>\n",
       "      <td>1.747594</td>\n",
       "      <td>1.199592</td>\n",
       "    </tr>\n",
       "    <tr>\n",
       "      <th>174476</th>\n",
       "      <td>1.342659</td>\n",
       "      <td>1.554531</td>\n",
       "      <td>-0.255366</td>\n",
       "      <td>1.008659</td>\n",
       "      <td>-1.632763</td>\n",
       "      <td>1.186614</td>\n",
       "      <td>-0.678397</td>\n",
       "      <td>-1.220170</td>\n",
       "      <td>-1.345625</td>\n",
       "      <td>-1.010841</td>\n",
       "      <td>1.981111</td>\n",
       "      <td>-0.998208</td>\n",
       "    </tr>\n",
       "    <tr>\n",
       "      <th>231154</th>\n",
       "      <td>-0.820054</td>\n",
       "      <td>-0.730490</td>\n",
       "      <td>1.591499</td>\n",
       "      <td>-1.026853</td>\n",
       "      <td>1.464270</td>\n",
       "      <td>-1.201318</td>\n",
       "      <td>-0.678397</td>\n",
       "      <td>1.227554</td>\n",
       "      <td>-0.449812</td>\n",
       "      <td>-0.654292</td>\n",
       "      <td>-0.981594</td>\n",
       "      <td>-0.029001</td>\n",
       "    </tr>\n",
       "    <tr>\n",
       "      <th>53287</th>\n",
       "      <td>0.014292</td>\n",
       "      <td>1.505953</td>\n",
       "      <td>-0.908285</td>\n",
       "      <td>0.913382</td>\n",
       "      <td>1.628511</td>\n",
       "      <td>-0.007352</td>\n",
       "      <td>-0.678397</td>\n",
       "      <td>0.003692</td>\n",
       "      <td>1.341816</td>\n",
       "      <td>-0.597943</td>\n",
       "      <td>-0.640604</td>\n",
       "      <td>0.780839</td>\n",
       "    </tr>\n",
       "  </tbody>\n",
       "</table>\n",
       "</div>"
      ],
      "text/plain": [
       "        months_as_customer  policy_deductable  umbrella_limit  capital_gains  \\\n",
       "97201             1.068203           1.373298       -0.406378       1.300374   \n",
       "201279           -1.303096           1.535847        0.248390      -1.415218   \n",
       "174476            1.342659           1.554531       -0.255366       1.008659   \n",
       "231154           -0.820054          -0.730490        1.591499      -1.026853   \n",
       "53287             0.014292           1.505953       -0.908285       0.913382   \n",
       "\n",
       "        capital_loss  incident_hour_of_the_day  number_of_vehicles_involved  \\\n",
       "97201       0.885272                 -0.177919                    -0.678397   \n",
       "201279      0.343237                  1.357181                     2.170139   \n",
       "174476     -1.632763                  1.186614                    -0.678397   \n",
       "231154      1.464270                 -1.201318                    -0.678397   \n",
       "53287       1.628511                 -0.007352                    -0.678397   \n",
       "\n",
       "        bodily_injuries  witnesses  injury_claim  property_claim  \\\n",
       "97201          1.227554  -1.345625      0.563707       -0.951450   \n",
       "201279         0.003692  -1.345625     -0.728678        1.747594   \n",
       "174476        -1.220170  -1.345625     -1.010841        1.981111   \n",
       "231154         1.227554  -0.449812     -0.654292       -0.981594   \n",
       "53287          0.003692   1.341816     -0.597943       -0.640604   \n",
       "\n",
       "        vehicle_claim  \n",
       "97201        0.551414  \n",
       "201279       1.199592  \n",
       "174476      -0.998208  \n",
       "231154      -0.029001  \n",
       "53287        0.780839  "
      ]
     },
     "execution_count": 497,
     "metadata": {},
     "output_type": "execute_result"
    }
   ],
   "source": [
    "scaled_num_df = pd.DataFrame(data = scaled_data, columns = num_df.columns, index = X_train.index)\n",
    "scaled_num_df.head()"
   ]
  },
  {
   "cell_type": "code",
   "execution_count": 498,
   "id": "2c749cfd",
   "metadata": {},
   "outputs": [
    {
     "data": {
      "text/html": [
       "<div>\n",
       "<style scoped>\n",
       "    .dataframe tbody tr th:only-of-type {\n",
       "        vertical-align: middle;\n",
       "    }\n",
       "\n",
       "    .dataframe tbody tr th {\n",
       "        vertical-align: top;\n",
       "    }\n",
       "\n",
       "    .dataframe thead th {\n",
       "        text-align: right;\n",
       "    }\n",
       "</style>\n",
       "<table border=\"1\" class=\"dataframe\">\n",
       "  <thead>\n",
       "    <tr style=\"text-align: right;\">\n",
       "      <th></th>\n",
       "      <th>months_as_customer</th>\n",
       "      <th>policy_deductable</th>\n",
       "      <th>umbrella_limit</th>\n",
       "      <th>capital_gains</th>\n",
       "      <th>capital_loss</th>\n",
       "      <th>incident_hour_of_the_day</th>\n",
       "      <th>number_of_vehicles_involved</th>\n",
       "      <th>bodily_injuries</th>\n",
       "      <th>witnesses</th>\n",
       "      <th>injury_claim</th>\n",
       "      <th>property_claim</th>\n",
       "      <th>vehicle_claim</th>\n",
       "    </tr>\n",
       "  </thead>\n",
       "  <tbody>\n",
       "    <tr>\n",
       "      <th>209906</th>\n",
       "      <td>-0.040599</td>\n",
       "      <td>0.011254</td>\n",
       "      <td>-0.722402</td>\n",
       "      <td>-1.712385</td>\n",
       "      <td>-0.936306</td>\n",
       "      <td>-0.860185</td>\n",
       "      <td>0.745871</td>\n",
       "      <td>0.003692</td>\n",
       "      <td>0.446002</td>\n",
       "      <td>0.127459</td>\n",
       "      <td>-0.941784</td>\n",
       "      <td>-0.441443</td>\n",
       "    </tr>\n",
       "    <tr>\n",
       "      <th>12905</th>\n",
       "      <td>-1.292118</td>\n",
       "      <td>1.808630</td>\n",
       "      <td>0.773756</td>\n",
       "      <td>0.734778</td>\n",
       "      <td>-1.204521</td>\n",
       "      <td>0.504348</td>\n",
       "      <td>-0.678397</td>\n",
       "      <td>1.227554</td>\n",
       "      <td>-1.345625</td>\n",
       "      <td>0.946402</td>\n",
       "      <td>-0.513035</td>\n",
       "      <td>1.493720</td>\n",
       "    </tr>\n",
       "    <tr>\n",
       "      <th>75740</th>\n",
       "      <td>-1.072553</td>\n",
       "      <td>-0.427814</td>\n",
       "      <td>1.380330</td>\n",
       "      <td>-0.579568</td>\n",
       "      <td>0.795249</td>\n",
       "      <td>0.674914</td>\n",
       "      <td>-0.678397</td>\n",
       "      <td>0.003692</td>\n",
       "      <td>0.446002</td>\n",
       "      <td>0.266303</td>\n",
       "      <td>0.033108</td>\n",
       "      <td>-1.392610</td>\n",
       "    </tr>\n",
       "    <tr>\n",
       "      <th>210717</th>\n",
       "      <td>-1.105488</td>\n",
       "      <td>-0.917327</td>\n",
       "      <td>0.257913</td>\n",
       "      <td>-1.510747</td>\n",
       "      <td>-0.764647</td>\n",
       "      <td>0.333781</td>\n",
       "      <td>2.170139</td>\n",
       "      <td>1.227554</td>\n",
       "      <td>1.341816</td>\n",
       "      <td>-0.555857</td>\n",
       "      <td>1.151085</td>\n",
       "      <td>0.660039</td>\n",
       "    </tr>\n",
       "    <tr>\n",
       "      <th>61238</th>\n",
       "      <td>1.112116</td>\n",
       "      <td>0.603529</td>\n",
       "      <td>0.493876</td>\n",
       "      <td>1.290843</td>\n",
       "      <td>-0.048676</td>\n",
       "      <td>0.333781</td>\n",
       "      <td>-0.678397</td>\n",
       "      <td>0.003692</td>\n",
       "      <td>0.446002</td>\n",
       "      <td>-0.052913</td>\n",
       "      <td>-0.601558</td>\n",
       "      <td>-1.081462</td>\n",
       "    </tr>\n",
       "  </tbody>\n",
       "</table>\n",
       "</div>"
      ],
      "text/plain": [
       "        months_as_customer  policy_deductable  umbrella_limit  capital_gains  \\\n",
       "209906           -0.040599           0.011254       -0.722402      -1.712385   \n",
       "12905            -1.292118           1.808630        0.773756       0.734778   \n",
       "75740            -1.072553          -0.427814        1.380330      -0.579568   \n",
       "210717           -1.105488          -0.917327        0.257913      -1.510747   \n",
       "61238             1.112116           0.603529        0.493876       1.290843   \n",
       "\n",
       "        capital_loss  incident_hour_of_the_day  number_of_vehicles_involved  \\\n",
       "209906     -0.936306                 -0.860185                     0.745871   \n",
       "12905      -1.204521                  0.504348                    -0.678397   \n",
       "75740       0.795249                  0.674914                    -0.678397   \n",
       "210717     -0.764647                  0.333781                     2.170139   \n",
       "61238      -0.048676                  0.333781                    -0.678397   \n",
       "\n",
       "        bodily_injuries  witnesses  injury_claim  property_claim  \\\n",
       "209906         0.003692   0.446002      0.127459       -0.941784   \n",
       "12905          1.227554  -1.345625      0.946402       -0.513035   \n",
       "75740          0.003692   0.446002      0.266303        0.033108   \n",
       "210717         1.227554   1.341816     -0.555857        1.151085   \n",
       "61238          0.003692   0.446002     -0.052913       -0.601558   \n",
       "\n",
       "        vehicle_claim  \n",
       "209906      -0.441443  \n",
       "12905        1.493720  \n",
       "75740       -1.392610  \n",
       "210717       0.660039  \n",
       "61238       -1.081462  "
      ]
     },
     "execution_count": 498,
     "metadata": {},
     "output_type": "execute_result"
    }
   ],
   "source": [
    "scaled_num_df_test = pd.DataFrame(data = scaled_data_test, columns = num_df_test.columns, index = X_test.index)\n",
    "scaled_num_df_test.head()"
   ]
  },
  {
   "cell_type": "code",
   "execution_count": 499,
   "id": "279e8a95",
   "metadata": {},
   "outputs": [],
   "source": [
    "X_train.drop(columns = scaled_num_df.columns, inplace = True)"
   ]
  },
  {
   "cell_type": "code",
   "execution_count": 500,
   "id": "c3f18e4c",
   "metadata": {},
   "outputs": [],
   "source": [
    "X_train = pd.concat([scaled_num_df, X_train], axis = 1)"
   ]
  },
  {
   "cell_type": "code",
   "execution_count": 501,
   "id": "11159f53",
   "metadata": {},
   "outputs": [],
   "source": [
    "X_test.drop(columns = scaled_num_df_test.columns, inplace = True)"
   ]
  },
  {
   "cell_type": "code",
   "execution_count": 502,
   "id": "6899602c",
   "metadata": {},
   "outputs": [],
   "source": [
    "X_test = pd.concat([scaled_num_df_test, X_test], axis = 1)"
   ]
  },
  {
   "cell_type": "markdown",
   "id": "3e398039",
   "metadata": {},
   "source": [
    "# Decision Tree"
   ]
  },
  {
   "cell_type": "code",
   "execution_count": 503,
   "id": "9e8a1365-172d-4811-96af-2a33b1293cf8",
   "metadata": {},
   "outputs": [],
   "source": [
    "X_train.columns = X_train.columns.str.upper()\n",
    "X_test.columns = X_test.columns.str.upper()"
   ]
  },
  {
   "cell_type": "code",
   "execution_count": 504,
   "id": "ac1aaef5-5d7b-424f-9eac-9053030db659",
   "metadata": {},
   "outputs": [],
   "source": [
    "from sklearn import preprocessing \n",
    "# label_encoder object knows  \n",
    "label_encoder = preprocessing.LabelEncoder() \n",
    "  \n",
    "# Encode labels in column 'species'. \n",
    "y_train_lb= label_encoder.fit_transform(y_train)\n",
    "\n",
    "y_test_lb= label_encoder.transform(y_test) "
   ]
  },
  {
   "cell_type": "code",
   "execution_count": 505,
   "id": "9a95a8dc-0b1b-4b40-93d1-144c50fab036",
   "metadata": {},
   "outputs": [],
   "source": [
    "y_train_lb  = pd.Series(y_train_lb)\n",
    "y_test_lb  = pd.Series(y_test_lb)"
   ]
  },
  {
   "cell_type": "code",
   "execution_count": 506,
   "id": "c47dde4e",
   "metadata": {},
   "outputs": [
    {
     "data": {
      "text/html": [
       "<style>#sk-container-id-5 {color: black;}#sk-container-id-5 pre{padding: 0;}#sk-container-id-5 div.sk-toggleable {background-color: white;}#sk-container-id-5 label.sk-toggleable__label {cursor: pointer;display: block;width: 100%;margin-bottom: 0;padding: 0.3em;box-sizing: border-box;text-align: center;}#sk-container-id-5 label.sk-toggleable__label-arrow:before {content: \"▸\";float: left;margin-right: 0.25em;color: #696969;}#sk-container-id-5 label.sk-toggleable__label-arrow:hover:before {color: black;}#sk-container-id-5 div.sk-estimator:hover label.sk-toggleable__label-arrow:before {color: black;}#sk-container-id-5 div.sk-toggleable__content {max-height: 0;max-width: 0;overflow: hidden;text-align: left;background-color: #f0f8ff;}#sk-container-id-5 div.sk-toggleable__content pre {margin: 0.2em;color: black;border-radius: 0.25em;background-color: #f0f8ff;}#sk-container-id-5 input.sk-toggleable__control:checked~div.sk-toggleable__content {max-height: 200px;max-width: 100%;overflow: auto;}#sk-container-id-5 input.sk-toggleable__control:checked~label.sk-toggleable__label-arrow:before {content: \"▾\";}#sk-container-id-5 div.sk-estimator input.sk-toggleable__control:checked~label.sk-toggleable__label {background-color: #d4ebff;}#sk-container-id-5 div.sk-label input.sk-toggleable__control:checked~label.sk-toggleable__label {background-color: #d4ebff;}#sk-container-id-5 input.sk-hidden--visually {border: 0;clip: rect(1px 1px 1px 1px);clip: rect(1px, 1px, 1px, 1px);height: 1px;margin: -1px;overflow: hidden;padding: 0;position: absolute;width: 1px;}#sk-container-id-5 div.sk-estimator {font-family: monospace;background-color: #f0f8ff;border: 1px dotted black;border-radius: 0.25em;box-sizing: border-box;margin-bottom: 0.5em;}#sk-container-id-5 div.sk-estimator:hover {background-color: #d4ebff;}#sk-container-id-5 div.sk-parallel-item::after {content: \"\";width: 100%;border-bottom: 1px solid gray;flex-grow: 1;}#sk-container-id-5 div.sk-label:hover label.sk-toggleable__label {background-color: #d4ebff;}#sk-container-id-5 div.sk-serial::before {content: \"\";position: absolute;border-left: 1px solid gray;box-sizing: border-box;top: 0;bottom: 0;left: 50%;z-index: 0;}#sk-container-id-5 div.sk-serial {display: flex;flex-direction: column;align-items: center;background-color: white;padding-right: 0.2em;padding-left: 0.2em;position: relative;}#sk-container-id-5 div.sk-item {position: relative;z-index: 1;}#sk-container-id-5 div.sk-parallel {display: flex;align-items: stretch;justify-content: center;background-color: white;position: relative;}#sk-container-id-5 div.sk-item::before, #sk-container-id-5 div.sk-parallel-item::before {content: \"\";position: absolute;border-left: 1px solid gray;box-sizing: border-box;top: 0;bottom: 0;left: 50%;z-index: -1;}#sk-container-id-5 div.sk-parallel-item {display: flex;flex-direction: column;z-index: 1;position: relative;background-color: white;}#sk-container-id-5 div.sk-parallel-item:first-child::after {align-self: flex-end;width: 50%;}#sk-container-id-5 div.sk-parallel-item:last-child::after {align-self: flex-start;width: 50%;}#sk-container-id-5 div.sk-parallel-item:only-child::after {width: 0;}#sk-container-id-5 div.sk-dashed-wrapped {border: 1px dashed gray;margin: 0 0.4em 0.5em 0.4em;box-sizing: border-box;padding-bottom: 0.4em;background-color: white;}#sk-container-id-5 div.sk-label label {font-family: monospace;font-weight: bold;display: inline-block;line-height: 1.2em;}#sk-container-id-5 div.sk-label-container {text-align: center;}#sk-container-id-5 div.sk-container {/* jupyter's `normalize.less` sets `[hidden] { display: none; }` but bootstrap.min.css set `[hidden] { display: none !important; }` so we also need the `!important` here to be able to override the default hidden behavior on the sphinx rendered scikit-learn.org. See: https://github.com/scikit-learn/scikit-learn/issues/21755 */display: inline-block !important;position: relative;}#sk-container-id-5 div.sk-text-repr-fallback {display: none;}</style><div id=\"sk-container-id-5\" class=\"sk-top-container\"><div class=\"sk-text-repr-fallback\"><pre>DecisionTreeClassifier()</pre><b>In a Jupyter environment, please rerun this cell to show the HTML representation or trust the notebook. <br />On GitHub, the HTML representation is unable to render, please try loading this page with nbviewer.org.</b></div><div class=\"sk-container\" hidden><div class=\"sk-item\"><div class=\"sk-estimator sk-toggleable\"><input class=\"sk-toggleable__control sk-hidden--visually\" id=\"sk-estimator-id-5\" type=\"checkbox\" checked><label for=\"sk-estimator-id-5\" class=\"sk-toggleable__label sk-toggleable__label-arrow\">DecisionTreeClassifier</label><div class=\"sk-toggleable__content\"><pre>DecisionTreeClassifier()</pre></div></div></div></div></div>"
      ],
      "text/plain": [
       "DecisionTreeClassifier()"
      ]
     },
     "execution_count": 506,
     "metadata": {},
     "output_type": "execute_result"
    }
   ],
   "source": [
    "#from sklearn.tree import DecisionTreeClassifier\n",
    "dtc = DecisionTreeClassifier()\n",
    "dtc.fit(X_train, y_train_lb)"
   ]
  },
  {
   "cell_type": "code",
   "execution_count": 507,
   "id": "797d22a1",
   "metadata": {},
   "outputs": [],
   "source": [
    "y_pred = dtc.predict(X_test)"
   ]
  },
  {
   "cell_type": "code",
   "execution_count": 508,
   "id": "dcbf55f4-7b6f-4348-bc34-2b27f6bcb815",
   "metadata": {},
   "outputs": [
    {
     "data": {
      "text/plain": [
       "array([1, 1, 1, ..., 1, 1, 1])"
      ]
     },
     "execution_count": 508,
     "metadata": {},
     "output_type": "execute_result"
    }
   ],
   "source": [
    "y_pred"
   ]
  },
  {
   "cell_type": "code",
   "execution_count": 509,
   "id": "08c859c8-4bed-4a62-8487-577b59c7504c",
   "metadata": {},
   "outputs": [],
   "source": [
    "y_pred_lb = label_encoder.inverse_transform(y_pred)"
   ]
  },
  {
   "cell_type": "code",
   "execution_count": 510,
   "id": "6b1b8f05-9abe-43f5-87a2-3f0a4d0fdde9",
   "metadata": {},
   "outputs": [
    {
     "data": {
      "text/plain": [
       "array(['No Fraud Reported', 'No Fraud Reported', 'No Fraud Reported', ...,\n",
       "       'No Fraud Reported', 'No Fraud Reported', 'No Fraud Reported'],\n",
       "      dtype=object)"
      ]
     },
     "execution_count": 510,
     "metadata": {},
     "output_type": "execute_result"
    }
   ],
   "source": [
    "y_pred_lb"
   ]
  },
  {
   "cell_type": "code",
   "execution_count": 511,
   "id": "83f82e48-01d2-4e39-b756-1cbb15e415bb",
   "metadata": {},
   "outputs": [],
   "source": [
    "y_train_out = dtc.predict(X_train)\n",
    "y_train_out_lb = label_encoder.inverse_transform(y_train_out)"
   ]
  },
  {
   "cell_type": "code",
   "execution_count": 512,
   "id": "9944f07f-3892-4903-9cc9-00f2cc863407",
   "metadata": {},
   "outputs": [
    {
     "data": {
      "text/plain": [
       "array(['No Fraud Reported', 'No Fraud Reported', 'No Fraud Reported', ...,\n",
       "       'No Fraud Reported', 'No Fraud Reported', 'No Fraud Reported'],\n",
       "      dtype=object)"
      ]
     },
     "execution_count": 512,
     "metadata": {},
     "output_type": "execute_result"
    }
   ],
   "source": [
    "y_train_out_lb"
   ]
  },
  {
   "cell_type": "code",
   "execution_count": 513,
   "id": "b44e1785-707e-4f1e-b085-e18890cbead7",
   "metadata": {},
   "outputs": [
    {
     "data": {
      "text/plain": [
       "array(['No Fraud Reported', 'No Fraud Reported', 'No Fraud Reported', ...,\n",
       "       'No Fraud Reported', 'No Fraud Reported', 'No Fraud Reported'],\n",
       "      dtype=object)"
      ]
     },
     "execution_count": 513,
     "metadata": {},
     "output_type": "execute_result"
    }
   ],
   "source": [
    "y_pred_lb"
   ]
  },
  {
   "cell_type": "code",
   "execution_count": 514,
   "id": "9b41528c",
   "metadata": {
    "scrolled": true
   },
   "outputs": [
    {
     "name": "stdout",
     "output_type": "stream",
     "text": [
      "Training accuracy of Decision Tree is : 1.0\n",
      "Test accuracy of Decision Tree is : 0.9934318271932697\n",
      "[[ 8615   178]\n",
      " [  203 49011]]\n",
      "              precision    recall  f1-score   support\n",
      "\n",
      "           0       0.98      0.98      0.98      8793\n",
      "           1       1.00      1.00      1.00     49214\n",
      "\n",
      "    accuracy                           0.99     58007\n",
      "   macro avg       0.99      0.99      0.99     58007\n",
      "weighted avg       0.99      0.99      0.99     58007\n",
      "\n"
     ]
    }
   ],
   "source": [
    "dtc_train_acc = accuracy_score(y_train_lb, dtc.predict(X_train))\n",
    "dtc_test_acc = accuracy_score(y_test_lb, y_pred)\n",
    "\n",
    "print(f\"Training accuracy of Decision Tree is : {dtc_train_acc}\")\n",
    "print(f\"Test accuracy of Decision Tree is : {dtc_test_acc}\")\n",
    "\n",
    "print(confusion_matrix(y_test_lb, y_pred))\n",
    "print(classification_report(y_test_lb, y_pred))"
   ]
  },
  {
   "cell_type": "code",
   "execution_count": 515,
   "id": "cdc19f62",
   "metadata": {},
   "outputs": [],
   "source": [
    "from fosforml import register_model"
   ]
  },
  {
   "cell_type": "code",
   "execution_count": 516,
   "id": "508c8072-62ca-42d0-9af5-2666da6bcebf",
   "metadata": {},
   "outputs": [
    {
     "data": {
      "text/plain": [
       "numpy.ndarray"
      ]
     },
     "execution_count": 516,
     "metadata": {},
     "output_type": "execute_result"
    }
   ],
   "source": [
    "type(y_pred)"
   ]
  },
  {
   "cell_type": "code",
   "execution_count": 517,
   "id": "d750d617-c026-4f5b-a6fa-f96a58bebba5",
   "metadata": {},
   "outputs": [],
   "source": [
    "y_pred =  pd.Series(y_pred)"
   ]
  },
  {
   "cell_type": "code",
   "execution_count": 518,
   "id": "0dbb411d-a9f2-4cce-8387-f7c8f4f5604c",
   "metadata": {},
   "outputs": [
    {
     "data": {
      "text/plain": [
       "(pandas.core.frame.DataFrame,\n",
       " pandas.core.frame.DataFrame,\n",
       " pandas.core.series.Series,\n",
       " pandas.core.series.Series,\n",
       " pandas.core.series.Series)"
      ]
     },
     "execution_count": 518,
     "metadata": {},
     "output_type": "execute_result"
    }
   ],
   "source": [
    "type(X_train), type(X_test),type(y_train_lb),type(y_test_lb), type(y_pred), "
   ]
  },
  {
   "cell_type": "code",
   "execution_count": 519,
   "id": "ff60508b-05e1-46c0-b81e-e37810588473",
   "metadata": {},
   "outputs": [],
   "source": [
    "#y_pred_series.name = 'fraud_predicted'"
   ]
  },
  {
   "cell_type": "code",
   "execution_count": 520,
   "id": "ef07206d-67c2-4a03-ad3e-947f06ec2161",
   "metadata": {},
   "outputs": [],
   "source": [
    "from snowflake.ml.registry import Registry\n",
    " \n",
    "model_registry = Registry(session=my_session,\n",
    "                          database_name='FDC_Insurance',\n",
    "                          schema_name='INS_CLAIMS_RESERV_SCHEMA'\n",
    "                         )"
   ]
  },
  {
   "cell_type": "code",
   "execution_count": 522,
   "id": "a4cb0b4e-43c5-4b88-9cfe-fc4460bd30f7",
   "metadata": {},
   "outputs": [
    {
     "data": {
      "text/plain": [
       "<snowflake.ml.model._client.model.model_version_impl.ModelVersion at 0x7fceabc616a0>"
      ]
     },
     "execution_count": 522,
     "metadata": {},
     "output_type": "execute_result"
    }
   ],
   "source": [
    "model_registry.log_model(dtc,\n",
    "                         model_name=\"Claims_Fraud_DTree_Classifier\",\n",
    "                         version_name=\"v2\",\n",
    "                         comment=\"Insurance claims model\",\n",
    "                         conda_dependencies=[\"scikit-learn==1.3.2\"],\n",
    "                         metrics=[],\n",
    "                         sample_input_data= X_train,\n",
    "                         python_version='3.9')"
   ]
  },
  {
   "cell_type": "code",
   "execution_count": 523,
   "id": "c68a213e-d668-40e1-8343-bf51ce7f5d46",
   "metadata": {},
   "outputs": [],
   "source": [
    "y_pred.name = \"FRAUD_PREDICTED\""
   ]
  },
  {
   "cell_type": "code",
   "execution_count": 524,
   "id": "82fdaa44-22cf-4d9b-87d9-78b76f8609ee",
   "metadata": {},
   "outputs": [],
   "source": [
    "y_train_lb.name = 'FRAUD_REPORTED'\n",
    "y_test_lb.name = 'FRAUD_REPORTED'"
   ]
  },
  {
   "cell_type": "code",
   "execution_count": 525,
   "id": "c94ebae0-e372-4a98-845a-9ffcc43ce591",
   "metadata": {},
   "outputs": [
    {
     "data": {
      "text/plain": [
       "0        1\n",
       "1        1\n",
       "2        1\n",
       "3        1\n",
       "4        1\n",
       "        ..\n",
       "58002    1\n",
       "58003    1\n",
       "58004    1\n",
       "58005    1\n",
       "58006    1\n",
       "Name: FRAUD_REPORTED, Length: 58007, dtype: int64"
      ]
     },
     "execution_count": 525,
     "metadata": {},
     "output_type": "execute_result"
    }
   ],
   "source": [
    "y_test_lb"
   ]
  },
  {
   "cell_type": "code",
   "execution_count": null,
   "id": "26e0a320",
   "metadata": {
    "scrolled": true
   },
   "outputs": [
    {
     "name": "stderr",
     "output_type": "stream",
     "text": [
      "WARNING:snowflake.snowpark._internal.udf_utils:Got error object of type 'NoneType' has no len() when trying to read default values from function: <class 'snowflake.ml.modeling.metrics.classification._register_confusion_matrix_computer.<locals>.ConfusionMatrixComputer'>. Proceeding without creating optional arguments\n",
      "WARNING:snowflake.snowpark._internal.udf_utils:Got error object of type 'NoneType' has no len() when trying to read default values from function: <class 'snowflake.ml.modeling.metrics.metrics_utils.register_accumulator_udtf.<locals>.Accumulator'>. Proceeding without creating optional arguments\n"
     ]
    },
    {
     "name": "stdout",
     "output_type": "stream",
     "text": [
      "Calculating build time metrics\n",
      "\n",
      "Progress: ██████████████                                                         20.0%\n",
      "Calculating build time metrics\n",
      "\n",
      "Progress: ████████████████████████████                                           40.0%\n"
     ]
    },
    {
     "name": "stderr",
     "output_type": "stream",
     "text": [
      "WARNING:snowflake.snowpark._internal.udf_utils:Got error object of type 'NoneType' has no len() when trying to read default values from function: <class 'snowflake.ml.modeling.metrics.classification._register_multilabel_confusion_matrix_computer.<locals>.MultilabelConfusionMatrixComputer'>. Proceeding without creating optional arguments\n",
      "WARNING:snowflake.snowpark.session:The version of package 'scikit-learn' in the local environment is 1.3.2, which does not fit the criteria for the requirement 'scikit-learn<1.4'. Your UDF might not work when the package version is different between the server and your local environment.\n",
      "WARNING:snowflake.snowpark._internal.udf_utils:Got error object of type 'NoneType' has no len() when trying to read default values from function: <class 'snowflake.ml.modeling.metrics.classification._register_multilabel_confusion_matrix_computer.<locals>.MultilabelConfusionMatrixComputer'>. Proceeding without creating optional arguments\n",
      "WARNING:snowflake.snowpark.session:The version of package 'scikit-learn' in the local environment is 1.3.2, which does not fit the criteria for the requirement 'scikit-learn<1.4'. Your UDF might not work when the package version is different between the server and your local environment.\n",
      "WARNING:snowflake.snowpark._internal.udf_utils:Got error object of type 'NoneType' has no len() when trying to read default values from function: <function roc_auc_score.<locals>.roc_auc_score_anon_sproc at 0x7fceec2503a0>. Proceeding without creating optional arguments\n"
     ]
    },
    {
     "name": "stdout",
     "output_type": "stream",
     "text": [
      "Calculating build time metrics\n",
      "\n",
      "Progress: ██████████████████████████████████████████                             60.0%\n"
     ]
    },
    {
     "name": "stderr",
     "output_type": "stream",
     "text": [
      "WARNING:snowflake.snowpark.session:The version of package 'scikit-learn' in the local environment is 1.3.2, which does not fit the criteria for the requirement 'scikit-learn==1.3.*'. Your UDF might not work when the package version is different between the server and your local environment.\n",
      "WARNING:snowflake.snowpark.session:The version of package 'snowflake-snowpark-python' in the local environment is 1.21.0, which does not fit the criteria for the requirement 'snowflake-snowpark-python'. Your UDF might not work when the package version is different between the server and your local environment.\n",
      "WARNING:snowflake.snowpark._internal.udf_utils:Got error object of type 'NoneType' has no len() when trying to read default values from function: <function roc_curve.<locals>.roc_curve_anon_sproc at 0x7fceec5bb700>. Proceeding without creating optional arguments\n",
      "WARNING:snowflake.snowpark.session:The version of package 'scikit-learn' in the local environment is 1.3.2, which does not fit the criteria for the requirement 'scikit-learn==1.3.*'. Your UDF might not work when the package version is different between the server and your local environment.\n",
      "WARNING:snowflake.snowpark.session:The version of package 'snowflake-snowpark-python' in the local environment is 1.21.0, which does not fit the criteria for the requirement 'snowflake-snowpark-python'. Your UDF might not work when the package version is different between the server and your local environment.\n"
     ]
    },
    {
     "name": "stdout",
     "output_type": "stream",
     "text": [
      "Calculating build time metrics\n",
      "\n",
      "Progress: ████████████████████████████████████████████████████████               80.0%\n",
      "Calculating build time metrics\n",
      "\n",
      "Progress: ██████████████████████████████████████████████████████████████████████ 100.0%\n"
     ]
    }
   ],
   "source": [
    "## registering the model in Fosfor Insight Designer.\n",
    "register_model(\n",
    "    model_obj=dtc, \n",
    "    session=my_session,\n",
    "    x_train=X_train,\n",
    "    y_train=y_train_lb,\n",
    "    x_test=X_test,\n",
    "    y_test=y_test_lb,\n",
    "    y_pred=y_pred,\n",
    "    source=\"Notebook\",\n",
    "    dataset_name=\"AUTO_INSURANCE_CLAIMS_DATA\",\n",
    "    dataset_source=\"Snowflake\",\n",
    "    #dataset_source=\"InMemory\",\n",
    "    name=\"Claims_Fraud_DTree_Classifier\",\n",
    "    description=\"Insurance claims model trained for Fraud Classification\",\n",
    "    flavour=\"sklearn\",\n",
    "    model_type=\"classification\",\n",
    "    conda_dependencies=[\"scikit-learn==1.3.2\"]\n",
    ")"
   ]
  },
  {
   "cell_type": "markdown",
   "id": "6a28015c-4da2-460c-92b6-f2a35c6f1877",
   "metadata": {},
   "source": [
    "### Push X_test to Snowflake for Model Deployment Setup"
   ]
  },
  {
   "cell_type": "code",
   "execution_count": 458,
   "id": "9bebc5e6-5020-423e-ad00-02389f33e569",
   "metadata": {},
   "outputs": [
    {
     "name": "stdout",
     "output_type": "stream",
     "text": [
      "-----------------------------------------------------------------------------------------------------------------------------------------------------------------------------------------------------------------------------------------------------------------------------------------------------------------------------------------------------------------------------------------------------------------------------------------------------------------------------------------------------------------------------------------------------------------------------------------------------------------------------------------------------------------------------------------------------------------------------------------------------------------------------------------------------------------------------------------------------------------------------------------------------------------------------------------------------------------------------------------------------------------------------------------------------------------------------------------------------------------------------------------------------------------------------------------------------------------------------------------------------------------------------------------------------------------------------------------------------------------------------------------------------------------------------------------------------------------------------------------------------------------------------------------------------------------------------------------------------------------------------------------------------------------------------------------------------------------------------------------------------------------------------------------------------------------------------------------------------------------------------------------------------------------------------------------------------------------------------------------------------------------------------------------------------------------\n",
      "|\"months_as_customer\"  |\"policy_deductable\"   |\"umbrella_limit\"      |\"capital_gains\"      |\"capital_loss\"        |\"incident_hour_of_the_day\"  |\"number_of_vehicles_involved\"  |\"bodily_injuries\"     |\"witnesses\"          |\"injury_claim\"        |\"property_claim\"      |\"vehicle_claim\"      |\"customer_age\"  |\"policy_annual_premium\"  |\"total_claim_amount\"  |\"policy_csl_250_500\"  |\"policy_csl_500_1000\"  |\"insured_sex_MALE\"  |\"insured_education_level_College\"  |\"insured_education_level_High_School\"  |\"insured_education_level_JD\"  |\"insured_education_level_MD\"  |\"insured_education_level_Masters\"  |\"insured_education_level_PhD\"  |\"insured_occupation_armed_forces\"  |\"insured_occupation_craft_repair\"  |\"insured_occupation_exec_managerial\"  |\"insured_occupation_farming_fishing\"  |\"insured_occupation_handlers_cleaners\"  |\"insured_occupation_machine_op_inspct\"  |\"insured_occupation_other_service\"  |\"insured_occupation_priv_house_serv\"  |\"insured_occupation_prof_specialty\"  |\"insured_occupation_protective_serv\"  |\"insured_occupation_sales\"  |\"insured_occupation_tech_support\"  |\"insured_occupation_transport_moving\"  |\"insured_relationship_not_in_family\"  |\"insured_relationship_other_relative\"  |\"insured_relationship_own_child\"  |\"insured_relationship_unmarried\"  |\"insured_relationship_wife\"  |\"incident_type_Parked_Car\"  |\"incident_type_Single_Vehicle_Collision\"  |\"incident_type_Vehicle_Theft\"  |\"collision_type_Front_Collision\"  |\"collision_type_Rear_Collision\"  |\"collision_type_Side_Collision\"  |\"incident_severity_Minor_Damage\"  |\"incident_severity_Total_Loss\"  |\"authorities_contacted_Fire\"  |\"authorities_contacted_None\"  |\"authorities_contacted_Other\"  |\"authorities_contacted_Police\"  |\"incident_time_of_day_Early_Morning_Hours\"  |\"incident_time_of_day_Morning_to_Noon\"  |\"incident_time_of_day_Night_Time\"  |\"property_damage_No_Property_Damage\"  |\"property_damage_Property_Damage\"  |\"police_report_available_Police_Report_Available\"  |\"police_report_available_Unknown\"  |\n",
      "-----------------------------------------------------------------------------------------------------------------------------------------------------------------------------------------------------------------------------------------------------------------------------------------------------------------------------------------------------------------------------------------------------------------------------------------------------------------------------------------------------------------------------------------------------------------------------------------------------------------------------------------------------------------------------------------------------------------------------------------------------------------------------------------------------------------------------------------------------------------------------------------------------------------------------------------------------------------------------------------------------------------------------------------------------------------------------------------------------------------------------------------------------------------------------------------------------------------------------------------------------------------------------------------------------------------------------------------------------------------------------------------------------------------------------------------------------------------------------------------------------------------------------------------------------------------------------------------------------------------------------------------------------------------------------------------------------------------------------------------------------------------------------------------------------------------------------------------------------------------------------------------------------------------------------------------------------------------------------------------------------------------------------------------------------------------\n",
      "|0.18859697161363448   |1.1665021900671733    |1.0714991640152363    |-1.35709016930509    |0.020499352737135303  |1.017213052349862           |-0.678024697603615             |-1.2195662260616285   |1.3439102148512816   |-1.0085938202394182   |-0.10015275266056106  |0.1663965671299106   |47              |2504                     |61849                 |True                  |False                  |False               |False                              |True                                   |False                         |False                         |False                              |False                          |False                              |False                              |False                                 |False                                 |False                                   |False                                   |False                               |False                                 |False                                |True                                  |False                       |False                              |False                                  |True                                  |False                                  |False                             |False                             |False                        |False                       |True                                      |False                          |False                             |False                            |True                             |False                             |False                           |False                         |False                         |False                          |True                            |False                                       |False                                   |True                               |False                                 |True                               |True                                               |False                              |\n",
      "|1.658480704006336     |-0.700379986958408    |0.9750300984164516    |1.6028066416043023   |0.8345831770806516    |-0.5176530674342175         |-0.678024697603615             |1.2273279840636118    |0.44776751625225675  |0.9212076565830112    |0.3504982999089207    |1.5668639592952738   |66              |1204                     |101161                |True                  |False                  |True                |False                              |False                                  |False                         |False                         |True                               |False                          |True                               |False                              |False                                 |False                                 |False                                   |False                                   |False                               |False                                 |False                                |False                                 |False                       |False                              |False                                  |False                                 |False                                  |True                              |False                             |False                        |False                       |True                                      |False                          |False                             |False                            |True                             |False                             |True                            |False                         |False                         |False                          |True                            |False                                       |True                                    |False                              |False                                 |True                               |True                                               |False                              |\n",
      "|-1.2374096344389864   |0.5217831199232037    |1.6013458961105522    |-1.1744897497402014  |-0.10031978515594889  |1.1877537323258707          |-0.678024697603615             |-1.2195662260616285   |1.3439102148512816   |-1.0071952106751172   |-0.9415968076697372   |0.6025763694421563   |19              |2071                     |62080                 |False                 |True                   |True                |False                              |False                                  |False                         |True                          |False                              |False                          |False                              |False                              |False                                 |False                                 |False                                   |False                                   |False                               |False                                 |True                                 |False                                 |False                       |False                              |False                                  |False                                 |False                                  |False                             |False                             |False                        |False                       |True                                      |False                          |True                              |False                            |False                            |False                             |False                           |False                         |False                         |True                           |False                           |False                                       |False                                   |True                               |True                                  |False                              |False                                              |True                               |\n",
      "|-0.2062971654470913   |0.42087056981371285   |0.5889444671623725    |-0.9685179213803605  |1.2356959628556308    |-0.6881937474102263         |-0.678024697603615             |1.2273279840636118    |-0.448375182346768   |1.4093223945240372    |-0.980993825801869    |-1.1725517503158798  |61              |2053                     |51203                 |False                 |False                  |False               |False                              |False                                  |False                         |False                         |False                              |True                           |False                              |False                              |False                                 |False                                 |False                                   |False                                   |False                               |False                                 |True                                 |False                                 |False                       |False                              |False                                  |True                                  |False                                  |False                             |False                             |False                        |False                       |True                                      |False                          |True                              |False                            |False                            |True                              |False                           |False                         |False                         |False                          |True                            |False                                       |True                                    |False                              |True                                  |False                              |True                                               |False                              |\n",
      "|1.658480704006336     |0.7983582572603268    |-0.9816596665992403   |-0.8135513932036301  |0.3227370983152942    |0.8466723723738531          |0.7489391026937284             |-1.2195662260616285   |-0.448375182346768   |-1.0357268457868563   |2.0506702630433047    |1.1294729005895856   |53              |2367                     |93686                 |False                 |True                   |False               |False                              |False                                  |False                         |False                         |True                               |False                          |False                              |False                              |False                                 |False                                 |True                                    |False                                   |False                               |False                                 |False                                |False                                 |False                       |False                              |False                                  |False                                 |False                                  |True                              |False                             |False                        |False                       |False                                     |False                          |False                             |True                             |False                            |False                             |False                           |True                          |False                         |False                          |False                           |False                                       |False                                   |True                               |False                                 |True                               |False                                              |False                              |\n",
      "|-1.281286760779067    |-1.4815178748429856   |0.42576811926319325   |1.4666961804924328   |-0.9774928903762241   |0.8466723723738531          |0.7489391026937284             |0.003880879000991644  |-1.3445178809457927  |-0.43698209130962623  |1.5324088438728745    |-1.3577464778395678  |19              |568                      |54874                 |False                 |True                   |False               |False                              |False                                  |True                          |False                         |False                              |False                          |False                              |False                              |False                                 |False                                 |False                                   |False                                   |False                               |False                                 |False                                |False                                 |False                       |False                              |True                                   |False                                 |True                                   |False                             |False                             |False                        |True                        |False                                     |False                          |False                             |True                             |False                            |True                              |False                           |False                         |True                          |False                          |False                           |False                                       |False                                   |True                               |False                                 |False                              |True                                               |False                              |\n",
      "|2.053374841067062     |0.5628956403381815    |-0.27457544157664365  |-1.5706477717714842  |0.8316291639292314    |0.16450965246981777         |-0.678024697603615             |0.003880879000991644  |-0.448375182346768   |-0.7621588150095935   |-0.1255701837135493   |1.474362221038175    |66              |1993                     |83928                 |False                 |False                  |True                |False                              |False                                  |False                         |False                         |False                              |False                          |False                              |False                              |False                                 |False                                 |False                                   |False                                   |False                               |False                                 |False                                |False                                 |False                       |False                              |False                                  |False                                 |False                                  |False                             |False                             |True                         |False                       |True                                      |False                          |False                             |False                            |True                             |False                             |True                            |True                          |False                         |False                          |False                           |False                                       |False                                   |False                              |False                                 |True                               |False                                              |True                               |\n",
      "|0.0679348741784127    |-1.3637865663819129   |1.3181984905048107    |0.5808222557823775   |1.2694983133454527    |0.3350503324458266          |-0.678024697603615             |0.003880879000991644  |-0.448375182346768   |1.6086242574369203    |1.0840453600981617    |0.32411489962340606  |42              |631                      |92354                 |False                 |False                  |True                |False                              |False                                  |True                          |False                         |False                              |False                          |False                              |False                              |False                                 |False                                 |False                                   |False                                   |False                               |False                                 |False                                |False                                 |False                       |True                               |False                                  |False                                 |False                                  |False                             |False                             |False                        |False                       |True                                      |False                          |True                              |False                            |False                            |False                             |True                            |False                         |False                         |True                           |False                           |False                                       |False                                   |False                              |False                                 |True                               |False                                              |False                              |\n",
      "|-0.10757363118190988  |-0.15844221785188295  |-1.0289476495411969   |-0.1807172190478863  |-0.7555621023288158   |1.017213052349862           |-0.678024697603615             |1.2273279840636118    |-0.448375182346768   |0.6480592086750386    |-0.5557602042853755   |1.0859951710986544   |35              |1538                     |84534                 |True                  |False                  |True                |False                              |False                                  |False                         |False                         |True                               |False                          |False                              |False                              |False                                 |False                                 |False                                   |True                                    |False                               |False                                 |False                                |False                                 |False                       |False                              |False                                  |False                                 |False                                  |False                             |False                             |False                        |False                       |True                                      |False                          |False                             |False                            |False                            |False                             |False                           |False                         |True                          |False                          |False                           |False                                       |False                                   |True                               |False                                 |True                               |False                                              |False                              |\n",
      "|-1.1715939449288655   |1.1496834317155913    |1.6089564541330388    |1.6637095708597727   |0.32792772142421817   |-2.052519187218297          |-0.678024697603615             |1.2273279840636118    |0.44776751625225675  |1.3979936570531994    |-0.7837545608306801   |1.308547595809565    |27              |2173                     |91593                 |False                 |True                   |False               |False                              |True                                   |False                         |False                         |False                              |False                          |False                              |False                              |False                                 |False                                 |False                                   |False                                   |False                               |False                                 |False                                |False                                 |True                        |False                              |False                                  |False                                 |False                                  |True                              |False                             |False                        |False                       |True                                      |False                          |True                              |False                            |False                            |False                             |True                            |False                         |False                         |False                          |False                           |True                                        |False                                   |False                              |False                                 |True                               |False                                              |False                              |\n",
      "-----------------------------------------------------------------------------------------------------------------------------------------------------------------------------------------------------------------------------------------------------------------------------------------------------------------------------------------------------------------------------------------------------------------------------------------------------------------------------------------------------------------------------------------------------------------------------------------------------------------------------------------------------------------------------------------------------------------------------------------------------------------------------------------------------------------------------------------------------------------------------------------------------------------------------------------------------------------------------------------------------------------------------------------------------------------------------------------------------------------------------------------------------------------------------------------------------------------------------------------------------------------------------------------------------------------------------------------------------------------------------------------------------------------------------------------------------------------------------------------------------------------------------------------------------------------------------------------------------------------------------------------------------------------------------------------------------------------------------------------------------------------------------------------------------------------------------------------------------------------------------------------------------------------------------------------------------------------------------------------------------------------------------------------------------------------\n",
      "\n"
     ]
    }
   ],
   "source": [
    "sf_df = my_session.createDataFrame(X_test)\n",
    "sf_df.write.mode(\"overwrite\").save_as_table(\"AUTO_INSURANCE_CLAIMS_DATA_XTEST\")\n",
    "my_session.table(\"AUTO_INSURANCE_CLAIMS_DATA_XTEST\").show()"
   ]
  },
  {
   "cell_type": "markdown",
   "id": "7efd9372",
   "metadata": {},
   "source": [
    "# Version 2 of Decision Tree Fraud Classifier Model"
   ]
  },
  {
   "cell_type": "code",
   "execution_count": 125,
   "id": "85ee5a3f",
   "metadata": {},
   "outputs": [
    {
     "data": {
      "text/html": [
       "<style>#sk-container-id-6 {color: black;background-color: white;}#sk-container-id-6 pre{padding: 0;}#sk-container-id-6 div.sk-toggleable {background-color: white;}#sk-container-id-6 label.sk-toggleable__label {cursor: pointer;display: block;width: 100%;margin-bottom: 0;padding: 0.3em;box-sizing: border-box;text-align: center;}#sk-container-id-6 label.sk-toggleable__label-arrow:before {content: \"▸\";float: left;margin-right: 0.25em;color: #696969;}#sk-container-id-6 label.sk-toggleable__label-arrow:hover:before {color: black;}#sk-container-id-6 div.sk-estimator:hover label.sk-toggleable__label-arrow:before {color: black;}#sk-container-id-6 div.sk-toggleable__content {max-height: 0;max-width: 0;overflow: hidden;text-align: left;background-color: #f0f8ff;}#sk-container-id-6 div.sk-toggleable__content pre {margin: 0.2em;color: black;border-radius: 0.25em;background-color: #f0f8ff;}#sk-container-id-6 input.sk-toggleable__control:checked~div.sk-toggleable__content {max-height: 200px;max-width: 100%;overflow: auto;}#sk-container-id-6 input.sk-toggleable__control:checked~label.sk-toggleable__label-arrow:before {content: \"▾\";}#sk-container-id-6 div.sk-estimator input.sk-toggleable__control:checked~label.sk-toggleable__label {background-color: #d4ebff;}#sk-container-id-6 div.sk-label input.sk-toggleable__control:checked~label.sk-toggleable__label {background-color: #d4ebff;}#sk-container-id-6 input.sk-hidden--visually {border: 0;clip: rect(1px 1px 1px 1px);clip: rect(1px, 1px, 1px, 1px);height: 1px;margin: -1px;overflow: hidden;padding: 0;position: absolute;width: 1px;}#sk-container-id-6 div.sk-estimator {font-family: monospace;background-color: #f0f8ff;border: 1px dotted black;border-radius: 0.25em;box-sizing: border-box;margin-bottom: 0.5em;}#sk-container-id-6 div.sk-estimator:hover {background-color: #d4ebff;}#sk-container-id-6 div.sk-parallel-item::after {content: \"\";width: 100%;border-bottom: 1px solid gray;flex-grow: 1;}#sk-container-id-6 div.sk-label:hover label.sk-toggleable__label {background-color: #d4ebff;}#sk-container-id-6 div.sk-serial::before {content: \"\";position: absolute;border-left: 1px solid gray;box-sizing: border-box;top: 0;bottom: 0;left: 50%;z-index: 0;}#sk-container-id-6 div.sk-serial {display: flex;flex-direction: column;align-items: center;background-color: white;padding-right: 0.2em;padding-left: 0.2em;position: relative;}#sk-container-id-6 div.sk-item {position: relative;z-index: 1;}#sk-container-id-6 div.sk-parallel {display: flex;align-items: stretch;justify-content: center;background-color: white;position: relative;}#sk-container-id-6 div.sk-item::before, #sk-container-id-6 div.sk-parallel-item::before {content: \"\";position: absolute;border-left: 1px solid gray;box-sizing: border-box;top: 0;bottom: 0;left: 50%;z-index: -1;}#sk-container-id-6 div.sk-parallel-item {display: flex;flex-direction: column;z-index: 1;position: relative;background-color: white;}#sk-container-id-6 div.sk-parallel-item:first-child::after {align-self: flex-end;width: 50%;}#sk-container-id-6 div.sk-parallel-item:last-child::after {align-self: flex-start;width: 50%;}#sk-container-id-6 div.sk-parallel-item:only-child::after {width: 0;}#sk-container-id-6 div.sk-dashed-wrapped {border: 1px dashed gray;margin: 0 0.4em 0.5em 0.4em;box-sizing: border-box;padding-bottom: 0.4em;background-color: white;}#sk-container-id-6 div.sk-label label {font-family: monospace;font-weight: bold;display: inline-block;line-height: 1.2em;}#sk-container-id-6 div.sk-label-container {text-align: center;}#sk-container-id-6 div.sk-container {/* jupyter's `normalize.less` sets `[hidden] { display: none; }` but bootstrap.min.css set `[hidden] { display: none !important; }` so we also need the `!important` here to be able to override the default hidden behavior on the sphinx rendered scikit-learn.org. See: https://github.com/scikit-learn/scikit-learn/issues/21755 */display: inline-block !important;position: relative;}#sk-container-id-6 div.sk-text-repr-fallback {display: none;}</style><div id=\"sk-container-id-6\" class=\"sk-top-container\"><div class=\"sk-text-repr-fallback\"><pre>DecisionTreeClassifier(random_state=7)</pre><b>In a Jupyter environment, please rerun this cell to show the HTML representation or trust the notebook. <br />On GitHub, the HTML representation is unable to render, please try loading this page with nbviewer.org.</b></div><div class=\"sk-container\" hidden><div class=\"sk-item\"><div class=\"sk-estimator sk-toggleable\"><input class=\"sk-toggleable__control sk-hidden--visually\" id=\"sk-estimator-id-6\" type=\"checkbox\" checked><label for=\"sk-estimator-id-6\" class=\"sk-toggleable__label sk-toggleable__label-arrow\">DecisionTreeClassifier</label><div class=\"sk-toggleable__content\"><pre>DecisionTreeClassifier(random_state=7)</pre></div></div></div></div></div>"
      ],
      "text/plain": [
       "DecisionTreeClassifier(random_state=7)"
      ]
     },
     "execution_count": 125,
     "metadata": {},
     "output_type": "execute_result"
    }
   ],
   "source": [
    "dtc = DecisionTreeClassifier(random_state=7)\n",
    "dtc.fit(X_train, y_train)"
   ]
  },
  {
   "cell_type": "code",
   "execution_count": 126,
   "id": "ab56741e",
   "metadata": {},
   "outputs": [],
   "source": [
    "y_pred = dtc.predict(X_test)\n",
    "y_prob = dtc.predict_proba(X_test)[:,1]"
   ]
  },
  {
   "cell_type": "code",
   "execution_count": 127,
   "id": "315745e4",
   "metadata": {},
   "outputs": [
    {
     "name": "stdout",
     "output_type": "stream",
     "text": [
      "Training accuracy of Decision Tree is : 1.0\n",
      "Test accuracy of Decision Tree is : 0.9941263851657076\n",
      "[[ 8305   156]\n",
      " [  188 49918]]\n",
      "                   precision    recall  f1-score   support\n",
      "\n",
      "   Fraud Reported       0.98      0.98      0.98      8461\n",
      "No Fraud Reported       1.00      1.00      1.00     50106\n",
      "\n",
      "         accuracy                           0.99     58567\n",
      "        macro avg       0.99      0.99      0.99     58567\n",
      "     weighted avg       0.99      0.99      0.99     58567\n",
      "\n"
     ]
    }
   ],
   "source": [
    "dtc_train_acc = accuracy_score(y_train, dtc.predict(X_train))\n",
    "dtc_test_acc = accuracy_score(y_test, y_pred)\n",
    "\n",
    "print(f\"Training accuracy of Decision Tree is : {dtc_train_acc}\")\n",
    "print(f\"Test accuracy of Decision Tree is : {dtc_test_acc}\")\n",
    "\n",
    "print(confusion_matrix(y_test, y_pred))\n",
    "print(classification_report(y_test, y_pred))"
   ]
  },
  {
   "cell_type": "code",
   "execution_count": 128,
   "id": "73fbd7da",
   "metadata": {},
   "outputs": [
    {
     "name": "stdout",
     "output_type": "stream",
     "text": [
      "Calculating build time metrics\n",
      "\n",
      "Progress: ██████████████████████████████████████████████████████████████████████ 100.0%\n"
     ]
    },
    {
     "data": {
      "application/vnd.jupyter.widget-view+json": {
       "model_id": "19eb1a8c2f9a4e12959f1ed7bc060742",
       "version_major": 2,
       "version_minor": 0
      },
      "text/plain": [
       "VBox(children=(HTML(value='<style>.grad_1{background: #2468a4;} .grad_2{ color:white; background: #2468a4;}</s…"
      ]
     },
     "metadata": {},
     "output_type": "display_data"
    }
   ],
   "source": [
    "## registering the model in Fosfor Insight Designer using same name.\n",
    "model_reg = register_model(dtc, \n",
    "               score, \n",
    "               name=\"Claims_Fraud_DTree_Classifier\", \n",
    "               description=\"Insurance claim's model trained for Fraud Classification\",\n",
    "               flavour=MLModelFlavours.sklearn,\n",
    "               model_type=\"classification\",\n",
    "               init_script=\"snowflake-connector-python[pandas]\",\n",
    "               y_true=y_test,\n",
    "               y_pred=y_pred, \n",
    "               prob=y_prob,\n",
    "               features=X_train.columns,\n",
    "               input_type=\"json\", \n",
    "               explain_ai=True,\n",
    "               x_train=X_train, \n",
    "               x_test=X_test, \n",
    "               y_train=y_train.tolist(),\n",
    "               y_test=y_test.tolist(),\n",
    "               feature_names=X_train.columns.tolist(),\n",
    "               original_features=X_train.columns.tolist(),\n",
    "               feature_ids=X_train.columns,\n",
    "               kyd=True, kyd_score = True)"
   ]
  }
 ],
 "metadata": {
  "kernelspec": {
   "display_name": "Python 3 (ipykernel)",
   "language": "python",
   "name": "python3"
  },
  "language_info": {
   "codemirror_mode": {
    "name": "ipython",
    "version": 3
   },
   "file_extension": ".py",
   "mimetype": "text/x-python",
   "name": "python",
   "nbconvert_exporter": "python",
   "pygments_lexer": "ipython3",
   "version": "3.9.19"
  }
 },
 "nbformat": 4,
 "nbformat_minor": 5
}
