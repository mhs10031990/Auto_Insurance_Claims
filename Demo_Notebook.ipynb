{
 "cells": [
  {
   "cell_type": "markdown",
   "id": "87dd5807-9518-4593-b00e-d00e3200a668",
   "metadata": {},
   "source": [
    "# Initialize Snowflake Session using FosforML"
   ]
  },
  {
   "cell_type": "code",
   "execution_count": 1,
   "id": "3163ae26-3560-423a-b494-1735fb1512b1",
   "metadata": {},
   "outputs": [],
   "source": [
    "from fosforml.model_manager.snowflakesession import get_session\n",
    "my_session = get_session()"
   ]
  },
  {
   "cell_type": "code",
   "execution_count": 2,
   "id": "f283da6a-6ca7-4169-8793-0c2527c91902",
   "metadata": {},
   "outputs": [
    {
     "data": {
      "text/plain": [
       "'FDC_INSURANCE'"
      ]
     },
     "execution_count": 2,
     "metadata": {},
     "output_type": "execute_result"
    }
   ],
   "source": [
    "my_session.connection.database"
   ]
  },
  {
   "cell_type": "code",
   "execution_count": 3,
   "id": "6b13ead5-ab31-4564-b2ad-eed1e19b73ab",
   "metadata": {},
   "outputs": [
    {
     "data": {
      "text/plain": [
       "'INS_CLAIMS_RESERV_SCHEMA'"
      ]
     },
     "execution_count": 3,
     "metadata": {},
     "output_type": "execute_result"
    }
   ],
   "source": [
    "my_session.connection.schema"
   ]
  },
  {
   "cell_type": "code",
   "execution_count": 4,
   "id": "cb227c52-3300-4f5a-8f09-3f15290d335b",
   "metadata": {},
   "outputs": [],
   "source": [
    "table_name = 'AUTO_INSURANCE_CLAIMS_DATA'"
   ]
  },
  {
   "cell_type": "code",
   "execution_count": 5,
   "id": "1c1cf7b3-b393-4277-b700-6254046d4f6a",
   "metadata": {},
   "outputs": [],
   "source": [
    "sf_df = my_session.sql(\"select * from {}\".format(table_name))"
   ]
  },
  {
   "cell_type": "code",
   "execution_count": 6,
   "id": "c9dce161-4001-46df-8929-a7d0715fd23e",
   "metadata": {},
   "outputs": [
    {
     "data": {
      "text/plain": [
       "snowflake.snowpark.dataframe.DataFrame"
      ]
     },
     "execution_count": 6,
     "metadata": {},
     "output_type": "execute_result"
    }
   ],
   "source": [
    "type(sf_df)"
   ]
  },
  {
   "cell_type": "code",
   "execution_count": 7,
   "id": "28a91fe9-9b22-4068-9aee-87bfaa03c454",
   "metadata": {},
   "outputs": [],
   "source": [
    "df = sf_df.to_pandas()"
   ]
  },
  {
   "cell_type": "code",
   "execution_count": 8,
   "id": "d484409f-fc09-4300-9d26-5184d97eed0f",
   "metadata": {},
   "outputs": [
    {
     "data": {
      "text/plain": [
       "pandas.core.frame.DataFrame"
      ]
     },
     "execution_count": 8,
     "metadata": {},
     "output_type": "execute_result"
    }
   ],
   "source": [
    "type(df)"
   ]
  },
  {
   "cell_type": "markdown",
   "id": "99bf5a73-d4e6-40a3-979c-5f5d273880a4",
   "metadata": {},
   "source": [
    "### Pandas is a software library written for the Python programming language for data manipulation and analysis. \n",
    "### In particular, it offers data structures and operations for manipulating numerical tables and time series."
   ]
  },
  {
   "cell_type": "markdown",
   "id": "65eeb8e0-4b45-4ae7-b1bb-47f322df45d8",
   "metadata": {},
   "source": [
    "## Top 5 rows of the dataframe/Table"
   ]
  },
  {
   "cell_type": "code",
   "execution_count": 7,
   "id": "41a83cc2-d42a-48d2-a66c-69c53605e7c1",
   "metadata": {},
   "outputs": [
    {
     "data": {
      "text/html": [
       "<div>\n",
       "<style scoped>\n",
       "    .dataframe tbody tr th:only-of-type {\n",
       "        vertical-align: middle;\n",
       "    }\n",
       "\n",
       "    .dataframe tbody tr th {\n",
       "        vertical-align: top;\n",
       "    }\n",
       "\n",
       "    .dataframe thead th {\n",
       "        text-align: right;\n",
       "    }\n",
       "</style>\n",
       "<table border=\"1\" class=\"dataframe\">\n",
       "  <thead>\n",
       "    <tr style=\"text-align: right;\">\n",
       "      <th></th>\n",
       "      <th>MONTHS_AS_CUSTOMER</th>\n",
       "      <th>CUSTOMER_AGE</th>\n",
       "      <th>POLICY_NUMBER</th>\n",
       "      <th>POLICY_BIND_DATE</th>\n",
       "      <th>POLICY_STATE</th>\n",
       "      <th>POLICY_CSL</th>\n",
       "      <th>POLICY_DEDUCTABLE</th>\n",
       "      <th>POLICY_ANNUAL_PREMIUM</th>\n",
       "      <th>UMBRELLA_LIMIT</th>\n",
       "      <th>INSURED_ZIP</th>\n",
       "      <th>...</th>\n",
       "      <th>POLICE_REPORT_AVAILABLE</th>\n",
       "      <th>TOTAL_CLAIM_AMOUNT_PAID</th>\n",
       "      <th>INJURY_CLAIM</th>\n",
       "      <th>PROPERTY_CLAIM</th>\n",
       "      <th>VEHICLE_CLAIM</th>\n",
       "      <th>AUTO_MAKE</th>\n",
       "      <th>AUTO_MODEL</th>\n",
       "      <th>AUTO_YEAR</th>\n",
       "      <th>FRAUD_REPORTED</th>\n",
       "      <th>POLICY_BIND_DATE_CUSTOM</th>\n",
       "    </tr>\n",
       "  </thead>\n",
       "  <tbody>\n",
       "    <tr>\n",
       "      <th>0</th>\n",
       "      <td>139</td>\n",
       "      <td>37</td>\n",
       "      <td>457069</td>\n",
       "      <td>17-08-2011</td>\n",
       "      <td>CT</td>\n",
       "      <td>250/500</td>\n",
       "      <td>1351</td>\n",
       "      <td>1589</td>\n",
       "      <td>16139812</td>\n",
       "      <td>609322</td>\n",
       "      <td>...</td>\n",
       "      <td>No Police Report Available</td>\n",
       "      <td>48182</td>\n",
       "      <td>538</td>\n",
       "      <td>20189</td>\n",
       "      <td>27455</td>\n",
       "      <td>Dodge</td>\n",
       "      <td>Neon</td>\n",
       "      <td>2005</td>\n",
       "      <td>No Fraud Reported</td>\n",
       "      <td>2011-08-17</td>\n",
       "    </tr>\n",
       "    <tr>\n",
       "      <th>1</th>\n",
       "      <td>292</td>\n",
       "      <td>52</td>\n",
       "      <td>429086</td>\n",
       "      <td>27-09-2010</td>\n",
       "      <td>CT</td>\n",
       "      <td>100/300</td>\n",
       "      <td>2216</td>\n",
       "      <td>2669</td>\n",
       "      <td>15406514</td>\n",
       "      <td>438830</td>\n",
       "      <td>...</td>\n",
       "      <td>Police Report Available</td>\n",
       "      <td>64579</td>\n",
       "      <td>11170</td>\n",
       "      <td>5093</td>\n",
       "      <td>48316</td>\n",
       "      <td>Audi</td>\n",
       "      <td>A3</td>\n",
       "      <td>1999</td>\n",
       "      <td>No Fraud Reported</td>\n",
       "      <td>2010-09-27</td>\n",
       "    </tr>\n",
       "    <tr>\n",
       "      <th>2</th>\n",
       "      <td>45</td>\n",
       "      <td>20</td>\n",
       "      <td>457562</td>\n",
       "      <td>13-01-2002</td>\n",
       "      <td>CT</td>\n",
       "      <td>100/300</td>\n",
       "      <td>929</td>\n",
       "      <td>1290</td>\n",
       "      <td>5629268</td>\n",
       "      <td>616164</td>\n",
       "      <td>...</td>\n",
       "      <td>No Police Report Available</td>\n",
       "      <td>32420</td>\n",
       "      <td>538</td>\n",
       "      <td>845</td>\n",
       "      <td>31037</td>\n",
       "      <td>Mercedes</td>\n",
       "      <td>E400</td>\n",
       "      <td>2014</td>\n",
       "      <td>No Fraud Reported</td>\n",
       "      <td>2002-01-13</td>\n",
       "    </tr>\n",
       "    <tr>\n",
       "      <th>3</th>\n",
       "      <td>49</td>\n",
       "      <td>67</td>\n",
       "      <td>471692</td>\n",
       "      <td>07-02-2012</td>\n",
       "      <td>CT</td>\n",
       "      <td>500/1000</td>\n",
       "      <td>699</td>\n",
       "      <td>970</td>\n",
       "      <td>18501194</td>\n",
       "      <td>445120</td>\n",
       "      <td>...</td>\n",
       "      <td>No Police Report Available</td>\n",
       "      <td>53780</td>\n",
       "      <td>7280</td>\n",
       "      <td>898</td>\n",
       "      <td>45602</td>\n",
       "      <td>Suburu</td>\n",
       "      <td>Legacy</td>\n",
       "      <td>2005</td>\n",
       "      <td>No Fraud Reported</td>\n",
       "      <td>2012-02-07</td>\n",
       "    </tr>\n",
       "    <tr>\n",
       "      <th>4</th>\n",
       "      <td>128</td>\n",
       "      <td>45</td>\n",
       "      <td>463009</td>\n",
       "      <td>18-06-2008</td>\n",
       "      <td>CT</td>\n",
       "      <td>100/300</td>\n",
       "      <td>1122</td>\n",
       "      <td>1384</td>\n",
       "      <td>16890664</td>\n",
       "      <td>442936</td>\n",
       "      <td>...</td>\n",
       "      <td>Police Report Available</td>\n",
       "      <td>94511</td>\n",
       "      <td>412</td>\n",
       "      <td>14545</td>\n",
       "      <td>79554</td>\n",
       "      <td>Ford</td>\n",
       "      <td>Escape</td>\n",
       "      <td>2013</td>\n",
       "      <td>No Fraud Reported</td>\n",
       "      <td>2008-06-18</td>\n",
       "    </tr>\n",
       "  </tbody>\n",
       "</table>\n",
       "<p>5 rows × 41 columns</p>\n",
       "</div>"
      ],
      "text/plain": [
       "   MONTHS_AS_CUSTOMER  CUSTOMER_AGE POLICY_NUMBER POLICY_BIND_DATE  \\\n",
       "0                 139            37        457069       17-08-2011   \n",
       "1                 292            52        429086       27-09-2010   \n",
       "2                  45            20        457562       13-01-2002   \n",
       "3                  49            67        471692       07-02-2012   \n",
       "4                 128            45        463009       18-06-2008   \n",
       "\n",
       "  POLICY_STATE POLICY_CSL  POLICY_DEDUCTABLE  POLICY_ANNUAL_PREMIUM  \\\n",
       "0           CT    250/500               1351                   1589   \n",
       "1           CT    100/300               2216                   2669   \n",
       "2           CT    100/300                929                   1290   \n",
       "3           CT   500/1000                699                    970   \n",
       "4           CT    100/300               1122                   1384   \n",
       "\n",
       "   UMBRELLA_LIMIT INSURED_ZIP  ...     POLICE_REPORT_AVAILABLE  \\\n",
       "0        16139812      609322  ...  No Police Report Available   \n",
       "1        15406514      438830  ...     Police Report Available   \n",
       "2         5629268      616164  ...  No Police Report Available   \n",
       "3        18501194      445120  ...  No Police Report Available   \n",
       "4        16890664      442936  ...     Police Report Available   \n",
       "\n",
       "  TOTAL_CLAIM_AMOUNT_PAID INJURY_CLAIM PROPERTY_CLAIM VEHICLE_CLAIM  \\\n",
       "0                   48182          538          20189         27455   \n",
       "1                   64579        11170           5093         48316   \n",
       "2                   32420          538            845         31037   \n",
       "3                   53780         7280            898         45602   \n",
       "4                   94511          412          14545         79554   \n",
       "\n",
       "   AUTO_MAKE  AUTO_MODEL AUTO_YEAR     FRAUD_REPORTED POLICY_BIND_DATE_CUSTOM  \n",
       "0      Dodge        Neon      2005  No Fraud Reported              2011-08-17  \n",
       "1       Audi          A3      1999  No Fraud Reported              2010-09-27  \n",
       "2   Mercedes        E400      2014  No Fraud Reported              2002-01-13  \n",
       "3     Suburu      Legacy      2005  No Fraud Reported              2012-02-07  \n",
       "4       Ford      Escape      2013  No Fraud Reported              2008-06-18  \n",
       "\n",
       "[5 rows x 41 columns]"
      ]
     },
     "execution_count": 7,
     "metadata": {},
     "output_type": "execute_result"
    }
   ],
   "source": [
    "df.head(5)"
   ]
  },
  {
   "cell_type": "code",
   "execution_count": 9,
   "id": "8f41a9ee-3273-4c0b-ac93-767c4c5700f1",
   "metadata": {},
   "outputs": [
    {
     "data": {
      "text/plain": [
       "(232025, 41)"
      ]
     },
     "execution_count": 9,
     "metadata": {},
     "output_type": "execute_result"
    }
   ],
   "source": [
    "df.shape"
   ]
  },
  {
   "cell_type": "markdown",
   "id": "e8d2f087-6841-423a-8f0d-295542af6aaa",
   "metadata": {},
   "source": [
    "## Data Basic information"
   ]
  },
  {
   "cell_type": "code",
   "execution_count": 10,
   "id": "4e366878-651b-4794-81c5-47c4412eb1da",
   "metadata": {
    "scrolled": true
   },
   "outputs": [
    {
     "name": "stdout",
     "output_type": "stream",
     "text": [
      "<class 'pandas.core.frame.DataFrame'>\n",
      "RangeIndex: 232025 entries, 0 to 232024\n",
      "Data columns (total 41 columns):\n",
      " #   Column                       Non-Null Count   Dtype \n",
      "---  ------                       --------------   ----- \n",
      " 0   MONTHS_AS_CUSTOMER           232025 non-null  int16 \n",
      " 1   CUSTOMER_AGE                 232025 non-null  int8  \n",
      " 2   POLICY_NUMBER                232025 non-null  object\n",
      " 3   POLICY_BIND_DATE             232025 non-null  object\n",
      " 4   POLICY_STATE                 232025 non-null  object\n",
      " 5   POLICY_CSL                   232025 non-null  object\n",
      " 6   POLICY_DEDUCTABLE            232025 non-null  int16 \n",
      " 7   POLICY_ANNUAL_PREMIUM        232025 non-null  int16 \n",
      " 8   UMBRELLA_LIMIT               232025 non-null  int32 \n",
      " 9   INSURED_ZIP                  232025 non-null  object\n",
      " 10  INSURED_SEX                  232025 non-null  object\n",
      " 11  INSURED_EDUCATION_LEVEL      232025 non-null  object\n",
      " 12  INSURED_OCCUPATION           232025 non-null  object\n",
      " 13  INSURED_HOBBIES              232025 non-null  object\n",
      " 14  INSURED_RELATIONSHIP         232025 non-null  object\n",
      " 15  CAPITAL_GAINS                232025 non-null  int32 \n",
      " 16  CAPITAL_LOSS                 232025 non-null  int32 \n",
      " 17  INCIDENT_DATE                232025 non-null  object\n",
      " 18  INCIDENT_TYPE                232025 non-null  object\n",
      " 19  COLLISION_TYPE               232025 non-null  object\n",
      " 20  INCIDENT_SEVERITY            232025 non-null  object\n",
      " 21  AUTHORITIES_CONTACTED        232025 non-null  object\n",
      " 22  INCIDENT_STATE               232025 non-null  object\n",
      " 23  INCIDENT_CITY                232025 non-null  object\n",
      " 24  INCIDENT_LOCATION            232025 non-null  object\n",
      " 25  INCIDENT_HOUR_OF_THE_DAY     232025 non-null  object\n",
      " 26  INCIDENT_TIME_OF_DAY         232025 non-null  object\n",
      " 27  NUMBER_OF_VEHICLES_INVOLVED  232025 non-null  int8  \n",
      " 28  PROPERTY_DAMAGE              232025 non-null  object\n",
      " 29  BODILY_INJURIES              232025 non-null  int8  \n",
      " 30  WITNESSES                    232025 non-null  int8  \n",
      " 31  POLICE_REPORT_AVAILABLE      232025 non-null  object\n",
      " 32  TOTAL_CLAIM_AMOUNT_PAID      232025 non-null  int32 \n",
      " 33  INJURY_CLAIM                 232025 non-null  int16 \n",
      " 34  PROPERTY_CLAIM               232025 non-null  int16 \n",
      " 35  VEHICLE_CLAIM                232025 non-null  int32 \n",
      " 36  AUTO_MAKE                    232025 non-null  object\n",
      " 37  AUTO_MODEL                   232025 non-null  object\n",
      " 38  AUTO_YEAR                    232025 non-null  object\n",
      " 39  FRAUD_REPORTED               232025 non-null  object\n",
      " 40  POLICY_BIND_DATE_CUSTOM      232025 non-null  object\n",
      "dtypes: int16(5), int32(5), int8(4), object(27)\n",
      "memory usage: 55.3+ MB\n"
     ]
    }
   ],
   "source": [
    "df.info()"
   ]
  },
  {
   "cell_type": "markdown",
   "id": "d4448894-af64-4c73-877e-73126835452d",
   "metadata": {},
   "source": [
    "## Data Description"
   ]
  },
  {
   "cell_type": "code",
   "execution_count": 11,
   "id": "783f4e88-e993-4956-972f-0df40913a3a6",
   "metadata": {},
   "outputs": [
    {
     "data": {
      "text/html": [
       "<div>\n",
       "<style scoped>\n",
       "    .dataframe tbody tr th:only-of-type {\n",
       "        vertical-align: middle;\n",
       "    }\n",
       "\n",
       "    .dataframe tbody tr th {\n",
       "        vertical-align: top;\n",
       "    }\n",
       "\n",
       "    .dataframe thead th {\n",
       "        text-align: right;\n",
       "    }\n",
       "</style>\n",
       "<table border=\"1\" class=\"dataframe\">\n",
       "  <thead>\n",
       "    <tr style=\"text-align: right;\">\n",
       "      <th></th>\n",
       "      <th>MONTHS_AS_CUSTOMER</th>\n",
       "      <th>CUSTOMER_AGE</th>\n",
       "      <th>POLICY_DEDUCTABLE</th>\n",
       "      <th>POLICY_ANNUAL_PREMIUM</th>\n",
       "      <th>UMBRELLA_LIMIT</th>\n",
       "      <th>CAPITAL_GAINS</th>\n",
       "      <th>CAPITAL_LOSS</th>\n",
       "      <th>NUMBER_OF_VEHICLES_INVOLVED</th>\n",
       "      <th>BODILY_INJURIES</th>\n",
       "      <th>WITNESSES</th>\n",
       "      <th>TOTAL_CLAIM_AMOUNT_PAID</th>\n",
       "      <th>INJURY_CLAIM</th>\n",
       "      <th>PROPERTY_CLAIM</th>\n",
       "      <th>VEHICLE_CLAIM</th>\n",
       "    </tr>\n",
       "  </thead>\n",
       "  <tbody>\n",
       "    <tr>\n",
       "      <th>count</th>\n",
       "      <td>232025.000000</td>\n",
       "      <td>232025.000000</td>\n",
       "      <td>232025.000000</td>\n",
       "      <td>232025.000000</td>\n",
       "      <td>2.320250e+05</td>\n",
       "      <td>232025.000000</td>\n",
       "      <td>232025.00000</td>\n",
       "      <td>232025.000000</td>\n",
       "      <td>232025.000000</td>\n",
       "      <td>232025.000000</td>\n",
       "      <td>232025.000000</td>\n",
       "      <td>232025.000000</td>\n",
       "      <td>232025.000000</td>\n",
       "      <td>232025.000000</td>\n",
       "    </tr>\n",
       "    <tr>\n",
       "      <th>mean</th>\n",
       "      <td>126.727736</td>\n",
       "      <td>43.838483</td>\n",
       "      <td>1253.651365</td>\n",
       "      <td>1566.490792</td>\n",
       "      <td>1.040827e+07</td>\n",
       "      <td>47900.608447</td>\n",
       "      <td>-41154.24565</td>\n",
       "      <td>1.475707</td>\n",
       "      <td>0.996712</td>\n",
       "      <td>1.501437</td>\n",
       "      <td>67235.224006</td>\n",
       "      <td>7735.964607</td>\n",
       "      <td>8529.807297</td>\n",
       "      <td>50969.452102</td>\n",
       "    </tr>\n",
       "    <tr>\n",
       "      <th>std</th>\n",
       "      <td>91.088378</td>\n",
       "      <td>14.691610</td>\n",
       "      <td>535.036140</td>\n",
       "      <td>656.380264</td>\n",
       "      <td>5.916215e+06</td>\n",
       "      <td>27700.863866</td>\n",
       "      <td>23731.03404</td>\n",
       "      <td>0.701444</td>\n",
       "      <td>0.817630</td>\n",
       "      <td>1.115730</td>\n",
       "      <td>18857.753110</td>\n",
       "      <td>7150.694660</td>\n",
       "      <td>7865.621423</td>\n",
       "      <td>15683.462801</td>\n",
       "    </tr>\n",
       "    <tr>\n",
       "      <th>min</th>\n",
       "      <td>7.000000</td>\n",
       "      <td>19.000000</td>\n",
       "      <td>301.000000</td>\n",
       "      <td>430.000000</td>\n",
       "      <td>0.000000e+00</td>\n",
       "      <td>0.000000</td>\n",
       "      <td>-90200.00000</td>\n",
       "      <td>1.000000</td>\n",
       "      <td>0.000000</td>\n",
       "      <td>0.000000</td>\n",
       "      <td>21214.000000</td>\n",
       "      <td>300.000000</td>\n",
       "      <td>0.000000</td>\n",
       "      <td>20004.000000</td>\n",
       "    </tr>\n",
       "    <tr>\n",
       "      <th>25%</th>\n",
       "      <td>43.000000</td>\n",
       "      <td>31.000000</td>\n",
       "      <td>793.000000</td>\n",
       "      <td>996.000000</td>\n",
       "      <td>6.166324e+06</td>\n",
       "      <td>23826.000000</td>\n",
       "      <td>-61635.00000</td>\n",
       "      <td>1.000000</td>\n",
       "      <td>0.000000</td>\n",
       "      <td>1.000000</td>\n",
       "      <td>53423.000000</td>\n",
       "      <td>524.000000</td>\n",
       "      <td>1024.000000</td>\n",
       "      <td>37614.000000</td>\n",
       "    </tr>\n",
       "    <tr>\n",
       "      <th>50%</th>\n",
       "      <td>111.000000</td>\n",
       "      <td>44.000000</td>\n",
       "      <td>1250.000000</td>\n",
       "      <td>1569.000000</td>\n",
       "      <td>1.075463e+07</td>\n",
       "      <td>48076.000000</td>\n",
       "      <td>-41330.00000</td>\n",
       "      <td>1.000000</td>\n",
       "      <td>1.000000</td>\n",
       "      <td>2.000000</td>\n",
       "      <td>67742.000000</td>\n",
       "      <td>6062.000000</td>\n",
       "      <td>6209.000000</td>\n",
       "      <td>50927.000000</td>\n",
       "    </tr>\n",
       "    <tr>\n",
       "      <th>75%</th>\n",
       "      <td>197.000000</td>\n",
       "      <td>57.000000</td>\n",
       "      <td>1698.000000</td>\n",
       "      <td>2134.000000</td>\n",
       "      <td>1.537261e+07</td>\n",
       "      <td>71699.000000</td>\n",
       "      <td>-20555.00000</td>\n",
       "      <td>2.000000</td>\n",
       "      <td>2.000000</td>\n",
       "      <td>2.000000</td>\n",
       "      <td>81082.000000</td>\n",
       "      <td>14017.000000</td>\n",
       "      <td>15316.000000</td>\n",
       "      <td>64362.000000</td>\n",
       "    </tr>\n",
       "    <tr>\n",
       "      <th>max</th>\n",
       "      <td>326.000000</td>\n",
       "      <td>69.000000</td>\n",
       "      <td>2430.000000</td>\n",
       "      <td>2700.000000</td>\n",
       "      <td>1.999986e+07</td>\n",
       "      <td>96000.000000</td>\n",
       "      <td>0.00000</td>\n",
       "      <td>4.000000</td>\n",
       "      <td>2.000000</td>\n",
       "      <td>3.000000</td>\n",
       "      <td>121412.000000</td>\n",
       "      <td>21899.000000</td>\n",
       "      <td>26432.000000</td>\n",
       "      <td>81998.000000</td>\n",
       "    </tr>\n",
       "  </tbody>\n",
       "</table>\n",
       "</div>"
      ],
      "text/plain": [
       "       MONTHS_AS_CUSTOMER   CUSTOMER_AGE  POLICY_DEDUCTABLE  \\\n",
       "count       232025.000000  232025.000000      232025.000000   \n",
       "mean           126.727736      43.838483        1253.651365   \n",
       "std             91.088378      14.691610         535.036140   \n",
       "min              7.000000      19.000000         301.000000   \n",
       "25%             43.000000      31.000000         793.000000   \n",
       "50%            111.000000      44.000000        1250.000000   \n",
       "75%            197.000000      57.000000        1698.000000   \n",
       "max            326.000000      69.000000        2430.000000   \n",
       "\n",
       "       POLICY_ANNUAL_PREMIUM  UMBRELLA_LIMIT  CAPITAL_GAINS  CAPITAL_LOSS  \\\n",
       "count          232025.000000    2.320250e+05  232025.000000  232025.00000   \n",
       "mean             1566.490792    1.040827e+07   47900.608447  -41154.24565   \n",
       "std               656.380264    5.916215e+06   27700.863866   23731.03404   \n",
       "min               430.000000    0.000000e+00       0.000000  -90200.00000   \n",
       "25%               996.000000    6.166324e+06   23826.000000  -61635.00000   \n",
       "50%              1569.000000    1.075463e+07   48076.000000  -41330.00000   \n",
       "75%              2134.000000    1.537261e+07   71699.000000  -20555.00000   \n",
       "max              2700.000000    1.999986e+07   96000.000000       0.00000   \n",
       "\n",
       "       NUMBER_OF_VEHICLES_INVOLVED  BODILY_INJURIES      WITNESSES  \\\n",
       "count                232025.000000    232025.000000  232025.000000   \n",
       "mean                      1.475707         0.996712       1.501437   \n",
       "std                       0.701444         0.817630       1.115730   \n",
       "min                       1.000000         0.000000       0.000000   \n",
       "25%                       1.000000         0.000000       1.000000   \n",
       "50%                       1.000000         1.000000       2.000000   \n",
       "75%                       2.000000         2.000000       2.000000   \n",
       "max                       4.000000         2.000000       3.000000   \n",
       "\n",
       "       TOTAL_CLAIM_AMOUNT_PAID   INJURY_CLAIM  PROPERTY_CLAIM  VEHICLE_CLAIM  \n",
       "count            232025.000000  232025.000000   232025.000000  232025.000000  \n",
       "mean              67235.224006    7735.964607     8529.807297   50969.452102  \n",
       "std               18857.753110    7150.694660     7865.621423   15683.462801  \n",
       "min               21214.000000     300.000000        0.000000   20004.000000  \n",
       "25%               53423.000000     524.000000     1024.000000   37614.000000  \n",
       "50%               67742.000000    6062.000000     6209.000000   50927.000000  \n",
       "75%               81082.000000   14017.000000    15316.000000   64362.000000  \n",
       "max              121412.000000   21899.000000    26432.000000   81998.000000  "
      ]
     },
     "execution_count": 11,
     "metadata": {},
     "output_type": "execute_result"
    }
   ],
   "source": [
    "df.describe()"
   ]
  },
  {
   "cell_type": "code",
   "execution_count": 12,
   "id": "bda4f2d9-4df0-492d-b83f-0a672ef1ff38",
   "metadata": {
    "scrolled": true
   },
   "outputs": [
    {
     "data": {
      "text/plain": [
       "Index(['MONTHS_AS_CUSTOMER', 'CUSTOMER_AGE', 'POLICY_NUMBER',\n",
       "       'POLICY_BIND_DATE', 'POLICY_STATE', 'POLICY_CSL', 'POLICY_DEDUCTABLE',\n",
       "       'POLICY_ANNUAL_PREMIUM', 'UMBRELLA_LIMIT', 'INSURED_ZIP', 'INSURED_SEX',\n",
       "       'INSURED_EDUCATION_LEVEL', 'INSURED_OCCUPATION', 'INSURED_HOBBIES',\n",
       "       'INSURED_RELATIONSHIP', 'CAPITAL_GAINS', 'CAPITAL_LOSS',\n",
       "       'INCIDENT_DATE', 'INCIDENT_TYPE', 'COLLISION_TYPE', 'INCIDENT_SEVERITY',\n",
       "       'AUTHORITIES_CONTACTED', 'INCIDENT_STATE', 'INCIDENT_CITY',\n",
       "       'INCIDENT_LOCATION', 'INCIDENT_HOUR_OF_THE_DAY', 'INCIDENT_TIME_OF_DAY',\n",
       "       'NUMBER_OF_VEHICLES_INVOLVED', 'PROPERTY_DAMAGE', 'BODILY_INJURIES',\n",
       "       'WITNESSES', 'POLICE_REPORT_AVAILABLE', 'TOTAL_CLAIM_AMOUNT_PAID',\n",
       "       'INJURY_CLAIM', 'PROPERTY_CLAIM', 'VEHICLE_CLAIM', 'AUTO_MAKE',\n",
       "       'AUTO_MODEL', 'AUTO_YEAR', 'FRAUD_REPORTED', 'POLICY_BIND_DATE_CUSTOM'],\n",
       "      dtype='object')"
      ]
     },
     "execution_count": 12,
     "metadata": {},
     "output_type": "execute_result"
    }
   ],
   "source": [
    "df.columns"
   ]
  },
  {
   "cell_type": "markdown",
   "id": "8f51735d-d944-49eb-8a6b-d434a4d520ca",
   "metadata": {},
   "source": [
    "## Moving to a Dummy Dataset for Feature Engineering and Model training"
   ]
  },
  {
   "cell_type": "code",
   "execution_count": 13,
   "id": "26c6eacd-77d3-4cd7-ab72-249cc040f698",
   "metadata": {},
   "outputs": [],
   "source": [
    "import pandas as pd"
   ]
  },
  {
   "cell_type": "code",
   "execution_count": 17,
   "id": "a81c0a69-720b-4f9e-9bc3-acaf45327f9d",
   "metadata": {},
   "outputs": [],
   "source": [
    "df = pd.read_csv(\"Housing.csv\")"
   ]
  },
  {
   "cell_type": "code",
   "execution_count": 18,
   "id": "f1e90bcf-7ed1-4994-a93b-672574535425",
   "metadata": {},
   "outputs": [
    {
     "data": {
      "text/plain": [
       "(545, 13)"
      ]
     },
     "execution_count": 18,
     "metadata": {},
     "output_type": "execute_result"
    }
   ],
   "source": [
    "df.shape"
   ]
  },
  {
   "cell_type": "code",
   "execution_count": 19,
   "id": "64778283-34b7-43bc-8999-5969458c66b6",
   "metadata": {},
   "outputs": [
    {
     "data": {
      "text/html": [
       "<div>\n",
       "<style scoped>\n",
       "    .dataframe tbody tr th:only-of-type {\n",
       "        vertical-align: middle;\n",
       "    }\n",
       "\n",
       "    .dataframe tbody tr th {\n",
       "        vertical-align: top;\n",
       "    }\n",
       "\n",
       "    .dataframe thead th {\n",
       "        text-align: right;\n",
       "    }\n",
       "</style>\n",
       "<table border=\"1\" class=\"dataframe\">\n",
       "  <thead>\n",
       "    <tr style=\"text-align: right;\">\n",
       "      <th></th>\n",
       "      <th>price</th>\n",
       "      <th>area</th>\n",
       "      <th>bedrooms</th>\n",
       "      <th>bathrooms</th>\n",
       "      <th>stories</th>\n",
       "      <th>mainroad</th>\n",
       "      <th>guestroom</th>\n",
       "      <th>basement</th>\n",
       "      <th>hotwaterheating</th>\n",
       "      <th>airconditioning</th>\n",
       "      <th>parking</th>\n",
       "      <th>prefarea</th>\n",
       "      <th>furnishingstatus</th>\n",
       "    </tr>\n",
       "  </thead>\n",
       "  <tbody>\n",
       "    <tr>\n",
       "      <th>0</th>\n",
       "      <td>13300000</td>\n",
       "      <td>7420</td>\n",
       "      <td>4</td>\n",
       "      <td>2</td>\n",
       "      <td>3</td>\n",
       "      <td>yes</td>\n",
       "      <td>no</td>\n",
       "      <td>no</td>\n",
       "      <td>no</td>\n",
       "      <td>yes</td>\n",
       "      <td>2</td>\n",
       "      <td>yes</td>\n",
       "      <td>furnished</td>\n",
       "    </tr>\n",
       "    <tr>\n",
       "      <th>1</th>\n",
       "      <td>12250000</td>\n",
       "      <td>8960</td>\n",
       "      <td>4</td>\n",
       "      <td>4</td>\n",
       "      <td>4</td>\n",
       "      <td>yes</td>\n",
       "      <td>no</td>\n",
       "      <td>no</td>\n",
       "      <td>no</td>\n",
       "      <td>yes</td>\n",
       "      <td>3</td>\n",
       "      <td>no</td>\n",
       "      <td>furnished</td>\n",
       "    </tr>\n",
       "    <tr>\n",
       "      <th>2</th>\n",
       "      <td>12250000</td>\n",
       "      <td>9960</td>\n",
       "      <td>3</td>\n",
       "      <td>2</td>\n",
       "      <td>2</td>\n",
       "      <td>yes</td>\n",
       "      <td>no</td>\n",
       "      <td>yes</td>\n",
       "      <td>no</td>\n",
       "      <td>no</td>\n",
       "      <td>2</td>\n",
       "      <td>yes</td>\n",
       "      <td>semi-furnished</td>\n",
       "    </tr>\n",
       "    <tr>\n",
       "      <th>3</th>\n",
       "      <td>12215000</td>\n",
       "      <td>7500</td>\n",
       "      <td>4</td>\n",
       "      <td>2</td>\n",
       "      <td>2</td>\n",
       "      <td>yes</td>\n",
       "      <td>no</td>\n",
       "      <td>yes</td>\n",
       "      <td>no</td>\n",
       "      <td>yes</td>\n",
       "      <td>3</td>\n",
       "      <td>yes</td>\n",
       "      <td>furnished</td>\n",
       "    </tr>\n",
       "    <tr>\n",
       "      <th>4</th>\n",
       "      <td>11410000</td>\n",
       "      <td>7420</td>\n",
       "      <td>4</td>\n",
       "      <td>1</td>\n",
       "      <td>2</td>\n",
       "      <td>yes</td>\n",
       "      <td>yes</td>\n",
       "      <td>yes</td>\n",
       "      <td>no</td>\n",
       "      <td>yes</td>\n",
       "      <td>2</td>\n",
       "      <td>no</td>\n",
       "      <td>furnished</td>\n",
       "    </tr>\n",
       "    <tr>\n",
       "      <th>5</th>\n",
       "      <td>10850000</td>\n",
       "      <td>7500</td>\n",
       "      <td>3</td>\n",
       "      <td>3</td>\n",
       "      <td>1</td>\n",
       "      <td>yes</td>\n",
       "      <td>no</td>\n",
       "      <td>yes</td>\n",
       "      <td>no</td>\n",
       "      <td>yes</td>\n",
       "      <td>2</td>\n",
       "      <td>yes</td>\n",
       "      <td>semi-furnished</td>\n",
       "    </tr>\n",
       "    <tr>\n",
       "      <th>6</th>\n",
       "      <td>10150000</td>\n",
       "      <td>8580</td>\n",
       "      <td>4</td>\n",
       "      <td>3</td>\n",
       "      <td>4</td>\n",
       "      <td>yes</td>\n",
       "      <td>no</td>\n",
       "      <td>no</td>\n",
       "      <td>no</td>\n",
       "      <td>yes</td>\n",
       "      <td>2</td>\n",
       "      <td>yes</td>\n",
       "      <td>semi-furnished</td>\n",
       "    </tr>\n",
       "    <tr>\n",
       "      <th>7</th>\n",
       "      <td>10150000</td>\n",
       "      <td>16200</td>\n",
       "      <td>5</td>\n",
       "      <td>3</td>\n",
       "      <td>2</td>\n",
       "      <td>yes</td>\n",
       "      <td>no</td>\n",
       "      <td>no</td>\n",
       "      <td>no</td>\n",
       "      <td>no</td>\n",
       "      <td>0</td>\n",
       "      <td>no</td>\n",
       "      <td>unfurnished</td>\n",
       "    </tr>\n",
       "    <tr>\n",
       "      <th>8</th>\n",
       "      <td>9870000</td>\n",
       "      <td>8100</td>\n",
       "      <td>4</td>\n",
       "      <td>1</td>\n",
       "      <td>2</td>\n",
       "      <td>yes</td>\n",
       "      <td>yes</td>\n",
       "      <td>yes</td>\n",
       "      <td>no</td>\n",
       "      <td>yes</td>\n",
       "      <td>2</td>\n",
       "      <td>yes</td>\n",
       "      <td>furnished</td>\n",
       "    </tr>\n",
       "    <tr>\n",
       "      <th>9</th>\n",
       "      <td>9800000</td>\n",
       "      <td>5750</td>\n",
       "      <td>3</td>\n",
       "      <td>2</td>\n",
       "      <td>4</td>\n",
       "      <td>yes</td>\n",
       "      <td>yes</td>\n",
       "      <td>no</td>\n",
       "      <td>no</td>\n",
       "      <td>yes</td>\n",
       "      <td>1</td>\n",
       "      <td>yes</td>\n",
       "      <td>unfurnished</td>\n",
       "    </tr>\n",
       "  </tbody>\n",
       "</table>\n",
       "</div>"
      ],
      "text/plain": [
       "      price   area  bedrooms  bathrooms  stories mainroad guestroom basement  \\\n",
       "0  13300000   7420         4          2        3      yes        no       no   \n",
       "1  12250000   8960         4          4        4      yes        no       no   \n",
       "2  12250000   9960         3          2        2      yes        no      yes   \n",
       "3  12215000   7500         4          2        2      yes        no      yes   \n",
       "4  11410000   7420         4          1        2      yes       yes      yes   \n",
       "5  10850000   7500         3          3        1      yes        no      yes   \n",
       "6  10150000   8580         4          3        4      yes        no       no   \n",
       "7  10150000  16200         5          3        2      yes        no       no   \n",
       "8   9870000   8100         4          1        2      yes       yes      yes   \n",
       "9   9800000   5750         3          2        4      yes       yes       no   \n",
       "\n",
       "  hotwaterheating airconditioning  parking prefarea furnishingstatus  \n",
       "0              no             yes        2      yes        furnished  \n",
       "1              no             yes        3       no        furnished  \n",
       "2              no              no        2      yes   semi-furnished  \n",
       "3              no             yes        3      yes        furnished  \n",
       "4              no             yes        2       no        furnished  \n",
       "5              no             yes        2      yes   semi-furnished  \n",
       "6              no             yes        2      yes   semi-furnished  \n",
       "7              no              no        0       no      unfurnished  \n",
       "8              no             yes        2      yes        furnished  \n",
       "9              no             yes        1      yes      unfurnished  "
      ]
     },
     "execution_count": 19,
     "metadata": {},
     "output_type": "execute_result"
    }
   ],
   "source": [
    "df.head(10)"
   ]
  },
  {
   "cell_type": "code",
   "execution_count": 20,
   "id": "ba91894c-8711-40af-a643-e183bd97a8a8",
   "metadata": {},
   "outputs": [
    {
     "name": "stdout",
     "output_type": "stream",
     "text": [
      "<class 'pandas.core.frame.DataFrame'>\n",
      "RangeIndex: 545 entries, 0 to 544\n",
      "Data columns (total 13 columns):\n",
      " #   Column            Non-Null Count  Dtype \n",
      "---  ------            --------------  ----- \n",
      " 0   price             545 non-null    int64 \n",
      " 1   area              545 non-null    int64 \n",
      " 2   bedrooms          545 non-null    int64 \n",
      " 3   bathrooms         545 non-null    int64 \n",
      " 4   stories           545 non-null    int64 \n",
      " 5   mainroad          545 non-null    object\n",
      " 6   guestroom         545 non-null    object\n",
      " 7   basement          545 non-null    object\n",
      " 8   hotwaterheating   545 non-null    object\n",
      " 9   airconditioning   545 non-null    object\n",
      " 10  parking           545 non-null    int64 \n",
      " 11  prefarea          545 non-null    object\n",
      " 12  furnishingstatus  545 non-null    object\n",
      "dtypes: int64(6), object(7)\n",
      "memory usage: 55.5+ KB\n"
     ]
    }
   ],
   "source": [
    "df.info()"
   ]
  },
  {
   "cell_type": "code",
   "execution_count": 21,
   "id": "7d5834c1-475d-498d-9cda-57eaa87b3d68",
   "metadata": {},
   "outputs": [
    {
     "data": {
      "text/html": [
       "<div>\n",
       "<style scoped>\n",
       "    .dataframe tbody tr th:only-of-type {\n",
       "        vertical-align: middle;\n",
       "    }\n",
       "\n",
       "    .dataframe tbody tr th {\n",
       "        vertical-align: top;\n",
       "    }\n",
       "\n",
       "    .dataframe thead th {\n",
       "        text-align: right;\n",
       "    }\n",
       "</style>\n",
       "<table border=\"1\" class=\"dataframe\">\n",
       "  <thead>\n",
       "    <tr style=\"text-align: right;\">\n",
       "      <th></th>\n",
       "      <th>price</th>\n",
       "      <th>area</th>\n",
       "      <th>bedrooms</th>\n",
       "      <th>bathrooms</th>\n",
       "      <th>stories</th>\n",
       "      <th>parking</th>\n",
       "    </tr>\n",
       "  </thead>\n",
       "  <tbody>\n",
       "    <tr>\n",
       "      <th>count</th>\n",
       "      <td>5.450000e+02</td>\n",
       "      <td>545.000000</td>\n",
       "      <td>545.000000</td>\n",
       "      <td>545.000000</td>\n",
       "      <td>545.000000</td>\n",
       "      <td>545.000000</td>\n",
       "    </tr>\n",
       "    <tr>\n",
       "      <th>mean</th>\n",
       "      <td>4.766729e+06</td>\n",
       "      <td>5150.541284</td>\n",
       "      <td>2.965138</td>\n",
       "      <td>1.286239</td>\n",
       "      <td>1.805505</td>\n",
       "      <td>0.693578</td>\n",
       "    </tr>\n",
       "    <tr>\n",
       "      <th>std</th>\n",
       "      <td>1.870440e+06</td>\n",
       "      <td>2170.141023</td>\n",
       "      <td>0.738064</td>\n",
       "      <td>0.502470</td>\n",
       "      <td>0.867492</td>\n",
       "      <td>0.861586</td>\n",
       "    </tr>\n",
       "    <tr>\n",
       "      <th>min</th>\n",
       "      <td>1.750000e+06</td>\n",
       "      <td>1650.000000</td>\n",
       "      <td>1.000000</td>\n",
       "      <td>1.000000</td>\n",
       "      <td>1.000000</td>\n",
       "      <td>0.000000</td>\n",
       "    </tr>\n",
       "    <tr>\n",
       "      <th>25%</th>\n",
       "      <td>3.430000e+06</td>\n",
       "      <td>3600.000000</td>\n",
       "      <td>2.000000</td>\n",
       "      <td>1.000000</td>\n",
       "      <td>1.000000</td>\n",
       "      <td>0.000000</td>\n",
       "    </tr>\n",
       "    <tr>\n",
       "      <th>50%</th>\n",
       "      <td>4.340000e+06</td>\n",
       "      <td>4600.000000</td>\n",
       "      <td>3.000000</td>\n",
       "      <td>1.000000</td>\n",
       "      <td>2.000000</td>\n",
       "      <td>0.000000</td>\n",
       "    </tr>\n",
       "    <tr>\n",
       "      <th>75%</th>\n",
       "      <td>5.740000e+06</td>\n",
       "      <td>6360.000000</td>\n",
       "      <td>3.000000</td>\n",
       "      <td>2.000000</td>\n",
       "      <td>2.000000</td>\n",
       "      <td>1.000000</td>\n",
       "    </tr>\n",
       "    <tr>\n",
       "      <th>max</th>\n",
       "      <td>1.330000e+07</td>\n",
       "      <td>16200.000000</td>\n",
       "      <td>6.000000</td>\n",
       "      <td>4.000000</td>\n",
       "      <td>4.000000</td>\n",
       "      <td>3.000000</td>\n",
       "    </tr>\n",
       "  </tbody>\n",
       "</table>\n",
       "</div>"
      ],
      "text/plain": [
       "              price          area    bedrooms   bathrooms     stories  \\\n",
       "count  5.450000e+02    545.000000  545.000000  545.000000  545.000000   \n",
       "mean   4.766729e+06   5150.541284    2.965138    1.286239    1.805505   \n",
       "std    1.870440e+06   2170.141023    0.738064    0.502470    0.867492   \n",
       "min    1.750000e+06   1650.000000    1.000000    1.000000    1.000000   \n",
       "25%    3.430000e+06   3600.000000    2.000000    1.000000    1.000000   \n",
       "50%    4.340000e+06   4600.000000    3.000000    1.000000    2.000000   \n",
       "75%    5.740000e+06   6360.000000    3.000000    2.000000    2.000000   \n",
       "max    1.330000e+07  16200.000000    6.000000    4.000000    4.000000   \n",
       "\n",
       "          parking  \n",
       "count  545.000000  \n",
       "mean     0.693578  \n",
       "std      0.861586  \n",
       "min      0.000000  \n",
       "25%      0.000000  \n",
       "50%      0.000000  \n",
       "75%      1.000000  \n",
       "max      3.000000  "
      ]
     },
     "execution_count": 21,
     "metadata": {},
     "output_type": "execute_result"
    }
   ],
   "source": [
    "df.describe()"
   ]
  },
  {
   "cell_type": "code",
   "execution_count": 22,
   "id": "2ccbe693-bc87-47e7-90a8-a19caee80f8f",
   "metadata": {},
   "outputs": [
    {
     "data": {
      "text/plain": [
       "price               0\n",
       "area                0\n",
       "bedrooms            0\n",
       "bathrooms           0\n",
       "stories             0\n",
       "mainroad            0\n",
       "guestroom           0\n",
       "basement            0\n",
       "hotwaterheating     0\n",
       "airconditioning     0\n",
       "parking             0\n",
       "prefarea            0\n",
       "furnishingstatus    0\n",
       "dtype: int64"
      ]
     },
     "execution_count": 22,
     "metadata": {},
     "output_type": "execute_result"
    }
   ],
   "source": [
    "df.isnull().sum()"
   ]
  },
  {
   "cell_type": "code",
   "execution_count": 23,
   "id": "1259f455-55d7-4278-92cd-bd4f6b59975c",
   "metadata": {},
   "outputs": [
    {
     "data": {
      "text/plain": [
       "0"
      ]
     },
     "execution_count": 23,
     "metadata": {},
     "output_type": "execute_result"
    }
   ],
   "source": [
    "df.duplicated().sum()"
   ]
  },
  {
   "cell_type": "markdown",
   "id": "a26fc4ec-c1a9-4366-8eb0-6cd761e80a11",
   "metadata": {},
   "source": [
    "### Correlation is a way to describe how two things are related to each other. \n",
    "### When two things are correlated, it means that changes in one thing are associated with changes in the other.\n",
    "### For example, if you notice that when you study more, your grades get better, there’s a positive correlation between studying and grades. \n",
    "### On the other hand, if you see that when you watch more TV, your grades go down, there’s a negative correlation between TV watching and grades."
   ]
  },
  {
   "cell_type": "code",
   "execution_count": 28,
   "id": "93d25c6e-6f71-469f-a6a0-604c6e920140",
   "metadata": {},
   "outputs": [
    {
     "data": {
      "text/html": [
       "<div>\n",
       "<style scoped>\n",
       "    .dataframe tbody tr th:only-of-type {\n",
       "        vertical-align: middle;\n",
       "    }\n",
       "\n",
       "    .dataframe tbody tr th {\n",
       "        vertical-align: top;\n",
       "    }\n",
       "\n",
       "    .dataframe thead th {\n",
       "        text-align: right;\n",
       "    }\n",
       "</style>\n",
       "<table border=\"1\" class=\"dataframe\">\n",
       "  <thead>\n",
       "    <tr style=\"text-align: right;\">\n",
       "      <th></th>\n",
       "      <th>price</th>\n",
       "      <th>area</th>\n",
       "      <th>bedrooms</th>\n",
       "      <th>bathrooms</th>\n",
       "      <th>stories</th>\n",
       "      <th>parking</th>\n",
       "    </tr>\n",
       "  </thead>\n",
       "  <tbody>\n",
       "    <tr>\n",
       "      <th>price</th>\n",
       "      <td>1.000000</td>\n",
       "      <td>0.535997</td>\n",
       "      <td>0.366494</td>\n",
       "      <td>0.517545</td>\n",
       "      <td>0.420712</td>\n",
       "      <td>0.384394</td>\n",
       "    </tr>\n",
       "    <tr>\n",
       "      <th>area</th>\n",
       "      <td>0.535997</td>\n",
       "      <td>1.000000</td>\n",
       "      <td>0.151858</td>\n",
       "      <td>0.193820</td>\n",
       "      <td>0.083996</td>\n",
       "      <td>0.352980</td>\n",
       "    </tr>\n",
       "    <tr>\n",
       "      <th>bedrooms</th>\n",
       "      <td>0.366494</td>\n",
       "      <td>0.151858</td>\n",
       "      <td>1.000000</td>\n",
       "      <td>0.373930</td>\n",
       "      <td>0.408564</td>\n",
       "      <td>0.139270</td>\n",
       "    </tr>\n",
       "    <tr>\n",
       "      <th>bathrooms</th>\n",
       "      <td>0.517545</td>\n",
       "      <td>0.193820</td>\n",
       "      <td>0.373930</td>\n",
       "      <td>1.000000</td>\n",
       "      <td>0.326165</td>\n",
       "      <td>0.177496</td>\n",
       "    </tr>\n",
       "    <tr>\n",
       "      <th>stories</th>\n",
       "      <td>0.420712</td>\n",
       "      <td>0.083996</td>\n",
       "      <td>0.408564</td>\n",
       "      <td>0.326165</td>\n",
       "      <td>1.000000</td>\n",
       "      <td>0.045547</td>\n",
       "    </tr>\n",
       "    <tr>\n",
       "      <th>parking</th>\n",
       "      <td>0.384394</td>\n",
       "      <td>0.352980</td>\n",
       "      <td>0.139270</td>\n",
       "      <td>0.177496</td>\n",
       "      <td>0.045547</td>\n",
       "      <td>1.000000</td>\n",
       "    </tr>\n",
       "  </tbody>\n",
       "</table>\n",
       "</div>"
      ],
      "text/plain": [
       "              price      area  bedrooms  bathrooms   stories   parking\n",
       "price      1.000000  0.535997  0.366494   0.517545  0.420712  0.384394\n",
       "area       0.535997  1.000000  0.151858   0.193820  0.083996  0.352980\n",
       "bedrooms   0.366494  0.151858  1.000000   0.373930  0.408564  0.139270\n",
       "bathrooms  0.517545  0.193820  0.373930   1.000000  0.326165  0.177496\n",
       "stories    0.420712  0.083996  0.408564   0.326165  1.000000  0.045547\n",
       "parking    0.384394  0.352980  0.139270   0.177496  0.045547  1.000000"
      ]
     },
     "execution_count": 28,
     "metadata": {},
     "output_type": "execute_result"
    }
   ],
   "source": [
    "df.corr(numeric_only=True)"
   ]
  },
  {
   "cell_type": "code",
   "execution_count": 30,
   "id": "3fd6b959-244e-424d-b019-1fc1d70308f2",
   "metadata": {},
   "outputs": [],
   "source": [
    "import matplotlib.pyplot as plt"
   ]
  },
  {
   "cell_type": "code",
   "execution_count": 39,
   "id": "9bca05df-b61b-4366-a6bf-5b722a8b2490",
   "metadata": {},
   "outputs": [
    {
     "data": {
      "text/plain": [
       "<BarContainer object of 545 artists>"
      ]
     },
     "execution_count": 39,
     "metadata": {},
     "output_type": "execute_result"
    },
    {
     "data": {
      "image/png": "[encoded data removed]",
      "text/plain": [
       "<Figure size 1000x500 with 1 Axes>"
      ]
     },
     "metadata": {},
     "output_type": "display_data"
    }
   ],
   "source": [
    "fig = plt.figure(figsize = (10, 5))\n",
    "\n",
    "# creating the bar plot\n",
    "plt.bar(df['bedrooms'], df['price'], color ='maroon', \n",
    "        width = 0.4)"
   ]
  },
  {
   "cell_type": "code",
   "execution_count": 44,
   "id": "cfd0aa1d-0087-4401-807a-b37635e3da29",
   "metadata": {},
   "outputs": [
    {
     "data": {
      "text/plain": [
       "<matplotlib.legend.Legend at 0x7f1c91610250>"
      ]
     },
     "execution_count": 44,
     "metadata": {},
     "output_type": "execute_result"
    },
    {
     "data": {
      "image/png": "[encoded data removed]",
      "text/plain": [
       "<Figure size 1000x500 with 1 Axes>"
      ]
     },
     "metadata": {},
     "output_type": "display_data"
    }
   ],
   "source": [
    "fig = plt.figure(figsize = (10, 5))\n",
    "\n",
    "# creating the bar plot\n",
    "plt.scatter(df['area'], df['price'])\n",
    "plt.xlabel(\"House Area\")\n",
    "plt.ylabel(\"House Price\")\n",
    "plt.legend()"
   ]
  },
  {
   "cell_type": "code",
   "execution_count": null,
   "id": "8cd597ce-98cb-4ccd-bb3f-07e997a6b092",
   "metadata": {},
   "outputs": [],
   "source": [
    "### An outlier is a data point that significantly differs from the other data points in a dataset. \n",
    "### It can be much higher or lower than the rest of the values. Outliers can occur due to variability in the data, \n",
    "### measurement errors, or experimental errors. They are important to identify because they can affect the results of statistical analyses and may indicate special cases or anomalies."
   ]
  },
  {
   "cell_type": "code",
   "execution_count": 46,
   "id": "e75a308b-d45a-4192-b30d-42263e3627cd",
   "metadata": {},
   "outputs": [
    {
     "data": {
      "text/plain": [
       "{'whiskers': [<matplotlib.lines.Line2D at 0x7f1c911bcb50>,\n",
       "  <matplotlib.lines.Line2D at 0x7f1c911bcdf0>],\n",
       " 'caps': [<matplotlib.lines.Line2D at 0x7f1c911cd0d0>,\n",
       "  <matplotlib.lines.Line2D at 0x7f1c911cd370>],\n",
       " 'boxes': [<matplotlib.lines.Line2D at 0x7f1c911bc8b0>],\n",
       " 'medians': [<matplotlib.lines.Line2D at 0x7f1c911cd610>],\n",
       " 'fliers': [<matplotlib.lines.Line2D at 0x7f1c911cd8b0>],\n",
       " 'means': []}"
      ]
     },
     "execution_count": 46,
     "metadata": {},
     "output_type": "execute_result"
    },
    {
     "data": {
      "image/png": "[encoded data removed]",
      "text/plain": [
       "<Figure size 640x480 with 1 Axes>"
      ]
     },
     "metadata": {},
     "output_type": "display_data"
    }
   ],
   "source": [
    "plt.boxplot(df['area'])"
   ]
  },
  {
   "cell_type": "code",
   "execution_count": null,
   "id": "854ee9ba-288b-4210-8cfc-c5616bc26394",
   "metadata": {},
   "outputs": [],
   "source": []
  }
 ],
 "metadata": {
  "kernelspec": {
   "display_name": "Python 3 (ipykernel)",
   "language": "python",
   "name": "python3"
  },
  "language_info": {
   "codemirror_mode": {
    "name": "ipython",
    "version": 3
   },
   "file_extension": ".py",
   "mimetype": "text/x-python",
   "name": "python",
   "nbconvert_exporter": "python",
   "pygments_lexer": "ipython3",
   "version": "3.9.19"
  }
 },
 "nbformat": 4,
 "nbformat_minor": 5
}
