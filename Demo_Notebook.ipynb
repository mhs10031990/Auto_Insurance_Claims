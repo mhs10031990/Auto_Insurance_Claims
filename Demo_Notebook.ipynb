{
 "cells": [
  {
   "cell_type": "markdown",
   "id": "87dd5807-9518-4593-b00e-d00e3200a668",
   "metadata": {},
   "source": [
    "# Initialize Snowflake Session using FosforML"
   ]
  },
  {
   "cell_type": "code",
   "execution_count": 1,
   "id": "3163ae26-3560-423a-b494-1735fb1512b1",
   "metadata": {},
   "outputs": [],
   "source": [
    "from fosforml.model_manager.snowflakesession import get_session\n",
    "my_session = get_session()"
   ]
  },
  {
   "cell_type": "code",
   "execution_count": 2,
   "id": "cb227c52-3300-4f5a-8f09-3f15290d335b",
   "metadata": {},
   "outputs": [],
   "source": [
    "table_name = 'AUTO_INSURANCE_CLAIMS_DATA'"
   ]
  },
  {
   "cell_type": "code",
   "execution_count": 3,
   "id": "1c1cf7b3-b393-4277-b700-6254046d4f6a",
   "metadata": {},
   "outputs": [],
   "source": [
    "sf_df = my_session.sql(\"select * from {}\".format(table_name))"
   ]
  },
  {
   "cell_type": "code",
   "execution_count": 4,
   "id": "c9dce161-4001-46df-8929-a7d0715fd23e",
   "metadata": {},
   "outputs": [
    {
     "data": {
      "text/plain": [
       "snowflake.snowpark.dataframe.DataFrame"
      ]
     },
     "execution_count": 4,
     "metadata": {},
     "output_type": "execute_result"
    }
   ],
   "source": [
    "type(sf_df)"
   ]
  },
  {
   "cell_type": "code",
   "execution_count": 5,
   "id": "28a91fe9-9b22-4068-9aee-87bfaa03c454",
   "metadata": {},
   "outputs": [],
   "source": [
    "df = sf_df.to_pandas()"
   ]
  },
  {
   "cell_type": "code",
   "execution_count": 6,
   "id": "d484409f-fc09-4300-9d26-5184d97eed0f",
   "metadata": {},
   "outputs": [
    {
     "data": {
      "text/plain": [
       "pandas.core.frame.DataFrame"
      ]
     },
     "execution_count": 6,
     "metadata": {},
     "output_type": "execute_result"
    }
   ],
   "source": [
    "type(df)"
   ]
  },
  {
   "cell_type": "markdown",
   "id": "99bf5a73-d4e6-40a3-979c-5f5d273880a4",
   "metadata": {},
   "source": [
    "### Pandas is a software library written for the Python programming language for data manipulation and analysis. \n",
    "### In particular, it offers data structures and operations for manipulating numerical tables and time series."
   ]
  },
  {
   "cell_type": "code",
   "execution_count": null,
   "id": "41a83cc2-d42a-48d2-a66c-69c53605e7c1",
   "metadata": {},
   "outputs": [],
   "source": []
  },
  {
   "cell_type": "code",
   "execution_count": null,
   "id": "e9a4c9b5-3525-4a51-961c-f4170da546a0",
   "metadata": {},
   "outputs": [],
   "source": []
  },
  {
   "cell_type": "code",
   "execution_count": null,
   "id": "4e366878-651b-4794-81c5-47c4412eb1da",
   "metadata": {},
   "outputs": [],
   "source": []
  }
 ],
 "metadata": {
  "kernelspec": {
   "display_name": "Python 3 (ipykernel)",
   "language": "python",
   "name": "python3"
  },
  "language_info": {
   "codemirror_mode": {
    "name": "ipython",
    "version": 3
   },
   "file_extension": ".py",
   "mimetype": "text/x-python",
   "name": "python",
   "nbconvert_exporter": "python",
   "pygments_lexer": "ipython3",
   "version": "3.9.19"
  }
 },
 "nbformat": 4,
 "nbformat_minor": 5
}
