{
 "cells": [
  {
   "cell_type": "markdown",
   "id": "da4ac72d",
   "metadata": {},
   "source": [
    "# Use Insurance Code Template Notebook Template"
   ]
  },
  {
   "cell_type": "markdown",
   "id": "c591cf89",
   "metadata": {
    "scrolled": true
   },
   "source": [
    "## Packages needed to run this notebook if running with inbuilt snowpark 3.8 template\n",
    "#### !pip install --q \"snowflake-connector-python[pandas]\"\n",
    "#### !sudo pip install --q snowflake-ml-python==1.0.11 -U\n",
    "#### !pip install --upgrade --q snowflake-snowpark-python==1.9.0\n",
    "#### !pip install --q seaborn\n",
    "#### !pip install --upgrade --q xgboost==1.7.3\n",
    "#### !pip install --upgrade --q numpy==1.24.3\n",
    "#### !pip install --upgrade --q pandas==1.5.3\n",
    "#### !pip install --upgrade --q anyio==3.5.0\n",
    "#### !pip install --upgrade --q packaging==23.1\n",
    "#### !pip install --upgrade --q scikit-learn==1.3.0\n",
    "#### !pip install --upgrade --q typing-extensions==4.7.1\n",
    "#### !pip install --upgrade --q cryptography==39.0.0\n",
    "#### !pip install --upgrade --q fsspec==2023.9.2\n",
    "#### !pip install --q xgboost\n",
    "#### !pip install --q catboost\n",
    "#### !pip install --q fosforio\n",
    "#### !pip install --q fosforml"
   ]
  },
  {
   "cell_type": "code",
   "execution_count": 1,
   "id": "12eb34cf",
   "metadata": {},
   "outputs": [
    {
     "name": "stderr",
     "output_type": "stream",
     "text": [
      "Matplotlib created a temporary cache directory at /tmp/matplotlib-8e7lzdes because the default path (/home/mosaic-ai/.cache/matplotlib) is not a writable directory; it is highly recommended to set the MPLCONFIGDIR environment variable to a writable directory, in particular to speed up the import of Matplotlib and to better support multiprocessing.\n"
     ]
    },
    {
     "name": "stdout",
     "output_type": "stream",
     "text": [
      "Connection manager service url initialised to http://fdc-project-manager:80/project-manager\n",
      "If you need to update its value then update the variable CONNECTION_MANAGER_BASE_URL in os env.\n"
     ]
    }
   ],
   "source": [
    "from snowflake.snowpark import Session\n",
    "\n",
    "# Data Science Libs\n",
    "import numpy as np\n",
    "import pandas as pd\n",
    "import matplotlib.pyplot as plt\n",
    "\n",
    "# create_temp_table warning suppresion\n",
    "import warnings; warnings.simplefilter('ignore')\n",
    "\n",
    "#Modeling Libs\n",
    "from sklearn.model_selection import train_test_split\n",
    "from sklearn.preprocessing import StandardScaler\n",
    "from sklearn.svm import SVC\n",
    "from sklearn.metrics import accuracy_score, confusion_matrix, classification_report\n",
    "from sklearn.neighbors import KNeighborsClassifier\n",
    "from sklearn.metrics import accuracy_score, confusion_matrix, classification_report\n",
    "from sklearn.tree import DecisionTreeClassifier\n",
    "from sklearn.model_selection import GridSearchCV\n",
    "from sklearn.ensemble import RandomForestClassifier\n",
    "from sklearn.ensemble import AdaBoostClassifier\n",
    "from sklearn.ensemble import GradientBoostingClassifier\n",
    "from sklearn.ensemble import ExtraTreesClassifier\n",
    "from sklearn.ensemble import VotingClassifier\n",
    "\n",
    "from xgboost import XGBClassifier\n",
    "from catboost import CatBoostClassifier\n",
    "\n",
    "# FosforIO to read from snowflake\n",
    "from fosforio import snowflake\n",
    "# FosforML to register Model on FDC\n",
    "from joblib import dump, load\n",
    "from fosforml import *\n",
    "from fosforml.constants import MLModelFlavours\n",
    "import requests"
   ]
  },
  {
   "cell_type": "markdown",
   "id": "eec13385",
   "metadata": {},
   "source": [
    "# Read data using FosforIO"
   ]
  },
  {
   "cell_type": "code",
   "execution_count": 2,
   "id": "d9c7a1f6",
   "metadata": {
    "scrolled": true
   },
   "outputs": [
    {
     "name": "stdout",
     "output_type": "stream",
     "text": [
      "Connection object created: <snowflake.connector.connection.SnowflakeConnection object at 0x7fdc2465fac0>\n",
      "Please close the connection after use!\n"
     ]
    },
    {
     "data": {
      "text/plain": [
       "<snowflake.connector.connection.SnowflakeConnection at 0x7fdc2465fac0>"
      ]
     },
     "execution_count": 2,
     "metadata": {},
     "output_type": "execute_result"
    }
   ],
   "source": [
    "# To get snowflake connection object with a specific connection name\n",
    "snowflake.get_connection(connection_name=\"FDC_Insurance_Snowflake\")"
   ]
  },
  {
   "cell_type": "code",
   "execution_count": 3,
   "id": "a3de0458",
   "metadata": {},
   "outputs": [],
   "source": [
    "# To read a specific dataset published from a snowflake connection\n",
    "df = snowflake.get_dataframe(\"AUTO_INSURANCE_CLAIMS_DATA_PRODUCT\")"
   ]
  },
  {
   "cell_type": "code",
   "execution_count": 4,
   "id": "47df3c80",
   "metadata": {
    "scrolled": true
   },
   "outputs": [
    {
     "data": {
      "text/html": [
       "<div>\n",
       "<style scoped>\n",
       "    .dataframe tbody tr th:only-of-type {\n",
       "        vertical-align: middle;\n",
       "    }\n",
       "\n",
       "    .dataframe tbody tr th {\n",
       "        vertical-align: top;\n",
       "    }\n",
       "\n",
       "    .dataframe thead th {\n",
       "        text-align: right;\n",
       "    }\n",
       "</style>\n",
       "<table border=\"1\" class=\"dataframe\">\n",
       "  <thead>\n",
       "    <tr style=\"text-align: right;\">\n",
       "      <th></th>\n",
       "      <th>MONTHS_AS_CUSTOMER</th>\n",
       "      <th>CUSTOMER_AGE</th>\n",
       "      <th>POLICY_NUMBER</th>\n",
       "      <th>POLICY_BIND_DATE</th>\n",
       "      <th>POLICY_STATE</th>\n",
       "      <th>POLICY_CSL</th>\n",
       "      <th>POLICY_DEDUCTABLE</th>\n",
       "      <th>POLICY_ANNUAL_PREMIUM</th>\n",
       "      <th>UMBRELLA_LIMIT</th>\n",
       "      <th>INSURED_ZIP</th>\n",
       "      <th>...</th>\n",
       "      <th>WITNESSES</th>\n",
       "      <th>POLICE_REPORT_AVAILABLE</th>\n",
       "      <th>TOTAL_CLAIM_AMOUNT_PAID</th>\n",
       "      <th>INJURY_CLAIM</th>\n",
       "      <th>PROPERTY_CLAIM</th>\n",
       "      <th>VEHICLE_CLAIM</th>\n",
       "      <th>AUTO_MAKE</th>\n",
       "      <th>AUTO_MODEL</th>\n",
       "      <th>AUTO_YEAR</th>\n",
       "      <th>FRAUD_REPORTED</th>\n",
       "    </tr>\n",
       "  </thead>\n",
       "  <tbody>\n",
       "    <tr>\n",
       "      <th>0</th>\n",
       "      <td>178</td>\n",
       "      <td>69</td>\n",
       "      <td>431670</td>\n",
       "      <td>12-02-2012</td>\n",
       "      <td>CT</td>\n",
       "      <td>500/1000</td>\n",
       "      <td>1800</td>\n",
       "      <td>2195</td>\n",
       "      <td>6678588</td>\n",
       "      <td>617699</td>\n",
       "      <td>...</td>\n",
       "      <td>2</td>\n",
       "      <td>Police Report Available</td>\n",
       "      <td>102099.0</td>\n",
       "      <td>13040.0</td>\n",
       "      <td>14700.0</td>\n",
       "      <td>74359.0</td>\n",
       "      <td>Toyota</td>\n",
       "      <td>Highlander</td>\n",
       "      <td>1996</td>\n",
       "      <td>No Fraud Reported</td>\n",
       "    </tr>\n",
       "    <tr>\n",
       "      <th>1</th>\n",
       "      <td>235</td>\n",
       "      <td>48</td>\n",
       "      <td>452457</td>\n",
       "      <td>15-06-2004</td>\n",
       "      <td>CT</td>\n",
       "      <td>100/300</td>\n",
       "      <td>730</td>\n",
       "      <td>947</td>\n",
       "      <td>9201803</td>\n",
       "      <td>434206</td>\n",
       "      <td>...</td>\n",
       "      <td>3</td>\n",
       "      <td>Police Report Available</td>\n",
       "      <td>65165.0</td>\n",
       "      <td>21811.0</td>\n",
       "      <td>6992.0</td>\n",
       "      <td>36362.0</td>\n",
       "      <td>Volkswagen</td>\n",
       "      <td>Passat</td>\n",
       "      <td>2005</td>\n",
       "      <td>No Fraud Reported</td>\n",
       "    </tr>\n",
       "    <tr>\n",
       "      <th>2</th>\n",
       "      <td>292</td>\n",
       "      <td>46</td>\n",
       "      <td>466074</td>\n",
       "      <td>20-01-1996</td>\n",
       "      <td>CT</td>\n",
       "      <td>100/300</td>\n",
       "      <td>1249</td>\n",
       "      <td>1504</td>\n",
       "      <td>7764950</td>\n",
       "      <td>614166</td>\n",
       "      <td>...</td>\n",
       "      <td>3</td>\n",
       "      <td>Police Report Available</td>\n",
       "      <td>81875.0</td>\n",
       "      <td>5613.0</td>\n",
       "      <td>5109.0</td>\n",
       "      <td>71153.0</td>\n",
       "      <td>Ford</td>\n",
       "      <td>Fusion</td>\n",
       "      <td>2006</td>\n",
       "      <td>No Fraud Reported</td>\n",
       "    </tr>\n",
       "    <tr>\n",
       "      <th>3</th>\n",
       "      <td>67</td>\n",
       "      <td>41</td>\n",
       "      <td>485048</td>\n",
       "      <td>13-12-2012</td>\n",
       "      <td>CT</td>\n",
       "      <td>100/300</td>\n",
       "      <td>1584</td>\n",
       "      <td>1908</td>\n",
       "      <td>8502385</td>\n",
       "      <td>473243</td>\n",
       "      <td>...</td>\n",
       "      <td>3</td>\n",
       "      <td>Police Report Available</td>\n",
       "      <td>68429.0</td>\n",
       "      <td>308.0</td>\n",
       "      <td>821.0</td>\n",
       "      <td>67300.0</td>\n",
       "      <td>Chevrolet</td>\n",
       "      <td>Tahoe</td>\n",
       "      <td>1995</td>\n",
       "      <td>No Fraud Reported</td>\n",
       "    </tr>\n",
       "    <tr>\n",
       "      <th>4</th>\n",
       "      <td>211</td>\n",
       "      <td>58</td>\n",
       "      <td>451276</td>\n",
       "      <td>29-03-1996</td>\n",
       "      <td>CT</td>\n",
       "      <td>250/500</td>\n",
       "      <td>1951</td>\n",
       "      <td>2501</td>\n",
       "      <td>4083163</td>\n",
       "      <td>472895</td>\n",
       "      <td>...</td>\n",
       "      <td>0</td>\n",
       "      <td>Unknown</td>\n",
       "      <td>64077.0</td>\n",
       "      <td>517.0</td>\n",
       "      <td>1164.0</td>\n",
       "      <td>62396.0</td>\n",
       "      <td>Jeep</td>\n",
       "      <td>Grand Cherokee</td>\n",
       "      <td>1995</td>\n",
       "      <td>Fraud Reported</td>\n",
       "    </tr>\n",
       "  </tbody>\n",
       "</table>\n",
       "<p>5 rows × 40 columns</p>\n",
       "</div>"
      ],
      "text/plain": [
       "   MONTHS_AS_CUSTOMER CUSTOMER_AGE  POLICY_NUMBER POLICY_BIND_DATE   \n",
       "0                 178           69         431670       12-02-2012  \\\n",
       "1                 235           48         452457       15-06-2004   \n",
       "2                 292           46         466074       20-01-1996   \n",
       "3                  67           41         485048       13-12-2012   \n",
       "4                 211           58         451276       29-03-1996   \n",
       "\n",
       "  POLICY_STATE POLICY_CSL  POLICY_DEDUCTABLE  POLICY_ANNUAL_PREMIUM   \n",
       "0           CT   500/1000               1800                   2195  \\\n",
       "1           CT    100/300                730                    947   \n",
       "2           CT    100/300               1249                   1504   \n",
       "3           CT    100/300               1584                   1908   \n",
       "4           CT    250/500               1951                   2501   \n",
       "\n",
       "   UMBRELLA_LIMIT INSURED_ZIP  ... WITNESSES  POLICE_REPORT_AVAILABLE   \n",
       "0         6678588      617699  ...         2  Police Report Available  \\\n",
       "1         9201803      434206  ...         3  Police Report Available   \n",
       "2         7764950      614166  ...         3  Police Report Available   \n",
       "3         8502385      473243  ...         3  Police Report Available   \n",
       "4         4083163      472895  ...         0                  Unknown   \n",
       "\n",
       "  TOTAL_CLAIM_AMOUNT_PAID INJURY_CLAIM PROPERTY_CLAIM  VEHICLE_CLAIM   \n",
       "0                102099.0      13040.0        14700.0        74359.0  \\\n",
       "1                 65165.0      21811.0         6992.0        36362.0   \n",
       "2                 81875.0       5613.0         5109.0        71153.0   \n",
       "3                 68429.0        308.0          821.0        67300.0   \n",
       "4                 64077.0        517.0         1164.0        62396.0   \n",
       "\n",
       "    AUTO_MAKE      AUTO_MODEL AUTO_YEAR     FRAUD_REPORTED  \n",
       "0      Toyota      Highlander      1996  No Fraud Reported  \n",
       "1  Volkswagen          Passat      2005  No Fraud Reported  \n",
       "2        Ford          Fusion      2006  No Fraud Reported  \n",
       "3   Chevrolet           Tahoe      1995  No Fraud Reported  \n",
       "4        Jeep  Grand Cherokee      1995     Fraud Reported  \n",
       "\n",
       "[5 rows x 40 columns]"
      ]
     },
     "execution_count": 4,
     "metadata": {},
     "output_type": "execute_result"
    }
   ],
   "source": [
    "df.head()"
   ]
  },
  {
   "cell_type": "markdown",
   "id": "3955ebba",
   "metadata": {},
   "source": [
    "# Read data using Snowflake's Snowpark"
   ]
  },
  {
   "cell_type": "code",
   "execution_count": 5,
   "id": "d4a0035d",
   "metadata": {},
   "outputs": [],
   "source": [
    "#Import all snowflake connection details from Template or Project variables.\n",
    "db_user = os.getenv('Snowflake_user')\n",
    "db_password =  os.getenv('Snowflake_password')\n",
    "db_account = os.getenv('Snowflake_Account')\n",
    "db_database =  os.getenv('Snowflake_Database')\n",
    "db_role = os.getenv('Snowflake_user')\n",
    "db_warehouse = os.getenv('Snowflake_Warehouse')\n",
    "db_schema = os.getenv('Snowflake_Schema')"
   ]
  },
  {
   "cell_type": "code",
   "execution_count": 6,
   "id": "9b959986",
   "metadata": {},
   "outputs": [],
   "source": [
    "from snowflake.snowpark.session import Session\n",
    "connection_params = {\n",
    "    'user': db_user,\n",
    "    'password': db_password,\n",
    "    'account': db_account,\n",
    "    'warehouse': db_warehouse,\n",
    "    'database': db_database,\n",
    "    'schema': db_schema,\n",
    "    'role': db_role\n",
    "}\n",
    "session = Session.builder.configs(connection_params).create()"
   ]
  },
  {
   "cell_type": "code",
   "execution_count": 77,
   "id": "7c86b744",
   "metadata": {},
   "outputs": [],
   "source": [
    "session.sql('use warehouse FOSFOR_SOLUTIONS_WH;').collect()\n",
    "session.sql('use database FDC_Insurance;').collect()\n",
    "session.sql('use schema FDC_Insurance.PUBLIC;').collect()\n",
    "\n",
    "df = session.table('FDC_Insurance.PUBLIC.AUTO_INSURANCE_CLAIMS_DATA_PRODUCT')\n",
    "insurance_claim = df.to_pandas()"
   ]
  },
  {
   "cell_type": "code",
   "execution_count": 78,
   "id": "0ee58ee8",
   "metadata": {},
   "outputs": [],
   "source": [
    "insurance_claim.columns = insurance_claim.columns.str.lower()"
   ]
  },
  {
   "cell_type": "code",
   "execution_count": 79,
   "id": "dea96c64",
   "metadata": {},
   "outputs": [
    {
     "data": {
      "text/plain": [
       "Index(['months_as_customer', 'customer_age', 'policy_number',\n",
       "       'policy_bind_date', 'policy_state', 'policy_csl', 'policy_deductable',\n",
       "       'policy_annual_premium', 'umbrella_limit', 'insured_zip', 'insured_sex',\n",
       "       'insured_education_level', 'insured_occupation', 'insured_hobbies',\n",
       "       'insured_relationship', 'capital_gains', 'capital_loss',\n",
       "       'incident_date', 'incident_type', 'collision_type', 'incident_severity',\n",
       "       'authorities_contacted', 'incident_state', 'incident_city',\n",
       "       'incident_location', 'incident_hour_of_the_day', 'incident_time_of_day',\n",
       "       'number_of_vehicles_involved', 'property_damage', 'bodily_injuries',\n",
       "       'witnesses', 'police_report_available', 'total_claim_amount_paid',\n",
       "       'injury_claim', 'property_claim', 'vehicle_claim', 'auto_make',\n",
       "       'auto_model', 'auto_year', 'fraud_reported'],\n",
       "      dtype='object')"
      ]
     },
     "execution_count": 79,
     "metadata": {},
     "output_type": "execute_result"
    }
   ],
   "source": [
    "insurance_claim.columns"
   ]
  },
  {
   "cell_type": "code",
   "execution_count": 80,
   "id": "dd34e207",
   "metadata": {},
   "outputs": [],
   "source": [
    "insurance_claim.rename(columns = {'total_claim_amount_paid': 'total_claim_amount'}, inplace=True)"
   ]
  },
  {
   "cell_type": "code",
   "execution_count": 81,
   "id": "044dd5de",
   "metadata": {},
   "outputs": [],
   "source": [
    "insurance_claim=insurance_claim.replace(\"?\",np.NaN)"
   ]
  },
  {
   "cell_type": "code",
   "execution_count": 82,
   "id": "0c04c757",
   "metadata": {},
   "outputs": [],
   "source": [
    "df = insurance_claim.copy()"
   ]
  },
  {
   "cell_type": "code",
   "execution_count": 83,
   "id": "17d478fa",
   "metadata": {},
   "outputs": [],
   "source": [
    "actual_inference = df.copy()\n",
    "actual_inference.drop('fraud_reported', axis = 1, inplace=True)"
   ]
  },
  {
   "cell_type": "code",
   "execution_count": 84,
   "id": "d563385c",
   "metadata": {},
   "outputs": [
    {
     "data": {
      "text/html": [
       "<div>\n",
       "<style scoped>\n",
       "    .dataframe tbody tr th:only-of-type {\n",
       "        vertical-align: middle;\n",
       "    }\n",
       "\n",
       "    .dataframe tbody tr th {\n",
       "        vertical-align: top;\n",
       "    }\n",
       "\n",
       "    .dataframe thead th {\n",
       "        text-align: right;\n",
       "    }\n",
       "</style>\n",
       "<table border=\"1\" class=\"dataframe\">\n",
       "  <thead>\n",
       "    <tr style=\"text-align: right;\">\n",
       "      <th></th>\n",
       "      <th>months_as_customer</th>\n",
       "      <th>customer_age</th>\n",
       "      <th>policy_number</th>\n",
       "      <th>policy_bind_date</th>\n",
       "      <th>policy_state</th>\n",
       "      <th>policy_csl</th>\n",
       "      <th>policy_deductable</th>\n",
       "      <th>policy_annual_premium</th>\n",
       "      <th>umbrella_limit</th>\n",
       "      <th>insured_zip</th>\n",
       "      <th>...</th>\n",
       "      <th>bodily_injuries</th>\n",
       "      <th>witnesses</th>\n",
       "      <th>police_report_available</th>\n",
       "      <th>total_claim_amount</th>\n",
       "      <th>injury_claim</th>\n",
       "      <th>property_claim</th>\n",
       "      <th>vehicle_claim</th>\n",
       "      <th>auto_make</th>\n",
       "      <th>auto_model</th>\n",
       "      <th>auto_year</th>\n",
       "    </tr>\n",
       "  </thead>\n",
       "  <tbody>\n",
       "    <tr>\n",
       "      <th>0</th>\n",
       "      <td>213</td>\n",
       "      <td>66</td>\n",
       "      <td>432849</td>\n",
       "      <td>30-10-2001</td>\n",
       "      <td>CT</td>\n",
       "      <td>100/300</td>\n",
       "      <td>1546</td>\n",
       "      <td>2208</td>\n",
       "      <td>4146654</td>\n",
       "      <td>604147</td>\n",
       "      <td>...</td>\n",
       "      <td>2</td>\n",
       "      <td>3</td>\n",
       "      <td>No Police Report Available</td>\n",
       "      <td>71085.0</td>\n",
       "      <td>17655.0</td>\n",
       "      <td>1045.0</td>\n",
       "      <td>52385.0</td>\n",
       "      <td>Toyota</td>\n",
       "      <td>Camry</td>\n",
       "      <td>1999</td>\n",
       "    </tr>\n",
       "    <tr>\n",
       "      <th>1</th>\n",
       "      <td>255</td>\n",
       "      <td>63</td>\n",
       "      <td>427352</td>\n",
       "      <td>17-04-2001</td>\n",
       "      <td>CT</td>\n",
       "      <td>100/300</td>\n",
       "      <td>1801</td>\n",
       "      <td>2501</td>\n",
       "      <td>3320595</td>\n",
       "      <td>613114</td>\n",
       "      <td>...</td>\n",
       "      <td>0</td>\n",
       "      <td>2</td>\n",
       "      <td>No Police Report Available</td>\n",
       "      <td>67762.0</td>\n",
       "      <td>474.0</td>\n",
       "      <td>4447.0</td>\n",
       "      <td>62841.0</td>\n",
       "      <td>Saab</td>\n",
       "      <td>92x</td>\n",
       "      <td>2004</td>\n",
       "    </tr>\n",
       "    <tr>\n",
       "      <th>2</th>\n",
       "      <td>32</td>\n",
       "      <td>22</td>\n",
       "      <td>442056</td>\n",
       "      <td>13-10-1998</td>\n",
       "      <td>CT</td>\n",
       "      <td>100/300</td>\n",
       "      <td>1903</td>\n",
       "      <td>2642</td>\n",
       "      <td>8838774</td>\n",
       "      <td>602258</td>\n",
       "      <td>...</td>\n",
       "      <td>1</td>\n",
       "      <td>1</td>\n",
       "      <td>Unknown</td>\n",
       "      <td>51272.0</td>\n",
       "      <td>6672.0</td>\n",
       "      <td>1121.0</td>\n",
       "      <td>43479.0</td>\n",
       "      <td>Chevrolet</td>\n",
       "      <td>Malibu</td>\n",
       "      <td>2011</td>\n",
       "    </tr>\n",
       "    <tr>\n",
       "      <th>3</th>\n",
       "      <td>11</td>\n",
       "      <td>36</td>\n",
       "      <td>465577</td>\n",
       "      <td>22-12-1992</td>\n",
       "      <td>CT</td>\n",
       "      <td>500/1000</td>\n",
       "      <td>1612</td>\n",
       "      <td>1941</td>\n",
       "      <td>9620213</td>\n",
       "      <td>432218</td>\n",
       "      <td>...</td>\n",
       "      <td>0</td>\n",
       "      <td>0</td>\n",
       "      <td>Police Report Available</td>\n",
       "      <td>92164.0</td>\n",
       "      <td>325.0</td>\n",
       "      <td>17178.0</td>\n",
       "      <td>74661.0</td>\n",
       "      <td>Audi</td>\n",
       "      <td>A5</td>\n",
       "      <td>2005</td>\n",
       "    </tr>\n",
       "    <tr>\n",
       "      <th>4</th>\n",
       "      <td>18</td>\n",
       "      <td>25</td>\n",
       "      <td>433126</td>\n",
       "      <td>05-03-2013</td>\n",
       "      <td>CT</td>\n",
       "      <td>250/500</td>\n",
       "      <td>2080</td>\n",
       "      <td>2418</td>\n",
       "      <td>9926398</td>\n",
       "      <td>605692</td>\n",
       "      <td>...</td>\n",
       "      <td>0</td>\n",
       "      <td>1</td>\n",
       "      <td>No Police Report Available</td>\n",
       "      <td>40113.0</td>\n",
       "      <td>400.0</td>\n",
       "      <td>925.0</td>\n",
       "      <td>38788.0</td>\n",
       "      <td>Saab</td>\n",
       "      <td>95</td>\n",
       "      <td>2000</td>\n",
       "    </tr>\n",
       "  </tbody>\n",
       "</table>\n",
       "<p>5 rows × 39 columns</p>\n",
       "</div>"
      ],
      "text/plain": [
       "   months_as_customer customer_age  policy_number policy_bind_date   \n",
       "0                 213           66         432849       30-10-2001  \\\n",
       "1                 255           63         427352       17-04-2001   \n",
       "2                  32           22         442056       13-10-1998   \n",
       "3                  11           36         465577       22-12-1992   \n",
       "4                  18           25         433126       05-03-2013   \n",
       "\n",
       "  policy_state policy_csl  policy_deductable  policy_annual_premium   \n",
       "0           CT    100/300               1546                   2208  \\\n",
       "1           CT    100/300               1801                   2501   \n",
       "2           CT    100/300               1903                   2642   \n",
       "3           CT   500/1000               1612                   1941   \n",
       "4           CT    250/500               2080                   2418   \n",
       "\n",
       "   umbrella_limit insured_zip  ... bodily_injuries witnesses   \n",
       "0         4146654      604147  ...               2         3  \\\n",
       "1         3320595      613114  ...               0         2   \n",
       "2         8838774      602258  ...               1         1   \n",
       "3         9620213      432218  ...               0         0   \n",
       "4         9926398      605692  ...               0         1   \n",
       "\n",
       "      police_report_available total_claim_amount injury_claim  property_claim   \n",
       "0  No Police Report Available            71085.0      17655.0          1045.0  \\\n",
       "1  No Police Report Available            67762.0        474.0          4447.0   \n",
       "2                     Unknown            51272.0       6672.0          1121.0   \n",
       "3     Police Report Available            92164.0        325.0         17178.0   \n",
       "4  No Police Report Available            40113.0        400.0           925.0   \n",
       "\n",
       "   vehicle_claim  auto_make auto_model auto_year  \n",
       "0        52385.0     Toyota      Camry      1999  \n",
       "1        62841.0       Saab        92x      2004  \n",
       "2        43479.0  Chevrolet     Malibu      2011  \n",
       "3        74661.0       Audi         A5      2005  \n",
       "4        38788.0       Saab         95      2000  \n",
       "\n",
       "[5 rows x 39 columns]"
      ]
     },
     "execution_count": 84,
     "metadata": {},
     "output_type": "execute_result"
    }
   ],
   "source": [
    "actual_inference.head()"
   ]
  },
  {
   "cell_type": "code",
   "execution_count": 85,
   "id": "5fa9b530",
   "metadata": {},
   "outputs": [],
   "source": [
    "# dropping columns which are not necessary for prediction\n",
    "\n",
    "to_drop = ['policy_number','policy_bind_date','policy_state','insured_zip','incident_location','incident_date',\n",
    "           'incident_state','incident_city','insured_hobbies','auto_make','auto_model','auto_year']\n",
    "\n",
    "df.drop(to_drop, inplace=True, axis=1)"
   ]
  },
  {
   "cell_type": "code",
   "execution_count": 86,
   "id": "9b2aec4c",
   "metadata": {},
   "outputs": [],
   "source": [
    "# separating the feature and target columns\n",
    "\n",
    "X = df.drop('fraud_reported', axis = 1)\n",
    "y = df['fraud_reported']"
   ]
  },
  {
   "cell_type": "code",
   "execution_count": 87,
   "id": "6e41ff62",
   "metadata": {},
   "outputs": [],
   "source": [
    "# extracting categorical columns\n",
    "cat_df = X.select_dtypes(include = ['object'])"
   ]
  },
  {
   "cell_type": "code",
   "execution_count": 88,
   "id": "0b248b0d",
   "metadata": {},
   "outputs": [
    {
     "data": {
      "text/plain": [
       "Index(['customer_age', 'policy_csl', 'insured_sex', 'insured_education_level',\n",
       "       'insured_occupation', 'insured_relationship', 'incident_type',\n",
       "       'collision_type', 'incident_severity', 'authorities_contacted',\n",
       "       'incident_time_of_day', 'property_damage', 'police_report_available'],\n",
       "      dtype='object')"
      ]
     },
     "execution_count": 88,
     "metadata": {},
     "output_type": "execute_result"
    }
   ],
   "source": [
    "cat_df.columns"
   ]
  },
  {
   "cell_type": "code",
   "execution_count": 89,
   "id": "00bc0322",
   "metadata": {},
   "outputs": [
    {
     "name": "stdout",
     "output_type": "stream",
     "text": [
      "customer_age: \n",
      "['66' '63' '22' '36' '25' '20' '64' '56' '44' '61' '34' '67' '24' '57'\n",
      " '59' '21' '39' '51' '46' '60' '52' '65' '33' '29' '62' '40' '49' '48'\n",
      " '32' '30' '50' '37' '42' '68' '31' '54' '58' '35' '53' '26' '23' '28'\n",
      " '55' '19' '38' '27' '45' '41' '47' '69' '43']\n",
      "\n",
      "policy_csl: \n",
      "['100/300' '500/1000' '250/500']\n",
      "\n",
      "insured_sex: \n",
      "['MALE' 'FEMALE']\n",
      "\n",
      "insured_education_level: \n",
      "['JD' 'Associate' 'High School' 'College' 'MD' 'Masters' 'PhD']\n",
      "\n",
      "insured_occupation: \n",
      "['craft-repair' 'tech-support' 'adm-clerical' 'priv-house-serv'\n",
      " 'armed-forces' 'transport-moving' 'sales' 'protective-serv'\n",
      " 'other-service' 'farming-fishing' 'handlers-cleaners' 'exec-managerial'\n",
      " 'prof-specialty' 'machine-op-inspct']\n",
      "\n",
      "insured_relationship: \n",
      "['not-in-family' 'husband' 'other-relative' 'own-child' 'unmarried' 'wife']\n",
      "\n",
      "incident_type: \n",
      "['Single Vehicle Collision' 'Parked Car' 'Multi-vehicle Collision'\n",
      " 'Vehicle Theft']\n",
      "\n",
      "collision_type: \n",
      "['Details not Available' 'Side Collision' 'Rear Collision'\n",
      " 'Front Collision']\n",
      "\n",
      "incident_severity: \n",
      "['Major Damage' 'Minor Damage' 'Total Loss']\n",
      "\n",
      "authorities_contacted: \n",
      "['Other' 'None' 'Police' 'Fire' 'Ambulance']\n",
      "\n",
      "incident_time_of_day: \n",
      "['Night Time' 'Morning to Noon' 'Afternoon Hours' 'Early Morning Hours']\n",
      "\n",
      "property_damage: \n",
      "['No Property Damage' 'Details not Available' 'Property Damage']\n",
      "\n",
      "police_report_available: \n",
      "['No Police Report Available' 'Unknown' 'Police Report Available']\n",
      "\n"
     ]
    }
   ],
   "source": [
    "# printing unique values of each column\n",
    "for col in cat_df.columns:\n",
    "    print(f\"{col}: \\n{cat_df[col].unique()}\\n\")"
   ]
  },
  {
   "cell_type": "code",
   "execution_count": 90,
   "id": "44eeac43",
   "metadata": {},
   "outputs": [],
   "source": [
    "cat_df = pd.get_dummies(cat_df, drop_first = True)"
   ]
  },
  {
   "cell_type": "code",
   "execution_count": 91,
   "id": "ff74a5da",
   "metadata": {},
   "outputs": [],
   "source": [
    "num_df = df.select_dtypes(include = ['int16','int8','int32','float64'])"
   ]
  },
  {
   "cell_type": "code",
   "execution_count": 92,
   "id": "91f64b39",
   "metadata": {},
   "outputs": [
    {
     "data": {
      "text/plain": [
       "Index(['months_as_customer', 'policy_deductable', 'policy_annual_premium',\n",
       "       'umbrella_limit', 'capital_gains', 'capital_loss',\n",
       "       'incident_hour_of_the_day', 'number_of_vehicles_involved',\n",
       "       'bodily_injuries', 'witnesses', 'total_claim_amount', 'injury_claim',\n",
       "       'property_claim', 'vehicle_claim'],\n",
       "      dtype='object')"
      ]
     },
     "execution_count": 92,
     "metadata": {},
     "output_type": "execute_result"
    }
   ],
   "source": [
    "num_df.columns"
   ]
  },
  {
   "cell_type": "code",
   "execution_count": 93,
   "id": "5fd84c4c",
   "metadata": {},
   "outputs": [],
   "source": [
    "# combining the Numerical and Categorical dataframes to get the final dataset\n",
    "\n",
    "X = pd.concat([num_df, cat_df], axis = 1)"
   ]
  },
  {
   "cell_type": "code",
   "execution_count": 94,
   "id": "e5dc17e2",
   "metadata": {},
   "outputs": [],
   "source": [
    "# splitting data into training set and test set\n",
    "\n",
    "from sklearn.model_selection import train_test_split\n",
    "\n",
    "X_train, X_test, y_train, y_test = train_test_split(X, y, test_size = 0.25)"
   ]
  },
  {
   "cell_type": "code",
   "execution_count": 95,
   "id": "36da7ae2",
   "metadata": {},
   "outputs": [],
   "source": [
    "num_df = X_train[['months_as_customer', 'policy_deductable', 'umbrella_limit',\n",
    "       'capital_gains', 'capital_loss', 'incident_hour_of_the_day',\n",
    "       'number_of_vehicles_involved', 'bodily_injuries', 'witnesses', 'injury_claim', 'property_claim',\n",
    "       'vehicle_claim']]"
   ]
  },
  {
   "cell_type": "code",
   "execution_count": 96,
   "id": "4f94a7d3",
   "metadata": {},
   "outputs": [],
   "source": [
    "num_df_test = X_test[['months_as_customer', 'policy_deductable', 'umbrella_limit',\n",
    "       'capital_gains', 'capital_loss', 'incident_hour_of_the_day',\n",
    "       'number_of_vehicles_involved', 'bodily_injuries', 'witnesses', 'injury_claim', 'property_claim',\n",
    "       'vehicle_claim']]"
   ]
  },
  {
   "cell_type": "code",
   "execution_count": 97,
   "id": "4eac05ce",
   "metadata": {},
   "outputs": [],
   "source": [
    "# Scaling the numeric values in the dataset\n",
    "\n",
    "from sklearn.preprocessing import StandardScaler\n",
    "\n",
    "scaler = StandardScaler()\n",
    "scaled_data = scaler.fit_transform(num_df)"
   ]
  },
  {
   "cell_type": "code",
   "execution_count": 98,
   "id": "dd265d84",
   "metadata": {},
   "outputs": [],
   "source": [
    "scaled_data_test = scaler.transform(num_df_test)"
   ]
  },
  {
   "cell_type": "code",
   "execution_count": 99,
   "id": "fc7b669b",
   "metadata": {
    "scrolled": true
   },
   "outputs": [
    {
     "data": {
      "text/html": [
       "<div>\n",
       "<style scoped>\n",
       "    .dataframe tbody tr th:only-of-type {\n",
       "        vertical-align: middle;\n",
       "    }\n",
       "\n",
       "    .dataframe tbody tr th {\n",
       "        vertical-align: top;\n",
       "    }\n",
       "\n",
       "    .dataframe thead th {\n",
       "        text-align: right;\n",
       "    }\n",
       "</style>\n",
       "<table border=\"1\" class=\"dataframe\">\n",
       "  <thead>\n",
       "    <tr style=\"text-align: right;\">\n",
       "      <th></th>\n",
       "      <th>months_as_customer</th>\n",
       "      <th>policy_deductable</th>\n",
       "      <th>umbrella_limit</th>\n",
       "      <th>capital_gains</th>\n",
       "      <th>capital_loss</th>\n",
       "      <th>incident_hour_of_the_day</th>\n",
       "      <th>number_of_vehicles_involved</th>\n",
       "      <th>bodily_injuries</th>\n",
       "      <th>witnesses</th>\n",
       "      <th>injury_claim</th>\n",
       "      <th>property_claim</th>\n",
       "      <th>vehicle_claim</th>\n",
       "    </tr>\n",
       "  </thead>\n",
       "  <tbody>\n",
       "    <tr>\n",
       "      <th>185659</th>\n",
       "      <td>0.561313</td>\n",
       "      <td>1.248439</td>\n",
       "      <td>1.505983</td>\n",
       "      <td>1.039427</td>\n",
       "      <td>-0.989383</td>\n",
       "      <td>-2.058331</td>\n",
       "      <td>2.170981</td>\n",
       "      <td>1.226180</td>\n",
       "      <td>-1.344742</td>\n",
       "      <td>0.941607</td>\n",
       "      <td>1.104487</td>\n",
       "      <td>0.029543</td>\n",
       "    </tr>\n",
       "    <tr>\n",
       "      <th>165436</th>\n",
       "      <td>-0.800847</td>\n",
       "      <td>-0.350607</td>\n",
       "      <td>1.242188</td>\n",
       "      <td>-0.636122</td>\n",
       "      <td>1.056366</td>\n",
       "      <td>0.844126</td>\n",
       "      <td>-0.678445</td>\n",
       "      <td>0.003937</td>\n",
       "      <td>-1.344742</td>\n",
       "      <td>0.762049</td>\n",
       "      <td>1.992616</td>\n",
       "      <td>0.707144</td>\n",
       "    </tr>\n",
       "    <tr>\n",
       "      <th>99123</th>\n",
       "      <td>0.121907</td>\n",
       "      <td>-0.589717</td>\n",
       "      <td>0.351180</td>\n",
       "      <td>-1.484047</td>\n",
       "      <td>-1.696628</td>\n",
       "      <td>1.356324</td>\n",
       "      <td>-0.678445</td>\n",
       "      <td>-1.218305</td>\n",
       "      <td>-1.344742</td>\n",
       "      <td>-1.013800</td>\n",
       "      <td>0.782697</td>\n",
       "      <td>-0.922386</td>\n",
       "    </tr>\n",
       "    <tr>\n",
       "      <th>153977</th>\n",
       "      <td>-0.152722</td>\n",
       "      <td>0.138820</td>\n",
       "      <td>-0.861763</td>\n",
       "      <td>-0.767826</td>\n",
       "      <td>-0.424620</td>\n",
       "      <td>-0.863201</td>\n",
       "      <td>-0.678445</td>\n",
       "      <td>0.003937</td>\n",
       "      <td>0.447805</td>\n",
       "      <td>-0.742713</td>\n",
       "      <td>-0.954305</td>\n",
       "      <td>-0.989503</td>\n",
       "    </tr>\n",
       "    <tr>\n",
       "      <th>24298</th>\n",
       "      <td>-1.163357</td>\n",
       "      <td>0.088383</td>\n",
       "      <td>-0.155933</td>\n",
       "      <td>-1.549089</td>\n",
       "      <td>-0.858614</td>\n",
       "      <td>1.014859</td>\n",
       "      <td>-0.678445</td>\n",
       "      <td>-1.218305</td>\n",
       "      <td>0.447805</td>\n",
       "      <td>-1.000644</td>\n",
       "      <td>-0.510432</td>\n",
       "      <td>1.577234</td>\n",
       "    </tr>\n",
       "  </tbody>\n",
       "</table>\n",
       "</div>"
      ],
      "text/plain": [
       "        months_as_customer  policy_deductable  umbrella_limit  capital_gains   \n",
       "185659            0.561313           1.248439        1.505983       1.039427  \\\n",
       "165436           -0.800847          -0.350607        1.242188      -0.636122   \n",
       "99123             0.121907          -0.589717        0.351180      -1.484047   \n",
       "153977           -0.152722           0.138820       -0.861763      -0.767826   \n",
       "24298            -1.163357           0.088383       -0.155933      -1.549089   \n",
       "\n",
       "        capital_loss  incident_hour_of_the_day  number_of_vehicles_involved   \n",
       "185659     -0.989383                 -2.058331                     2.170981  \\\n",
       "165436      1.056366                  0.844126                    -0.678445   \n",
       "99123      -1.696628                  1.356324                    -0.678445   \n",
       "153977     -0.424620                 -0.863201                    -0.678445   \n",
       "24298      -0.858614                  1.014859                    -0.678445   \n",
       "\n",
       "        bodily_injuries  witnesses  injury_claim  property_claim   \n",
       "185659         1.226180  -1.344742      0.941607        1.104487  \\\n",
       "165436         0.003937  -1.344742      0.762049        1.992616   \n",
       "99123         -1.218305  -1.344742     -1.013800        0.782697   \n",
       "153977         0.003937   0.447805     -0.742713       -0.954305   \n",
       "24298         -1.218305   0.447805     -1.000644       -0.510432   \n",
       "\n",
       "        vehicle_claim  \n",
       "185659       0.029543  \n",
       "165436       0.707144  \n",
       "99123       -0.922386  \n",
       "153977      -0.989503  \n",
       "24298        1.577234  "
      ]
     },
     "execution_count": 99,
     "metadata": {},
     "output_type": "execute_result"
    }
   ],
   "source": [
    "scaled_num_df = pd.DataFrame(data = scaled_data, columns = num_df.columns, index = X_train.index)\n",
    "scaled_num_df.head()"
   ]
  },
  {
   "cell_type": "code",
   "execution_count": 100,
   "id": "2c749cfd",
   "metadata": {},
   "outputs": [
    {
     "data": {
      "text/html": [
       "<div>\n",
       "<style scoped>\n",
       "    .dataframe tbody tr th:only-of-type {\n",
       "        vertical-align: middle;\n",
       "    }\n",
       "\n",
       "    .dataframe tbody tr th {\n",
       "        vertical-align: top;\n",
       "    }\n",
       "\n",
       "    .dataframe thead th {\n",
       "        text-align: right;\n",
       "    }\n",
       "</style>\n",
       "<table border=\"1\" class=\"dataframe\">\n",
       "  <thead>\n",
       "    <tr style=\"text-align: right;\">\n",
       "      <th></th>\n",
       "      <th>months_as_customer</th>\n",
       "      <th>policy_deductable</th>\n",
       "      <th>umbrella_limit</th>\n",
       "      <th>capital_gains</th>\n",
       "      <th>capital_loss</th>\n",
       "      <th>incident_hour_of_the_day</th>\n",
       "      <th>number_of_vehicles_involved</th>\n",
       "      <th>bodily_injuries</th>\n",
       "      <th>witnesses</th>\n",
       "      <th>injury_claim</th>\n",
       "      <th>property_claim</th>\n",
       "      <th>vehicle_claim</th>\n",
       "    </tr>\n",
       "  </thead>\n",
       "  <tbody>\n",
       "    <tr>\n",
       "      <th>147877</th>\n",
       "      <td>-0.064841</td>\n",
       "      <td>1.859290</td>\n",
       "      <td>0.726617</td>\n",
       "      <td>-1.666503</td>\n",
       "      <td>-0.150908</td>\n",
       "      <td>-0.521736</td>\n",
       "      <td>-0.678445</td>\n",
       "      <td>0.003937</td>\n",
       "      <td>0.447805</td>\n",
       "      <td>0.143042</td>\n",
       "      <td>1.088861</td>\n",
       "      <td>1.066117</td>\n",
       "    </tr>\n",
       "    <tr>\n",
       "      <th>128005</th>\n",
       "      <td>-0.844787</td>\n",
       "      <td>-1.579781</td>\n",
       "      <td>-1.752858</td>\n",
       "      <td>1.662494</td>\n",
       "      <td>1.170889</td>\n",
       "      <td>-0.180270</td>\n",
       "      <td>-0.678445</td>\n",
       "      <td>1.226180</td>\n",
       "      <td>-0.448468</td>\n",
       "      <td>0.301187</td>\n",
       "      <td>-0.970820</td>\n",
       "      <td>-1.360459</td>\n",
       "    </tr>\n",
       "    <tr>\n",
       "      <th>79206</th>\n",
       "      <td>-0.888728</td>\n",
       "      <td>-1.363087</td>\n",
       "      <td>0.149047</td>\n",
       "      <td>0.911430</td>\n",
       "      <td>-1.596966</td>\n",
       "      <td>-0.009538</td>\n",
       "      <td>-0.678445</td>\n",
       "      <td>1.226180</td>\n",
       "      <td>-0.448468</td>\n",
       "      <td>1.878864</td>\n",
       "      <td>0.559617</td>\n",
       "      <td>-0.119795</td>\n",
       "    </tr>\n",
       "    <tr>\n",
       "      <th>95780</th>\n",
       "      <td>0.704120</td>\n",
       "      <td>-1.151998</td>\n",
       "      <td>-0.570701</td>\n",
       "      <td>-1.405723</td>\n",
       "      <td>-0.141294</td>\n",
       "      <td>-1.033934</td>\n",
       "      <td>0.746268</td>\n",
       "      <td>0.003937</td>\n",
       "      <td>-1.344742</td>\n",
       "      <td>1.890200</td>\n",
       "      <td>-0.973361</td>\n",
       "      <td>-0.023168</td>\n",
       "    </tr>\n",
       "    <tr>\n",
       "      <th>114281</th>\n",
       "      <td>0.110922</td>\n",
       "      <td>-0.096553</td>\n",
       "      <td>0.055475</td>\n",
       "      <td>-0.132269</td>\n",
       "      <td>-0.295656</td>\n",
       "      <td>1.014859</td>\n",
       "      <td>2.170981</td>\n",
       "      <td>-1.218305</td>\n",
       "      <td>-1.344742</td>\n",
       "      <td>-1.015339</td>\n",
       "      <td>-0.949097</td>\n",
       "      <td>1.715163</td>\n",
       "    </tr>\n",
       "  </tbody>\n",
       "</table>\n",
       "</div>"
      ],
      "text/plain": [
       "        months_as_customer  policy_deductable  umbrella_limit  capital_gains   \n",
       "147877           -0.064841           1.859290        0.726617      -1.666503  \\\n",
       "128005           -0.844787          -1.579781       -1.752858       1.662494   \n",
       "79206            -0.888728          -1.363087        0.149047       0.911430   \n",
       "95780             0.704120          -1.151998       -0.570701      -1.405723   \n",
       "114281            0.110922          -0.096553        0.055475      -0.132269   \n",
       "\n",
       "        capital_loss  incident_hour_of_the_day  number_of_vehicles_involved   \n",
       "147877     -0.150908                 -0.521736                    -0.678445  \\\n",
       "128005      1.170889                 -0.180270                    -0.678445   \n",
       "79206      -1.596966                 -0.009538                    -0.678445   \n",
       "95780      -0.141294                 -1.033934                     0.746268   \n",
       "114281     -0.295656                  1.014859                     2.170981   \n",
       "\n",
       "        bodily_injuries  witnesses  injury_claim  property_claim   \n",
       "147877         0.003937   0.447805      0.143042        1.088861  \\\n",
       "128005         1.226180  -0.448468      0.301187       -0.970820   \n",
       "79206          1.226180  -0.448468      1.878864        0.559617   \n",
       "95780          0.003937  -1.344742      1.890200       -0.973361   \n",
       "114281        -1.218305  -1.344742     -1.015339       -0.949097   \n",
       "\n",
       "        vehicle_claim  \n",
       "147877       1.066117  \n",
       "128005      -1.360459  \n",
       "79206       -0.119795  \n",
       "95780       -0.023168  \n",
       "114281       1.715163  "
      ]
     },
     "execution_count": 100,
     "metadata": {},
     "output_type": "execute_result"
    }
   ],
   "source": [
    "scaled_num_df_test = pd.DataFrame(data = scaled_data_test, columns = num_df_test.columns, index = X_test.index)\n",
    "scaled_num_df_test.head()"
   ]
  },
  {
   "cell_type": "code",
   "execution_count": 101,
   "id": "279e8a95",
   "metadata": {},
   "outputs": [],
   "source": [
    "X_train.drop(columns = scaled_num_df.columns, inplace = True)"
   ]
  },
  {
   "cell_type": "code",
   "execution_count": 102,
   "id": "c3f18e4c",
   "metadata": {},
   "outputs": [],
   "source": [
    "X_train = pd.concat([scaled_num_df, X_train], axis = 1)"
   ]
  },
  {
   "cell_type": "code",
   "execution_count": 103,
   "id": "11159f53",
   "metadata": {},
   "outputs": [],
   "source": [
    "X_test.drop(columns = scaled_num_df_test.columns, inplace = True)"
   ]
  },
  {
   "cell_type": "code",
   "execution_count": 104,
   "id": "6899602c",
   "metadata": {},
   "outputs": [],
   "source": [
    "X_test = pd.concat([scaled_num_df_test, X_test], axis = 1)"
   ]
  },
  {
   "cell_type": "markdown",
   "id": "3e398039",
   "metadata": {},
   "source": [
    "# Decision Tree"
   ]
  },
  {
   "cell_type": "code",
   "execution_count": 105,
   "id": "c47dde4e",
   "metadata": {},
   "outputs": [
    {
     "data": {
      "text/html": [
       "<style>#sk-container-id-3 {color: black;background-color: white;}#sk-container-id-3 pre{padding: 0;}#sk-container-id-3 div.sk-toggleable {background-color: white;}#sk-container-id-3 label.sk-toggleable__label {cursor: pointer;display: block;width: 100%;margin-bottom: 0;padding: 0.3em;box-sizing: border-box;text-align: center;}#sk-container-id-3 label.sk-toggleable__label-arrow:before {content: \"▸\";float: left;margin-right: 0.25em;color: #696969;}#sk-container-id-3 label.sk-toggleable__label-arrow:hover:before {color: black;}#sk-container-id-3 div.sk-estimator:hover label.sk-toggleable__label-arrow:before {color: black;}#sk-container-id-3 div.sk-toggleable__content {max-height: 0;max-width: 0;overflow: hidden;text-align: left;background-color: #f0f8ff;}#sk-container-id-3 div.sk-toggleable__content pre {margin: 0.2em;color: black;border-radius: 0.25em;background-color: #f0f8ff;}#sk-container-id-3 input.sk-toggleable__control:checked~div.sk-toggleable__content {max-height: 200px;max-width: 100%;overflow: auto;}#sk-container-id-3 input.sk-toggleable__control:checked~label.sk-toggleable__label-arrow:before {content: \"▾\";}#sk-container-id-3 div.sk-estimator input.sk-toggleable__control:checked~label.sk-toggleable__label {background-color: #d4ebff;}#sk-container-id-3 div.sk-label input.sk-toggleable__control:checked~label.sk-toggleable__label {background-color: #d4ebff;}#sk-container-id-3 input.sk-hidden--visually {border: 0;clip: rect(1px 1px 1px 1px);clip: rect(1px, 1px, 1px, 1px);height: 1px;margin: -1px;overflow: hidden;padding: 0;position: absolute;width: 1px;}#sk-container-id-3 div.sk-estimator {font-family: monospace;background-color: #f0f8ff;border: 1px dotted black;border-radius: 0.25em;box-sizing: border-box;margin-bottom: 0.5em;}#sk-container-id-3 div.sk-estimator:hover {background-color: #d4ebff;}#sk-container-id-3 div.sk-parallel-item::after {content: \"\";width: 100%;border-bottom: 1px solid gray;flex-grow: 1;}#sk-container-id-3 div.sk-label:hover label.sk-toggleable__label {background-color: #d4ebff;}#sk-container-id-3 div.sk-serial::before {content: \"\";position: absolute;border-left: 1px solid gray;box-sizing: border-box;top: 0;bottom: 0;left: 50%;z-index: 0;}#sk-container-id-3 div.sk-serial {display: flex;flex-direction: column;align-items: center;background-color: white;padding-right: 0.2em;padding-left: 0.2em;position: relative;}#sk-container-id-3 div.sk-item {position: relative;z-index: 1;}#sk-container-id-3 div.sk-parallel {display: flex;align-items: stretch;justify-content: center;background-color: white;position: relative;}#sk-container-id-3 div.sk-item::before, #sk-container-id-3 div.sk-parallel-item::before {content: \"\";position: absolute;border-left: 1px solid gray;box-sizing: border-box;top: 0;bottom: 0;left: 50%;z-index: -1;}#sk-container-id-3 div.sk-parallel-item {display: flex;flex-direction: column;z-index: 1;position: relative;background-color: white;}#sk-container-id-3 div.sk-parallel-item:first-child::after {align-self: flex-end;width: 50%;}#sk-container-id-3 div.sk-parallel-item:last-child::after {align-self: flex-start;width: 50%;}#sk-container-id-3 div.sk-parallel-item:only-child::after {width: 0;}#sk-container-id-3 div.sk-dashed-wrapped {border: 1px dashed gray;margin: 0 0.4em 0.5em 0.4em;box-sizing: border-box;padding-bottom: 0.4em;background-color: white;}#sk-container-id-3 div.sk-label label {font-family: monospace;font-weight: bold;display: inline-block;line-height: 1.2em;}#sk-container-id-3 div.sk-label-container {text-align: center;}#sk-container-id-3 div.sk-container {/* jupyter's `normalize.less` sets `[hidden] { display: none; }` but bootstrap.min.css set `[hidden] { display: none !important; }` so we also need the `!important` here to be able to override the default hidden behavior on the sphinx rendered scikit-learn.org. See: https://github.com/scikit-learn/scikit-learn/issues/21755 */display: inline-block !important;position: relative;}#sk-container-id-3 div.sk-text-repr-fallback {display: none;}</style><div id=\"sk-container-id-3\" class=\"sk-top-container\"><div class=\"sk-text-repr-fallback\"><pre>DecisionTreeClassifier()</pre><b>In a Jupyter environment, please rerun this cell to show the HTML representation or trust the notebook. <br />On GitHub, the HTML representation is unable to render, please try loading this page with nbviewer.org.</b></div><div class=\"sk-container\" hidden><div class=\"sk-item\"><div class=\"sk-estimator sk-toggleable\"><input class=\"sk-toggleable__control sk-hidden--visually\" id=\"sk-estimator-id-3\" type=\"checkbox\" checked><label for=\"sk-estimator-id-3\" class=\"sk-toggleable__label sk-toggleable__label-arrow\">DecisionTreeClassifier</label><div class=\"sk-toggleable__content\"><pre>DecisionTreeClassifier()</pre></div></div></div></div></div>"
      ],
      "text/plain": [
       "DecisionTreeClassifier()"
      ]
     },
     "execution_count": 105,
     "metadata": {},
     "output_type": "execute_result"
    }
   ],
   "source": [
    "#from sklearn.tree import DecisionTreeClassifier\n",
    "dtc = DecisionTreeClassifier()\n",
    "dtc.fit(X_train, y_train)"
   ]
  },
  {
   "cell_type": "code",
   "execution_count": 106,
   "id": "797d22a1",
   "metadata": {},
   "outputs": [],
   "source": [
    "y_pred = dtc.predict(X_test)"
   ]
  },
  {
   "cell_type": "code",
   "execution_count": 107,
   "id": "9b41528c",
   "metadata": {
    "scrolled": true
   },
   "outputs": [
    {
     "name": "stdout",
     "output_type": "stream",
     "text": [
      "Training accuracy of Decision Tree is : 1.0\n",
      "Test accuracy of Decision Tree is : 0.9939385660867042\n",
      "[[ 8309   152]\n",
      " [  203 49903]]\n",
      "                   precision    recall  f1-score   support\n",
      "\n",
      "   Fraud Reported       0.98      0.98      0.98      8461\n",
      "No Fraud Reported       1.00      1.00      1.00     50106\n",
      "\n",
      "         accuracy                           0.99     58567\n",
      "        macro avg       0.99      0.99      0.99     58567\n",
      "     weighted avg       0.99      0.99      0.99     58567\n",
      "\n"
     ]
    }
   ],
   "source": [
    "dtc_train_acc = accuracy_score(y_train, dtc.predict(X_train))\n",
    "dtc_test_acc = accuracy_score(y_test, y_pred)\n",
    "\n",
    "print(f\"Training accuracy of Decision Tree is : {dtc_train_acc}\")\n",
    "print(f\"Test accuracy of Decision Tree is : {dtc_test_acc}\")\n",
    "\n",
    "print(confusion_matrix(y_test, y_pred))\n",
    "print(classification_report(y_test, y_pred))"
   ]
  },
  {
   "cell_type": "code",
   "execution_count": 108,
   "id": "40a70645",
   "metadata": {},
   "outputs": [],
   "source": [
    "actual_model_columns = ['months_as_customer',\n",
    " 'policy_deductable',\n",
    " 'umbrella_limit',\n",
    " 'capital_gains',\n",
    " 'capital_loss',\n",
    " 'incident_hour_of_the_day',\n",
    " 'number_of_vehicles_involved',\n",
    " 'bodily_injuries',\n",
    " 'witnesses',\n",
    " 'injury_claim',\n",
    " 'property_claim',\n",
    " 'vehicle_claim',\n",
    " 'policy_annual_premium',\n",
    " 'total_claim_amount',\n",
    " 'customer_age_20',\n",
    " 'customer_age_21',\n",
    " 'customer_age_22',\n",
    " 'customer_age_23',\n",
    " 'customer_age_24',\n",
    " 'customer_age_25',\n",
    " 'customer_age_26',\n",
    " 'customer_age_27',\n",
    " 'customer_age_28',\n",
    " 'customer_age_29',\n",
    " 'customer_age_30',\n",
    " 'customer_age_31',\n",
    " 'customer_age_32',\n",
    " 'customer_age_33',\n",
    " 'customer_age_34',\n",
    " 'customer_age_35',\n",
    " 'customer_age_36',\n",
    " 'customer_age_37',\n",
    " 'customer_age_38',\n",
    " 'customer_age_39',\n",
    " 'customer_age_40',\n",
    " 'customer_age_41',\n",
    " 'customer_age_42',\n",
    " 'customer_age_43',\n",
    " 'customer_age_44',\n",
    " 'customer_age_45',\n",
    " 'customer_age_46',\n",
    " 'customer_age_47',\n",
    " 'customer_age_48',\n",
    " 'customer_age_49',\n",
    " 'customer_age_50',\n",
    " 'customer_age_51',\n",
    " 'customer_age_52',\n",
    " 'customer_age_53',\n",
    " 'customer_age_54',\n",
    " 'customer_age_55',\n",
    " 'customer_age_56',\n",
    " 'customer_age_57',\n",
    " 'customer_age_58',\n",
    " 'customer_age_59',\n",
    " 'customer_age_60',\n",
    " 'customer_age_61',\n",
    " 'customer_age_62',\n",
    " 'customer_age_63',\n",
    " 'customer_age_64',\n",
    " 'customer_age_65',\n",
    " 'customer_age_66',\n",
    " 'customer_age_67',\n",
    " 'customer_age_68',\n",
    " 'customer_age_69',\n",
    " 'policy_csl_250/500',\n",
    " 'policy_csl_500/1000',\n",
    " 'insured_sex_MALE',\n",
    " 'insured_education_level_College',\n",
    " 'insured_education_level_High School',\n",
    " 'insured_education_level_JD',\n",
    " 'insured_education_level_MD',\n",
    " 'insured_education_level_Masters',\n",
    " 'insured_education_level_PhD',\n",
    " 'insured_occupation_armed-forces',\n",
    " 'insured_occupation_craft-repair',\n",
    " 'insured_occupation_exec-managerial',\n",
    " 'insured_occupation_farming-fishing',\n",
    " 'insured_occupation_handlers-cleaners',\n",
    " 'insured_occupation_machine-op-inspct',\n",
    " 'insured_occupation_other-service',\n",
    " 'insured_occupation_priv-house-serv',\n",
    " 'insured_occupation_prof-specialty',\n",
    " 'insured_occupation_protective-serv',\n",
    " 'insured_occupation_sales',\n",
    " 'insured_occupation_tech-support',\n",
    " 'insured_occupation_transport-moving',\n",
    " 'insured_relationship_not-in-family',\n",
    " 'insured_relationship_other-relative',\n",
    " 'insured_relationship_own-child',\n",
    " 'insured_relationship_unmarried',\n",
    " 'insured_relationship_wife',\n",
    " 'incident_type_Parked Car',\n",
    " 'incident_type_Single Vehicle Collision',\n",
    " 'incident_type_Vehicle Theft',\n",
    " 'collision_type_Front Collision',\n",
    " 'collision_type_Rear Collision',\n",
    " 'collision_type_Side Collision',\n",
    " 'incident_severity_Minor Damage',\n",
    " 'incident_severity_Total Loss',\n",
    " 'authorities_contacted_Fire',\n",
    " 'authorities_contacted_None',\n",
    " 'authorities_contacted_Other',\n",
    " 'authorities_contacted_Police',\n",
    " 'incident_time_of_day_Early Morning Hours',\n",
    " 'incident_time_of_day_Morning to Noon',\n",
    " 'incident_time_of_day_Night Time',\n",
    " 'property_damage_No Property Damage',\n",
    " 'property_damage_Property Damage',\n",
    " 'police_report_available_Police Report Available',\n",
    " 'police_report_available_Unknown']"
   ]
  },
  {
   "cell_type": "code",
   "execution_count": 109,
   "id": "293e583a",
   "metadata": {},
   "outputs": [],
   "source": [
    "@scoring_func\n",
    "def score(model, request):\n",
    "    payload_dict = request.json[\"payload\"]\n",
    "    df = pd.DataFrame(payload_dict,index=[0])\n",
    "    df = df.fillna(0)\n",
    "    df.columns = df.columns.str.lower()\n",
    "    df.drop(to_drop, inplace=True, axis=1)\n",
    "    \n",
    "    # extracting categorical columns\n",
    "    cat_df = df[['customer_age','policy_csl','insured_sex','insured_education_level','insured_occupation','insured_relationship','incident_type','collision_type','incident_severity','authorities_contacted','incident_time_of_day','property_damage','police_report_available']]\n",
    "    cat_df = pd.get_dummies(cat_df, drop_first = True)\n",
    "\n",
    "    num_df = df[['months_as_customer', 'policy_deductable', 'policy_annual_premium',\n",
    "       'umbrella_limit', 'capital_gains', 'capital_loss',\n",
    "       'incident_hour_of_the_day', 'number_of_vehicles_involved',\n",
    "       'bodily_injuries', 'witnesses', 'total_claim_amount', 'injury_claim',\n",
    "       'property_claim', 'vehicle_claim']]\n",
    "    \n",
    "    X = pd.concat([num_df, cat_df], axis = 1)\n",
    "    \n",
    "    num_df_test = X[['months_as_customer', 'policy_deductable', 'umbrella_limit',\n",
    "       'capital_gains', 'capital_loss', 'incident_hour_of_the_day',\n",
    "       'number_of_vehicles_involved', 'bodily_injuries', 'witnesses', 'injury_claim', 'property_claim',\n",
    "       'vehicle_claim']]\n",
    "\n",
    "    scaled_data_test = scaler.transform(num_df_test)\n",
    "    scaled_num_df_test = pd.DataFrame(data = scaled_data_test, columns = num_df_test.columns, index = X.index)\n",
    "    \n",
    "    X.drop(columns = scaled_num_df_test.columns, inplace = True)\n",
    "    X = pd.concat([scaled_num_df_test, X], axis = 1)\n",
    "    \n",
    "    missing_features = [missing_col for missing_col in actual_model_columns if missing_col not in X.columns]\n",
    "    X[missing_features] = 0\n",
    "    \n",
    "    prediction = model.predict(X[actual_model_columns])\n",
    "    probability = model.predict_proba(X)[:,1]\n",
    "    return {\"prediction\" : prediction, \"probability\" : probability}"
   ]
  },
  {
   "cell_type": "code",
   "execution_count": 110,
   "id": "4027c115",
   "metadata": {},
   "outputs": [],
   "source": [
    "insurance_claim.columns = insurance_claim.columns.str.upper()\n",
    "insurance_claims = insurance_claim.copy()\n",
    "insurance_claims.drop('FRAUD_REPORTED', axis = 1, inplace=True)\n",
    "#payload = insurance_claims.iloc[0].to_dict()\n",
    "payload = actual_inference.iloc[0].to_dict()"
   ]
  },
  {
   "cell_type": "code",
   "execution_count": 111,
   "id": "5ca64cbe",
   "metadata": {
    "scrolled": true
   },
   "outputs": [
    {
     "data": {
      "text/plain": [
       "{'months_as_customer': 213,\n",
       " 'customer_age': '66',\n",
       " 'policy_number': 432849,\n",
       " 'policy_bind_date': '30-10-2001',\n",
       " 'policy_state': 'CT',\n",
       " 'policy_csl': '100/300',\n",
       " 'policy_deductable': 1546,\n",
       " 'policy_annual_premium': 2208,\n",
       " 'umbrella_limit': 4146654,\n",
       " 'insured_zip': '604147',\n",
       " 'insured_sex': 'MALE',\n",
       " 'insured_education_level': 'JD',\n",
       " 'insured_occupation': 'craft-repair',\n",
       " 'insured_hobbies': 'camping',\n",
       " 'insured_relationship': 'not-in-family',\n",
       " 'capital_gains': 67272,\n",
       " 'capital_loss': -65017,\n",
       " 'incident_date': datetime.date(2021, 11, 12),\n",
       " 'incident_type': 'Single Vehicle Collision',\n",
       " 'collision_type': 'Details not Available',\n",
       " 'incident_severity': 'Major Damage',\n",
       " 'authorities_contacted': 'Other',\n",
       " 'incident_state': 'CT',\n",
       " 'incident_city': 'Hartford',\n",
       " 'incident_location': 'Flute',\n",
       " 'incident_hour_of_the_day': 20,\n",
       " 'incident_time_of_day': 'Night Time',\n",
       " 'number_of_vehicles_involved': 1,\n",
       " 'property_damage': 'No Property Damage',\n",
       " 'bodily_injuries': 2,\n",
       " 'witnesses': 3,\n",
       " 'police_report_available': 'No Police Report Available',\n",
       " 'total_claim_amount': 71085.0,\n",
       " 'injury_claim': 17655.0,\n",
       " 'property_claim': 1045.0,\n",
       " 'vehicle_claim': 52385.0,\n",
       " 'auto_make': 'Toyota',\n",
       " 'auto_model': 'Camry',\n",
       " 'auto_year': 1999}"
      ]
     },
     "execution_count": 111,
     "metadata": {},
     "output_type": "execute_result"
    }
   ],
   "source": [
    "payload"
   ]
  },
  {
   "cell_type": "code",
   "execution_count": 112,
   "id": "4c06046d",
   "metadata": {},
   "outputs": [
    {
     "data": {
      "text/plain": [
       "{'prediction': array(['No Fraud Reported'], dtype=object),\n",
       " 'probability': array([1.])}"
      ]
     },
     "execution_count": 112,
     "metadata": {},
     "output_type": "execute_result"
    }
   ],
   "source": [
    "req = requests.Request()\n",
    "req.json = {\"payload\":payload}\n",
    "y_req = req\n",
    "y_out = score(dtc, y_req)\n",
    "y_out"
   ]
  },
  {
   "cell_type": "code",
   "execution_count": 113,
   "id": "0cdbb6de",
   "metadata": {},
   "outputs": [
    {
     "data": {
      "text/plain": [
       "{'payload': {'months_as_customer': 213,\n",
       "  'customer_age': '66',\n",
       "  'policy_number': 432849,\n",
       "  'policy_bind_date': '30-10-2001',\n",
       "  'policy_state': 'CT',\n",
       "  'policy_csl': '100/300',\n",
       "  'policy_deductable': 1546,\n",
       "  'policy_annual_premium': 2208,\n",
       "  'umbrella_limit': 4146654,\n",
       "  'insured_zip': '604147',\n",
       "  'insured_sex': 'MALE',\n",
       "  'insured_education_level': 'JD',\n",
       "  'insured_occupation': 'craft-repair',\n",
       "  'insured_hobbies': 'camping',\n",
       "  'insured_relationship': 'not-in-family',\n",
       "  'capital_gains': 67272,\n",
       "  'capital_loss': -65017,\n",
       "  'incident_date': datetime.date(2021, 11, 12),\n",
       "  'incident_type': 'Single Vehicle Collision',\n",
       "  'collision_type': 'Details not Available',\n",
       "  'incident_severity': 'Major Damage',\n",
       "  'authorities_contacted': 'Other',\n",
       "  'incident_state': 'CT',\n",
       "  'incident_city': 'Hartford',\n",
       "  'incident_location': 'Flute',\n",
       "  'incident_hour_of_the_day': 20,\n",
       "  'incident_time_of_day': 'Night Time',\n",
       "  'number_of_vehicles_involved': 1,\n",
       "  'property_damage': 'No Property Damage',\n",
       "  'bodily_injuries': 2,\n",
       "  'witnesses': 3,\n",
       "  'police_report_available': 'No Police Report Available',\n",
       "  'total_claim_amount': 71085.0,\n",
       "  'injury_claim': 17655.0,\n",
       "  'property_claim': 1045.0,\n",
       "  'vehicle_claim': 52385.0,\n",
       "  'auto_make': 'Toyota',\n",
       "  'auto_model': 'Camry',\n",
       "  'auto_year': 1999}}"
      ]
     },
     "execution_count": 113,
     "metadata": {},
     "output_type": "execute_result"
    }
   ],
   "source": [
    "req.json"
   ]
  },
  {
   "cell_type": "code",
   "execution_count": 115,
   "id": "fa62ddbf",
   "metadata": {},
   "outputs": [],
   "source": [
    "y_pred = dtc.predict(X_test)\n",
    "y_prob = dtc.predict_proba(X_test)[:,1]"
   ]
  },
  {
   "cell_type": "code",
   "execution_count": 116,
   "id": "d2c11a3c",
   "metadata": {},
   "outputs": [
    {
     "data": {
      "text/plain": [
       "array(['Fraud Reported', 'No Fraud Reported', 'No Fraud Reported', ...,\n",
       "       'No Fraud Reported', 'No Fraud Reported', 'Fraud Reported'],\n",
       "      dtype=object)"
      ]
     },
     "execution_count": 116,
     "metadata": {},
     "output_type": "execute_result"
    }
   ],
   "source": [
    "y_pred"
   ]
  },
  {
   "cell_type": "code",
   "execution_count": 117,
   "id": "cdc19f62",
   "metadata": {},
   "outputs": [
    {
     "data": {
      "text/plain": [
       "array([0., 1., 1., ..., 1., 1., 0.])"
      ]
     },
     "execution_count": 117,
     "metadata": {},
     "output_type": "execute_result"
    }
   ],
   "source": [
    "y_prob"
   ]
  },
  {
   "cell_type": "code",
   "execution_count": 118,
   "id": "26e0a320",
   "metadata": {
    "scrolled": true
   },
   "outputs": [
    {
     "name": "stdout",
     "output_type": "stream",
     "text": [
      "Calculating build time metrics\n",
      "\n",
      "Progress: ██████████████████████████████████████████████████████████████████████ 100.0%\n"
     ]
    },
    {
     "data": {
      "application/vnd.jupyter.widget-view+json": {
       "model_id": "36346deb8925474fa4b8145ab0b9dc5b",
       "version_major": 2,
       "version_minor": 0
      },
      "text/plain": [
       "VBox(children=(HTML(value='<style>.grad_1{background: #2468a4;} .grad_2{ color:white; background: #2468a4;}</s…"
      ]
     },
     "metadata": {},
     "output_type": "display_data"
    }
   ],
   "source": [
    "## registering the model in Fosfor Insight Designer.\n",
    "model_reg = register_model(dtc, \n",
    "               score, \n",
    "               name=\"Claims_Fraud_DTree_Classifier\", \n",
    "               description=\"Insurance claim's model trained for Fraud Classification\",\n",
    "               flavour=MLModelFlavours.sklearn,\n",
    "               model_type=\"classification\",\n",
    "               init_script=\"snowflake-connector-python[pandas]\",\n",
    "               y_true=y_test,\n",
    "               y_pred=y_pred, \n",
    "               prob=y_prob,\n",
    "               features=X_train.columns,\n",
    "               input_type=\"json\", \n",
    "               explain_ai=True,\n",
    "               x_train=X_train, \n",
    "               x_test=X_test, \n",
    "               y_train=y_train.tolist(),\n",
    "               y_test=y_test.tolist(),\n",
    "               feature_names=X_train.columns.tolist(),\n",
    "               original_features=X_train.columns.tolist(),\n",
    "               feature_ids=X_train.columns,\n",
    "               kyd=True, kyd_score = True)"
   ]
  },
  {
   "cell_type": "markdown",
   "id": "7efd9372",
   "metadata": {},
   "source": [
    "# Version 2 of Decision Tree Fraud Classifier Model"
   ]
  },
  {
   "cell_type": "code",
   "execution_count": 125,
   "id": "85ee5a3f",
   "metadata": {},
   "outputs": [
    {
     "data": {
      "text/html": [
       "<style>#sk-container-id-6 {color: black;background-color: white;}#sk-container-id-6 pre{padding: 0;}#sk-container-id-6 div.sk-toggleable {background-color: white;}#sk-container-id-6 label.sk-toggleable__label {cursor: pointer;display: block;width: 100%;margin-bottom: 0;padding: 0.3em;box-sizing: border-box;text-align: center;}#sk-container-id-6 label.sk-toggleable__label-arrow:before {content: \"▸\";float: left;margin-right: 0.25em;color: #696969;}#sk-container-id-6 label.sk-toggleable__label-arrow:hover:before {color: black;}#sk-container-id-6 div.sk-estimator:hover label.sk-toggleable__label-arrow:before {color: black;}#sk-container-id-6 div.sk-toggleable__content {max-height: 0;max-width: 0;overflow: hidden;text-align: left;background-color: #f0f8ff;}#sk-container-id-6 div.sk-toggleable__content pre {margin: 0.2em;color: black;border-radius: 0.25em;background-color: #f0f8ff;}#sk-container-id-6 input.sk-toggleable__control:checked~div.sk-toggleable__content {max-height: 200px;max-width: 100%;overflow: auto;}#sk-container-id-6 input.sk-toggleable__control:checked~label.sk-toggleable__label-arrow:before {content: \"▾\";}#sk-container-id-6 div.sk-estimator input.sk-toggleable__control:checked~label.sk-toggleable__label {background-color: #d4ebff;}#sk-container-id-6 div.sk-label input.sk-toggleable__control:checked~label.sk-toggleable__label {background-color: #d4ebff;}#sk-container-id-6 input.sk-hidden--visually {border: 0;clip: rect(1px 1px 1px 1px);clip: rect(1px, 1px, 1px, 1px);height: 1px;margin: -1px;overflow: hidden;padding: 0;position: absolute;width: 1px;}#sk-container-id-6 div.sk-estimator {font-family: monospace;background-color: #f0f8ff;border: 1px dotted black;border-radius: 0.25em;box-sizing: border-box;margin-bottom: 0.5em;}#sk-container-id-6 div.sk-estimator:hover {background-color: #d4ebff;}#sk-container-id-6 div.sk-parallel-item::after {content: \"\";width: 100%;border-bottom: 1px solid gray;flex-grow: 1;}#sk-container-id-6 div.sk-label:hover label.sk-toggleable__label {background-color: #d4ebff;}#sk-container-id-6 div.sk-serial::before {content: \"\";position: absolute;border-left: 1px solid gray;box-sizing: border-box;top: 0;bottom: 0;left: 50%;z-index: 0;}#sk-container-id-6 div.sk-serial {display: flex;flex-direction: column;align-items: center;background-color: white;padding-right: 0.2em;padding-left: 0.2em;position: relative;}#sk-container-id-6 div.sk-item {position: relative;z-index: 1;}#sk-container-id-6 div.sk-parallel {display: flex;align-items: stretch;justify-content: center;background-color: white;position: relative;}#sk-container-id-6 div.sk-item::before, #sk-container-id-6 div.sk-parallel-item::before {content: \"\";position: absolute;border-left: 1px solid gray;box-sizing: border-box;top: 0;bottom: 0;left: 50%;z-index: -1;}#sk-container-id-6 div.sk-parallel-item {display: flex;flex-direction: column;z-index: 1;position: relative;background-color: white;}#sk-container-id-6 div.sk-parallel-item:first-child::after {align-self: flex-end;width: 50%;}#sk-container-id-6 div.sk-parallel-item:last-child::after {align-self: flex-start;width: 50%;}#sk-container-id-6 div.sk-parallel-item:only-child::after {width: 0;}#sk-container-id-6 div.sk-dashed-wrapped {border: 1px dashed gray;margin: 0 0.4em 0.5em 0.4em;box-sizing: border-box;padding-bottom: 0.4em;background-color: white;}#sk-container-id-6 div.sk-label label {font-family: monospace;font-weight: bold;display: inline-block;line-height: 1.2em;}#sk-container-id-6 div.sk-label-container {text-align: center;}#sk-container-id-6 div.sk-container {/* jupyter's `normalize.less` sets `[hidden] { display: none; }` but bootstrap.min.css set `[hidden] { display: none !important; }` so we also need the `!important` here to be able to override the default hidden behavior on the sphinx rendered scikit-learn.org. See: https://github.com/scikit-learn/scikit-learn/issues/21755 */display: inline-block !important;position: relative;}#sk-container-id-6 div.sk-text-repr-fallback {display: none;}</style><div id=\"sk-container-id-6\" class=\"sk-top-container\"><div class=\"sk-text-repr-fallback\"><pre>DecisionTreeClassifier(random_state=7)</pre><b>In a Jupyter environment, please rerun this cell to show the HTML representation or trust the notebook. <br />On GitHub, the HTML representation is unable to render, please try loading this page with nbviewer.org.</b></div><div class=\"sk-container\" hidden><div class=\"sk-item\"><div class=\"sk-estimator sk-toggleable\"><input class=\"sk-toggleable__control sk-hidden--visually\" id=\"sk-estimator-id-6\" type=\"checkbox\" checked><label for=\"sk-estimator-id-6\" class=\"sk-toggleable__label sk-toggleable__label-arrow\">DecisionTreeClassifier</label><div class=\"sk-toggleable__content\"><pre>DecisionTreeClassifier(random_state=7)</pre></div></div></div></div></div>"
      ],
      "text/plain": [
       "DecisionTreeClassifier(random_state=7)"
      ]
     },
     "execution_count": 125,
     "metadata": {},
     "output_type": "execute_result"
    }
   ],
   "source": [
    "dtc = DecisionTreeClassifier(random_state=7)\n",
    "dtc.fit(X_train, y_train)"
   ]
  },
  {
   "cell_type": "code",
   "execution_count": 126,
   "id": "ab56741e",
   "metadata": {},
   "outputs": [],
   "source": [
    "y_pred = dtc.predict(X_test)\n",
    "y_prob = dtc.predict_proba(X_test)[:,1]"
   ]
  },
  {
   "cell_type": "code",
   "execution_count": 127,
   "id": "315745e4",
   "metadata": {},
   "outputs": [
    {
     "name": "stdout",
     "output_type": "stream",
     "text": [
      "Training accuracy of Decision Tree is : 1.0\n",
      "Test accuracy of Decision Tree is : 0.9941263851657076\n",
      "[[ 8305   156]\n",
      " [  188 49918]]\n",
      "                   precision    recall  f1-score   support\n",
      "\n",
      "   Fraud Reported       0.98      0.98      0.98      8461\n",
      "No Fraud Reported       1.00      1.00      1.00     50106\n",
      "\n",
      "         accuracy                           0.99     58567\n",
      "        macro avg       0.99      0.99      0.99     58567\n",
      "     weighted avg       0.99      0.99      0.99     58567\n",
      "\n"
     ]
    }
   ],
   "source": [
    "dtc_train_acc = accuracy_score(y_train, dtc.predict(X_train))\n",
    "dtc_test_acc = accuracy_score(y_test, y_pred)\n",
    "\n",
    "print(f\"Training accuracy of Decision Tree is : {dtc_train_acc}\")\n",
    "print(f\"Test accuracy of Decision Tree is : {dtc_test_acc}\")\n",
    "\n",
    "print(confusion_matrix(y_test, y_pred))\n",
    "print(classification_report(y_test, y_pred))"
   ]
  },
  {
   "cell_type": "code",
   "execution_count": 128,
   "id": "73fbd7da",
   "metadata": {},
   "outputs": [
    {
     "name": "stdout",
     "output_type": "stream",
     "text": [
      "Calculating build time metrics\n",
      "\n",
      "Progress: ██████████████████████████████████████████████████████████████████████ 100.0%\n"
     ]
    },
    {
     "data": {
      "application/vnd.jupyter.widget-view+json": {
       "model_id": "19eb1a8c2f9a4e12959f1ed7bc060742",
       "version_major": 2,
       "version_minor": 0
      },
      "text/plain": [
       "VBox(children=(HTML(value='<style>.grad_1{background: #2468a4;} .grad_2{ color:white; background: #2468a4;}</s…"
      ]
     },
     "metadata": {},
     "output_type": "display_data"
    }
   ],
   "source": [
    "## registering the model in Fosfor Insight Designer using same name.\n",
    "model_reg = register_model(dtc, \n",
    "               score, \n",
    "               name=\"Claims_Fraud_DTree_Classifier\", \n",
    "               description=\"Insurance claim's model trained for Fraud Classification\",\n",
    "               flavour=MLModelFlavours.sklearn,\n",
    "               model_type=\"classification\",\n",
    "               init_script=\"snowflake-connector-python[pandas]\",\n",
    "               y_true=y_test,\n",
    "               y_pred=y_pred, \n",
    "               prob=y_prob,\n",
    "               features=X_train.columns,\n",
    "               input_type=\"json\", \n",
    "               explain_ai=True,\n",
    "               x_train=X_train, \n",
    "               x_test=X_test, \n",
    "               y_train=y_train.tolist(),\n",
    "               y_test=y_test.tolist(),\n",
    "               feature_names=X_train.columns.tolist(),\n",
    "               original_features=X_train.columns.tolist(),\n",
    "               feature_ids=X_train.columns,\n",
    "               kyd=True, kyd_score = True)"
   ]
  }
 ],
 "metadata": {
  "kernelspec": {
   "display_name": "Python 3",
   "language": "python",
   "name": "python3"
  },
  "language_info": {
   "codemirror_mode": {
    "name": "ipython",
    "version": 3
   },
   "file_extension": ".py",
   "mimetype": "text/x-python",
   "name": "python",
   "nbconvert_exporter": "python",
   "pygments_lexer": "ipython3",
   "version": "3.8.18"
  }
 },
 "nbformat": 4,
 "nbformat_minor": 5
}
