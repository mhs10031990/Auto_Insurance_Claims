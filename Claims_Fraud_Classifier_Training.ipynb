{
 "cells": [
  {
   "cell_type": "markdown",
   "id": "ba363fbd",
   "metadata": {},
   "source": [
    "# Use Insurance Code Template Notebook Template"
   ]
  },
  {
   "cell_type": "markdown",
   "id": "a0095b8d",
   "metadata": {
    "scrolled": false
   },
   "source": [
    "## Packages needed to run this notebook if running with inbuilt snowpark 3.8 template\n",
    "#### !pip install --q \"snowflake-connector-python[pandas]\"\n",
    "#### !sudo pip install --q  snowflake-ml-python==1.0.11 -U\n",
    "#### !pip install --upgrade --q snowflake-snowpark-python==1.9.0\n",
    "#### !pip install --q seaborn\n",
    "#### !pip install --upgrade --q xgboost==1.7.3\n",
    "#### !pip install --upgrade --q numpy==1.24.3\n",
    "#### !pip install --upgrade --q pandas==1.5.3\n",
    "#### !pip install --upgrade --q anyio==3.5.0\n",
    "#### !pip install --upgrade --q packaging==23.1\n",
    "#### !pip install --upgrade --q scikit-learn==1.3.0\n",
    "#### !pip install --upgrade --q typing-extensions==4.7.1\n",
    "#### !pip install --upgrade --q cryptography==39.0.0\n",
    "#### !pip install --upgrade --q fsspec==2023.9.2\n",
    "#### !pip install --q xgboost\n",
    "#### !pip install --q catboost\n",
    "#### !pip install --q fosforio\n",
    "#### !pip install --q fosforml"
   ]
  },
  {
   "cell_type": "code",
   "execution_count": 2,
   "id": "12eb34cf",
   "metadata": {},
   "outputs": [
    {
     "name": "stdout",
     "output_type": "stream",
     "text": [
      "Connection manager service url initialised to http://fdc-project-manager:80/project-manager\n",
      "If you need to update its value then update the variable CONNECTION_MANAGER_BASE_URL in os env.\n"
     ]
    }
   ],
   "source": [
    "from snowflake.snowpark import Session\n",
    "\n",
    "# Data Science Libs\n",
    "import numpy as np\n",
    "import pandas as pd\n",
    "import matplotlib.pyplot as plt\n",
    "\n",
    "# create_temp_table warning suppresion\n",
    "import warnings; warnings.simplefilter('ignore')\n",
    "\n",
    "# Model libraries\n",
    "from sklearn.model_selection import train_test_split\n",
    "from sklearn.preprocessing import StandardScaler\n",
    "from sklearn.svm import SVC\n",
    "from sklearn.metrics import accuracy_score, confusion_matrix, classification_report\n",
    "from sklearn.neighbors import KNeighborsClassifier\n",
    "from sklearn.metrics import accuracy_score, confusion_matrix, classification_report\n",
    "from sklearn.tree import DecisionTreeClassifier\n",
    "from sklearn.model_selection import GridSearchCV\n",
    "from sklearn.ensemble import RandomForestClassifier\n",
    "from sklearn.ensemble import AdaBoostClassifier\n",
    "from sklearn.ensemble import GradientBoostingClassifier\n",
    "from sklearn.ensemble import ExtraTreesClassifier\n",
    "from sklearn.ensemble import VotingClassifier\n",
    "from xgboost import XGBClassifier\n",
    "from catboost import CatBoostClassifier\n",
    "\n",
    "# FosforIO to read from snowflake\n",
    "from fosforio import snowflake\n",
    "# FosforML to register Model on FDC\n",
    "from joblib import dump, load\n",
    "from fosforml import *\n",
    "from fosforml.constants import MLModelFlavours\n",
    "import requests"
   ]
  },
  {
   "cell_type": "markdown",
   "id": "05d044b5",
   "metadata": {},
   "source": [
    "# Read data using FosforIO"
   ]
  },
  {
   "cell_type": "code",
   "execution_count": 3,
   "id": "fe832748",
   "metadata": {},
   "outputs": [
    {
     "name": "stdout",
     "output_type": "stream",
     "text": [
      "Connection object created: <snowflake.connector.connection.SnowflakeConnection object at 0x7f4d21556460>\n",
      "Please close the connection after use!\n"
     ]
    },
    {
     "data": {
      "text/plain": [
       "<snowflake.connector.connection.SnowflakeConnection at 0x7f4d21556460>"
      ]
     },
     "execution_count": 3,
     "metadata": {},
     "output_type": "execute_result"
    }
   ],
   "source": [
    "# To get snowflake connection object with a specific connection name\n",
    "snowflake.get_connection(connection_name=\"FDC_Insurance_Snowflake\")"
   ]
  },
  {
   "cell_type": "code",
   "execution_count": 4,
   "id": "be431f9e",
   "metadata": {},
   "outputs": [],
   "source": [
    "# To read a specific dataset published from a snowflake connection\n",
    "df = snowflake.get_dataframe(\"AUTO_INSURANCE_CLAIMS_DATA_PRODUCT\")"
   ]
  },
  {
   "cell_type": "code",
   "execution_count": 5,
   "id": "6b13ffab",
   "metadata": {},
   "outputs": [
    {
     "data": {
      "text/html": [
       "<div>\n",
       "<style scoped>\n",
       "    .dataframe tbody tr th:only-of-type {\n",
       "        vertical-align: middle;\n",
       "    }\n",
       "\n",
       "    .dataframe tbody tr th {\n",
       "        vertical-align: top;\n",
       "    }\n",
       "\n",
       "    .dataframe thead th {\n",
       "        text-align: right;\n",
       "    }\n",
       "</style>\n",
       "<table border=\"1\" class=\"dataframe\">\n",
       "  <thead>\n",
       "    <tr style=\"text-align: right;\">\n",
       "      <th></th>\n",
       "      <th>MONTHS_AS_CUSTOMER</th>\n",
       "      <th>CUSTOMER_AGE</th>\n",
       "      <th>POLICY_NUMBER</th>\n",
       "      <th>POLICY_BIND_DATE</th>\n",
       "      <th>POLICY_STATE</th>\n",
       "      <th>POLICY_CSL</th>\n",
       "      <th>POLICY_DEDUCTABLE</th>\n",
       "      <th>POLICY_ANNUAL_PREMIUM</th>\n",
       "      <th>UMBRELLA_LIMIT</th>\n",
       "      <th>INSURED_ZIP</th>\n",
       "      <th>...</th>\n",
       "      <th>WITNESSES</th>\n",
       "      <th>POLICE_REPORT_AVAILABLE</th>\n",
       "      <th>TOTAL_CLAIM_AMOUNT_PAID</th>\n",
       "      <th>INJURY_CLAIM</th>\n",
       "      <th>PROPERTY_CLAIM</th>\n",
       "      <th>VEHICLE_CLAIM</th>\n",
       "      <th>AUTO_MAKE</th>\n",
       "      <th>AUTO_MODEL</th>\n",
       "      <th>AUTO_YEAR</th>\n",
       "      <th>FRAUD_REPORTED</th>\n",
       "    </tr>\n",
       "  </thead>\n",
       "  <tbody>\n",
       "    <tr>\n",
       "      <th>0</th>\n",
       "      <td>178</td>\n",
       "      <td>69</td>\n",
       "      <td>431670</td>\n",
       "      <td>12-02-2012</td>\n",
       "      <td>CT</td>\n",
       "      <td>500/1000</td>\n",
       "      <td>1800</td>\n",
       "      <td>2195</td>\n",
       "      <td>6678588</td>\n",
       "      <td>617699</td>\n",
       "      <td>...</td>\n",
       "      <td>2</td>\n",
       "      <td>Police Report Available</td>\n",
       "      <td>102099.0</td>\n",
       "      <td>13040.0</td>\n",
       "      <td>14700.0</td>\n",
       "      <td>74359.0</td>\n",
       "      <td>Toyota</td>\n",
       "      <td>Highlander</td>\n",
       "      <td>1996</td>\n",
       "      <td>No Fraud Reported</td>\n",
       "    </tr>\n",
       "    <tr>\n",
       "      <th>1</th>\n",
       "      <td>235</td>\n",
       "      <td>48</td>\n",
       "      <td>452457</td>\n",
       "      <td>15-06-2004</td>\n",
       "      <td>CT</td>\n",
       "      <td>100/300</td>\n",
       "      <td>730</td>\n",
       "      <td>947</td>\n",
       "      <td>9201803</td>\n",
       "      <td>434206</td>\n",
       "      <td>...</td>\n",
       "      <td>3</td>\n",
       "      <td>Police Report Available</td>\n",
       "      <td>65165.0</td>\n",
       "      <td>21811.0</td>\n",
       "      <td>6992.0</td>\n",
       "      <td>36362.0</td>\n",
       "      <td>Volkswagen</td>\n",
       "      <td>Passat</td>\n",
       "      <td>2005</td>\n",
       "      <td>No Fraud Reported</td>\n",
       "    </tr>\n",
       "    <tr>\n",
       "      <th>2</th>\n",
       "      <td>292</td>\n",
       "      <td>46</td>\n",
       "      <td>466074</td>\n",
       "      <td>20-01-1996</td>\n",
       "      <td>CT</td>\n",
       "      <td>100/300</td>\n",
       "      <td>1249</td>\n",
       "      <td>1504</td>\n",
       "      <td>7764950</td>\n",
       "      <td>614166</td>\n",
       "      <td>...</td>\n",
       "      <td>3</td>\n",
       "      <td>Police Report Available</td>\n",
       "      <td>81875.0</td>\n",
       "      <td>5613.0</td>\n",
       "      <td>5109.0</td>\n",
       "      <td>71153.0</td>\n",
       "      <td>Ford</td>\n",
       "      <td>Fusion</td>\n",
       "      <td>2006</td>\n",
       "      <td>No Fraud Reported</td>\n",
       "    </tr>\n",
       "    <tr>\n",
       "      <th>3</th>\n",
       "      <td>67</td>\n",
       "      <td>41</td>\n",
       "      <td>485048</td>\n",
       "      <td>13-12-2012</td>\n",
       "      <td>CT</td>\n",
       "      <td>100/300</td>\n",
       "      <td>1584</td>\n",
       "      <td>1908</td>\n",
       "      <td>8502385</td>\n",
       "      <td>473243</td>\n",
       "      <td>...</td>\n",
       "      <td>3</td>\n",
       "      <td>Police Report Available</td>\n",
       "      <td>68429.0</td>\n",
       "      <td>308.0</td>\n",
       "      <td>821.0</td>\n",
       "      <td>67300.0</td>\n",
       "      <td>Chevrolet</td>\n",
       "      <td>Tahoe</td>\n",
       "      <td>1995</td>\n",
       "      <td>No Fraud Reported</td>\n",
       "    </tr>\n",
       "    <tr>\n",
       "      <th>4</th>\n",
       "      <td>211</td>\n",
       "      <td>58</td>\n",
       "      <td>451276</td>\n",
       "      <td>29-03-1996</td>\n",
       "      <td>CT</td>\n",
       "      <td>250/500</td>\n",
       "      <td>1951</td>\n",
       "      <td>2501</td>\n",
       "      <td>4083163</td>\n",
       "      <td>472895</td>\n",
       "      <td>...</td>\n",
       "      <td>0</td>\n",
       "      <td>Unknown</td>\n",
       "      <td>64077.0</td>\n",
       "      <td>517.0</td>\n",
       "      <td>1164.0</td>\n",
       "      <td>62396.0</td>\n",
       "      <td>Jeep</td>\n",
       "      <td>Grand Cherokee</td>\n",
       "      <td>1995</td>\n",
       "      <td>Fraud Reported</td>\n",
       "    </tr>\n",
       "  </tbody>\n",
       "</table>\n",
       "<p>5 rows × 40 columns</p>\n",
       "</div>"
      ],
      "text/plain": [
       "   MONTHS_AS_CUSTOMER CUSTOMER_AGE  POLICY_NUMBER POLICY_BIND_DATE   \n",
       "0                 178           69         431670       12-02-2012  \\\n",
       "1                 235           48         452457       15-06-2004   \n",
       "2                 292           46         466074       20-01-1996   \n",
       "3                  67           41         485048       13-12-2012   \n",
       "4                 211           58         451276       29-03-1996   \n",
       "\n",
       "  POLICY_STATE POLICY_CSL  POLICY_DEDUCTABLE  POLICY_ANNUAL_PREMIUM   \n",
       "0           CT   500/1000               1800                   2195  \\\n",
       "1           CT    100/300                730                    947   \n",
       "2           CT    100/300               1249                   1504   \n",
       "3           CT    100/300               1584                   1908   \n",
       "4           CT    250/500               1951                   2501   \n",
       "\n",
       "   UMBRELLA_LIMIT INSURED_ZIP  ... WITNESSES  POLICE_REPORT_AVAILABLE   \n",
       "0         6678588      617699  ...         2  Police Report Available  \\\n",
       "1         9201803      434206  ...         3  Police Report Available   \n",
       "2         7764950      614166  ...         3  Police Report Available   \n",
       "3         8502385      473243  ...         3  Police Report Available   \n",
       "4         4083163      472895  ...         0                  Unknown   \n",
       "\n",
       "  TOTAL_CLAIM_AMOUNT_PAID INJURY_CLAIM PROPERTY_CLAIM  VEHICLE_CLAIM   \n",
       "0                102099.0      13040.0        14700.0        74359.0  \\\n",
       "1                 65165.0      21811.0         6992.0        36362.0   \n",
       "2                 81875.0       5613.0         5109.0        71153.0   \n",
       "3                 68429.0        308.0          821.0        67300.0   \n",
       "4                 64077.0        517.0         1164.0        62396.0   \n",
       "\n",
       "    AUTO_MAKE      AUTO_MODEL AUTO_YEAR     FRAUD_REPORTED  \n",
       "0      Toyota      Highlander      1996  No Fraud Reported  \n",
       "1  Volkswagen          Passat      2005  No Fraud Reported  \n",
       "2        Ford          Fusion      2006  No Fraud Reported  \n",
       "3   Chevrolet           Tahoe      1995  No Fraud Reported  \n",
       "4        Jeep  Grand Cherokee      1995     Fraud Reported  \n",
       "\n",
       "[5 rows x 40 columns]"
      ]
     },
     "execution_count": 5,
     "metadata": {},
     "output_type": "execute_result"
    }
   ],
   "source": [
    "df.head()"
   ]
  },
  {
   "cell_type": "markdown",
   "id": "b09fe6e1",
   "metadata": {},
   "source": [
    "# Read data using Snowflake's Snowpark"
   ]
  },
  {
   "cell_type": "code",
   "execution_count": 6,
   "id": "ad93540f",
   "metadata": {},
   "outputs": [],
   "source": [
    "#Import all snowflake connection details from Template or Project variables.\n",
    "db_user = os.getenv('Snowflake_user')\n",
    "db_password =  os.getenv('Snowflake_password')\n",
    "db_account = os.getenv('Snowflake_Account')\n",
    "db_database =  os.getenv('Snowflake_Database')\n",
    "db_role = os.getenv('Snowflake_user')\n",
    "db_warehouse = os.getenv('Snowflake_Warehouse')\n",
    "db_schema = os.getenv('Snowflake_Schema')"
   ]
  },
  {
   "cell_type": "code",
   "execution_count": 7,
   "id": "aa95e483",
   "metadata": {},
   "outputs": [],
   "source": [
    "from snowflake.snowpark.session import Session\n",
    "connection_params = {\n",
    "    'user': db_user,\n",
    "    'password': db_password,\n",
    "    'account': db_account,\n",
    "    'warehouse': db_warehouse,\n",
    "    'database': db_database,\n",
    "    'schema': db_schema,\n",
    "    'role': db_role\n",
    "}\n",
    "session = Session.builder.configs(connection_params).create()"
   ]
  },
  {
   "cell_type": "code",
   "execution_count": 9,
   "id": "fef47ad6",
   "metadata": {},
   "outputs": [],
   "source": [
    "session.sql('use warehouse FOSFOR_SOLUTIONS_WH;').collect()\n",
    "session.sql('use database FDC_Insurance;').collect()\n",
    "session.sql('use schema FDC_Insurance.PUBLIC;').collect()\n",
    "\n",
    "df = session.table('FDC_Insurance.PUBLIC.AUTO_INSURANCE_CLAIMS_DATA_PRODUCT')"
   ]
  },
  {
   "cell_type": "code",
   "execution_count": 10,
   "id": "7c86b744",
   "metadata": {},
   "outputs": [],
   "source": [
    "insurance_claim = df.to_pandas()"
   ]
  },
  {
   "cell_type": "code",
   "execution_count": 11,
   "id": "0ee58ee8",
   "metadata": {},
   "outputs": [],
   "source": [
    "insurance_claim.columns = insurance_claim.columns.str.lower()"
   ]
  },
  {
   "cell_type": "code",
   "execution_count": 12,
   "id": "dea96c64",
   "metadata": {},
   "outputs": [
    {
     "data": {
      "text/plain": [
       "Index(['months_as_customer', 'customer_age', 'policy_number',\n",
       "       'policy_bind_date', 'policy_state', 'policy_csl', 'policy_deductable',\n",
       "       'policy_annual_premium', 'umbrella_limit', 'insured_zip', 'insured_sex',\n",
       "       'insured_education_level', 'insured_occupation', 'insured_hobbies',\n",
       "       'insured_relationship', 'capital_gains', 'capital_loss',\n",
       "       'incident_date', 'incident_type', 'collision_type', 'incident_severity',\n",
       "       'authorities_contacted', 'incident_state', 'incident_city',\n",
       "       'incident_location', 'incident_hour_of_the_day', 'incident_time_of_day',\n",
       "       'number_of_vehicles_involved', 'property_damage', 'bodily_injuries',\n",
       "       'witnesses', 'police_report_available', 'total_claim_amount_paid',\n",
       "       'injury_claim', 'property_claim', 'vehicle_claim', 'auto_make',\n",
       "       'auto_model', 'auto_year', 'fraud_reported'],\n",
       "      dtype='object')"
      ]
     },
     "execution_count": 12,
     "metadata": {},
     "output_type": "execute_result"
    }
   ],
   "source": [
    "insurance_claim.columns"
   ]
  },
  {
   "cell_type": "code",
   "execution_count": 13,
   "id": "dd34e207",
   "metadata": {},
   "outputs": [],
   "source": [
    "insurance_claim.rename(columns = {'total_claim_amount_paid': 'total_claim_amount'}, inplace=True)"
   ]
  },
  {
   "cell_type": "code",
   "execution_count": 14,
   "id": "044dd5de",
   "metadata": {},
   "outputs": [],
   "source": [
    "insurance_claim=insurance_claim.replace(\"?\",np.NaN)"
   ]
  },
  {
   "cell_type": "code",
   "execution_count": 15,
   "id": "bcc52718",
   "metadata": {},
   "outputs": [],
   "source": [
    "df = insurance_claim.copy()"
   ]
  },
  {
   "cell_type": "code",
   "execution_count": 16,
   "id": "2ddaee76",
   "metadata": {},
   "outputs": [],
   "source": [
    "# dropping columns which are not necessary for prediction\n",
    "\n",
    "to_drop = ['policy_number','policy_bind_date','policy_state','insured_zip','incident_location','incident_date',\n",
    "           'incident_state','incident_city','insured_hobbies','auto_make','auto_model','auto_year']\n",
    "\n",
    "df.drop(to_drop, inplace=True, axis=1)"
   ]
  },
  {
   "cell_type": "code",
   "execution_count": 17,
   "id": "dd0d51ff",
   "metadata": {},
   "outputs": [],
   "source": [
    "# separating the feature and target columns\n",
    "\n",
    "X = df.drop('fraud_reported', axis = 1)\n",
    "y = df['fraud_reported']"
   ]
  },
  {
   "cell_type": "code",
   "execution_count": 18,
   "id": "0cf9819a",
   "metadata": {},
   "outputs": [],
   "source": [
    "# extracting categorical columns\n",
    "cat_df = X.select_dtypes(include = ['object'])"
   ]
  },
  {
   "cell_type": "code",
   "execution_count": 19,
   "id": "1f944573",
   "metadata": {},
   "outputs": [
    {
     "name": "stdout",
     "output_type": "stream",
     "text": [
      "customer_age: \n",
      "['66' '63' '22' '36' '25' '20' '64' '56' '44' '61' '34' '67' '24' '57'\n",
      " '59' '21' '39' '51' '46' '60' '52' '65' '33' '29' '62' '40' '49' '48'\n",
      " '32' '30' '50' '37' '42' '68' '31' '54' '58' '35' '53' '26' '23' '28'\n",
      " '55' '19' '38' '27' '45' '41' '47' '69' '43']\n",
      "\n",
      "policy_csl: \n",
      "['100/300' '500/1000' '250/500']\n",
      "\n",
      "insured_sex: \n",
      "['MALE' 'FEMALE']\n",
      "\n",
      "insured_education_level: \n",
      "['JD' 'Associate' 'High School' 'College' 'MD' 'Masters' 'PhD']\n",
      "\n",
      "insured_occupation: \n",
      "['craft-repair' 'tech-support' 'adm-clerical' 'priv-house-serv'\n",
      " 'armed-forces' 'transport-moving' 'sales' 'protective-serv'\n",
      " 'other-service' 'farming-fishing' 'handlers-cleaners' 'exec-managerial'\n",
      " 'prof-specialty' 'machine-op-inspct']\n",
      "\n",
      "insured_relationship: \n",
      "['not-in-family' 'husband' 'other-relative' 'own-child' 'unmarried' 'wife']\n",
      "\n",
      "incident_type: \n",
      "['Single Vehicle Collision' 'Parked Car' 'Multi-vehicle Collision'\n",
      " 'Vehicle Theft']\n",
      "\n",
      "collision_type: \n",
      "['Details not Available' 'Side Collision' 'Rear Collision'\n",
      " 'Front Collision']\n",
      "\n",
      "incident_severity: \n",
      "['Major Damage' 'Minor Damage' 'Total Loss']\n",
      "\n",
      "authorities_contacted: \n",
      "['Other' 'None' 'Police' 'Fire' 'Ambulance']\n",
      "\n",
      "incident_time_of_day: \n",
      "['Night Time' 'Morning to Noon' 'Afternoon Hours' 'Early Morning Hours']\n",
      "\n",
      "property_damage: \n",
      "['No Property Damage' 'Details not Available' 'Property Damage']\n",
      "\n",
      "police_report_available: \n",
      "['No Police Report Available' 'Unknown' 'Police Report Available']\n",
      "\n"
     ]
    }
   ],
   "source": [
    "# printing unique values of each column\n",
    "for col in cat_df.columns:\n",
    "    print(f\"{col}: \\n{cat_df[col].unique()}\\n\")"
   ]
  },
  {
   "cell_type": "code",
   "execution_count": 20,
   "id": "f52c380c",
   "metadata": {},
   "outputs": [],
   "source": [
    "cat_df = pd.get_dummies(cat_df, drop_first = True)"
   ]
  },
  {
   "cell_type": "code",
   "execution_count": 21,
   "id": "71576a64",
   "metadata": {},
   "outputs": [],
   "source": [
    "num_df = df.select_dtypes(include = ['int16','int8','int32','float64'])"
   ]
  },
  {
   "cell_type": "code",
   "execution_count": 22,
   "id": "4699bb75",
   "metadata": {},
   "outputs": [],
   "source": [
    "# combining the Numerical and Categorical dataframes to get the final dataset\n",
    "\n",
    "X = pd.concat([num_df, cat_df], axis = 1)"
   ]
  },
  {
   "cell_type": "code",
   "execution_count": 23,
   "id": "0d9eb55f",
   "metadata": {},
   "outputs": [],
   "source": [
    "# splitting data into training set and test set\n",
    "\n",
    "from sklearn.model_selection import train_test_split\n",
    "\n",
    "X_train, X_test, y_train, y_test = train_test_split(X, y, test_size = 0.25)"
   ]
  },
  {
   "cell_type": "code",
   "execution_count": 24,
   "id": "9f6cf94e",
   "metadata": {},
   "outputs": [],
   "source": [
    "num_df = X_train[['months_as_customer', 'policy_deductable', 'umbrella_limit',\n",
    "       'capital_gains', 'capital_loss', 'incident_hour_of_the_day',\n",
    "       'number_of_vehicles_involved', 'bodily_injuries', 'witnesses', 'injury_claim', 'property_claim',\n",
    "       'vehicle_claim']]"
   ]
  },
  {
   "cell_type": "code",
   "execution_count": 25,
   "id": "c666c08b",
   "metadata": {},
   "outputs": [],
   "source": [
    "num_df_test = X_test[['months_as_customer', 'policy_deductable', 'umbrella_limit',\n",
    "       'capital_gains', 'capital_loss', 'incident_hour_of_the_day',\n",
    "       'number_of_vehicles_involved', 'bodily_injuries', 'witnesses', 'injury_claim', 'property_claim',\n",
    "       'vehicle_claim']]"
   ]
  },
  {
   "cell_type": "code",
   "execution_count": 26,
   "id": "b68e1463",
   "metadata": {},
   "outputs": [],
   "source": [
    "# Scaling the numeric values in the dataset\n",
    "\n",
    "from sklearn.preprocessing import StandardScaler\n",
    "\n",
    "scaler = StandardScaler()\n",
    "scaled_data = scaler.fit_transform(num_df)"
   ]
  },
  {
   "cell_type": "code",
   "execution_count": 27,
   "id": "37b7b397",
   "metadata": {},
   "outputs": [],
   "source": [
    "scaled_data_test = scaler.transform(num_df_test)"
   ]
  },
  {
   "cell_type": "code",
   "execution_count": 28,
   "id": "30a14145",
   "metadata": {
    "scrolled": true
   },
   "outputs": [
    {
     "data": {
      "text/html": [
       "<div>\n",
       "<style scoped>\n",
       "    .dataframe tbody tr th:only-of-type {\n",
       "        vertical-align: middle;\n",
       "    }\n",
       "\n",
       "    .dataframe tbody tr th {\n",
       "        vertical-align: top;\n",
       "    }\n",
       "\n",
       "    .dataframe thead th {\n",
       "        text-align: right;\n",
       "    }\n",
       "</style>\n",
       "<table border=\"1\" class=\"dataframe\">\n",
       "  <thead>\n",
       "    <tr style=\"text-align: right;\">\n",
       "      <th></th>\n",
       "      <th>months_as_customer</th>\n",
       "      <th>policy_deductable</th>\n",
       "      <th>umbrella_limit</th>\n",
       "      <th>capital_gains</th>\n",
       "      <th>capital_loss</th>\n",
       "      <th>incident_hour_of_the_day</th>\n",
       "      <th>number_of_vehicles_involved</th>\n",
       "      <th>bodily_injuries</th>\n",
       "      <th>witnesses</th>\n",
       "      <th>injury_claim</th>\n",
       "      <th>property_claim</th>\n",
       "      <th>vehicle_claim</th>\n",
       "    </tr>\n",
       "  </thead>\n",
       "  <tbody>\n",
       "    <tr>\n",
       "      <th>41591</th>\n",
       "      <td>0.398301</td>\n",
       "      <td>1.903664</td>\n",
       "      <td>1.278529</td>\n",
       "      <td>-1.176387</td>\n",
       "      <td>1.248564</td>\n",
       "      <td>-0.519970</td>\n",
       "      <td>-0.679344</td>\n",
       "      <td>-1.217903</td>\n",
       "      <td>0.447189</td>\n",
       "      <td>-1.030458</td>\n",
       "      <td>0.699980</td>\n",
       "      <td>-1.731233</td>\n",
       "    </tr>\n",
       "    <tr>\n",
       "      <th>68393</th>\n",
       "      <td>-0.173392</td>\n",
       "      <td>1.613905</td>\n",
       "      <td>0.087725</td>\n",
       "      <td>-1.180668</td>\n",
       "      <td>-0.335679</td>\n",
       "      <td>0.162623</td>\n",
       "      <td>-0.679344</td>\n",
       "      <td>0.004718</td>\n",
       "      <td>1.343688</td>\n",
       "      <td>0.897328</td>\n",
       "      <td>0.002062</td>\n",
       "      <td>-0.084441</td>\n",
       "    </tr>\n",
       "    <tr>\n",
       "      <th>49392</th>\n",
       "      <td>0.827070</td>\n",
       "      <td>-1.762250</td>\n",
       "      <td>-1.754803</td>\n",
       "      <td>-1.276190</td>\n",
       "      <td>0.298598</td>\n",
       "      <td>0.674567</td>\n",
       "      <td>-0.679344</td>\n",
       "      <td>0.004718</td>\n",
       "      <td>-0.449311</td>\n",
       "      <td>0.093105</td>\n",
       "      <td>-0.948522</td>\n",
       "      <td>-0.219096</td>\n",
       "    </tr>\n",
       "    <tr>\n",
       "      <th>166020</th>\n",
       "      <td>-0.151403</td>\n",
       "      <td>-1.156561</td>\n",
       "      <td>0.269574</td>\n",
       "      <td>-1.504292</td>\n",
       "      <td>1.031202</td>\n",
       "      <td>-0.008026</td>\n",
       "      <td>2.168480</td>\n",
       "      <td>0.004718</td>\n",
       "      <td>-1.345811</td>\n",
       "      <td>-0.688169</td>\n",
       "      <td>1.257627</td>\n",
       "      <td>0.455203</td>\n",
       "    </tr>\n",
       "    <tr>\n",
       "      <th>151378</th>\n",
       "      <td>-1.030930</td>\n",
       "      <td>-1.154692</td>\n",
       "      <td>-0.906854</td>\n",
       "      <td>-1.377397</td>\n",
       "      <td>-1.355369</td>\n",
       "      <td>-1.031915</td>\n",
       "      <td>-0.679344</td>\n",
       "      <td>0.004718</td>\n",
       "      <td>0.447189</td>\n",
       "      <td>1.476952</td>\n",
       "      <td>0.953410</td>\n",
       "      <td>-0.283173</td>\n",
       "    </tr>\n",
       "  </tbody>\n",
       "</table>\n",
       "</div>"
      ],
      "text/plain": [
       "        months_as_customer  policy_deductable  umbrella_limit  capital_gains   \n",
       "41591             0.398301           1.903664        1.278529      -1.176387  \\\n",
       "68393            -0.173392           1.613905        0.087725      -1.180668   \n",
       "49392             0.827070          -1.762250       -1.754803      -1.276190   \n",
       "166020           -0.151403          -1.156561        0.269574      -1.504292   \n",
       "151378           -1.030930          -1.154692       -0.906854      -1.377397   \n",
       "\n",
       "        capital_loss  incident_hour_of_the_day  number_of_vehicles_involved   \n",
       "41591       1.248564                 -0.519970                    -0.679344  \\\n",
       "68393      -0.335679                  0.162623                    -0.679344   \n",
       "49392       0.298598                  0.674567                    -0.679344   \n",
       "166020      1.031202                 -0.008026                     2.168480   \n",
       "151378     -1.355369                 -1.031915                    -0.679344   \n",
       "\n",
       "        bodily_injuries  witnesses  injury_claim  property_claim   \n",
       "41591         -1.217903   0.447189     -1.030458        0.699980  \\\n",
       "68393          0.004718   1.343688      0.897328        0.002062   \n",
       "49392          0.004718  -0.449311      0.093105       -0.948522   \n",
       "166020         0.004718  -1.345811     -0.688169        1.257627   \n",
       "151378         0.004718   0.447189      1.476952        0.953410   \n",
       "\n",
       "        vehicle_claim  \n",
       "41591       -1.731233  \n",
       "68393       -0.084441  \n",
       "49392       -0.219096  \n",
       "166020       0.455203  \n",
       "151378      -0.283173  "
      ]
     },
     "execution_count": 28,
     "metadata": {},
     "output_type": "execute_result"
    }
   ],
   "source": [
    "scaled_num_df = pd.DataFrame(data = scaled_data, columns = num_df.columns, index = X_train.index)\n",
    "scaled_num_df.head()"
   ]
  },
  {
   "cell_type": "code",
   "execution_count": 29,
   "id": "4c0b5593",
   "metadata": {},
   "outputs": [
    {
     "data": {
      "text/html": [
       "<div>\n",
       "<style scoped>\n",
       "    .dataframe tbody tr th:only-of-type {\n",
       "        vertical-align: middle;\n",
       "    }\n",
       "\n",
       "    .dataframe tbody tr th {\n",
       "        vertical-align: top;\n",
       "    }\n",
       "\n",
       "    .dataframe thead th {\n",
       "        text-align: right;\n",
       "    }\n",
       "</style>\n",
       "<table border=\"1\" class=\"dataframe\">\n",
       "  <thead>\n",
       "    <tr style=\"text-align: right;\">\n",
       "      <th></th>\n",
       "      <th>months_as_customer</th>\n",
       "      <th>policy_deductable</th>\n",
       "      <th>umbrella_limit</th>\n",
       "      <th>capital_gains</th>\n",
       "      <th>capital_loss</th>\n",
       "      <th>incident_hour_of_the_day</th>\n",
       "      <th>number_of_vehicles_involved</th>\n",
       "      <th>bodily_injuries</th>\n",
       "      <th>witnesses</th>\n",
       "      <th>injury_claim</th>\n",
       "      <th>property_claim</th>\n",
       "      <th>vehicle_claim</th>\n",
       "    </tr>\n",
       "  </thead>\n",
       "  <tbody>\n",
       "    <tr>\n",
       "      <th>221054</th>\n",
       "      <td>0.684147</td>\n",
       "      <td>1.552215</td>\n",
       "      <td>0.491134</td>\n",
       "      <td>-0.485786</td>\n",
       "      <td>1.544680</td>\n",
       "      <td>1.357160</td>\n",
       "      <td>0.744568</td>\n",
       "      <td>-1.217903</td>\n",
       "      <td>-0.449311</td>\n",
       "      <td>-1.033816</td>\n",
       "      <td>0.255874</td>\n",
       "      <td>-0.424714</td>\n",
       "    </tr>\n",
       "    <tr>\n",
       "      <th>174016</th>\n",
       "      <td>0.849058</td>\n",
       "      <td>-0.842500</td>\n",
       "      <td>-0.231257</td>\n",
       "      <td>1.592636</td>\n",
       "      <td>-1.560382</td>\n",
       "      <td>1.186512</td>\n",
       "      <td>0.744568</td>\n",
       "      <td>0.004718</td>\n",
       "      <td>-0.449311</td>\n",
       "      <td>-0.294944</td>\n",
       "      <td>-0.966851</td>\n",
       "      <td>-0.777739</td>\n",
       "    </tr>\n",
       "    <tr>\n",
       "      <th>22705</th>\n",
       "      <td>2.058408</td>\n",
       "      <td>1.056821</td>\n",
       "      <td>0.632628</td>\n",
       "      <td>0.230107</td>\n",
       "      <td>-1.559500</td>\n",
       "      <td>0.333271</td>\n",
       "      <td>0.744568</td>\n",
       "      <td>-1.217903</td>\n",
       "      <td>0.447189</td>\n",
       "      <td>-1.023601</td>\n",
       "      <td>2.093270</td>\n",
       "      <td>1.361324</td>\n",
       "    </tr>\n",
       "    <tr>\n",
       "      <th>157018</th>\n",
       "      <td>0.134443</td>\n",
       "      <td>-1.072438</td>\n",
       "      <td>-0.416811</td>\n",
       "      <td>-0.760731</td>\n",
       "      <td>0.890410</td>\n",
       "      <td>-0.178674</td>\n",
       "      <td>-0.679344</td>\n",
       "      <td>-1.217903</td>\n",
       "      <td>0.447189</td>\n",
       "      <td>-1.023181</td>\n",
       "      <td>-0.960487</td>\n",
       "      <td>1.270470</td>\n",
       "    </tr>\n",
       "    <tr>\n",
       "      <th>159165</th>\n",
       "      <td>-0.063451</td>\n",
       "      <td>-1.188341</td>\n",
       "      <td>1.021124</td>\n",
       "      <td>0.925349</td>\n",
       "      <td>1.271623</td>\n",
       "      <td>0.674567</td>\n",
       "      <td>-0.679344</td>\n",
       "      <td>0.004718</td>\n",
       "      <td>1.343688</td>\n",
       "      <td>1.757807</td>\n",
       "      <td>-0.984799</td>\n",
       "      <td>0.076483</td>\n",
       "    </tr>\n",
       "  </tbody>\n",
       "</table>\n",
       "</div>"
      ],
      "text/plain": [
       "        months_as_customer  policy_deductable  umbrella_limit  capital_gains   \n",
       "221054            0.684147           1.552215        0.491134      -0.485786  \\\n",
       "174016            0.849058          -0.842500       -0.231257       1.592636   \n",
       "22705             2.058408           1.056821        0.632628       0.230107   \n",
       "157018            0.134443          -1.072438       -0.416811      -0.760731   \n",
       "159165           -0.063451          -1.188341        1.021124       0.925349   \n",
       "\n",
       "        capital_loss  incident_hour_of_the_day  number_of_vehicles_involved   \n",
       "221054      1.544680                  1.357160                     0.744568  \\\n",
       "174016     -1.560382                  1.186512                     0.744568   \n",
       "22705      -1.559500                  0.333271                     0.744568   \n",
       "157018      0.890410                 -0.178674                    -0.679344   \n",
       "159165      1.271623                  0.674567                    -0.679344   \n",
       "\n",
       "        bodily_injuries  witnesses  injury_claim  property_claim   \n",
       "221054        -1.217903  -0.449311     -1.033816        0.255874  \\\n",
       "174016         0.004718  -0.449311     -0.294944       -0.966851   \n",
       "22705         -1.217903   0.447189     -1.023601        2.093270   \n",
       "157018        -1.217903   0.447189     -1.023181       -0.960487   \n",
       "159165         0.004718   1.343688      1.757807       -0.984799   \n",
       "\n",
       "        vehicle_claim  \n",
       "221054      -0.424714  \n",
       "174016      -0.777739  \n",
       "22705        1.361324  \n",
       "157018       1.270470  \n",
       "159165       0.076483  "
      ]
     },
     "execution_count": 29,
     "metadata": {},
     "output_type": "execute_result"
    }
   ],
   "source": [
    "scaled_num_df_test = pd.DataFrame(data = scaled_data_test, columns = num_df_test.columns, index = X_test.index)\n",
    "scaled_num_df_test.head()"
   ]
  },
  {
   "cell_type": "code",
   "execution_count": 30,
   "id": "fa16eb80",
   "metadata": {},
   "outputs": [],
   "source": [
    "X_train.drop(columns = scaled_num_df.columns, inplace = True)"
   ]
  },
  {
   "cell_type": "code",
   "execution_count": 31,
   "id": "728f4f65",
   "metadata": {},
   "outputs": [],
   "source": [
    "X_train = pd.concat([scaled_num_df, X_train], axis = 1)"
   ]
  },
  {
   "cell_type": "code",
   "execution_count": 32,
   "id": "7c067075",
   "metadata": {},
   "outputs": [],
   "source": [
    "X_test.drop(columns = scaled_num_df_test.columns, inplace = True)"
   ]
  },
  {
   "cell_type": "code",
   "execution_count": 33,
   "id": "0cdbf584",
   "metadata": {},
   "outputs": [],
   "source": [
    "X_test = pd.concat([scaled_num_df_test, X_test], axis = 1)"
   ]
  },
  {
   "cell_type": "markdown",
   "id": "a0c9f178",
   "metadata": {},
   "source": [
    "# Decision Tree"
   ]
  },
  {
   "cell_type": "code",
   "execution_count": 34,
   "id": "32cf8090",
   "metadata": {},
   "outputs": [
    {
     "data": {
      "text/html": [
       "<style>#sk-container-id-1 {color: black;background-color: white;}#sk-container-id-1 pre{padding: 0;}#sk-container-id-1 div.sk-toggleable {background-color: white;}#sk-container-id-1 label.sk-toggleable__label {cursor: pointer;display: block;width: 100%;margin-bottom: 0;padding: 0.3em;box-sizing: border-box;text-align: center;}#sk-container-id-1 label.sk-toggleable__label-arrow:before {content: \"▸\";float: left;margin-right: 0.25em;color: #696969;}#sk-container-id-1 label.sk-toggleable__label-arrow:hover:before {color: black;}#sk-container-id-1 div.sk-estimator:hover label.sk-toggleable__label-arrow:before {color: black;}#sk-container-id-1 div.sk-toggleable__content {max-height: 0;max-width: 0;overflow: hidden;text-align: left;background-color: #f0f8ff;}#sk-container-id-1 div.sk-toggleable__content pre {margin: 0.2em;color: black;border-radius: 0.25em;background-color: #f0f8ff;}#sk-container-id-1 input.sk-toggleable__control:checked~div.sk-toggleable__content {max-height: 200px;max-width: 100%;overflow: auto;}#sk-container-id-1 input.sk-toggleable__control:checked~label.sk-toggleable__label-arrow:before {content: \"▾\";}#sk-container-id-1 div.sk-estimator input.sk-toggleable__control:checked~label.sk-toggleable__label {background-color: #d4ebff;}#sk-container-id-1 div.sk-label input.sk-toggleable__control:checked~label.sk-toggleable__label {background-color: #d4ebff;}#sk-container-id-1 input.sk-hidden--visually {border: 0;clip: rect(1px 1px 1px 1px);clip: rect(1px, 1px, 1px, 1px);height: 1px;margin: -1px;overflow: hidden;padding: 0;position: absolute;width: 1px;}#sk-container-id-1 div.sk-estimator {font-family: monospace;background-color: #f0f8ff;border: 1px dotted black;border-radius: 0.25em;box-sizing: border-box;margin-bottom: 0.5em;}#sk-container-id-1 div.sk-estimator:hover {background-color: #d4ebff;}#sk-container-id-1 div.sk-parallel-item::after {content: \"\";width: 100%;border-bottom: 1px solid gray;flex-grow: 1;}#sk-container-id-1 div.sk-label:hover label.sk-toggleable__label {background-color: #d4ebff;}#sk-container-id-1 div.sk-serial::before {content: \"\";position: absolute;border-left: 1px solid gray;box-sizing: border-box;top: 0;bottom: 0;left: 50%;z-index: 0;}#sk-container-id-1 div.sk-serial {display: flex;flex-direction: column;align-items: center;background-color: white;padding-right: 0.2em;padding-left: 0.2em;position: relative;}#sk-container-id-1 div.sk-item {position: relative;z-index: 1;}#sk-container-id-1 div.sk-parallel {display: flex;align-items: stretch;justify-content: center;background-color: white;position: relative;}#sk-container-id-1 div.sk-item::before, #sk-container-id-1 div.sk-parallel-item::before {content: \"\";position: absolute;border-left: 1px solid gray;box-sizing: border-box;top: 0;bottom: 0;left: 50%;z-index: -1;}#sk-container-id-1 div.sk-parallel-item {display: flex;flex-direction: column;z-index: 1;position: relative;background-color: white;}#sk-container-id-1 div.sk-parallel-item:first-child::after {align-self: flex-end;width: 50%;}#sk-container-id-1 div.sk-parallel-item:last-child::after {align-self: flex-start;width: 50%;}#sk-container-id-1 div.sk-parallel-item:only-child::after {width: 0;}#sk-container-id-1 div.sk-dashed-wrapped {border: 1px dashed gray;margin: 0 0.4em 0.5em 0.4em;box-sizing: border-box;padding-bottom: 0.4em;background-color: white;}#sk-container-id-1 div.sk-label label {font-family: monospace;font-weight: bold;display: inline-block;line-height: 1.2em;}#sk-container-id-1 div.sk-label-container {text-align: center;}#sk-container-id-1 div.sk-container {/* jupyter's `normalize.less` sets `[hidden] { display: none; }` but bootstrap.min.css set `[hidden] { display: none !important; }` so we also need the `!important` here to be able to override the default hidden behavior on the sphinx rendered scikit-learn.org. See: https://github.com/scikit-learn/scikit-learn/issues/21755 */display: inline-block !important;position: relative;}#sk-container-id-1 div.sk-text-repr-fallback {display: none;}</style><div id=\"sk-container-id-1\" class=\"sk-top-container\"><div class=\"sk-text-repr-fallback\"><pre>DecisionTreeClassifier()</pre><b>In a Jupyter environment, please rerun this cell to show the HTML representation or trust the notebook. <br />On GitHub, the HTML representation is unable to render, please try loading this page with nbviewer.org.</b></div><div class=\"sk-container\" hidden><div class=\"sk-item\"><div class=\"sk-estimator sk-toggleable\"><input class=\"sk-toggleable__control sk-hidden--visually\" id=\"sk-estimator-id-1\" type=\"checkbox\" checked><label for=\"sk-estimator-id-1\" class=\"sk-toggleable__label sk-toggleable__label-arrow\">DecisionTreeClassifier</label><div class=\"sk-toggleable__content\"><pre>DecisionTreeClassifier()</pre></div></div></div></div></div>"
      ],
      "text/plain": [
       "DecisionTreeClassifier()"
      ]
     },
     "execution_count": 34,
     "metadata": {},
     "output_type": "execute_result"
    }
   ],
   "source": [
    "#from sklearn.tree import DecisionTreeClassifier\n",
    "dtc = DecisionTreeClassifier()\n",
    "dtc.fit(X_train, y_train)"
   ]
  },
  {
   "cell_type": "code",
   "execution_count": 35,
   "id": "3e233da2",
   "metadata": {},
   "outputs": [],
   "source": [
    "y_pred = dtc.predict(X_test)"
   ]
  },
  {
   "cell_type": "code",
   "execution_count": 36,
   "id": "baa16097",
   "metadata": {},
   "outputs": [
    {
     "name": "stdout",
     "output_type": "stream",
     "text": [
      "Training accuracy of Decision Tree is : 1.0\n",
      "Test accuracy of Decision Tree is : 0.9953386719483668\n",
      "[[ 8452   121]\n",
      " [  152 49842]]\n",
      "                   precision    recall  f1-score   support\n",
      "\n",
      "   Fraud Reported       0.98      0.99      0.98      8573\n",
      "No Fraud Reported       1.00      1.00      1.00     49994\n",
      "\n",
      "         accuracy                           1.00     58567\n",
      "        macro avg       0.99      0.99      0.99     58567\n",
      "     weighted avg       1.00      1.00      1.00     58567\n",
      "\n"
     ]
    }
   ],
   "source": [
    "dtc_train_acc = accuracy_score(y_train, dtc.predict(X_train))\n",
    "dtc_test_acc = accuracy_score(y_test, y_pred)\n",
    "\n",
    "print(f\"Training accuracy of Decision Tree is : {dtc_train_acc}\")\n",
    "print(f\"Test accuracy of Decision Tree is : {dtc_test_acc}\")\n",
    "\n",
    "print(confusion_matrix(y_test, y_pred))\n",
    "print(classification_report(y_test, y_pred))"
   ]
  },
  {
   "cell_type": "markdown",
   "id": "5cc89f2c",
   "metadata": {},
   "source": [
    "# Random Forest Classifier"
   ]
  },
  {
   "cell_type": "code",
   "execution_count": null,
   "id": "6df11449",
   "metadata": {},
   "outputs": [],
   "source": [
    "rand_clf = RandomForestClassifier(criterion= 'entropy', max_depth= 10, max_features= 'sqrt', min_samples_leaf= 1, min_samples_split= 3, n_estimators= 140)\n",
    "rand_clf.fit(X_train, y_train)"
   ]
  },
  {
   "cell_type": "code",
   "execution_count": 40,
   "id": "ab590db8",
   "metadata": {},
   "outputs": [],
   "source": [
    "y_pred = rand_clf.predict(X_test)"
   ]
  },
  {
   "cell_type": "code",
   "execution_count": 41,
   "id": "dcf382e3",
   "metadata": {},
   "outputs": [
    {
     "name": "stdout",
     "output_type": "stream",
     "text": [
      "Training accuracy of Random Forest is : 0.8523944495668704\n",
      "Test accuracy of Random Forest is : 0.8518961189748493\n",
      "[[    0  8674]\n",
      " [    0 49893]]\n",
      "                   precision    recall  f1-score   support\n",
      "\n",
      "   Fraud Reported       0.00      0.00      0.00      8674\n",
      "No Fraud Reported       0.85      1.00      0.92     49893\n",
      "\n",
      "         accuracy                           0.85     58567\n",
      "        macro avg       0.43      0.50      0.46     58567\n",
      "     weighted avg       0.73      0.85      0.78     58567\n",
      "\n"
     ]
    }
   ],
   "source": [
    "rand_clf_train_acc = accuracy_score(y_train, rand_clf.predict(X_train))\n",
    "rand_clf_test_acc = accuracy_score(y_test, y_pred)\n",
    "\n",
    "print(f\"Training accuracy of Random Forest is : {rand_clf_train_acc}\")\n",
    "print(f\"Test accuracy of Random Forest is : {rand_clf_test_acc}\")\n",
    "\n",
    "print(confusion_matrix(y_test, y_pred))\n",
    "print(classification_report(y_test, y_pred))"
   ]
  },
  {
   "cell_type": "markdown",
   "id": "3afc1ced",
   "metadata": {},
   "source": [
    "# Adaboost Classifier"
   ]
  },
  {
   "cell_type": "code",
   "execution_count": null,
   "id": "2bb57a7b",
   "metadata": {},
   "outputs": [
    {
     "name": "stdout",
     "output_type": "stream",
     "text": [
      "Fitting 5 folds for each of 60 candidates, totalling 300 fits\n"
     ]
    }
   ],
   "source": [
    "ada = AdaBoostClassifier(base_estimator = dtc)\n",
    "\n",
    "parameters = {\n",
    "    'n_estimators' : [50, 70, 90, 120, 180, 200],\n",
    "    'learning_rate' : [0.001, 0.01, 0.1, 1, 10],\n",
    "    'algorithm' : ['SAMME', 'SAMME.R']\n",
    "}\n",
    "\n",
    "grid_search = GridSearchCV(ada, parameters, n_jobs = -1, cv = 5, verbose = 1)\n",
    "grid_search.fit(X_train, y_train)"
   ]
  },
  {
   "cell_type": "code",
   "execution_count": null,
   "id": "ad969a9d",
   "metadata": {},
   "outputs": [],
   "source": [
    "# best parameter and best score\n",
    "\n",
    "print(grid_search.best_params_)\n",
    "print(grid_search.best_score_)"
   ]
  },
  {
   "cell_type": "code",
   "execution_count": null,
   "id": "98635836",
   "metadata": {},
   "outputs": [],
   "source": [
    "# best estimator \n",
    "\n",
    "ada = grid_search.best_estimator_\n",
    "\n",
    "y_pred = ada.predict(X_test)"
   ]
  },
  {
   "cell_type": "code",
   "execution_count": null,
   "id": "ed535ad8",
   "metadata": {},
   "outputs": [],
   "source": [
    "ada_train_acc = accuracy_score(y_train, ada.predict(X_train))\n",
    "ada_test_acc = accuracy_score(y_test, y_pred)\n",
    "\n",
    "print(f\"Training accuracy of Ada Boost is : {ada_train_acc}\")\n",
    "print(f\"Test accuracy of Ada Boost is : {ada_test_acc}\")\n",
    "\n",
    "print(confusion_matrix(y_test, y_pred))\n",
    "print(classification_report(y_test, y_pred))"
   ]
  },
  {
   "cell_type": "markdown",
   "id": "ca4e4554",
   "metadata": {},
   "source": [
    "# Gradient Boosting"
   ]
  },
  {
   "cell_type": "code",
   "execution_count": null,
   "id": "4d04fa77",
   "metadata": {},
   "outputs": [],
   "source": [
    "gb = GradientBoostingClassifier()\n",
    "gb.fit(X_train, y_train)"
   ]
  },
  {
   "cell_type": "code",
   "execution_count": null,
   "id": "42130306",
   "metadata": {},
   "outputs": [],
   "source": [
    "gb_acc = accuracy_score(y_test, gb.predict(X_test))"
   ]
  },
  {
   "cell_type": "code",
   "execution_count": null,
   "id": "22d5de10",
   "metadata": {},
   "outputs": [],
   "source": [
    "print(f\"Training Accuracy of Gradient Boosting Classifier is {accuracy_score(y_train, gb.predict(X_train))}\")\n",
    "print(f\"Test Accuracy of Gradient Boosting Classifier is {gb_acc} \\n\")\n",
    "\n",
    "print(f\"Confusion Matrix :- \\n{confusion_matrix(y_test, gb.predict(X_test))}\\n\")\n",
    "print(f\"Classification Report :- \\n {classification_report(y_test, gb.predict(X_test))}\")"
   ]
  },
  {
   "cell_type": "markdown",
   "id": "8650ab58",
   "metadata": {},
   "source": [
    "# Stochastic Gradient Boosting"
   ]
  },
  {
   "cell_type": "code",
   "execution_count": null,
   "id": "ac979e9a",
   "metadata": {},
   "outputs": [],
   "source": [
    "sgb = GradientBoostingClassifier(subsample = 0.90, max_features = 0.70)\n",
    "sgb.fit(X_train, y_train)"
   ]
  },
  {
   "cell_type": "code",
   "execution_count": null,
   "id": "55749572",
   "metadata": {},
   "outputs": [],
   "source": [
    "sgb_acc = accuracy_score(y_test, sgb.predict(X_test))"
   ]
  },
  {
   "cell_type": "code",
   "execution_count": null,
   "id": "301a781f",
   "metadata": {},
   "outputs": [],
   "source": [
    "print(f\"Training Accuracy of Stochastic Gradient Boosting is {accuracy_score(y_train, sgb.predict(X_train))}\")\n",
    "print(f\"Test Accuracy of Stochastic Gradient Boosting is {sgb_acc} \\n\")\n",
    "\n",
    "print(f\"Confusion Matrix :- \\n{confusion_matrix(y_test, sgb.predict(X_test))}\\n\")\n",
    "print(f\"Classification Report :- \\n {classification_report(y_test, sgb.predict(X_test))}\")"
   ]
  },
  {
   "cell_type": "markdown",
   "id": "f14196f5",
   "metadata": {},
   "source": [
    "# XGBoost Classifier"
   ]
  },
  {
   "cell_type": "code",
   "execution_count": null,
   "id": "86e688d7",
   "metadata": {},
   "outputs": [],
   "source": [
    "xgb = XGBClassifier()\n",
    "xgb.fit(X_train, y_train)"
   ]
  },
  {
   "cell_type": "code",
   "execution_count": null,
   "id": "d656aba8",
   "metadata": {},
   "outputs": [],
   "source": [
    "y_pred = xgb.predict(X_test)"
   ]
  },
  {
   "cell_type": "code",
   "execution_count": null,
   "id": "11cf6351",
   "metadata": {},
   "outputs": [],
   "source": [
    "xgb_train_acc = accuracy_score(y_train, xgb.predict(X_train))\n",
    "xgb_test_acc = accuracy_score(y_test, y_pred)\n",
    "\n",
    "print(f\"Training accuracy of XgBoost is : {xgb_train_acc}\")\n",
    "print(f\"Test accuracy of XgBoost is : {xgb_test_acc}\")\n",
    "\n",
    "print(confusion_matrix(y_test, y_pred))\n",
    "print(classification_report(y_test, y_pred))"
   ]
  },
  {
   "cell_type": "code",
   "execution_count": null,
   "id": "5544e032",
   "metadata": {},
   "outputs": [],
   "source": [
    "param_grid = {\"n_estimators\": [10, 50, 100, 130], \"criterion\": ['gini', 'entropy'],\n",
    "                               \"max_depth\": range(2, 10, 1)}\n",
    "\n",
    "grid = GridSearchCV(estimator=xgb, param_grid=param_grid, cv=5,  verbose=3,n_jobs=-1)\n",
    "grid_search.fit(X_train, y_train)"
   ]
  },
  {
   "cell_type": "code",
   "execution_count": null,
   "id": "c1e7c2d7",
   "metadata": {},
   "outputs": [],
   "source": [
    "xgb = grid_search.best_estimator_\n",
    "\n",
    "y_pred = xgb.predict(X_test)"
   ]
  },
  {
   "cell_type": "code",
   "execution_count": null,
   "id": "e8b5e447",
   "metadata": {},
   "outputs": [],
   "source": [
    "xgb_train_acc = accuracy_score(y_train, xgb.predict(X_train))\n",
    "xgb_test_acc = accuracy_score(y_test, y_pred)\n",
    "\n",
    "print(f\"Training accuracy of XgBoost is : {xgb_train_acc}\")\n",
    "print(f\"Test accuracy of XgBoost is : {xgb_test_acc}\")\n",
    "\n",
    "print(confusion_matrix(y_test, y_pred))\n",
    "print(classification_report(y_test, y_pred))"
   ]
  },
  {
   "cell_type": "markdown",
   "id": "97c63e90",
   "metadata": {},
   "source": [
    "# Catboost Classifier"
   ]
  },
  {
   "cell_type": "code",
   "execution_count": null,
   "id": "f07c8146",
   "metadata": {},
   "outputs": [],
   "source": [
    "cat = CatBoostClassifier(iterations=10)\n",
    "cat.fit(X_train, y_train)"
   ]
  },
  {
   "cell_type": "code",
   "execution_count": null,
   "id": "15f60a21",
   "metadata": {},
   "outputs": [],
   "source": [
    "cat_acc = accuracy_score(y_test, cat.predict(X_test))"
   ]
  },
  {
   "cell_type": "code",
   "execution_count": null,
   "id": "9522a5ad",
   "metadata": {},
   "outputs": [],
   "source": [
    "print(f\"Training Accuracy of Cat Boost Classifier is {accuracy_score(y_train, cat.predict(X_train))}\")\n",
    "print(f\"Test Accuracy of Cat Boost Classifier is {cat_acc} \\n\")\n",
    "\n",
    "print(f\"Confusion Matrix :- \\n{confusion_matrix(y_test, cat.predict(X_test))}\\n\")\n",
    "print(f\"Classification Report :- \\n {classification_report(y_test, cat.predict(X_test))}\")"
   ]
  },
  {
   "cell_type": "markdown",
   "id": "5a3bc0f3",
   "metadata": {},
   "source": [
    "# Extra Tree Classifier"
   ]
  },
  {
   "cell_type": "code",
   "execution_count": null,
   "id": "c32a0f0d",
   "metadata": {},
   "outputs": [],
   "source": [
    "etc = ExtraTreesClassifier()\n",
    "etc.fit(X_train, y_train)"
   ]
  },
  {
   "cell_type": "code",
   "execution_count": null,
   "id": "f2b5e517",
   "metadata": {},
   "outputs": [],
   "source": [
    "etc_acc = accuracy_score(y_test, etc.predict(X_test))"
   ]
  },
  {
   "cell_type": "code",
   "execution_count": null,
   "id": "e9afb2e9",
   "metadata": {},
   "outputs": [],
   "source": [
    "print(f\"Training Accuracy of Extra Trees Classifier is {accuracy_score(y_train, etc.predict(X_train))}\")\n",
    "print(f\"Test Accuracy of Extra Trees Classifier is {etc_acc} \\n\")\n",
    "\n",
    "print(f\"Confusion Matrix :- \\n{confusion_matrix(y_test, etc.predict(X_test))}\\n\")\n",
    "print(f\"Classification Report :- \\n {classification_report(y_test, etc.predict(X_test))}\")"
   ]
  },
  {
   "cell_type": "markdown",
   "id": "703f4dae",
   "metadata": {},
   "source": [
    "# Voting Classifier"
   ]
  },
  {
   "cell_type": "code",
   "execution_count": null,
   "id": "4fbaf22d",
   "metadata": {},
   "outputs": [],
   "source": [
    "# Voting Classifier\n",
    "classifiers = [ ('Decision Tree', dtc), ('Random Forest', rand_clf),\n",
    "               ('Ada Boost', ada), ('XGboost', xgb), ('Gradient Boosting Classifier', gb), ('SGB', sgb),\n",
    "               ('Cat Boost', cat), ('Extra Trees Classifier', etc)]\n",
    "\n",
    "vc = VotingClassifier(estimators = classifiers)\n",
    "vc.fit(X_train, y_train)"
   ]
  },
  {
   "cell_type": "code",
   "execution_count": null,
   "id": "2b36aff3",
   "metadata": {},
   "outputs": [],
   "source": [
    "y_pred = vc.predict(X_test)"
   ]
  },
  {
   "cell_type": "code",
   "execution_count": null,
   "id": "e38d5552",
   "metadata": {},
   "outputs": [],
   "source": [
    "vc_train_acc = accuracy_score(y_train, vc.predict(X_train))\n",
    "vc_test_acc = accuracy_score(y_test, y_pred)\n",
    "\n",
    "print(f\"Training accuracy of Voting Classifier is : {vc_train_acc}\")\n",
    "print(f\"Test accuracy of Voting Classifier is : {vc_test_acc}\")\n",
    "\n",
    "print(confusion_matrix(y_test, y_pred))\n",
    "print(classification_report(y_test, y_pred))"
   ]
  },
  {
   "cell_type": "markdown",
   "id": "4ed7e687",
   "metadata": {},
   "source": [
    "# Model evaluation"
   ]
  },
  {
   "cell_type": "code",
   "execution_count": null,
   "id": "51574440",
   "metadata": {},
   "outputs": [],
   "source": [
    "models = pd.DataFrame({\n",
    "    'Model' : ['Decision Tree', 'Random Forest','Ada Boost', 'Gradient Boost', 'SGB', 'Cat Boost', 'Extra Trees','XgBoost', 'Voting Classifier'],\n",
    "    'Score' : [dtc_test_acc, rand_clf_test_acc, ada_test_acc, gb_acc, sgb_acc, cat_acc, etc_acc, xgb_test_acc, vc_test_acc]\n",
    "})\n",
    "\n",
    "\n",
    "models.sort_values(by = 'Score', ascending = False)"
   ]
  },
  {
   "cell_type": "code",
   "execution_count": null,
   "id": "7f9d8a61",
   "metadata": {},
   "outputs": [],
   "source": [
    "px.bar(data_frame = models, x = 'Score', y = 'Model', color = 'Score', template = 'plotly_dark', \n",
    "       title = 'Models Comparison')"
   ]
  }
 ],
 "metadata": {
  "kernelspec": {
   "display_name": "Python 3",
   "language": "python",
   "name": "python3"
  },
  "language_info": {
   "codemirror_mode": {
    "name": "ipython",
    "version": 3
   },
   "file_extension": ".py",
   "mimetype": "text/x-python",
   "name": "python",
   "nbconvert_exporter": "python",
   "pygments_lexer": "ipython3",
   "version": "3.8.18"
  }
 },
 "nbformat": 4,
 "nbformat_minor": 5
}
