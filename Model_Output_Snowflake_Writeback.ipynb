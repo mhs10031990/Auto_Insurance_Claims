{
 "cells": [
  {
   "cell_type": "markdown",
   "id": "d4054a6b",
   "metadata": {},
   "source": [
    "# Use Insurance Code Template Notebook Template"
   ]
  },
  {
   "cell_type": "markdown",
   "id": "398922cb",
   "metadata": {},
   "source": [
    "## Packages needed to run this notebook if running with inbuilt snowpark 3.8 template\n",
    "##### ! pip install \"snowflake-connector-python[pandas]\"\n",
    "##### ! sudo pip install snowflake-ml-python==1.0.11 -U\n",
    "##### ! pip install --upgrade snowflake-snowpark-python==1.9.0\n",
    "##### ! pip install --upgrade xgboost==1.7.3\n",
    "##### ! pip install --upgrade numpy==1.24.3\n",
    "##### ! pip install --upgrade pandas==1.5.3\n",
    "##### ! pip install --upgrade anyio==3.5.0\n",
    "##### ! pip install --upgrade packaging==23.1\n",
    "##### ! pip install --upgrade scikit-learn==1.3.0\n",
    "##### ! pip install --upgrade typing-extensions==4.7.1\n",
    "##### ! pip install --upgrade cryptography==39.0.0\n",
    "##### ! pip install --upgrade fsspec==2023.9.2\n",
    "##### ! pip install fosforio\n",
    "##### ! pip install fosforml"
   ]
  },
  {
   "cell_type": "code",
   "execution_count": 1,
   "id": "defc70a3",
   "metadata": {},
   "outputs": [
    {
     "name": "stdout",
     "output_type": "stream",
     "text": [
      "Connection manager service url initialised to http://fdc-project-manager:80/project-manager\n",
      "If you need to update its value then update the variable CONNECTION_MANAGER_BASE_URL in os env.\n"
     ]
    }
   ],
   "source": [
    "from snowflake.snowpark import Session\n",
    "from snowflake.ml.modeling.pipeline import Pipeline\n",
    "from snowflake.ml.modeling.xgboost import XGBRegressor\n",
    "from snowflake.ml.modeling.preprocessing import MinMaxScaler, OrdinalEncoder, OneHotEncoder\n",
    "# import seaborn as sns\n",
    "from sklearn.metrics import mean_absolute_percentage_error\n",
    "# Pandas Tools\n",
    "from snowflake.connector.pandas_tools import write_pandas\n",
    "# Data Science Libs\n",
    "import numpy as np\n",
    "import pandas as pd\n",
    "# create_temp_table warning suppresion\n",
    "import warnings; warnings.simplefilter('ignore')\n",
    "from joblib import dump, load\n",
    "# FosforIO to read from snowflake\n",
    "from fosforio import snowflake\n",
    "# FosforML to register Model on FDC\n",
    "from fosforml import *\n",
    "from fosforml.constants import MLModelFlavours\n",
    "import requests"
   ]
  },
  {
   "cell_type": "markdown",
   "id": "2629119b",
   "metadata": {},
   "source": [
    "# Read data using Snowflake's Snowpark"
   ]
  },
  {
   "cell_type": "code",
   "execution_count": 2,
   "id": "8df797df",
   "metadata": {},
   "outputs": [],
   "source": [
    "#Import all snowflake connection details from Template or Project variables.\n",
    "db_user = os.getenv('Snowflake_user')\n",
    "db_password =  os.getenv('Snowflake_password')\n",
    "db_account = os.getenv('Snowflake_Account')\n",
    "db_database =  os.getenv('Snowflake_Database')\n",
    "db_role = os.getenv('Snowflake_user')\n",
    "db_warehouse = os.getenv('Snowflake_Warehouse')\n",
    "db_schema = os.getenv('Snowflake_Schema')"
   ]
  },
  {
   "cell_type": "code",
   "execution_count": 3,
   "id": "ce37e9c1",
   "metadata": {},
   "outputs": [],
   "source": [
    "from snowflake.snowpark.session import Session\n",
    "connection_params = {\n",
    "    'user': db_user,\n",
    "    'password': db_password,\n",
    "    'account': db_account,\n",
    "    'warehouse': db_warehouse,\n",
    "    'database': db_database,\n",
    "    'schema': db_schema,\n",
    "    'role': db_role\n",
    "}\n",
    "session = Session.builder.configs(connection_params).create()"
   ]
  },
  {
   "cell_type": "code",
   "execution_count": 19,
   "id": "4eb9674a",
   "metadata": {},
   "outputs": [],
   "source": [
    "session.sql('use warehouse FOSFOR_SOLUTIONS_WH;').collect()\n",
    "session.sql('use database FDC_Insurance;').collect()\n",
    "session.sql('use schema FDC_Insurance.PUBLIC;').collect()\n",
    "\n",
    "df = session.table('FDC_Insurance.PUBLIC.AUTO_INSURANCE_CLAIMS_DATA_PRODUCT')"
   ]
  },
  {
   "cell_type": "code",
   "execution_count": 20,
   "id": "e87d31c1",
   "metadata": {},
   "outputs": [],
   "source": [
    "df_backup = df.to_pandas().copy()"
   ]
  },
  {
   "cell_type": "markdown",
   "id": "4cdd8189",
   "metadata": {},
   "source": [
    "# 1. Claim Amount XGB Snowflake Model Prediction"
   ]
  },
  {
   "cell_type": "code",
   "execution_count": 21,
   "id": "f1bab506",
   "metadata": {},
   "outputs": [],
   "source": [
    "from joblib import dump, load\n",
    "filename = \"Claims_Snowpark_XGB_Regression.joblib\" #Model version 1"
   ]
  },
  {
   "cell_type": "code",
   "execution_count": 22,
   "id": "d4a910bc",
   "metadata": {},
   "outputs": [],
   "source": [
    "# Load the Snowflake's Snowpark XGB model\n",
    "model = load('model_artifacts/' + filename)"
   ]
  },
  {
   "cell_type": "code",
   "execution_count": 23,
   "id": "1d1ec498",
   "metadata": {},
   "outputs": [],
   "source": [
    "df = df.to_pandas().replace(np.nan, pd.isna)"
   ]
  },
  {
   "cell_type": "code",
   "execution_count": 24,
   "id": "73a9622a",
   "metadata": {},
   "outputs": [],
   "source": [
    "df[\"AUTO_YEAR\"] = df[\"AUTO_YEAR\"].astype(str)"
   ]
  },
  {
   "cell_type": "code",
   "execution_count": 25,
   "id": "e91b318c",
   "metadata": {},
   "outputs": [],
   "source": [
    "pred = model.predict(df)\n",
    "df_backup[\"CLAIM_AMOUNT_PREDICTION\"] = pred[\"PREDICTION\"]"
   ]
  },
  {
   "cell_type": "markdown",
   "id": "9c1a6e80",
   "metadata": {},
   "source": [
    "# Merge XGB Model output in a back up dataframe for reference"
   ]
  },
  {
   "cell_type": "code",
   "execution_count": 26,
   "id": "3998f21a",
   "metadata": {
    "scrolled": true
   },
   "outputs": [
    {
     "data": {
      "text/html": [
       "<div>\n",
       "<style scoped>\n",
       "    .dataframe tbody tr th:only-of-type {\n",
       "        vertical-align: middle;\n",
       "    }\n",
       "\n",
       "    .dataframe tbody tr th {\n",
       "        vertical-align: top;\n",
       "    }\n",
       "\n",
       "    .dataframe thead th {\n",
       "        text-align: right;\n",
       "    }\n",
       "</style>\n",
       "<table border=\"1\" class=\"dataframe\">\n",
       "  <thead>\n",
       "    <tr style=\"text-align: right;\">\n",
       "      <th></th>\n",
       "      <th>MONTHS_AS_CUSTOMER</th>\n",
       "      <th>CUSTOMER_AGE</th>\n",
       "      <th>POLICY_NUMBER</th>\n",
       "      <th>POLICY_BIND_DATE</th>\n",
       "      <th>POLICY_STATE</th>\n",
       "      <th>POLICY_CSL</th>\n",
       "      <th>POLICY_DEDUCTABLE</th>\n",
       "      <th>POLICY_ANNUAL_PREMIUM</th>\n",
       "      <th>UMBRELLA_LIMIT</th>\n",
       "      <th>INSURED_ZIP</th>\n",
       "      <th>...</th>\n",
       "      <th>POLICE_REPORT_AVAILABLE</th>\n",
       "      <th>TOTAL_CLAIM_AMOUNT_PAID</th>\n",
       "      <th>INJURY_CLAIM</th>\n",
       "      <th>PROPERTY_CLAIM</th>\n",
       "      <th>VEHICLE_CLAIM</th>\n",
       "      <th>AUTO_MAKE</th>\n",
       "      <th>AUTO_MODEL</th>\n",
       "      <th>AUTO_YEAR</th>\n",
       "      <th>FRAUD_REPORTED</th>\n",
       "      <th>CLAIM_AMOUNT_PREDICTION</th>\n",
       "    </tr>\n",
       "  </thead>\n",
       "  <tbody>\n",
       "    <tr>\n",
       "      <th>0</th>\n",
       "      <td>213</td>\n",
       "      <td>66</td>\n",
       "      <td>432849</td>\n",
       "      <td>30-10-2001</td>\n",
       "      <td>CT</td>\n",
       "      <td>100/300</td>\n",
       "      <td>1546</td>\n",
       "      <td>2208</td>\n",
       "      <td>4146654</td>\n",
       "      <td>604147</td>\n",
       "      <td>...</td>\n",
       "      <td>No Police Report Available</td>\n",
       "      <td>71085.0</td>\n",
       "      <td>17655.0</td>\n",
       "      <td>1045.0</td>\n",
       "      <td>52385.0</td>\n",
       "      <td>Toyota</td>\n",
       "      <td>Camry</td>\n",
       "      <td>1999</td>\n",
       "      <td>No Fraud Reported</td>\n",
       "      <td>69999.179688</td>\n",
       "    </tr>\n",
       "    <tr>\n",
       "      <th>1</th>\n",
       "      <td>255</td>\n",
       "      <td>63</td>\n",
       "      <td>427352</td>\n",
       "      <td>17-04-2001</td>\n",
       "      <td>CT</td>\n",
       "      <td>100/300</td>\n",
       "      <td>1801</td>\n",
       "      <td>2501</td>\n",
       "      <td>3320595</td>\n",
       "      <td>613114</td>\n",
       "      <td>...</td>\n",
       "      <td>No Police Report Available</td>\n",
       "      <td>67762.0</td>\n",
       "      <td>474.0</td>\n",
       "      <td>4447.0</td>\n",
       "      <td>62841.0</td>\n",
       "      <td>Saab</td>\n",
       "      <td>92x</td>\n",
       "      <td>2004</td>\n",
       "      <td>No Fraud Reported</td>\n",
       "      <td>76015.187500</td>\n",
       "    </tr>\n",
       "    <tr>\n",
       "      <th>2</th>\n",
       "      <td>32</td>\n",
       "      <td>22</td>\n",
       "      <td>442056</td>\n",
       "      <td>13-10-1998</td>\n",
       "      <td>CT</td>\n",
       "      <td>100/300</td>\n",
       "      <td>1903</td>\n",
       "      <td>2642</td>\n",
       "      <td>8838774</td>\n",
       "      <td>602258</td>\n",
       "      <td>...</td>\n",
       "      <td>Unknown</td>\n",
       "      <td>51272.0</td>\n",
       "      <td>6672.0</td>\n",
       "      <td>1121.0</td>\n",
       "      <td>43479.0</td>\n",
       "      <td>Chevrolet</td>\n",
       "      <td>Malibu</td>\n",
       "      <td>2011</td>\n",
       "      <td>No Fraud Reported</td>\n",
       "      <td>48426.207031</td>\n",
       "    </tr>\n",
       "    <tr>\n",
       "      <th>3</th>\n",
       "      <td>11</td>\n",
       "      <td>36</td>\n",
       "      <td>465577</td>\n",
       "      <td>22-12-1992</td>\n",
       "      <td>CT</td>\n",
       "      <td>500/1000</td>\n",
       "      <td>1612</td>\n",
       "      <td>1941</td>\n",
       "      <td>9620213</td>\n",
       "      <td>432218</td>\n",
       "      <td>...</td>\n",
       "      <td>Police Report Available</td>\n",
       "      <td>92164.0</td>\n",
       "      <td>325.0</td>\n",
       "      <td>17178.0</td>\n",
       "      <td>74661.0</td>\n",
       "      <td>Audi</td>\n",
       "      <td>A5</td>\n",
       "      <td>2005</td>\n",
       "      <td>Fraud Reported</td>\n",
       "      <td>88199.375000</td>\n",
       "    </tr>\n",
       "    <tr>\n",
       "      <th>4</th>\n",
       "      <td>18</td>\n",
       "      <td>25</td>\n",
       "      <td>433126</td>\n",
       "      <td>05-03-2013</td>\n",
       "      <td>CT</td>\n",
       "      <td>250/500</td>\n",
       "      <td>2080</td>\n",
       "      <td>2418</td>\n",
       "      <td>9926398</td>\n",
       "      <td>605692</td>\n",
       "      <td>...</td>\n",
       "      <td>No Police Report Available</td>\n",
       "      <td>40113.0</td>\n",
       "      <td>400.0</td>\n",
       "      <td>925.0</td>\n",
       "      <td>38788.0</td>\n",
       "      <td>Saab</td>\n",
       "      <td>95</td>\n",
       "      <td>2000</td>\n",
       "      <td>No Fraud Reported</td>\n",
       "      <td>39471.875000</td>\n",
       "    </tr>\n",
       "  </tbody>\n",
       "</table>\n",
       "<p>5 rows × 41 columns</p>\n",
       "</div>"
      ],
      "text/plain": [
       "   MONTHS_AS_CUSTOMER CUSTOMER_AGE  POLICY_NUMBER POLICY_BIND_DATE   \n",
       "0                 213           66         432849       30-10-2001  \\\n",
       "1                 255           63         427352       17-04-2001   \n",
       "2                  32           22         442056       13-10-1998   \n",
       "3                  11           36         465577       22-12-1992   \n",
       "4                  18           25         433126       05-03-2013   \n",
       "\n",
       "  POLICY_STATE POLICY_CSL  POLICY_DEDUCTABLE  POLICY_ANNUAL_PREMIUM   \n",
       "0           CT    100/300               1546                   2208  \\\n",
       "1           CT    100/300               1801                   2501   \n",
       "2           CT    100/300               1903                   2642   \n",
       "3           CT   500/1000               1612                   1941   \n",
       "4           CT    250/500               2080                   2418   \n",
       "\n",
       "   UMBRELLA_LIMIT INSURED_ZIP  ...     POLICE_REPORT_AVAILABLE   \n",
       "0         4146654      604147  ...  No Police Report Available  \\\n",
       "1         3320595      613114  ...  No Police Report Available   \n",
       "2         8838774      602258  ...                     Unknown   \n",
       "3         9620213      432218  ...     Police Report Available   \n",
       "4         9926398      605692  ...  No Police Report Available   \n",
       "\n",
       "  TOTAL_CLAIM_AMOUNT_PAID INJURY_CLAIM PROPERTY_CLAIM VEHICLE_CLAIM   \n",
       "0                 71085.0      17655.0         1045.0       52385.0  \\\n",
       "1                 67762.0        474.0         4447.0       62841.0   \n",
       "2                 51272.0       6672.0         1121.0       43479.0   \n",
       "3                 92164.0        325.0        17178.0       74661.0   \n",
       "4                 40113.0        400.0          925.0       38788.0   \n",
       "\n",
       "   AUTO_MAKE  AUTO_MODEL AUTO_YEAR     FRAUD_REPORTED CLAIM_AMOUNT_PREDICTION  \n",
       "0     Toyota       Camry      1999  No Fraud Reported            69999.179688  \n",
       "1       Saab         92x      2004  No Fraud Reported            76015.187500  \n",
       "2  Chevrolet      Malibu      2011  No Fraud Reported            48426.207031  \n",
       "3       Audi          A5      2005     Fraud Reported            88199.375000  \n",
       "4       Saab          95      2000  No Fraud Reported            39471.875000  \n",
       "\n",
       "[5 rows x 41 columns]"
      ]
     },
     "execution_count": 26,
     "metadata": {},
     "output_type": "execute_result"
    }
   ],
   "source": [
    "df_backup.head()"
   ]
  },
  {
   "cell_type": "code",
   "execution_count": null,
   "id": "ad063c2c",
   "metadata": {},
   "outputs": [],
   "source": [
    "# 2. Fraud Claim Decision Tree C"
   ]
  }
 ],
 "metadata": {
  "kernelspec": {
   "display_name": "Python 3",
   "language": "python",
   "name": "python3"
  },
  "language_info": {
   "codemirror_mode": {
    "name": "ipython",
    "version": 3
   },
   "file_extension": ".py",
   "mimetype": "text/x-python",
   "name": "python",
   "nbconvert_exporter": "python",
   "pygments_lexer": "ipython3",
   "version": "3.8.18"
  }
 },
 "nbformat": 4,
 "nbformat_minor": 5
}
